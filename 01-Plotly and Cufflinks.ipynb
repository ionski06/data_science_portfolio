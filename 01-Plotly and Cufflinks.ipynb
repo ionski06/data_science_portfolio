{
 "cells": [
  {
   "cell_type": "markdown",
   "metadata": {},
   "source": [
    "___\n",
    "\n",
    "<a href='http://www.pieriandata.com'> <img src='../Pierian_Data_Logo.png' /></a>\n",
    "___\n",
    "# Plotly and Cufflinks"
   ]
  },
  {
   "cell_type": "markdown",
   "metadata": {},
   "source": [
    "Plotly is a library that allows you to create interactive plots that you can use in dashboards or websites (you can save them as html files or static images).\n",
    "\n",
    "## Installation\n",
    "\n",
    "In order for this all to work, you'll need to install plotly and cufflinks to call plots directly off of a pandas dataframe. These libraries are not currently available through **conda** but are available through **pip**. Install the libraries at your command line/terminal using:\n",
    "\n",
    "    pip install plotly\n",
    "    pip install cufflinks\n",
    "\n",
    "** NOTE: Make sure you only have one installation of Python on your computer when you do this, otherwise the installation may not work. **\n",
    "\n",
    "## Imports and Set-up"
   ]
  },
  {
   "cell_type": "code",
   "execution_count": 21,
   "metadata": {},
   "outputs": [
    {
     "name": "stdout",
     "output_type": "stream",
     "text": [
      "Collecting cufflinks\n",
      "  Using cached cufflinks-0.17.3.tar.gz (81 kB)\n",
      "  Preparing metadata (setup.py): started\n",
      "  Preparing metadata (setup.py): finished with status 'done'\n",
      "Requirement already satisfied: numpy>=1.9.2 in c:\\users\\marion.garcia\\anaconda3\\lib\\site-packages (from cufflinks) (1.21.5)\n",
      "Requirement already satisfied: pandas>=0.19.2 in c:\\users\\marion.garcia\\anaconda3\\lib\\site-packages (from cufflinks) (1.4.4)\n",
      "Requirement already satisfied: plotly>=4.1.1 in c:\\users\\marion.garcia\\anaconda3\\lib\\site-packages (from cufflinks) (5.9.0)\n",
      "Requirement already satisfied: six>=1.9.0 in c:\\users\\marion.garcia\\anaconda3\\lib\\site-packages (from cufflinks) (1.16.0)\n",
      "Collecting colorlover>=0.2.1\n",
      "  Using cached colorlover-0.3.0-py3-none-any.whl (8.9 kB)\n",
      "Requirement already satisfied: setuptools>=34.4.1 in c:\\users\\marion.garcia\\anaconda3\\lib\\site-packages (from cufflinks) (63.4.1)\n",
      "Requirement already satisfied: ipython>=5.3.0 in c:\\users\\marion.garcia\\anaconda3\\lib\\site-packages (from cufflinks) (7.31.1)\n",
      "Requirement already satisfied: ipywidgets>=7.0.0 in c:\\users\\marion.garcia\\anaconda3\\lib\\site-packages (from cufflinks) (7.6.5)\n",
      "Requirement already satisfied: traitlets>=4.2 in c:\\users\\marion.garcia\\anaconda3\\lib\\site-packages (from ipython>=5.3.0->cufflinks) (5.1.1)\n",
      "Requirement already satisfied: pickleshare in c:\\users\\marion.garcia\\anaconda3\\lib\\site-packages (from ipython>=5.3.0->cufflinks) (0.7.5)\n",
      "Requirement already satisfied: colorama in c:\\users\\marion.garcia\\anaconda3\\lib\\site-packages (from ipython>=5.3.0->cufflinks) (0.4.5)\n",
      "Requirement already satisfied: pygments in c:\\users\\marion.garcia\\anaconda3\\lib\\site-packages (from ipython>=5.3.0->cufflinks) (2.11.2)\n",
      "Requirement already satisfied: matplotlib-inline in c:\\users\\marion.garcia\\anaconda3\\lib\\site-packages (from ipython>=5.3.0->cufflinks) (0.1.6)\n",
      "Requirement already satisfied: backcall in c:\\users\\marion.garcia\\anaconda3\\lib\\site-packages (from ipython>=5.3.0->cufflinks) (0.2.0)\n",
      "Requirement already satisfied: prompt-toolkit!=3.0.0,!=3.0.1,<3.1.0,>=2.0.0 in c:\\users\\marion.garcia\\anaconda3\\lib\\site-packages (from ipython>=5.3.0->cufflinks) (3.0.20)\n",
      "Requirement already satisfied: jedi>=0.16 in c:\\users\\marion.garcia\\anaconda3\\lib\\site-packages (from ipython>=5.3.0->cufflinks) (0.18.1)\n",
      "Requirement already satisfied: decorator in c:\\users\\marion.garcia\\anaconda3\\lib\\site-packages (from ipython>=5.3.0->cufflinks) (5.1.1)\n",
      "Requirement already satisfied: widgetsnbextension~=3.5.0 in c:\\users\\marion.garcia\\anaconda3\\lib\\site-packages (from ipywidgets>=7.0.0->cufflinks) (3.5.2)\n",
      "Requirement already satisfied: ipython-genutils~=0.2.0 in c:\\users\\marion.garcia\\anaconda3\\lib\\site-packages (from ipywidgets>=7.0.0->cufflinks) (0.2.0)\n",
      "Requirement already satisfied: nbformat>=4.2.0 in c:\\users\\marion.garcia\\anaconda3\\lib\\site-packages (from ipywidgets>=7.0.0->cufflinks) (5.5.0)\n",
      "Requirement already satisfied: ipykernel>=4.5.1 in c:\\users\\marion.garcia\\anaconda3\\lib\\site-packages (from ipywidgets>=7.0.0->cufflinks) (6.15.2)\n",
      "Requirement already satisfied: jupyterlab-widgets>=1.0.0 in c:\\users\\marion.garcia\\anaconda3\\lib\\site-packages (from ipywidgets>=7.0.0->cufflinks) (1.0.0)\n",
      "Requirement already satisfied: pytz>=2020.1 in c:\\users\\marion.garcia\\anaconda3\\lib\\site-packages (from pandas>=0.19.2->cufflinks) (2022.1)\n",
      "Requirement already satisfied: python-dateutil>=2.8.1 in c:\\users\\marion.garcia\\anaconda3\\lib\\site-packages (from pandas>=0.19.2->cufflinks) (2.8.2)\n",
      "Requirement already satisfied: tenacity>=6.2.0 in c:\\users\\marion.garcia\\anaconda3\\lib\\site-packages (from plotly>=4.1.1->cufflinks) (8.0.1)\n",
      "Requirement already satisfied: debugpy>=1.0 in c:\\users\\marion.garcia\\anaconda3\\lib\\site-packages (from ipykernel>=4.5.1->ipywidgets>=7.0.0->cufflinks) (1.5.1)\n",
      "Requirement already satisfied: jupyter-client>=6.1.12 in c:\\users\\marion.garcia\\anaconda3\\lib\\site-packages (from ipykernel>=4.5.1->ipywidgets>=7.0.0->cufflinks) (7.3.4)\n",
      "Requirement already satisfied: nest-asyncio in c:\\users\\marion.garcia\\anaconda3\\lib\\site-packages (from ipykernel>=4.5.1->ipywidgets>=7.0.0->cufflinks) (1.5.5)\n",
      "Requirement already satisfied: psutil in c:\\users\\marion.garcia\\anaconda3\\lib\\site-packages (from ipykernel>=4.5.1->ipywidgets>=7.0.0->cufflinks) (5.9.0)\n",
      "Requirement already satisfied: tornado>=6.1 in c:\\users\\marion.garcia\\anaconda3\\lib\\site-packages (from ipykernel>=4.5.1->ipywidgets>=7.0.0->cufflinks) (6.1)\n",
      "Requirement already satisfied: pyzmq>=17 in c:\\users\\marion.garcia\\anaconda3\\lib\\site-packages (from ipykernel>=4.5.1->ipywidgets>=7.0.0->cufflinks) (23.2.0)\n",
      "Requirement already satisfied: packaging in c:\\users\\marion.garcia\\anaconda3\\lib\\site-packages (from ipykernel>=4.5.1->ipywidgets>=7.0.0->cufflinks) (21.3)\n",
      "Requirement already satisfied: parso<0.9.0,>=0.8.0 in c:\\users\\marion.garcia\\anaconda3\\lib\\site-packages (from jedi>=0.16->ipython>=5.3.0->cufflinks) (0.8.3)\n",
      "Requirement already satisfied: jsonschema>=2.6 in c:\\users\\marion.garcia\\anaconda3\\lib\\site-packages (from nbformat>=4.2.0->ipywidgets>=7.0.0->cufflinks) (4.16.0)\n",
      "Requirement already satisfied: fastjsonschema in c:\\users\\marion.garcia\\anaconda3\\lib\\site-packages (from nbformat>=4.2.0->ipywidgets>=7.0.0->cufflinks) (2.16.2)\n",
      "Requirement already satisfied: jupyter_core in c:\\users\\marion.garcia\\anaconda3\\lib\\site-packages (from nbformat>=4.2.0->ipywidgets>=7.0.0->cufflinks) (4.11.1)\n",
      "Requirement already satisfied: wcwidth in c:\\users\\marion.garcia\\anaconda3\\lib\\site-packages (from prompt-toolkit!=3.0.0,!=3.0.1,<3.1.0,>=2.0.0->ipython>=5.3.0->cufflinks) (0.2.5)\n",
      "Requirement already satisfied: notebook>=4.4.1 in c:\\users\\marion.garcia\\anaconda3\\lib\\site-packages (from widgetsnbextension~=3.5.0->ipywidgets>=7.0.0->cufflinks) (6.4.12)\n",
      "Requirement already satisfied: pyrsistent!=0.17.0,!=0.17.1,!=0.17.2,>=0.14.0 in c:\\users\\marion.garcia\\anaconda3\\lib\\site-packages (from jsonschema>=2.6->nbformat>=4.2.0->ipywidgets>=7.0.0->cufflinks) (0.18.0)\n",
      "Requirement already satisfied: attrs>=17.4.0 in c:\\users\\marion.garcia\\anaconda3\\lib\\site-packages (from jsonschema>=2.6->nbformat>=4.2.0->ipywidgets>=7.0.0->cufflinks) (21.4.0)\n",
      "Requirement already satisfied: entrypoints in c:\\users\\marion.garcia\\anaconda3\\lib\\site-packages (from jupyter-client>=6.1.12->ipykernel>=4.5.1->ipywidgets>=7.0.0->cufflinks) (0.4)\n",
      "Requirement already satisfied: pywin32>=1.0 in c:\\users\\marion.garcia\\anaconda3\\lib\\site-packages (from jupyter_core->nbformat>=4.2.0->ipywidgets>=7.0.0->cufflinks) (302)\n",
      "Requirement already satisfied: Send2Trash>=1.8.0 in c:\\users\\marion.garcia\\anaconda3\\lib\\site-packages (from notebook>=4.4.1->widgetsnbextension~=3.5.0->ipywidgets>=7.0.0->cufflinks) (1.8.0)\n",
      "Requirement already satisfied: argon2-cffi in c:\\users\\marion.garcia\\anaconda3\\lib\\site-packages (from notebook>=4.4.1->widgetsnbextension~=3.5.0->ipywidgets>=7.0.0->cufflinks) (21.3.0)\n",
      "Requirement already satisfied: terminado>=0.8.3 in c:\\users\\marion.garcia\\anaconda3\\lib\\site-packages (from notebook>=4.4.1->widgetsnbextension~=3.5.0->ipywidgets>=7.0.0->cufflinks) (0.13.1)\n",
      "Requirement already satisfied: prometheus-client in c:\\users\\marion.garcia\\anaconda3\\lib\\site-packages (from notebook>=4.4.1->widgetsnbextension~=3.5.0->ipywidgets>=7.0.0->cufflinks) (0.14.1)\n",
      "Requirement already satisfied: jinja2 in c:\\users\\marion.garcia\\anaconda3\\lib\\site-packages (from notebook>=4.4.1->widgetsnbextension~=3.5.0->ipywidgets>=7.0.0->cufflinks) (2.11.3)\n",
      "Requirement already satisfied: nbconvert>=5 in c:\\users\\marion.garcia\\anaconda3\\lib\\site-packages (from notebook>=4.4.1->widgetsnbextension~=3.5.0->ipywidgets>=7.0.0->cufflinks) (6.4.4)\n",
      "Requirement already satisfied: pyparsing!=3.0.5,>=2.0.2 in c:\\users\\marion.garcia\\anaconda3\\lib\\site-packages (from packaging->ipykernel>=4.5.1->ipywidgets>=7.0.0->cufflinks) (3.0.9)\n",
      "Requirement already satisfied: jupyterlab-pygments in c:\\users\\marion.garcia\\anaconda3\\lib\\site-packages (from nbconvert>=5->notebook>=4.4.1->widgetsnbextension~=3.5.0->ipywidgets>=7.0.0->cufflinks) (0.1.2)\n",
      "Requirement already satisfied: mistune<2,>=0.8.1 in c:\\users\\marion.garcia\\anaconda3\\lib\\site-packages (from nbconvert>=5->notebook>=4.4.1->widgetsnbextension~=3.5.0->ipywidgets>=7.0.0->cufflinks) (0.8.4)\n",
      "Requirement already satisfied: testpath in c:\\users\\marion.garcia\\anaconda3\\lib\\site-packages (from nbconvert>=5->notebook>=4.4.1->widgetsnbextension~=3.5.0->ipywidgets>=7.0.0->cufflinks) (0.6.0)\n",
      "Requirement already satisfied: pandocfilters>=1.4.1 in c:\\users\\marion.garcia\\anaconda3\\lib\\site-packages (from nbconvert>=5->notebook>=4.4.1->widgetsnbextension~=3.5.0->ipywidgets>=7.0.0->cufflinks) (1.5.0)\n",
      "Requirement already satisfied: nbclient<0.6.0,>=0.5.0 in c:\\users\\marion.garcia\\anaconda3\\lib\\site-packages (from nbconvert>=5->notebook>=4.4.1->widgetsnbextension~=3.5.0->ipywidgets>=7.0.0->cufflinks) (0.5.13)\n",
      "Requirement already satisfied: bleach in c:\\users\\marion.garcia\\anaconda3\\lib\\site-packages (from nbconvert>=5->notebook>=4.4.1->widgetsnbextension~=3.5.0->ipywidgets>=7.0.0->cufflinks) (4.1.0)\n",
      "Requirement already satisfied: defusedxml in c:\\users\\marion.garcia\\anaconda3\\lib\\site-packages (from nbconvert>=5->notebook>=4.4.1->widgetsnbextension~=3.5.0->ipywidgets>=7.0.0->cufflinks) (0.7.1)\n",
      "Requirement already satisfied: beautifulsoup4 in c:\\users\\marion.garcia\\anaconda3\\lib\\site-packages (from nbconvert>=5->notebook>=4.4.1->widgetsnbextension~=3.5.0->ipywidgets>=7.0.0->cufflinks) (4.11.1)\n",
      "Requirement already satisfied: MarkupSafe>=0.23 in c:\\users\\marion.garcia\\anaconda3\\lib\\site-packages (from jinja2->notebook>=4.4.1->widgetsnbextension~=3.5.0->ipywidgets>=7.0.0->cufflinks) (2.0.1)\n",
      "Requirement already satisfied: pywinpty>=1.1.0 in c:\\users\\marion.garcia\\anaconda3\\lib\\site-packages (from terminado>=0.8.3->notebook>=4.4.1->widgetsnbextension~=3.5.0->ipywidgets>=7.0.0->cufflinks) (2.0.2)\n",
      "Requirement already satisfied: argon2-cffi-bindings in c:\\users\\marion.garcia\\anaconda3\\lib\\site-packages (from argon2-cffi->notebook>=4.4.1->widgetsnbextension~=3.5.0->ipywidgets>=7.0.0->cufflinks) (21.2.0)\n",
      "Requirement already satisfied: cffi>=1.0.1 in c:\\users\\marion.garcia\\anaconda3\\lib\\site-packages (from argon2-cffi-bindings->argon2-cffi->notebook>=4.4.1->widgetsnbextension~=3.5.0->ipywidgets>=7.0.0->cufflinks) (1.15.1)\n",
      "Requirement already satisfied: soupsieve>1.2 in c:\\users\\marion.garcia\\anaconda3\\lib\\site-packages (from beautifulsoup4->nbconvert>=5->notebook>=4.4.1->widgetsnbextension~=3.5.0->ipywidgets>=7.0.0->cufflinks) (2.3.1)\n",
      "Requirement already satisfied: webencodings in c:\\users\\marion.garcia\\anaconda3\\lib\\site-packages (from bleach->nbconvert>=5->notebook>=4.4.1->widgetsnbextension~=3.5.0->ipywidgets>=7.0.0->cufflinks) (0.5.1)\n",
      "Requirement already satisfied: pycparser in c:\\users\\marion.garcia\\anaconda3\\lib\\site-packages (from cffi>=1.0.1->argon2-cffi-bindings->argon2-cffi->notebook>=4.4.1->widgetsnbextension~=3.5.0->ipywidgets>=7.0.0->cufflinks) (2.21)\n",
      "Building wheels for collected packages: cufflinks\n",
      "  Building wheel for cufflinks (setup.py): started\n",
      "  Building wheel for cufflinks (setup.py): finished with status 'done'\n",
      "  Created wheel for cufflinks: filename=cufflinks-0.17.3-py3-none-any.whl size=68718 sha256=12496354d5744f05d13ab35e85305a2d284dea5cc0046a2cbcb887c1e158e7d4\n",
      "  Stored in directory: c:\\users\\marion.garcia\\appdata\\local\\pip\\cache\\wheels\\29\\b4\\f8\\2fd2206eeeba6ccad8167e4e8894b8c4ec27bf1342037fd136\n",
      "Successfully built cufflinks\n",
      "Installing collected packages: colorlover, cufflinks\n",
      "Successfully installed colorlover-0.3.0 cufflinks-0.17.3\n"
     ]
    }
   ],
   "source": [
    "import pandas as pd\n",
    "import numpy as np\n",
    "%matplotlib inline\n",
    "!pip install cufflinks"
   ]
  },
  {
   "cell_type": "code",
   "execution_count": 22,
   "metadata": {},
   "outputs": [
    {
     "name": "stdout",
     "output_type": "stream",
     "text": [
      "5.9.0\n"
     ]
    }
   ],
   "source": [
    "from plotly import __version__\n",
    "from plotly.offline import download_plotlyjs, init_notebook_mode, plot, iplot\n",
    "\n",
    "print(__version__) # requires version >= 1.9.0"
   ]
  },
  {
   "cell_type": "code",
   "execution_count": 23,
   "metadata": {},
   "outputs": [],
   "source": [
    "import cufflinks as cf"
   ]
  },
  {
   "cell_type": "code",
   "execution_count": 24,
   "metadata": {},
   "outputs": [
    {
     "data": {
      "text/html": [
       "        <script type=\"text/javascript\">\n",
       "        window.PlotlyConfig = {MathJaxConfig: 'local'};\n",
       "        if (window.MathJax && window.MathJax.Hub && window.MathJax.Hub.Config) {window.MathJax.Hub.Config({SVG: {font: \"STIX-Web\"}});}\n",
       "        if (typeof require !== 'undefined') {\n",
       "        require.undef(\"plotly\");\n",
       "        requirejs.config({\n",
       "            paths: {\n",
       "                'plotly': ['https://cdn.plot.ly/plotly-2.12.1.min']\n",
       "            }\n",
       "        });\n",
       "        require(['plotly'], function(Plotly) {\n",
       "            window._Plotly = Plotly;\n",
       "        });\n",
       "        }\n",
       "        </script>\n",
       "        "
      ]
     },
     "metadata": {},
     "output_type": "display_data"
    }
   ],
   "source": [
    "# For Notebooks\n",
    "init_notebook_mode(connected=True) # connecting javascript to notebook / plotly connects pandas python to js for visualization"
   ]
  },
  {
   "cell_type": "code",
   "execution_count": 29,
   "metadata": {},
   "outputs": [
    {
     "data": {
      "text/html": [
       "        <script type=\"text/javascript\">\n",
       "        window.PlotlyConfig = {MathJaxConfig: 'local'};\n",
       "        if (window.MathJax && window.MathJax.Hub && window.MathJax.Hub.Config) {window.MathJax.Hub.Config({SVG: {font: \"STIX-Web\"}});}\n",
       "        if (typeof require !== 'undefined') {\n",
       "        require.undef(\"plotly\");\n",
       "        requirejs.config({\n",
       "            paths: {\n",
       "                'plotly': ['https://cdn.plot.ly/plotly-2.12.1.min']\n",
       "            }\n",
       "        });\n",
       "        require(['plotly'], function(Plotly) {\n",
       "            window._Plotly = Plotly;\n",
       "        });\n",
       "        }\n",
       "        </script>\n",
       "        "
      ]
     },
     "metadata": {},
     "output_type": "display_data"
    }
   ],
   "source": [
    "# For offline use\n",
    "cf.go_offline()"
   ]
  },
  {
   "cell_type": "markdown",
   "metadata": {},
   "source": [
    "### Fake Data"
   ]
  },
  {
   "cell_type": "code",
   "execution_count": 30,
   "metadata": {},
   "outputs": [],
   "source": [
    "df = pd.DataFrame(np.random.randn(100,4),columns='A B C D'.split())"
   ]
  },
  {
   "cell_type": "code",
   "execution_count": 31,
   "metadata": {},
   "outputs": [
    {
     "data": {
      "text/html": [
       "<div>\n",
       "<style scoped>\n",
       "    .dataframe tbody tr th:only-of-type {\n",
       "        vertical-align: middle;\n",
       "    }\n",
       "\n",
       "    .dataframe tbody tr th {\n",
       "        vertical-align: top;\n",
       "    }\n",
       "\n",
       "    .dataframe thead th {\n",
       "        text-align: right;\n",
       "    }\n",
       "</style>\n",
       "<table border=\"1\" class=\"dataframe\">\n",
       "  <thead>\n",
       "    <tr style=\"text-align: right;\">\n",
       "      <th></th>\n",
       "      <th>A</th>\n",
       "      <th>B</th>\n",
       "      <th>C</th>\n",
       "      <th>D</th>\n",
       "    </tr>\n",
       "  </thead>\n",
       "  <tbody>\n",
       "    <tr>\n",
       "      <th>0</th>\n",
       "      <td>-0.341208</td>\n",
       "      <td>-0.190097</td>\n",
       "      <td>1.910305</td>\n",
       "      <td>-0.410310</td>\n",
       "    </tr>\n",
       "    <tr>\n",
       "      <th>1</th>\n",
       "      <td>0.531997</td>\n",
       "      <td>-0.388568</td>\n",
       "      <td>-0.032477</td>\n",
       "      <td>-0.333735</td>\n",
       "    </tr>\n",
       "    <tr>\n",
       "      <th>2</th>\n",
       "      <td>-2.450455</td>\n",
       "      <td>-0.824391</td>\n",
       "      <td>0.674790</td>\n",
       "      <td>-0.725000</td>\n",
       "    </tr>\n",
       "    <tr>\n",
       "      <th>3</th>\n",
       "      <td>-1.245672</td>\n",
       "      <td>-0.344266</td>\n",
       "      <td>0.500582</td>\n",
       "      <td>-0.120752</td>\n",
       "    </tr>\n",
       "    <tr>\n",
       "      <th>4</th>\n",
       "      <td>1.520964</td>\n",
       "      <td>-0.762700</td>\n",
       "      <td>0.332400</td>\n",
       "      <td>-0.970223</td>\n",
       "    </tr>\n",
       "  </tbody>\n",
       "</table>\n",
       "</div>"
      ],
      "text/plain": [
       "          A         B         C         D\n",
       "0 -0.341208 -0.190097  1.910305 -0.410310\n",
       "1  0.531997 -0.388568 -0.032477 -0.333735\n",
       "2 -2.450455 -0.824391  0.674790 -0.725000\n",
       "3 -1.245672 -0.344266  0.500582 -0.120752\n",
       "4  1.520964 -0.762700  0.332400 -0.970223"
      ]
     },
     "execution_count": 31,
     "metadata": {},
     "output_type": "execute_result"
    }
   ],
   "source": [
    "df.head()"
   ]
  },
  {
   "cell_type": "code",
   "execution_count": 32,
   "metadata": {},
   "outputs": [],
   "source": [
    "df2 = pd.DataFrame({'Category':['A','B','C'],'Values':[32,43,50]})"
   ]
  },
  {
   "cell_type": "code",
   "execution_count": 33,
   "metadata": {},
   "outputs": [
    {
     "data": {
      "text/html": [
       "<div>\n",
       "<style scoped>\n",
       "    .dataframe tbody tr th:only-of-type {\n",
       "        vertical-align: middle;\n",
       "    }\n",
       "\n",
       "    .dataframe tbody tr th {\n",
       "        vertical-align: top;\n",
       "    }\n",
       "\n",
       "    .dataframe thead th {\n",
       "        text-align: right;\n",
       "    }\n",
       "</style>\n",
       "<table border=\"1\" class=\"dataframe\">\n",
       "  <thead>\n",
       "    <tr style=\"text-align: right;\">\n",
       "      <th></th>\n",
       "      <th>Category</th>\n",
       "      <th>Values</th>\n",
       "    </tr>\n",
       "  </thead>\n",
       "  <tbody>\n",
       "    <tr>\n",
       "      <th>0</th>\n",
       "      <td>A</td>\n",
       "      <td>32</td>\n",
       "    </tr>\n",
       "    <tr>\n",
       "      <th>1</th>\n",
       "      <td>B</td>\n",
       "      <td>43</td>\n",
       "    </tr>\n",
       "    <tr>\n",
       "      <th>2</th>\n",
       "      <td>C</td>\n",
       "      <td>50</td>\n",
       "    </tr>\n",
       "  </tbody>\n",
       "</table>\n",
       "</div>"
      ],
      "text/plain": [
       "  Category  Values\n",
       "0        A      32\n",
       "1        B      43\n",
       "2        C      50"
      ]
     },
     "execution_count": 33,
     "metadata": {},
     "output_type": "execute_result"
    }
   ],
   "source": [
    "df2.head()"
   ]
  },
  {
   "cell_type": "markdown",
   "metadata": {},
   "source": [
    "## Using Cufflinks and iplot()\n",
    "\n",
    "* scatter\n",
    "* bar\n",
    "* box\n",
    "* spread\n",
    "* ratio\n",
    "* heatmap\n",
    "* surface\n",
    "* histogram\n",
    "* bubble"
   ]
  },
  {
   "cell_type": "code",
   "execution_count": 36,
   "metadata": {},
   "outputs": [
    {
     "data": {
      "application/vnd.plotly.v1+json": {
       "config": {
        "linkText": "Export to plot.ly",
        "plotlyServerURL": "https://plot.ly",
        "showLink": true
       },
       "data": [
        {
         "line": {
          "color": "rgba(255, 153, 51, 1.0)",
          "dash": "solid",
          "shape": "linear",
          "width": 1.3
         },
         "mode": "lines",
         "name": "A",
         "text": "",
         "type": "scatter",
         "x": [
          0,
          1,
          2,
          3,
          4,
          5,
          6,
          7,
          8,
          9,
          10,
          11,
          12,
          13,
          14,
          15,
          16,
          17,
          18,
          19,
          20,
          21,
          22,
          23,
          24,
          25,
          26,
          27,
          28,
          29,
          30,
          31,
          32,
          33,
          34,
          35,
          36,
          37,
          38,
          39,
          40,
          41,
          42,
          43,
          44,
          45,
          46,
          47,
          48,
          49,
          50,
          51,
          52,
          53,
          54,
          55,
          56,
          57,
          58,
          59,
          60,
          61,
          62,
          63,
          64,
          65,
          66,
          67,
          68,
          69,
          70,
          71,
          72,
          73,
          74,
          75,
          76,
          77,
          78,
          79,
          80,
          81,
          82,
          83,
          84,
          85,
          86,
          87,
          88,
          89,
          90,
          91,
          92,
          93,
          94,
          95,
          96,
          97,
          98,
          99
         ],
         "y": [
          -0.34120759272223433,
          0.5319968935053704,
          -2.450455488118163,
          -1.2456715548083472,
          1.5209640716102542,
          -0.0049272852738787625,
          1.0985475472016015,
          0.6773710522533647,
          1.3607142958212726,
          0.07711242446398583,
          0.29079341587599095,
          -0.43367282563883897,
          0.06753015159812732,
          -0.614125917644946,
          1.709868882712002,
          -0.5083695153972636,
          0.8304776785532717,
          1.5520601876707454,
          -0.3222961640789218,
          -1.977901874814474,
          1.3606452503009314,
          -0.06010963701062323,
          -0.29577165906393466,
          1.1022486760316241,
          1.0178363788213247,
          -0.16442359229547276,
          -1.112695636415679,
          -0.1270802957928152,
          1.007890170700006,
          1.4524421801030634,
          0.8296522843963062,
          1.0532618501781965,
          0.6795082735205985,
          -2.0221482750492252,
          1.1461514030298305,
          0.06140342823868589,
          -0.13708816055394313,
          -0.7651459419975741,
          0.7096138267240532,
          -0.5667400030206438,
          -1.1516645799042164,
          -0.7686303875696663,
          -1.2446233678971257,
          -1.2812299231096487,
          0.012725410380528336,
          -1.748983001114331,
          0.3983896418002656,
          -1.7455224885371137,
          0.5245636491056316,
          0.3304388918863971,
          -1.2147105369960398,
          -0.7984194519889587,
          0.29731511377892034,
          1.405402979776943,
          -1.619812830345721,
          1.2811861693543742,
          -1.4539006003318269,
          -0.38631762914312007,
          -0.03712563436194027,
          -0.05812227019037334,
          0.6245645987974078,
          -0.3951156093367975,
          -2.0161901747549456,
          -0.8956798469753015,
          -0.4370140644033481,
          -0.47276981141969854,
          -0.2854548890731237,
          0.41838971907076516,
          0.45133415609646577,
          0.11713657133354452,
          -1.325159071044354,
          0.11202376189144415,
          -0.5249627092180661,
          -0.3039374941801457,
          -0.8324933320883989,
          -0.9722317483126025,
          -0.9724144691955017,
          -0.1836356643644105,
          -0.019578188435622406,
          -1.724204841009576,
          1.1651900890724414,
          0.4587265805469331,
          -0.4269940736068984,
          0.5177334206115901,
          -1.489836025046481,
          0.2245692761053648,
          0.07659364207849126,
          0.5651885751515057,
          -0.7321710513842877,
          -0.6919190329872751,
          -0.608863992546054,
          1.5946083343083195,
          1.1696186036170675,
          3.408773057810497,
          0.7607021874075978,
          0.4911325983640859,
          0.2541815539119816,
          -0.36709667595476897,
          -0.4014232037425139,
          -3.5374312704476396
         ]
        },
        {
         "line": {
          "color": "rgba(55, 128, 191, 1.0)",
          "dash": "solid",
          "shape": "linear",
          "width": 1.3
         },
         "mode": "lines",
         "name": "B",
         "text": "",
         "type": "scatter",
         "x": [
          0,
          1,
          2,
          3,
          4,
          5,
          6,
          7,
          8,
          9,
          10,
          11,
          12,
          13,
          14,
          15,
          16,
          17,
          18,
          19,
          20,
          21,
          22,
          23,
          24,
          25,
          26,
          27,
          28,
          29,
          30,
          31,
          32,
          33,
          34,
          35,
          36,
          37,
          38,
          39,
          40,
          41,
          42,
          43,
          44,
          45,
          46,
          47,
          48,
          49,
          50,
          51,
          52,
          53,
          54,
          55,
          56,
          57,
          58,
          59,
          60,
          61,
          62,
          63,
          64,
          65,
          66,
          67,
          68,
          69,
          70,
          71,
          72,
          73,
          74,
          75,
          76,
          77,
          78,
          79,
          80,
          81,
          82,
          83,
          84,
          85,
          86,
          87,
          88,
          89,
          90,
          91,
          92,
          93,
          94,
          95,
          96,
          97,
          98,
          99
         ],
         "y": [
          -0.1900973688397165,
          -0.3885684197362916,
          -0.8243907823378489,
          -0.34426573550469863,
          -0.7626995434404207,
          1.048395759001549,
          -0.6777940482446037,
          0.48805974008760755,
          -0.8657238553940302,
          -1.0882723358497837,
          0.4935583948718675,
          0.6182601714481422,
          1.076153033939917,
          -1.5275925690188878,
          0.11136087864535325,
          -0.03044574885719981,
          1.0911851333068108,
          -1.9085340262220345,
          0.46707220029218444,
          -0.49162188861230577,
          0.2877384567818682,
          -0.7823599322251517,
          0.8856691326164089,
          -1.5296573349468923,
          1.1753557301216002,
          -0.9701383706040404,
          0.22639557889842796,
          0.07959265795089271,
          -0.600017743474129,
          0.7756064831698299,
          -0.024756147151807524,
          0.2403527999954404,
          0.6859012737106033,
          -0.037355532168663004,
          0.3717754255978988,
          -0.3919203744324361,
          1.3989115743370044,
          0.2630122570447996,
          -0.3661137393198716,
          0.5471467735292461,
          -1.324642349339428,
          0.11102380481679991,
          -2.075535494176627,
          -0.6382404975762375,
          -2.431797406032161,
          1.6332158939212884,
          -0.09197085112428421,
          1.096049833938106,
          -1.5665098795579453,
          0.7553824116210116,
          0.27913582420989463,
          0.5849420797340267,
          -1.4403775974022306,
          0.13935913692345353,
          -0.44404066805046516,
          0.7385428641964557,
          -1.0332904032432841,
          -0.35396806719374563,
          0.7722679906037915,
          -0.37027214771386874,
          1.7005243008160968,
          0.7471972464198535,
          -0.11815451440255341,
          0.07430273329491482,
          0.4416672561505827,
          -1.274908033954568,
          0.1429012656245399,
          0.6978793081267491,
          1.671557457121776,
          -0.3759987962182951,
          -0.7463195842669548,
          -0.22005038550342224,
          0.46823691228267017,
          1.4855727847467244,
          -1.3957646201898561,
          -1.4884209880380301,
          -0.4763819880346412,
          -0.578184560559735,
          0.6961651030678019,
          1.7259166311829497,
          -0.8252362073213497,
          1.1438609706293845,
          -1.2404930633441245,
          -1.1368471840189844,
          0.5887204356027591,
          0.2335619414877631,
          1.9745688477403562,
          1.3279686184388286,
          0.42260923836531145,
          0.10254556518247043,
          0.9658870494782116,
          -2.0148036419525,
          0.2596301436019747,
          -0.06635611816136357,
          -1.302025346364487,
          -1.2272680873133386,
          0.5198072029053998,
          0.8388417678839464,
          -0.16665292552917554,
          0.9173799937169625
         ]
        },
        {
         "line": {
          "color": "rgba(50, 171, 96, 1.0)",
          "dash": "solid",
          "shape": "linear",
          "width": 1.3
         },
         "mode": "lines",
         "name": "C",
         "text": "",
         "type": "scatter",
         "x": [
          0,
          1,
          2,
          3,
          4,
          5,
          6,
          7,
          8,
          9,
          10,
          11,
          12,
          13,
          14,
          15,
          16,
          17,
          18,
          19,
          20,
          21,
          22,
          23,
          24,
          25,
          26,
          27,
          28,
          29,
          30,
          31,
          32,
          33,
          34,
          35,
          36,
          37,
          38,
          39,
          40,
          41,
          42,
          43,
          44,
          45,
          46,
          47,
          48,
          49,
          50,
          51,
          52,
          53,
          54,
          55,
          56,
          57,
          58,
          59,
          60,
          61,
          62,
          63,
          64,
          65,
          66,
          67,
          68,
          69,
          70,
          71,
          72,
          73,
          74,
          75,
          76,
          77,
          78,
          79,
          80,
          81,
          82,
          83,
          84,
          85,
          86,
          87,
          88,
          89,
          90,
          91,
          92,
          93,
          94,
          95,
          96,
          97,
          98,
          99
         ],
         "y": [
          1.9103045059110908,
          -0.0324766010900323,
          0.6747898519986482,
          0.5005818365646658,
          0.33239968159943106,
          -0.5059053011102334,
          0.6020966849444732,
          1.4699655049211517,
          1.1978975456814263,
          -0.6865975518884714,
          0.852723195013891,
          -0.6437507674782534,
          -0.8754403484121193,
          -0.9775154768468096,
          -0.8546413342436442,
          1.2537442619905128,
          -1.9045312672674817,
          0.2891690886155776,
          0.012169966037095614,
          0.42039855791564923,
          0.11943814146188779,
          -0.3662562134813379,
          0.18414472055402206,
          -0.45845911460225097,
          0.6960109196869487,
          -0.4485487991500414,
          0.7683798511340175,
          -1.179058799293875,
          -1.6431012439508441,
          -0.1869963005418975,
          -0.9437887922665755,
          -0.324677373437033,
          -0.5907019899086499,
          0.16492026139989754,
          -0.48078879856769285,
          0.01143673520281042,
          0.04503960431374931,
          -0.8606320112210435,
          1.1437459274916573,
          0.7088930992311374,
          0.7548223897350274,
          0.5723430657995876,
          -0.9168325310802138,
          -0.5947982012392957,
          -0.34723195084082425,
          -0.0567159159561067,
          0.5335021066473415,
          -1.0726517231911452,
          -0.13224619742200586,
          0.6170142858493078,
          -0.6498928991754115,
          -0.5702211150515724,
          2.4295020090482966,
          -1.4392668384899499,
          0.8617542275712754,
          -0.9646885280823778,
          1.5643528970295268,
          -0.4089725285242998,
          0.3270756006762052,
          -1.770341555084864,
          -0.22647757226224874,
          1.092101420347575,
          -1.7939279055023416,
          1.2566143114982407,
          -0.07479236452051884,
          -1.031532453568368,
          -1.156943941099765,
          0.27135227294525066,
          0.5373722152966268,
          -0.5546514317901003,
          -1.8987842579735061,
          0.19241697433215038,
          1.530485498493259,
          0.7228333379963006,
          -0.5429533538796294,
          1.2803714175803076,
          -2.306863721403007,
          0.7842828916206536,
          0.34215135124192275,
          -1.519151467178333,
          0.40424669002063457,
          0.07957446406931469,
          0.18225871645319636,
          -0.9957462127426185,
          -0.015076853568017676,
          0.7900297816375214,
          -1.646200384516348,
          0.05956573499105154,
          0.03598077324014414,
          0.49208716731850244,
          0.7165417033278323,
          0.6427778018277905,
          -0.3028173472450331,
          0.9464796740335952,
          1.0106234451776535,
          -0.043494628755843645,
          -1.3375309950242353,
          1.0387172543114143,
          -0.6225978712784589,
          1.0141315558367463
         ]
        },
        {
         "line": {
          "color": "rgba(128, 0, 128, 1.0)",
          "dash": "solid",
          "shape": "linear",
          "width": 1.3
         },
         "mode": "lines",
         "name": "D",
         "text": "",
         "type": "scatter",
         "x": [
          0,
          1,
          2,
          3,
          4,
          5,
          6,
          7,
          8,
          9,
          10,
          11,
          12,
          13,
          14,
          15,
          16,
          17,
          18,
          19,
          20,
          21,
          22,
          23,
          24,
          25,
          26,
          27,
          28,
          29,
          30,
          31,
          32,
          33,
          34,
          35,
          36,
          37,
          38,
          39,
          40,
          41,
          42,
          43,
          44,
          45,
          46,
          47,
          48,
          49,
          50,
          51,
          52,
          53,
          54,
          55,
          56,
          57,
          58,
          59,
          60,
          61,
          62,
          63,
          64,
          65,
          66,
          67,
          68,
          69,
          70,
          71,
          72,
          73,
          74,
          75,
          76,
          77,
          78,
          79,
          80,
          81,
          82,
          83,
          84,
          85,
          86,
          87,
          88,
          89,
          90,
          91,
          92,
          93,
          94,
          95,
          96,
          97,
          98,
          99
         ],
         "y": [
          -0.4103104538548829,
          -0.333734732060692,
          -0.7249999454796346,
          -0.12075186624438715,
          -0.9702228237202677,
          -0.4184563513631616,
          -0.8130953552812726,
          -1.070368211863948,
          0.9128122466326866,
          -0.5376006658015672,
          -1.841641920831229,
          -0.021698430731425182,
          -1.222794919048431,
          0.35958413692086305,
          -1.8470224783340559,
          -0.3650599729439193,
          1.31878607504766,
          2.507340775170648,
          -0.4561208585900866,
          -0.8047272454906428,
          -0.9559197397423289,
          -0.5068998849581509,
          -0.25307716519577905,
          -1.27148336694633,
          -1.0816751073569362,
          -0.8054584860614372,
          0.706461609907511,
          0.974118086445685,
          -0.10017039553463598,
          -0.914780942447579,
          1.015919094342769,
          -0.25966822399211303,
          0.34889234956949616,
          -1.2292438175622884,
          0.3834021421904984,
          1.316869079413164,
          -0.7352352723825953,
          -1.972516516260567,
          -0.9085118921654491,
          0.9329586987495015,
          1.683204649059652,
          0.09013890257122327,
          -0.3373355375224495,
          -0.5540672145916483,
          1.5804141593421892,
          0.8042210936260737,
          0.6965998388250881,
          -3.147066036074273,
          0.0019682458700349204,
          -1.596825890440718,
          -0.2586942384250054,
          -1.1822047310215698,
          -0.7668621938093012,
          0.16260199826039162,
          -0.09931253373823028,
          -0.08092746615191286,
          -0.20277833052264038,
          0.2359661276767108,
          -1.0552832205083178,
          -1.0736684827535101,
          1.784179172173497,
          -0.7790597148297769,
          0.32343402702051244,
          -0.16924425041690172,
          0.6630700536431359,
          -1.0039576064353046,
          -0.9435030034103241,
          -0.5290232460448169,
          0.6835359923302197,
          -0.702806914451176,
          1.1489346413496178,
          2.0788187651310945,
          0.06550548107752338,
          0.4722262637519014,
          -0.4349686402153224,
          1.3829089676360604,
          -1.6202804762309257,
          -0.22377563808704218,
          -1.5299244176176388,
          1.353954906478887,
          -1.3893374560698426,
          0.32525442502010615,
          0.616410318419713,
          -1.6647326211126063,
          -1.046207963235596,
          1.3856257209977199,
          -0.4451796457350623,
          0.8817781193226517,
          -0.3766409683986692,
          -1.3624244460816255,
          2.312277355326506,
          -1.1802234454149356,
          0.2172895716657932,
          1.0630724292373221,
          0.17504094074453513,
          -0.03192945139517454,
          -0.7112178442185724,
          -0.7806039652950968,
          -1.0007269638007035,
          -0.5828470704060571
         ]
        }
       ],
       "layout": {
        "legend": {
         "bgcolor": "#F5F6F9",
         "font": {
          "color": "#4D5663"
         }
        },
        "paper_bgcolor": "#F5F6F9",
        "plot_bgcolor": "#F5F6F9",
        "template": {
         "data": {
          "bar": [
           {
            "error_x": {
             "color": "#2a3f5f"
            },
            "error_y": {
             "color": "#2a3f5f"
            },
            "marker": {
             "line": {
              "color": "#E5ECF6",
              "width": 0.5
             },
             "pattern": {
              "fillmode": "overlay",
              "size": 10,
              "solidity": 0.2
             }
            },
            "type": "bar"
           }
          ],
          "barpolar": [
           {
            "marker": {
             "line": {
              "color": "#E5ECF6",
              "width": 0.5
             },
             "pattern": {
              "fillmode": "overlay",
              "size": 10,
              "solidity": 0.2
             }
            },
            "type": "barpolar"
           }
          ],
          "carpet": [
           {
            "aaxis": {
             "endlinecolor": "#2a3f5f",
             "gridcolor": "white",
             "linecolor": "white",
             "minorgridcolor": "white",
             "startlinecolor": "#2a3f5f"
            },
            "baxis": {
             "endlinecolor": "#2a3f5f",
             "gridcolor": "white",
             "linecolor": "white",
             "minorgridcolor": "white",
             "startlinecolor": "#2a3f5f"
            },
            "type": "carpet"
           }
          ],
          "choropleth": [
           {
            "colorbar": {
             "outlinewidth": 0,
             "ticks": ""
            },
            "type": "choropleth"
           }
          ],
          "contour": [
           {
            "colorbar": {
             "outlinewidth": 0,
             "ticks": ""
            },
            "colorscale": [
             [
              0,
              "#0d0887"
             ],
             [
              0.1111111111111111,
              "#46039f"
             ],
             [
              0.2222222222222222,
              "#7201a8"
             ],
             [
              0.3333333333333333,
              "#9c179e"
             ],
             [
              0.4444444444444444,
              "#bd3786"
             ],
             [
              0.5555555555555556,
              "#d8576b"
             ],
             [
              0.6666666666666666,
              "#ed7953"
             ],
             [
              0.7777777777777778,
              "#fb9f3a"
             ],
             [
              0.8888888888888888,
              "#fdca26"
             ],
             [
              1,
              "#f0f921"
             ]
            ],
            "type": "contour"
           }
          ],
          "contourcarpet": [
           {
            "colorbar": {
             "outlinewidth": 0,
             "ticks": ""
            },
            "type": "contourcarpet"
           }
          ],
          "heatmap": [
           {
            "colorbar": {
             "outlinewidth": 0,
             "ticks": ""
            },
            "colorscale": [
             [
              0,
              "#0d0887"
             ],
             [
              0.1111111111111111,
              "#46039f"
             ],
             [
              0.2222222222222222,
              "#7201a8"
             ],
             [
              0.3333333333333333,
              "#9c179e"
             ],
             [
              0.4444444444444444,
              "#bd3786"
             ],
             [
              0.5555555555555556,
              "#d8576b"
             ],
             [
              0.6666666666666666,
              "#ed7953"
             ],
             [
              0.7777777777777778,
              "#fb9f3a"
             ],
             [
              0.8888888888888888,
              "#fdca26"
             ],
             [
              1,
              "#f0f921"
             ]
            ],
            "type": "heatmap"
           }
          ],
          "heatmapgl": [
           {
            "colorbar": {
             "outlinewidth": 0,
             "ticks": ""
            },
            "colorscale": [
             [
              0,
              "#0d0887"
             ],
             [
              0.1111111111111111,
              "#46039f"
             ],
             [
              0.2222222222222222,
              "#7201a8"
             ],
             [
              0.3333333333333333,
              "#9c179e"
             ],
             [
              0.4444444444444444,
              "#bd3786"
             ],
             [
              0.5555555555555556,
              "#d8576b"
             ],
             [
              0.6666666666666666,
              "#ed7953"
             ],
             [
              0.7777777777777778,
              "#fb9f3a"
             ],
             [
              0.8888888888888888,
              "#fdca26"
             ],
             [
              1,
              "#f0f921"
             ]
            ],
            "type": "heatmapgl"
           }
          ],
          "histogram": [
           {
            "marker": {
             "pattern": {
              "fillmode": "overlay",
              "size": 10,
              "solidity": 0.2
             }
            },
            "type": "histogram"
           }
          ],
          "histogram2d": [
           {
            "colorbar": {
             "outlinewidth": 0,
             "ticks": ""
            },
            "colorscale": [
             [
              0,
              "#0d0887"
             ],
             [
              0.1111111111111111,
              "#46039f"
             ],
             [
              0.2222222222222222,
              "#7201a8"
             ],
             [
              0.3333333333333333,
              "#9c179e"
             ],
             [
              0.4444444444444444,
              "#bd3786"
             ],
             [
              0.5555555555555556,
              "#d8576b"
             ],
             [
              0.6666666666666666,
              "#ed7953"
             ],
             [
              0.7777777777777778,
              "#fb9f3a"
             ],
             [
              0.8888888888888888,
              "#fdca26"
             ],
             [
              1,
              "#f0f921"
             ]
            ],
            "type": "histogram2d"
           }
          ],
          "histogram2dcontour": [
           {
            "colorbar": {
             "outlinewidth": 0,
             "ticks": ""
            },
            "colorscale": [
             [
              0,
              "#0d0887"
             ],
             [
              0.1111111111111111,
              "#46039f"
             ],
             [
              0.2222222222222222,
              "#7201a8"
             ],
             [
              0.3333333333333333,
              "#9c179e"
             ],
             [
              0.4444444444444444,
              "#bd3786"
             ],
             [
              0.5555555555555556,
              "#d8576b"
             ],
             [
              0.6666666666666666,
              "#ed7953"
             ],
             [
              0.7777777777777778,
              "#fb9f3a"
             ],
             [
              0.8888888888888888,
              "#fdca26"
             ],
             [
              1,
              "#f0f921"
             ]
            ],
            "type": "histogram2dcontour"
           }
          ],
          "mesh3d": [
           {
            "colorbar": {
             "outlinewidth": 0,
             "ticks": ""
            },
            "type": "mesh3d"
           }
          ],
          "parcoords": [
           {
            "line": {
             "colorbar": {
              "outlinewidth": 0,
              "ticks": ""
             }
            },
            "type": "parcoords"
           }
          ],
          "pie": [
           {
            "automargin": true,
            "type": "pie"
           }
          ],
          "scatter": [
           {
            "fillpattern": {
             "fillmode": "overlay",
             "size": 10,
             "solidity": 0.2
            },
            "type": "scatter"
           }
          ],
          "scatter3d": [
           {
            "line": {
             "colorbar": {
              "outlinewidth": 0,
              "ticks": ""
             }
            },
            "marker": {
             "colorbar": {
              "outlinewidth": 0,
              "ticks": ""
             }
            },
            "type": "scatter3d"
           }
          ],
          "scattercarpet": [
           {
            "marker": {
             "colorbar": {
              "outlinewidth": 0,
              "ticks": ""
             }
            },
            "type": "scattercarpet"
           }
          ],
          "scattergeo": [
           {
            "marker": {
             "colorbar": {
              "outlinewidth": 0,
              "ticks": ""
             }
            },
            "type": "scattergeo"
           }
          ],
          "scattergl": [
           {
            "marker": {
             "colorbar": {
              "outlinewidth": 0,
              "ticks": ""
             }
            },
            "type": "scattergl"
           }
          ],
          "scattermapbox": [
           {
            "marker": {
             "colorbar": {
              "outlinewidth": 0,
              "ticks": ""
             }
            },
            "type": "scattermapbox"
           }
          ],
          "scatterpolar": [
           {
            "marker": {
             "colorbar": {
              "outlinewidth": 0,
              "ticks": ""
             }
            },
            "type": "scatterpolar"
           }
          ],
          "scatterpolargl": [
           {
            "marker": {
             "colorbar": {
              "outlinewidth": 0,
              "ticks": ""
             }
            },
            "type": "scatterpolargl"
           }
          ],
          "scatterternary": [
           {
            "marker": {
             "colorbar": {
              "outlinewidth": 0,
              "ticks": ""
             }
            },
            "type": "scatterternary"
           }
          ],
          "surface": [
           {
            "colorbar": {
             "outlinewidth": 0,
             "ticks": ""
            },
            "colorscale": [
             [
              0,
              "#0d0887"
             ],
             [
              0.1111111111111111,
              "#46039f"
             ],
             [
              0.2222222222222222,
              "#7201a8"
             ],
             [
              0.3333333333333333,
              "#9c179e"
             ],
             [
              0.4444444444444444,
              "#bd3786"
             ],
             [
              0.5555555555555556,
              "#d8576b"
             ],
             [
              0.6666666666666666,
              "#ed7953"
             ],
             [
              0.7777777777777778,
              "#fb9f3a"
             ],
             [
              0.8888888888888888,
              "#fdca26"
             ],
             [
              1,
              "#f0f921"
             ]
            ],
            "type": "surface"
           }
          ],
          "table": [
           {
            "cells": {
             "fill": {
              "color": "#EBF0F8"
             },
             "line": {
              "color": "white"
             }
            },
            "header": {
             "fill": {
              "color": "#C8D4E3"
             },
             "line": {
              "color": "white"
             }
            },
            "type": "table"
           }
          ]
         },
         "layout": {
          "annotationdefaults": {
           "arrowcolor": "#2a3f5f",
           "arrowhead": 0,
           "arrowwidth": 1
          },
          "autotypenumbers": "strict",
          "coloraxis": {
           "colorbar": {
            "outlinewidth": 0,
            "ticks": ""
           }
          },
          "colorscale": {
           "diverging": [
            [
             0,
             "#8e0152"
            ],
            [
             0.1,
             "#c51b7d"
            ],
            [
             0.2,
             "#de77ae"
            ],
            [
             0.3,
             "#f1b6da"
            ],
            [
             0.4,
             "#fde0ef"
            ],
            [
             0.5,
             "#f7f7f7"
            ],
            [
             0.6,
             "#e6f5d0"
            ],
            [
             0.7,
             "#b8e186"
            ],
            [
             0.8,
             "#7fbc41"
            ],
            [
             0.9,
             "#4d9221"
            ],
            [
             1,
             "#276419"
            ]
           ],
           "sequential": [
            [
             0,
             "#0d0887"
            ],
            [
             0.1111111111111111,
             "#46039f"
            ],
            [
             0.2222222222222222,
             "#7201a8"
            ],
            [
             0.3333333333333333,
             "#9c179e"
            ],
            [
             0.4444444444444444,
             "#bd3786"
            ],
            [
             0.5555555555555556,
             "#d8576b"
            ],
            [
             0.6666666666666666,
             "#ed7953"
            ],
            [
             0.7777777777777778,
             "#fb9f3a"
            ],
            [
             0.8888888888888888,
             "#fdca26"
            ],
            [
             1,
             "#f0f921"
            ]
           ],
           "sequentialminus": [
            [
             0,
             "#0d0887"
            ],
            [
             0.1111111111111111,
             "#46039f"
            ],
            [
             0.2222222222222222,
             "#7201a8"
            ],
            [
             0.3333333333333333,
             "#9c179e"
            ],
            [
             0.4444444444444444,
             "#bd3786"
            ],
            [
             0.5555555555555556,
             "#d8576b"
            ],
            [
             0.6666666666666666,
             "#ed7953"
            ],
            [
             0.7777777777777778,
             "#fb9f3a"
            ],
            [
             0.8888888888888888,
             "#fdca26"
            ],
            [
             1,
             "#f0f921"
            ]
           ]
          },
          "colorway": [
           "#636efa",
           "#EF553B",
           "#00cc96",
           "#ab63fa",
           "#FFA15A",
           "#19d3f3",
           "#FF6692",
           "#B6E880",
           "#FF97FF",
           "#FECB52"
          ],
          "font": {
           "color": "#2a3f5f"
          },
          "geo": {
           "bgcolor": "white",
           "lakecolor": "white",
           "landcolor": "#E5ECF6",
           "showlakes": true,
           "showland": true,
           "subunitcolor": "white"
          },
          "hoverlabel": {
           "align": "left"
          },
          "hovermode": "closest",
          "mapbox": {
           "style": "light"
          },
          "paper_bgcolor": "white",
          "plot_bgcolor": "#E5ECF6",
          "polar": {
           "angularaxis": {
            "gridcolor": "white",
            "linecolor": "white",
            "ticks": ""
           },
           "bgcolor": "#E5ECF6",
           "radialaxis": {
            "gridcolor": "white",
            "linecolor": "white",
            "ticks": ""
           }
          },
          "scene": {
           "xaxis": {
            "backgroundcolor": "#E5ECF6",
            "gridcolor": "white",
            "gridwidth": 2,
            "linecolor": "white",
            "showbackground": true,
            "ticks": "",
            "zerolinecolor": "white"
           },
           "yaxis": {
            "backgroundcolor": "#E5ECF6",
            "gridcolor": "white",
            "gridwidth": 2,
            "linecolor": "white",
            "showbackground": true,
            "ticks": "",
            "zerolinecolor": "white"
           },
           "zaxis": {
            "backgroundcolor": "#E5ECF6",
            "gridcolor": "white",
            "gridwidth": 2,
            "linecolor": "white",
            "showbackground": true,
            "ticks": "",
            "zerolinecolor": "white"
           }
          },
          "shapedefaults": {
           "line": {
            "color": "#2a3f5f"
           }
          },
          "ternary": {
           "aaxis": {
            "gridcolor": "white",
            "linecolor": "white",
            "ticks": ""
           },
           "baxis": {
            "gridcolor": "white",
            "linecolor": "white",
            "ticks": ""
           },
           "bgcolor": "#E5ECF6",
           "caxis": {
            "gridcolor": "white",
            "linecolor": "white",
            "ticks": ""
           }
          },
          "title": {
           "x": 0.05
          },
          "xaxis": {
           "automargin": true,
           "gridcolor": "white",
           "linecolor": "white",
           "ticks": "",
           "title": {
            "standoff": 15
           },
           "zerolinecolor": "white",
           "zerolinewidth": 2
          },
          "yaxis": {
           "automargin": true,
           "gridcolor": "white",
           "linecolor": "white",
           "ticks": "",
           "title": {
            "standoff": 15
           },
           "zerolinecolor": "white",
           "zerolinewidth": 2
          }
         }
        },
        "title": {
         "font": {
          "color": "#4D5663"
         }
        },
        "xaxis": {
         "gridcolor": "#E1E5ED",
         "showgrid": true,
         "tickfont": {
          "color": "#4D5663"
         },
         "title": {
          "font": {
           "color": "#4D5663"
          },
          "text": ""
         },
         "zerolinecolor": "#E1E5ED"
        },
        "yaxis": {
         "gridcolor": "#E1E5ED",
         "showgrid": true,
         "tickfont": {
          "color": "#4D5663"
         },
         "title": {
          "font": {
           "color": "#4D5663"
          },
          "text": ""
         },
         "zerolinecolor": "#E1E5ED"
        }
       }
      },
      "text/html": [
       "<div>                            <div id=\"a0b011da-c569-4368-8a4c-b16d3750bc0c\" class=\"plotly-graph-div\" style=\"height:525px; width:100%;\"></div>            <script type=\"text/javascript\">                require([\"plotly\"], function(Plotly) {                    window.PLOTLYENV=window.PLOTLYENV || {};\n",
       "                    window.PLOTLYENV.BASE_URL='https://plot.ly';                                    if (document.getElementById(\"a0b011da-c569-4368-8a4c-b16d3750bc0c\")) {                    Plotly.newPlot(                        \"a0b011da-c569-4368-8a4c-b16d3750bc0c\",                        [{\"line\":{\"color\":\"rgba(255, 153, 51, 1.0)\",\"dash\":\"solid\",\"shape\":\"linear\",\"width\":1.3},\"mode\":\"lines\",\"name\":\"A\",\"text\":\"\",\"x\":[0,1,2,3,4,5,6,7,8,9,10,11,12,13,14,15,16,17,18,19,20,21,22,23,24,25,26,27,28,29,30,31,32,33,34,35,36,37,38,39,40,41,42,43,44,45,46,47,48,49,50,51,52,53,54,55,56,57,58,59,60,61,62,63,64,65,66,67,68,69,70,71,72,73,74,75,76,77,78,79,80,81,82,83,84,85,86,87,88,89,90,91,92,93,94,95,96,97,98,99],\"y\":[-0.34120759272223433,0.5319968935053704,-2.450455488118163,-1.2456715548083472,1.5209640716102542,-0.0049272852738787625,1.0985475472016015,0.6773710522533647,1.3607142958212726,0.07711242446398583,0.29079341587599095,-0.43367282563883897,0.06753015159812732,-0.614125917644946,1.709868882712002,-0.5083695153972636,0.8304776785532717,1.5520601876707454,-0.3222961640789218,-1.977901874814474,1.3606452503009314,-0.06010963701062323,-0.29577165906393466,1.1022486760316241,1.0178363788213247,-0.16442359229547276,-1.112695636415679,-0.1270802957928152,1.007890170700006,1.4524421801030634,0.8296522843963062,1.0532618501781965,0.6795082735205985,-2.0221482750492252,1.1461514030298305,0.06140342823868589,-0.13708816055394313,-0.7651459419975741,0.7096138267240532,-0.5667400030206438,-1.1516645799042164,-0.7686303875696663,-1.2446233678971257,-1.2812299231096487,0.012725410380528336,-1.748983001114331,0.3983896418002656,-1.7455224885371137,0.5245636491056316,0.3304388918863971,-1.2147105369960398,-0.7984194519889587,0.29731511377892034,1.405402979776943,-1.619812830345721,1.2811861693543742,-1.4539006003318269,-0.38631762914312007,-0.03712563436194027,-0.05812227019037334,0.6245645987974078,-0.3951156093367975,-2.0161901747549456,-0.8956798469753015,-0.4370140644033481,-0.47276981141969854,-0.2854548890731237,0.41838971907076516,0.45133415609646577,0.11713657133354452,-1.325159071044354,0.11202376189144415,-0.5249627092180661,-0.3039374941801457,-0.8324933320883989,-0.9722317483126025,-0.9724144691955017,-0.1836356643644105,-0.019578188435622406,-1.724204841009576,1.1651900890724414,0.4587265805469331,-0.4269940736068984,0.5177334206115901,-1.489836025046481,0.2245692761053648,0.07659364207849126,0.5651885751515057,-0.7321710513842877,-0.6919190329872751,-0.608863992546054,1.5946083343083195,1.1696186036170675,3.408773057810497,0.7607021874075978,0.4911325983640859,0.2541815539119816,-0.36709667595476897,-0.4014232037425139,-3.5374312704476396],\"type\":\"scatter\"},{\"line\":{\"color\":\"rgba(55, 128, 191, 1.0)\",\"dash\":\"solid\",\"shape\":\"linear\",\"width\":1.3},\"mode\":\"lines\",\"name\":\"B\",\"text\":\"\",\"x\":[0,1,2,3,4,5,6,7,8,9,10,11,12,13,14,15,16,17,18,19,20,21,22,23,24,25,26,27,28,29,30,31,32,33,34,35,36,37,38,39,40,41,42,43,44,45,46,47,48,49,50,51,52,53,54,55,56,57,58,59,60,61,62,63,64,65,66,67,68,69,70,71,72,73,74,75,76,77,78,79,80,81,82,83,84,85,86,87,88,89,90,91,92,93,94,95,96,97,98,99],\"y\":[-0.1900973688397165,-0.3885684197362916,-0.8243907823378489,-0.34426573550469863,-0.7626995434404207,1.048395759001549,-0.6777940482446037,0.48805974008760755,-0.8657238553940302,-1.0882723358497837,0.4935583948718675,0.6182601714481422,1.076153033939917,-1.5275925690188878,0.11136087864535325,-0.03044574885719981,1.0911851333068108,-1.9085340262220345,0.46707220029218444,-0.49162188861230577,0.2877384567818682,-0.7823599322251517,0.8856691326164089,-1.5296573349468923,1.1753557301216002,-0.9701383706040404,0.22639557889842796,0.07959265795089271,-0.600017743474129,0.7756064831698299,-0.024756147151807524,0.2403527999954404,0.6859012737106033,-0.037355532168663004,0.3717754255978988,-0.3919203744324361,1.3989115743370044,0.2630122570447996,-0.3661137393198716,0.5471467735292461,-1.324642349339428,0.11102380481679991,-2.075535494176627,-0.6382404975762375,-2.431797406032161,1.6332158939212884,-0.09197085112428421,1.096049833938106,-1.5665098795579453,0.7553824116210116,0.27913582420989463,0.5849420797340267,-1.4403775974022306,0.13935913692345353,-0.44404066805046516,0.7385428641964557,-1.0332904032432841,-0.35396806719374563,0.7722679906037915,-0.37027214771386874,1.7005243008160968,0.7471972464198535,-0.11815451440255341,0.07430273329491482,0.4416672561505827,-1.274908033954568,0.1429012656245399,0.6978793081267491,1.671557457121776,-0.3759987962182951,-0.7463195842669548,-0.22005038550342224,0.46823691228267017,1.4855727847467244,-1.3957646201898561,-1.4884209880380301,-0.4763819880346412,-0.578184560559735,0.6961651030678019,1.7259166311829497,-0.8252362073213497,1.1438609706293845,-1.2404930633441245,-1.1368471840189844,0.5887204356027591,0.2335619414877631,1.9745688477403562,1.3279686184388286,0.42260923836531145,0.10254556518247043,0.9658870494782116,-2.0148036419525,0.2596301436019747,-0.06635611816136357,-1.302025346364487,-1.2272680873133386,0.5198072029053998,0.8388417678839464,-0.16665292552917554,0.9173799937169625],\"type\":\"scatter\"},{\"line\":{\"color\":\"rgba(50, 171, 96, 1.0)\",\"dash\":\"solid\",\"shape\":\"linear\",\"width\":1.3},\"mode\":\"lines\",\"name\":\"C\",\"text\":\"\",\"x\":[0,1,2,3,4,5,6,7,8,9,10,11,12,13,14,15,16,17,18,19,20,21,22,23,24,25,26,27,28,29,30,31,32,33,34,35,36,37,38,39,40,41,42,43,44,45,46,47,48,49,50,51,52,53,54,55,56,57,58,59,60,61,62,63,64,65,66,67,68,69,70,71,72,73,74,75,76,77,78,79,80,81,82,83,84,85,86,87,88,89,90,91,92,93,94,95,96,97,98,99],\"y\":[1.9103045059110908,-0.0324766010900323,0.6747898519986482,0.5005818365646658,0.33239968159943106,-0.5059053011102334,0.6020966849444732,1.4699655049211517,1.1978975456814263,-0.6865975518884714,0.852723195013891,-0.6437507674782534,-0.8754403484121193,-0.9775154768468096,-0.8546413342436442,1.2537442619905128,-1.9045312672674817,0.2891690886155776,0.012169966037095614,0.42039855791564923,0.11943814146188779,-0.3662562134813379,0.18414472055402206,-0.45845911460225097,0.6960109196869487,-0.4485487991500414,0.7683798511340175,-1.179058799293875,-1.6431012439508441,-0.1869963005418975,-0.9437887922665755,-0.324677373437033,-0.5907019899086499,0.16492026139989754,-0.48078879856769285,0.01143673520281042,0.04503960431374931,-0.8606320112210435,1.1437459274916573,0.7088930992311374,0.7548223897350274,0.5723430657995876,-0.9168325310802138,-0.5947982012392957,-0.34723195084082425,-0.0567159159561067,0.5335021066473415,-1.0726517231911452,-0.13224619742200586,0.6170142858493078,-0.6498928991754115,-0.5702211150515724,2.4295020090482966,-1.4392668384899499,0.8617542275712754,-0.9646885280823778,1.5643528970295268,-0.4089725285242998,0.3270756006762052,-1.770341555084864,-0.22647757226224874,1.092101420347575,-1.7939279055023416,1.2566143114982407,-0.07479236452051884,-1.031532453568368,-1.156943941099765,0.27135227294525066,0.5373722152966268,-0.5546514317901003,-1.8987842579735061,0.19241697433215038,1.530485498493259,0.7228333379963006,-0.5429533538796294,1.2803714175803076,-2.306863721403007,0.7842828916206536,0.34215135124192275,-1.519151467178333,0.40424669002063457,0.07957446406931469,0.18225871645319636,-0.9957462127426185,-0.015076853568017676,0.7900297816375214,-1.646200384516348,0.05956573499105154,0.03598077324014414,0.49208716731850244,0.7165417033278323,0.6427778018277905,-0.3028173472450331,0.9464796740335952,1.0106234451776535,-0.043494628755843645,-1.3375309950242353,1.0387172543114143,-0.6225978712784589,1.0141315558367463],\"type\":\"scatter\"},{\"line\":{\"color\":\"rgba(128, 0, 128, 1.0)\",\"dash\":\"solid\",\"shape\":\"linear\",\"width\":1.3},\"mode\":\"lines\",\"name\":\"D\",\"text\":\"\",\"x\":[0,1,2,3,4,5,6,7,8,9,10,11,12,13,14,15,16,17,18,19,20,21,22,23,24,25,26,27,28,29,30,31,32,33,34,35,36,37,38,39,40,41,42,43,44,45,46,47,48,49,50,51,52,53,54,55,56,57,58,59,60,61,62,63,64,65,66,67,68,69,70,71,72,73,74,75,76,77,78,79,80,81,82,83,84,85,86,87,88,89,90,91,92,93,94,95,96,97,98,99],\"y\":[-0.4103104538548829,-0.333734732060692,-0.7249999454796346,-0.12075186624438715,-0.9702228237202677,-0.4184563513631616,-0.8130953552812726,-1.070368211863948,0.9128122466326866,-0.5376006658015672,-1.841641920831229,-0.021698430731425182,-1.222794919048431,0.35958413692086305,-1.8470224783340559,-0.3650599729439193,1.31878607504766,2.507340775170648,-0.4561208585900866,-0.8047272454906428,-0.9559197397423289,-0.5068998849581509,-0.25307716519577905,-1.27148336694633,-1.0816751073569362,-0.8054584860614372,0.706461609907511,0.974118086445685,-0.10017039553463598,-0.914780942447579,1.015919094342769,-0.25966822399211303,0.34889234956949616,-1.2292438175622884,0.3834021421904984,1.316869079413164,-0.7352352723825953,-1.972516516260567,-0.9085118921654491,0.9329586987495015,1.683204649059652,0.09013890257122327,-0.3373355375224495,-0.5540672145916483,1.5804141593421892,0.8042210936260737,0.6965998388250881,-3.147066036074273,0.0019682458700349204,-1.596825890440718,-0.2586942384250054,-1.1822047310215698,-0.7668621938093012,0.16260199826039162,-0.09931253373823028,-0.08092746615191286,-0.20277833052264038,0.2359661276767108,-1.0552832205083178,-1.0736684827535101,1.784179172173497,-0.7790597148297769,0.32343402702051244,-0.16924425041690172,0.6630700536431359,-1.0039576064353046,-0.9435030034103241,-0.5290232460448169,0.6835359923302197,-0.702806914451176,1.1489346413496178,2.0788187651310945,0.06550548107752338,0.4722262637519014,-0.4349686402153224,1.3829089676360604,-1.6202804762309257,-0.22377563808704218,-1.5299244176176388,1.353954906478887,-1.3893374560698426,0.32525442502010615,0.616410318419713,-1.6647326211126063,-1.046207963235596,1.3856257209977199,-0.4451796457350623,0.8817781193226517,-0.3766409683986692,-1.3624244460816255,2.312277355326506,-1.1802234454149356,0.2172895716657932,1.0630724292373221,0.17504094074453513,-0.03192945139517454,-0.7112178442185724,-0.7806039652950968,-1.0007269638007035,-0.5828470704060571],\"type\":\"scatter\"}],                        {\"legend\":{\"bgcolor\":\"#F5F6F9\",\"font\":{\"color\":\"#4D5663\"}},\"paper_bgcolor\":\"#F5F6F9\",\"plot_bgcolor\":\"#F5F6F9\",\"template\":{\"data\":{\"barpolar\":[{\"marker\":{\"line\":{\"color\":\"#E5ECF6\",\"width\":0.5},\"pattern\":{\"fillmode\":\"overlay\",\"size\":10,\"solidity\":0.2}},\"type\":\"barpolar\"}],\"bar\":[{\"error_x\":{\"color\":\"#2a3f5f\"},\"error_y\":{\"color\":\"#2a3f5f\"},\"marker\":{\"line\":{\"color\":\"#E5ECF6\",\"width\":0.5},\"pattern\":{\"fillmode\":\"overlay\",\"size\":10,\"solidity\":0.2}},\"type\":\"bar\"}],\"carpet\":[{\"aaxis\":{\"endlinecolor\":\"#2a3f5f\",\"gridcolor\":\"white\",\"linecolor\":\"white\",\"minorgridcolor\":\"white\",\"startlinecolor\":\"#2a3f5f\"},\"baxis\":{\"endlinecolor\":\"#2a3f5f\",\"gridcolor\":\"white\",\"linecolor\":\"white\",\"minorgridcolor\":\"white\",\"startlinecolor\":\"#2a3f5f\"},\"type\":\"carpet\"}],\"choropleth\":[{\"colorbar\":{\"outlinewidth\":0,\"ticks\":\"\"},\"type\":\"choropleth\"}],\"contourcarpet\":[{\"colorbar\":{\"outlinewidth\":0,\"ticks\":\"\"},\"type\":\"contourcarpet\"}],\"contour\":[{\"colorbar\":{\"outlinewidth\":0,\"ticks\":\"\"},\"colorscale\":[[0.0,\"#0d0887\"],[0.1111111111111111,\"#46039f\"],[0.2222222222222222,\"#7201a8\"],[0.3333333333333333,\"#9c179e\"],[0.4444444444444444,\"#bd3786\"],[0.5555555555555556,\"#d8576b\"],[0.6666666666666666,\"#ed7953\"],[0.7777777777777778,\"#fb9f3a\"],[0.8888888888888888,\"#fdca26\"],[1.0,\"#f0f921\"]],\"type\":\"contour\"}],\"heatmapgl\":[{\"colorbar\":{\"outlinewidth\":0,\"ticks\":\"\"},\"colorscale\":[[0.0,\"#0d0887\"],[0.1111111111111111,\"#46039f\"],[0.2222222222222222,\"#7201a8\"],[0.3333333333333333,\"#9c179e\"],[0.4444444444444444,\"#bd3786\"],[0.5555555555555556,\"#d8576b\"],[0.6666666666666666,\"#ed7953\"],[0.7777777777777778,\"#fb9f3a\"],[0.8888888888888888,\"#fdca26\"],[1.0,\"#f0f921\"]],\"type\":\"heatmapgl\"}],\"heatmap\":[{\"colorbar\":{\"outlinewidth\":0,\"ticks\":\"\"},\"colorscale\":[[0.0,\"#0d0887\"],[0.1111111111111111,\"#46039f\"],[0.2222222222222222,\"#7201a8\"],[0.3333333333333333,\"#9c179e\"],[0.4444444444444444,\"#bd3786\"],[0.5555555555555556,\"#d8576b\"],[0.6666666666666666,\"#ed7953\"],[0.7777777777777778,\"#fb9f3a\"],[0.8888888888888888,\"#fdca26\"],[1.0,\"#f0f921\"]],\"type\":\"heatmap\"}],\"histogram2dcontour\":[{\"colorbar\":{\"outlinewidth\":0,\"ticks\":\"\"},\"colorscale\":[[0.0,\"#0d0887\"],[0.1111111111111111,\"#46039f\"],[0.2222222222222222,\"#7201a8\"],[0.3333333333333333,\"#9c179e\"],[0.4444444444444444,\"#bd3786\"],[0.5555555555555556,\"#d8576b\"],[0.6666666666666666,\"#ed7953\"],[0.7777777777777778,\"#fb9f3a\"],[0.8888888888888888,\"#fdca26\"],[1.0,\"#f0f921\"]],\"type\":\"histogram2dcontour\"}],\"histogram2d\":[{\"colorbar\":{\"outlinewidth\":0,\"ticks\":\"\"},\"colorscale\":[[0.0,\"#0d0887\"],[0.1111111111111111,\"#46039f\"],[0.2222222222222222,\"#7201a8\"],[0.3333333333333333,\"#9c179e\"],[0.4444444444444444,\"#bd3786\"],[0.5555555555555556,\"#d8576b\"],[0.6666666666666666,\"#ed7953\"],[0.7777777777777778,\"#fb9f3a\"],[0.8888888888888888,\"#fdca26\"],[1.0,\"#f0f921\"]],\"type\":\"histogram2d\"}],\"histogram\":[{\"marker\":{\"pattern\":{\"fillmode\":\"overlay\",\"size\":10,\"solidity\":0.2}},\"type\":\"histogram\"}],\"mesh3d\":[{\"colorbar\":{\"outlinewidth\":0,\"ticks\":\"\"},\"type\":\"mesh3d\"}],\"parcoords\":[{\"line\":{\"colorbar\":{\"outlinewidth\":0,\"ticks\":\"\"}},\"type\":\"parcoords\"}],\"pie\":[{\"automargin\":true,\"type\":\"pie\"}],\"scatter3d\":[{\"line\":{\"colorbar\":{\"outlinewidth\":0,\"ticks\":\"\"}},\"marker\":{\"colorbar\":{\"outlinewidth\":0,\"ticks\":\"\"}},\"type\":\"scatter3d\"}],\"scattercarpet\":[{\"marker\":{\"colorbar\":{\"outlinewidth\":0,\"ticks\":\"\"}},\"type\":\"scattercarpet\"}],\"scattergeo\":[{\"marker\":{\"colorbar\":{\"outlinewidth\":0,\"ticks\":\"\"}},\"type\":\"scattergeo\"}],\"scattergl\":[{\"marker\":{\"colorbar\":{\"outlinewidth\":0,\"ticks\":\"\"}},\"type\":\"scattergl\"}],\"scattermapbox\":[{\"marker\":{\"colorbar\":{\"outlinewidth\":0,\"ticks\":\"\"}},\"type\":\"scattermapbox\"}],\"scatterpolargl\":[{\"marker\":{\"colorbar\":{\"outlinewidth\":0,\"ticks\":\"\"}},\"type\":\"scatterpolargl\"}],\"scatterpolar\":[{\"marker\":{\"colorbar\":{\"outlinewidth\":0,\"ticks\":\"\"}},\"type\":\"scatterpolar\"}],\"scatter\":[{\"fillpattern\":{\"fillmode\":\"overlay\",\"size\":10,\"solidity\":0.2},\"type\":\"scatter\"}],\"scatterternary\":[{\"marker\":{\"colorbar\":{\"outlinewidth\":0,\"ticks\":\"\"}},\"type\":\"scatterternary\"}],\"surface\":[{\"colorbar\":{\"outlinewidth\":0,\"ticks\":\"\"},\"colorscale\":[[0.0,\"#0d0887\"],[0.1111111111111111,\"#46039f\"],[0.2222222222222222,\"#7201a8\"],[0.3333333333333333,\"#9c179e\"],[0.4444444444444444,\"#bd3786\"],[0.5555555555555556,\"#d8576b\"],[0.6666666666666666,\"#ed7953\"],[0.7777777777777778,\"#fb9f3a\"],[0.8888888888888888,\"#fdca26\"],[1.0,\"#f0f921\"]],\"type\":\"surface\"}],\"table\":[{\"cells\":{\"fill\":{\"color\":\"#EBF0F8\"},\"line\":{\"color\":\"white\"}},\"header\":{\"fill\":{\"color\":\"#C8D4E3\"},\"line\":{\"color\":\"white\"}},\"type\":\"table\"}]},\"layout\":{\"annotationdefaults\":{\"arrowcolor\":\"#2a3f5f\",\"arrowhead\":0,\"arrowwidth\":1},\"autotypenumbers\":\"strict\",\"coloraxis\":{\"colorbar\":{\"outlinewidth\":0,\"ticks\":\"\"}},\"colorscale\":{\"diverging\":[[0,\"#8e0152\"],[0.1,\"#c51b7d\"],[0.2,\"#de77ae\"],[0.3,\"#f1b6da\"],[0.4,\"#fde0ef\"],[0.5,\"#f7f7f7\"],[0.6,\"#e6f5d0\"],[0.7,\"#b8e186\"],[0.8,\"#7fbc41\"],[0.9,\"#4d9221\"],[1,\"#276419\"]],\"sequential\":[[0.0,\"#0d0887\"],[0.1111111111111111,\"#46039f\"],[0.2222222222222222,\"#7201a8\"],[0.3333333333333333,\"#9c179e\"],[0.4444444444444444,\"#bd3786\"],[0.5555555555555556,\"#d8576b\"],[0.6666666666666666,\"#ed7953\"],[0.7777777777777778,\"#fb9f3a\"],[0.8888888888888888,\"#fdca26\"],[1.0,\"#f0f921\"]],\"sequentialminus\":[[0.0,\"#0d0887\"],[0.1111111111111111,\"#46039f\"],[0.2222222222222222,\"#7201a8\"],[0.3333333333333333,\"#9c179e\"],[0.4444444444444444,\"#bd3786\"],[0.5555555555555556,\"#d8576b\"],[0.6666666666666666,\"#ed7953\"],[0.7777777777777778,\"#fb9f3a\"],[0.8888888888888888,\"#fdca26\"],[1.0,\"#f0f921\"]]},\"colorway\":[\"#636efa\",\"#EF553B\",\"#00cc96\",\"#ab63fa\",\"#FFA15A\",\"#19d3f3\",\"#FF6692\",\"#B6E880\",\"#FF97FF\",\"#FECB52\"],\"font\":{\"color\":\"#2a3f5f\"},\"geo\":{\"bgcolor\":\"white\",\"lakecolor\":\"white\",\"landcolor\":\"#E5ECF6\",\"showlakes\":true,\"showland\":true,\"subunitcolor\":\"white\"},\"hoverlabel\":{\"align\":\"left\"},\"hovermode\":\"closest\",\"mapbox\":{\"style\":\"light\"},\"paper_bgcolor\":\"white\",\"plot_bgcolor\":\"#E5ECF6\",\"polar\":{\"angularaxis\":{\"gridcolor\":\"white\",\"linecolor\":\"white\",\"ticks\":\"\"},\"bgcolor\":\"#E5ECF6\",\"radialaxis\":{\"gridcolor\":\"white\",\"linecolor\":\"white\",\"ticks\":\"\"}},\"scene\":{\"xaxis\":{\"backgroundcolor\":\"#E5ECF6\",\"gridcolor\":\"white\",\"gridwidth\":2,\"linecolor\":\"white\",\"showbackground\":true,\"ticks\":\"\",\"zerolinecolor\":\"white\"},\"yaxis\":{\"backgroundcolor\":\"#E5ECF6\",\"gridcolor\":\"white\",\"gridwidth\":2,\"linecolor\":\"white\",\"showbackground\":true,\"ticks\":\"\",\"zerolinecolor\":\"white\"},\"zaxis\":{\"backgroundcolor\":\"#E5ECF6\",\"gridcolor\":\"white\",\"gridwidth\":2,\"linecolor\":\"white\",\"showbackground\":true,\"ticks\":\"\",\"zerolinecolor\":\"white\"}},\"shapedefaults\":{\"line\":{\"color\":\"#2a3f5f\"}},\"ternary\":{\"aaxis\":{\"gridcolor\":\"white\",\"linecolor\":\"white\",\"ticks\":\"\"},\"baxis\":{\"gridcolor\":\"white\",\"linecolor\":\"white\",\"ticks\":\"\"},\"bgcolor\":\"#E5ECF6\",\"caxis\":{\"gridcolor\":\"white\",\"linecolor\":\"white\",\"ticks\":\"\"}},\"title\":{\"x\":0.05},\"xaxis\":{\"automargin\":true,\"gridcolor\":\"white\",\"linecolor\":\"white\",\"ticks\":\"\",\"title\":{\"standoff\":15},\"zerolinecolor\":\"white\",\"zerolinewidth\":2},\"yaxis\":{\"automargin\":true,\"gridcolor\":\"white\",\"linecolor\":\"white\",\"ticks\":\"\",\"title\":{\"standoff\":15},\"zerolinecolor\":\"white\",\"zerolinewidth\":2}}},\"title\":{\"font\":{\"color\":\"#4D5663\"}},\"xaxis\":{\"gridcolor\":\"#E1E5ED\",\"showgrid\":true,\"tickfont\":{\"color\":\"#4D5663\"},\"title\":{\"font\":{\"color\":\"#4D5663\"},\"text\":\"\"},\"zerolinecolor\":\"#E1E5ED\"},\"yaxis\":{\"gridcolor\":\"#E1E5ED\",\"showgrid\":true,\"tickfont\":{\"color\":\"#4D5663\"},\"title\":{\"font\":{\"color\":\"#4D5663\"},\"text\":\"\"},\"zerolinecolor\":\"#E1E5ED\"}},                        {\"showLink\": true, \"linkText\": \"Export to plot.ly\", \"plotlyServerURL\": \"https://plot.ly\", \"responsive\": true}                    ).then(function(){\n",
       "                            \n",
       "var gd = document.getElementById('a0b011da-c569-4368-8a4c-b16d3750bc0c');\n",
       "var x = new MutationObserver(function (mutations, observer) {{\n",
       "        var display = window.getComputedStyle(gd).display;\n",
       "        if (!display || display === 'none') {{\n",
       "            console.log([gd, 'removed!']);\n",
       "            Plotly.purge(gd);\n",
       "            observer.disconnect();\n",
       "        }}\n",
       "}});\n",
       "\n",
       "// Listen for the removal of the full notebook cells\n",
       "var notebookContainer = gd.closest('#notebook-container');\n",
       "if (notebookContainer) {{\n",
       "    x.observe(notebookContainer, {childList: true});\n",
       "}}\n",
       "\n",
       "// Listen for the clearing of the current output cell\n",
       "var outputEl = gd.closest('.output');\n",
       "if (outputEl) {{\n",
       "    x.observe(outputEl, {childList: true});\n",
       "}}\n",
       "\n",
       "                        })                };                });            </script>        </div>"
      ]
     },
     "metadata": {},
     "output_type": "display_data"
    }
   ],
   "source": [
    "df.iplot()"
   ]
  },
  {
   "cell_type": "markdown",
   "metadata": {},
   "source": [
    "## Scatter"
   ]
  },
  {
   "cell_type": "code",
   "execution_count": 37,
   "metadata": {},
   "outputs": [
    {
     "data": {
      "application/vnd.plotly.v1+json": {
       "config": {
        "linkText": "Export to plot.ly",
        "plotlyServerURL": "https://plot.ly",
        "showLink": true
       },
       "data": [
        {
         "line": {
          "color": "rgba(255, 153, 51, 1.0)",
          "dash": "solid",
          "shape": "linear",
          "width": 1.3
         },
         "marker": {
          "size": 10,
          "symbol": "circle"
         },
         "mode": "markers",
         "name": "B",
         "text": "",
         "type": "scatter",
         "x": [
          -0.34120759272223433,
          0.5319968935053704,
          -2.450455488118163,
          -1.2456715548083472,
          1.5209640716102542,
          -0.0049272852738787625,
          1.0985475472016015,
          0.6773710522533647,
          1.3607142958212726,
          0.07711242446398583,
          0.29079341587599095,
          -0.43367282563883897,
          0.06753015159812732,
          -0.614125917644946,
          1.709868882712002,
          -0.5083695153972636,
          0.8304776785532717,
          1.5520601876707454,
          -0.3222961640789218,
          -1.977901874814474,
          1.3606452503009314,
          -0.06010963701062323,
          -0.29577165906393466,
          1.1022486760316241,
          1.0178363788213247,
          -0.16442359229547276,
          -1.112695636415679,
          -0.1270802957928152,
          1.007890170700006,
          1.4524421801030634,
          0.8296522843963062,
          1.0532618501781965,
          0.6795082735205985,
          -2.0221482750492252,
          1.1461514030298305,
          0.06140342823868589,
          -0.13708816055394313,
          -0.7651459419975741,
          0.7096138267240532,
          -0.5667400030206438,
          -1.1516645799042164,
          -0.7686303875696663,
          -1.2446233678971257,
          -1.2812299231096487,
          0.012725410380528336,
          -1.748983001114331,
          0.3983896418002656,
          -1.7455224885371137,
          0.5245636491056316,
          0.3304388918863971,
          -1.2147105369960398,
          -0.7984194519889587,
          0.29731511377892034,
          1.405402979776943,
          -1.619812830345721,
          1.2811861693543742,
          -1.4539006003318269,
          -0.38631762914312007,
          -0.03712563436194027,
          -0.05812227019037334,
          0.6245645987974078,
          -0.3951156093367975,
          -2.0161901747549456,
          -0.8956798469753015,
          -0.4370140644033481,
          -0.47276981141969854,
          -0.2854548890731237,
          0.41838971907076516,
          0.45133415609646577,
          0.11713657133354452,
          -1.325159071044354,
          0.11202376189144415,
          -0.5249627092180661,
          -0.3039374941801457,
          -0.8324933320883989,
          -0.9722317483126025,
          -0.9724144691955017,
          -0.1836356643644105,
          -0.019578188435622406,
          -1.724204841009576,
          1.1651900890724414,
          0.4587265805469331,
          -0.4269940736068984,
          0.5177334206115901,
          -1.489836025046481,
          0.2245692761053648,
          0.07659364207849126,
          0.5651885751515057,
          -0.7321710513842877,
          -0.6919190329872751,
          -0.608863992546054,
          1.5946083343083195,
          1.1696186036170675,
          3.408773057810497,
          0.7607021874075978,
          0.4911325983640859,
          0.2541815539119816,
          -0.36709667595476897,
          -0.4014232037425139,
          -3.5374312704476396
         ],
         "y": [
          -0.1900973688397165,
          -0.3885684197362916,
          -0.8243907823378489,
          -0.34426573550469863,
          -0.7626995434404207,
          1.048395759001549,
          -0.6777940482446037,
          0.48805974008760755,
          -0.8657238553940302,
          -1.0882723358497837,
          0.4935583948718675,
          0.6182601714481422,
          1.076153033939917,
          -1.5275925690188878,
          0.11136087864535325,
          -0.03044574885719981,
          1.0911851333068108,
          -1.9085340262220345,
          0.46707220029218444,
          -0.49162188861230577,
          0.2877384567818682,
          -0.7823599322251517,
          0.8856691326164089,
          -1.5296573349468923,
          1.1753557301216002,
          -0.9701383706040404,
          0.22639557889842796,
          0.07959265795089271,
          -0.600017743474129,
          0.7756064831698299,
          -0.024756147151807524,
          0.2403527999954404,
          0.6859012737106033,
          -0.037355532168663004,
          0.3717754255978988,
          -0.3919203744324361,
          1.3989115743370044,
          0.2630122570447996,
          -0.3661137393198716,
          0.5471467735292461,
          -1.324642349339428,
          0.11102380481679991,
          -2.075535494176627,
          -0.6382404975762375,
          -2.431797406032161,
          1.6332158939212884,
          -0.09197085112428421,
          1.096049833938106,
          -1.5665098795579453,
          0.7553824116210116,
          0.27913582420989463,
          0.5849420797340267,
          -1.4403775974022306,
          0.13935913692345353,
          -0.44404066805046516,
          0.7385428641964557,
          -1.0332904032432841,
          -0.35396806719374563,
          0.7722679906037915,
          -0.37027214771386874,
          1.7005243008160968,
          0.7471972464198535,
          -0.11815451440255341,
          0.07430273329491482,
          0.4416672561505827,
          -1.274908033954568,
          0.1429012656245399,
          0.6978793081267491,
          1.671557457121776,
          -0.3759987962182951,
          -0.7463195842669548,
          -0.22005038550342224,
          0.46823691228267017,
          1.4855727847467244,
          -1.3957646201898561,
          -1.4884209880380301,
          -0.4763819880346412,
          -0.578184560559735,
          0.6961651030678019,
          1.7259166311829497,
          -0.8252362073213497,
          1.1438609706293845,
          -1.2404930633441245,
          -1.1368471840189844,
          0.5887204356027591,
          0.2335619414877631,
          1.9745688477403562,
          1.3279686184388286,
          0.42260923836531145,
          0.10254556518247043,
          0.9658870494782116,
          -2.0148036419525,
          0.2596301436019747,
          -0.06635611816136357,
          -1.302025346364487,
          -1.2272680873133386,
          0.5198072029053998,
          0.8388417678839464,
          -0.16665292552917554,
          0.9173799937169625
         ]
        }
       ],
       "layout": {
        "legend": {
         "bgcolor": "#F5F6F9",
         "font": {
          "color": "#4D5663"
         }
        },
        "paper_bgcolor": "#F5F6F9",
        "plot_bgcolor": "#F5F6F9",
        "template": {
         "data": {
          "bar": [
           {
            "error_x": {
             "color": "#2a3f5f"
            },
            "error_y": {
             "color": "#2a3f5f"
            },
            "marker": {
             "line": {
              "color": "#E5ECF6",
              "width": 0.5
             },
             "pattern": {
              "fillmode": "overlay",
              "size": 10,
              "solidity": 0.2
             }
            },
            "type": "bar"
           }
          ],
          "barpolar": [
           {
            "marker": {
             "line": {
              "color": "#E5ECF6",
              "width": 0.5
             },
             "pattern": {
              "fillmode": "overlay",
              "size": 10,
              "solidity": 0.2
             }
            },
            "type": "barpolar"
           }
          ],
          "carpet": [
           {
            "aaxis": {
             "endlinecolor": "#2a3f5f",
             "gridcolor": "white",
             "linecolor": "white",
             "minorgridcolor": "white",
             "startlinecolor": "#2a3f5f"
            },
            "baxis": {
             "endlinecolor": "#2a3f5f",
             "gridcolor": "white",
             "linecolor": "white",
             "minorgridcolor": "white",
             "startlinecolor": "#2a3f5f"
            },
            "type": "carpet"
           }
          ],
          "choropleth": [
           {
            "colorbar": {
             "outlinewidth": 0,
             "ticks": ""
            },
            "type": "choropleth"
           }
          ],
          "contour": [
           {
            "colorbar": {
             "outlinewidth": 0,
             "ticks": ""
            },
            "colorscale": [
             [
              0,
              "#0d0887"
             ],
             [
              0.1111111111111111,
              "#46039f"
             ],
             [
              0.2222222222222222,
              "#7201a8"
             ],
             [
              0.3333333333333333,
              "#9c179e"
             ],
             [
              0.4444444444444444,
              "#bd3786"
             ],
             [
              0.5555555555555556,
              "#d8576b"
             ],
             [
              0.6666666666666666,
              "#ed7953"
             ],
             [
              0.7777777777777778,
              "#fb9f3a"
             ],
             [
              0.8888888888888888,
              "#fdca26"
             ],
             [
              1,
              "#f0f921"
             ]
            ],
            "type": "contour"
           }
          ],
          "contourcarpet": [
           {
            "colorbar": {
             "outlinewidth": 0,
             "ticks": ""
            },
            "type": "contourcarpet"
           }
          ],
          "heatmap": [
           {
            "colorbar": {
             "outlinewidth": 0,
             "ticks": ""
            },
            "colorscale": [
             [
              0,
              "#0d0887"
             ],
             [
              0.1111111111111111,
              "#46039f"
             ],
             [
              0.2222222222222222,
              "#7201a8"
             ],
             [
              0.3333333333333333,
              "#9c179e"
             ],
             [
              0.4444444444444444,
              "#bd3786"
             ],
             [
              0.5555555555555556,
              "#d8576b"
             ],
             [
              0.6666666666666666,
              "#ed7953"
             ],
             [
              0.7777777777777778,
              "#fb9f3a"
             ],
             [
              0.8888888888888888,
              "#fdca26"
             ],
             [
              1,
              "#f0f921"
             ]
            ],
            "type": "heatmap"
           }
          ],
          "heatmapgl": [
           {
            "colorbar": {
             "outlinewidth": 0,
             "ticks": ""
            },
            "colorscale": [
             [
              0,
              "#0d0887"
             ],
             [
              0.1111111111111111,
              "#46039f"
             ],
             [
              0.2222222222222222,
              "#7201a8"
             ],
             [
              0.3333333333333333,
              "#9c179e"
             ],
             [
              0.4444444444444444,
              "#bd3786"
             ],
             [
              0.5555555555555556,
              "#d8576b"
             ],
             [
              0.6666666666666666,
              "#ed7953"
             ],
             [
              0.7777777777777778,
              "#fb9f3a"
             ],
             [
              0.8888888888888888,
              "#fdca26"
             ],
             [
              1,
              "#f0f921"
             ]
            ],
            "type": "heatmapgl"
           }
          ],
          "histogram": [
           {
            "marker": {
             "pattern": {
              "fillmode": "overlay",
              "size": 10,
              "solidity": 0.2
             }
            },
            "type": "histogram"
           }
          ],
          "histogram2d": [
           {
            "colorbar": {
             "outlinewidth": 0,
             "ticks": ""
            },
            "colorscale": [
             [
              0,
              "#0d0887"
             ],
             [
              0.1111111111111111,
              "#46039f"
             ],
             [
              0.2222222222222222,
              "#7201a8"
             ],
             [
              0.3333333333333333,
              "#9c179e"
             ],
             [
              0.4444444444444444,
              "#bd3786"
             ],
             [
              0.5555555555555556,
              "#d8576b"
             ],
             [
              0.6666666666666666,
              "#ed7953"
             ],
             [
              0.7777777777777778,
              "#fb9f3a"
             ],
             [
              0.8888888888888888,
              "#fdca26"
             ],
             [
              1,
              "#f0f921"
             ]
            ],
            "type": "histogram2d"
           }
          ],
          "histogram2dcontour": [
           {
            "colorbar": {
             "outlinewidth": 0,
             "ticks": ""
            },
            "colorscale": [
             [
              0,
              "#0d0887"
             ],
             [
              0.1111111111111111,
              "#46039f"
             ],
             [
              0.2222222222222222,
              "#7201a8"
             ],
             [
              0.3333333333333333,
              "#9c179e"
             ],
             [
              0.4444444444444444,
              "#bd3786"
             ],
             [
              0.5555555555555556,
              "#d8576b"
             ],
             [
              0.6666666666666666,
              "#ed7953"
             ],
             [
              0.7777777777777778,
              "#fb9f3a"
             ],
             [
              0.8888888888888888,
              "#fdca26"
             ],
             [
              1,
              "#f0f921"
             ]
            ],
            "type": "histogram2dcontour"
           }
          ],
          "mesh3d": [
           {
            "colorbar": {
             "outlinewidth": 0,
             "ticks": ""
            },
            "type": "mesh3d"
           }
          ],
          "parcoords": [
           {
            "line": {
             "colorbar": {
              "outlinewidth": 0,
              "ticks": ""
             }
            },
            "type": "parcoords"
           }
          ],
          "pie": [
           {
            "automargin": true,
            "type": "pie"
           }
          ],
          "scatter": [
           {
            "fillpattern": {
             "fillmode": "overlay",
             "size": 10,
             "solidity": 0.2
            },
            "type": "scatter"
           }
          ],
          "scatter3d": [
           {
            "line": {
             "colorbar": {
              "outlinewidth": 0,
              "ticks": ""
             }
            },
            "marker": {
             "colorbar": {
              "outlinewidth": 0,
              "ticks": ""
             }
            },
            "type": "scatter3d"
           }
          ],
          "scattercarpet": [
           {
            "marker": {
             "colorbar": {
              "outlinewidth": 0,
              "ticks": ""
             }
            },
            "type": "scattercarpet"
           }
          ],
          "scattergeo": [
           {
            "marker": {
             "colorbar": {
              "outlinewidth": 0,
              "ticks": ""
             }
            },
            "type": "scattergeo"
           }
          ],
          "scattergl": [
           {
            "marker": {
             "colorbar": {
              "outlinewidth": 0,
              "ticks": ""
             }
            },
            "type": "scattergl"
           }
          ],
          "scattermapbox": [
           {
            "marker": {
             "colorbar": {
              "outlinewidth": 0,
              "ticks": ""
             }
            },
            "type": "scattermapbox"
           }
          ],
          "scatterpolar": [
           {
            "marker": {
             "colorbar": {
              "outlinewidth": 0,
              "ticks": ""
             }
            },
            "type": "scatterpolar"
           }
          ],
          "scatterpolargl": [
           {
            "marker": {
             "colorbar": {
              "outlinewidth": 0,
              "ticks": ""
             }
            },
            "type": "scatterpolargl"
           }
          ],
          "scatterternary": [
           {
            "marker": {
             "colorbar": {
              "outlinewidth": 0,
              "ticks": ""
             }
            },
            "type": "scatterternary"
           }
          ],
          "surface": [
           {
            "colorbar": {
             "outlinewidth": 0,
             "ticks": ""
            },
            "colorscale": [
             [
              0,
              "#0d0887"
             ],
             [
              0.1111111111111111,
              "#46039f"
             ],
             [
              0.2222222222222222,
              "#7201a8"
             ],
             [
              0.3333333333333333,
              "#9c179e"
             ],
             [
              0.4444444444444444,
              "#bd3786"
             ],
             [
              0.5555555555555556,
              "#d8576b"
             ],
             [
              0.6666666666666666,
              "#ed7953"
             ],
             [
              0.7777777777777778,
              "#fb9f3a"
             ],
             [
              0.8888888888888888,
              "#fdca26"
             ],
             [
              1,
              "#f0f921"
             ]
            ],
            "type": "surface"
           }
          ],
          "table": [
           {
            "cells": {
             "fill": {
              "color": "#EBF0F8"
             },
             "line": {
              "color": "white"
             }
            },
            "header": {
             "fill": {
              "color": "#C8D4E3"
             },
             "line": {
              "color": "white"
             }
            },
            "type": "table"
           }
          ]
         },
         "layout": {
          "annotationdefaults": {
           "arrowcolor": "#2a3f5f",
           "arrowhead": 0,
           "arrowwidth": 1
          },
          "autotypenumbers": "strict",
          "coloraxis": {
           "colorbar": {
            "outlinewidth": 0,
            "ticks": ""
           }
          },
          "colorscale": {
           "diverging": [
            [
             0,
             "#8e0152"
            ],
            [
             0.1,
             "#c51b7d"
            ],
            [
             0.2,
             "#de77ae"
            ],
            [
             0.3,
             "#f1b6da"
            ],
            [
             0.4,
             "#fde0ef"
            ],
            [
             0.5,
             "#f7f7f7"
            ],
            [
             0.6,
             "#e6f5d0"
            ],
            [
             0.7,
             "#b8e186"
            ],
            [
             0.8,
             "#7fbc41"
            ],
            [
             0.9,
             "#4d9221"
            ],
            [
             1,
             "#276419"
            ]
           ],
           "sequential": [
            [
             0,
             "#0d0887"
            ],
            [
             0.1111111111111111,
             "#46039f"
            ],
            [
             0.2222222222222222,
             "#7201a8"
            ],
            [
             0.3333333333333333,
             "#9c179e"
            ],
            [
             0.4444444444444444,
             "#bd3786"
            ],
            [
             0.5555555555555556,
             "#d8576b"
            ],
            [
             0.6666666666666666,
             "#ed7953"
            ],
            [
             0.7777777777777778,
             "#fb9f3a"
            ],
            [
             0.8888888888888888,
             "#fdca26"
            ],
            [
             1,
             "#f0f921"
            ]
           ],
           "sequentialminus": [
            [
             0,
             "#0d0887"
            ],
            [
             0.1111111111111111,
             "#46039f"
            ],
            [
             0.2222222222222222,
             "#7201a8"
            ],
            [
             0.3333333333333333,
             "#9c179e"
            ],
            [
             0.4444444444444444,
             "#bd3786"
            ],
            [
             0.5555555555555556,
             "#d8576b"
            ],
            [
             0.6666666666666666,
             "#ed7953"
            ],
            [
             0.7777777777777778,
             "#fb9f3a"
            ],
            [
             0.8888888888888888,
             "#fdca26"
            ],
            [
             1,
             "#f0f921"
            ]
           ]
          },
          "colorway": [
           "#636efa",
           "#EF553B",
           "#00cc96",
           "#ab63fa",
           "#FFA15A",
           "#19d3f3",
           "#FF6692",
           "#B6E880",
           "#FF97FF",
           "#FECB52"
          ],
          "font": {
           "color": "#2a3f5f"
          },
          "geo": {
           "bgcolor": "white",
           "lakecolor": "white",
           "landcolor": "#E5ECF6",
           "showlakes": true,
           "showland": true,
           "subunitcolor": "white"
          },
          "hoverlabel": {
           "align": "left"
          },
          "hovermode": "closest",
          "mapbox": {
           "style": "light"
          },
          "paper_bgcolor": "white",
          "plot_bgcolor": "#E5ECF6",
          "polar": {
           "angularaxis": {
            "gridcolor": "white",
            "linecolor": "white",
            "ticks": ""
           },
           "bgcolor": "#E5ECF6",
           "radialaxis": {
            "gridcolor": "white",
            "linecolor": "white",
            "ticks": ""
           }
          },
          "scene": {
           "xaxis": {
            "backgroundcolor": "#E5ECF6",
            "gridcolor": "white",
            "gridwidth": 2,
            "linecolor": "white",
            "showbackground": true,
            "ticks": "",
            "zerolinecolor": "white"
           },
           "yaxis": {
            "backgroundcolor": "#E5ECF6",
            "gridcolor": "white",
            "gridwidth": 2,
            "linecolor": "white",
            "showbackground": true,
            "ticks": "",
            "zerolinecolor": "white"
           },
           "zaxis": {
            "backgroundcolor": "#E5ECF6",
            "gridcolor": "white",
            "gridwidth": 2,
            "linecolor": "white",
            "showbackground": true,
            "ticks": "",
            "zerolinecolor": "white"
           }
          },
          "shapedefaults": {
           "line": {
            "color": "#2a3f5f"
           }
          },
          "ternary": {
           "aaxis": {
            "gridcolor": "white",
            "linecolor": "white",
            "ticks": ""
           },
           "baxis": {
            "gridcolor": "white",
            "linecolor": "white",
            "ticks": ""
           },
           "bgcolor": "#E5ECF6",
           "caxis": {
            "gridcolor": "white",
            "linecolor": "white",
            "ticks": ""
           }
          },
          "title": {
           "x": 0.05
          },
          "xaxis": {
           "automargin": true,
           "gridcolor": "white",
           "linecolor": "white",
           "ticks": "",
           "title": {
            "standoff": 15
           },
           "zerolinecolor": "white",
           "zerolinewidth": 2
          },
          "yaxis": {
           "automargin": true,
           "gridcolor": "white",
           "linecolor": "white",
           "ticks": "",
           "title": {
            "standoff": 15
           },
           "zerolinecolor": "white",
           "zerolinewidth": 2
          }
         }
        },
        "title": {
         "font": {
          "color": "#4D5663"
         }
        },
        "xaxis": {
         "gridcolor": "#E1E5ED",
         "showgrid": true,
         "tickfont": {
          "color": "#4D5663"
         },
         "title": {
          "font": {
           "color": "#4D5663"
          },
          "text": ""
         },
         "zerolinecolor": "#E1E5ED"
        },
        "yaxis": {
         "gridcolor": "#E1E5ED",
         "showgrid": true,
         "tickfont": {
          "color": "#4D5663"
         },
         "title": {
          "font": {
           "color": "#4D5663"
          },
          "text": ""
         },
         "zerolinecolor": "#E1E5ED"
        }
       }
      },
      "text/html": [
       "<div>                            <div id=\"c1b852ed-1a91-4373-af42-10e62973a60a\" class=\"plotly-graph-div\" style=\"height:525px; width:100%;\"></div>            <script type=\"text/javascript\">                require([\"plotly\"], function(Plotly) {                    window.PLOTLYENV=window.PLOTLYENV || {};\n",
       "                    window.PLOTLYENV.BASE_URL='https://plot.ly';                                    if (document.getElementById(\"c1b852ed-1a91-4373-af42-10e62973a60a\")) {                    Plotly.newPlot(                        \"c1b852ed-1a91-4373-af42-10e62973a60a\",                        [{\"line\":{\"color\":\"rgba(255, 153, 51, 1.0)\",\"dash\":\"solid\",\"shape\":\"linear\",\"width\":1.3},\"marker\":{\"size\":10,\"symbol\":\"circle\"},\"mode\":\"markers\",\"name\":\"B\",\"text\":\"\",\"x\":[-0.34120759272223433,0.5319968935053704,-2.450455488118163,-1.2456715548083472,1.5209640716102542,-0.0049272852738787625,1.0985475472016015,0.6773710522533647,1.3607142958212726,0.07711242446398583,0.29079341587599095,-0.43367282563883897,0.06753015159812732,-0.614125917644946,1.709868882712002,-0.5083695153972636,0.8304776785532717,1.5520601876707454,-0.3222961640789218,-1.977901874814474,1.3606452503009314,-0.06010963701062323,-0.29577165906393466,1.1022486760316241,1.0178363788213247,-0.16442359229547276,-1.112695636415679,-0.1270802957928152,1.007890170700006,1.4524421801030634,0.8296522843963062,1.0532618501781965,0.6795082735205985,-2.0221482750492252,1.1461514030298305,0.06140342823868589,-0.13708816055394313,-0.7651459419975741,0.7096138267240532,-0.5667400030206438,-1.1516645799042164,-0.7686303875696663,-1.2446233678971257,-1.2812299231096487,0.012725410380528336,-1.748983001114331,0.3983896418002656,-1.7455224885371137,0.5245636491056316,0.3304388918863971,-1.2147105369960398,-0.7984194519889587,0.29731511377892034,1.405402979776943,-1.619812830345721,1.2811861693543742,-1.4539006003318269,-0.38631762914312007,-0.03712563436194027,-0.05812227019037334,0.6245645987974078,-0.3951156093367975,-2.0161901747549456,-0.8956798469753015,-0.4370140644033481,-0.47276981141969854,-0.2854548890731237,0.41838971907076516,0.45133415609646577,0.11713657133354452,-1.325159071044354,0.11202376189144415,-0.5249627092180661,-0.3039374941801457,-0.8324933320883989,-0.9722317483126025,-0.9724144691955017,-0.1836356643644105,-0.019578188435622406,-1.724204841009576,1.1651900890724414,0.4587265805469331,-0.4269940736068984,0.5177334206115901,-1.489836025046481,0.2245692761053648,0.07659364207849126,0.5651885751515057,-0.7321710513842877,-0.6919190329872751,-0.608863992546054,1.5946083343083195,1.1696186036170675,3.408773057810497,0.7607021874075978,0.4911325983640859,0.2541815539119816,-0.36709667595476897,-0.4014232037425139,-3.5374312704476396],\"y\":[-0.1900973688397165,-0.3885684197362916,-0.8243907823378489,-0.34426573550469863,-0.7626995434404207,1.048395759001549,-0.6777940482446037,0.48805974008760755,-0.8657238553940302,-1.0882723358497837,0.4935583948718675,0.6182601714481422,1.076153033939917,-1.5275925690188878,0.11136087864535325,-0.03044574885719981,1.0911851333068108,-1.9085340262220345,0.46707220029218444,-0.49162188861230577,0.2877384567818682,-0.7823599322251517,0.8856691326164089,-1.5296573349468923,1.1753557301216002,-0.9701383706040404,0.22639557889842796,0.07959265795089271,-0.600017743474129,0.7756064831698299,-0.024756147151807524,0.2403527999954404,0.6859012737106033,-0.037355532168663004,0.3717754255978988,-0.3919203744324361,1.3989115743370044,0.2630122570447996,-0.3661137393198716,0.5471467735292461,-1.324642349339428,0.11102380481679991,-2.075535494176627,-0.6382404975762375,-2.431797406032161,1.6332158939212884,-0.09197085112428421,1.096049833938106,-1.5665098795579453,0.7553824116210116,0.27913582420989463,0.5849420797340267,-1.4403775974022306,0.13935913692345353,-0.44404066805046516,0.7385428641964557,-1.0332904032432841,-0.35396806719374563,0.7722679906037915,-0.37027214771386874,1.7005243008160968,0.7471972464198535,-0.11815451440255341,0.07430273329491482,0.4416672561505827,-1.274908033954568,0.1429012656245399,0.6978793081267491,1.671557457121776,-0.3759987962182951,-0.7463195842669548,-0.22005038550342224,0.46823691228267017,1.4855727847467244,-1.3957646201898561,-1.4884209880380301,-0.4763819880346412,-0.578184560559735,0.6961651030678019,1.7259166311829497,-0.8252362073213497,1.1438609706293845,-1.2404930633441245,-1.1368471840189844,0.5887204356027591,0.2335619414877631,1.9745688477403562,1.3279686184388286,0.42260923836531145,0.10254556518247043,0.9658870494782116,-2.0148036419525,0.2596301436019747,-0.06635611816136357,-1.302025346364487,-1.2272680873133386,0.5198072029053998,0.8388417678839464,-0.16665292552917554,0.9173799937169625],\"type\":\"scatter\"}],                        {\"legend\":{\"bgcolor\":\"#F5F6F9\",\"font\":{\"color\":\"#4D5663\"}},\"paper_bgcolor\":\"#F5F6F9\",\"plot_bgcolor\":\"#F5F6F9\",\"template\":{\"data\":{\"barpolar\":[{\"marker\":{\"line\":{\"color\":\"#E5ECF6\",\"width\":0.5},\"pattern\":{\"fillmode\":\"overlay\",\"size\":10,\"solidity\":0.2}},\"type\":\"barpolar\"}],\"bar\":[{\"error_x\":{\"color\":\"#2a3f5f\"},\"error_y\":{\"color\":\"#2a3f5f\"},\"marker\":{\"line\":{\"color\":\"#E5ECF6\",\"width\":0.5},\"pattern\":{\"fillmode\":\"overlay\",\"size\":10,\"solidity\":0.2}},\"type\":\"bar\"}],\"carpet\":[{\"aaxis\":{\"endlinecolor\":\"#2a3f5f\",\"gridcolor\":\"white\",\"linecolor\":\"white\",\"minorgridcolor\":\"white\",\"startlinecolor\":\"#2a3f5f\"},\"baxis\":{\"endlinecolor\":\"#2a3f5f\",\"gridcolor\":\"white\",\"linecolor\":\"white\",\"minorgridcolor\":\"white\",\"startlinecolor\":\"#2a3f5f\"},\"type\":\"carpet\"}],\"choropleth\":[{\"colorbar\":{\"outlinewidth\":0,\"ticks\":\"\"},\"type\":\"choropleth\"}],\"contourcarpet\":[{\"colorbar\":{\"outlinewidth\":0,\"ticks\":\"\"},\"type\":\"contourcarpet\"}],\"contour\":[{\"colorbar\":{\"outlinewidth\":0,\"ticks\":\"\"},\"colorscale\":[[0.0,\"#0d0887\"],[0.1111111111111111,\"#46039f\"],[0.2222222222222222,\"#7201a8\"],[0.3333333333333333,\"#9c179e\"],[0.4444444444444444,\"#bd3786\"],[0.5555555555555556,\"#d8576b\"],[0.6666666666666666,\"#ed7953\"],[0.7777777777777778,\"#fb9f3a\"],[0.8888888888888888,\"#fdca26\"],[1.0,\"#f0f921\"]],\"type\":\"contour\"}],\"heatmapgl\":[{\"colorbar\":{\"outlinewidth\":0,\"ticks\":\"\"},\"colorscale\":[[0.0,\"#0d0887\"],[0.1111111111111111,\"#46039f\"],[0.2222222222222222,\"#7201a8\"],[0.3333333333333333,\"#9c179e\"],[0.4444444444444444,\"#bd3786\"],[0.5555555555555556,\"#d8576b\"],[0.6666666666666666,\"#ed7953\"],[0.7777777777777778,\"#fb9f3a\"],[0.8888888888888888,\"#fdca26\"],[1.0,\"#f0f921\"]],\"type\":\"heatmapgl\"}],\"heatmap\":[{\"colorbar\":{\"outlinewidth\":0,\"ticks\":\"\"},\"colorscale\":[[0.0,\"#0d0887\"],[0.1111111111111111,\"#46039f\"],[0.2222222222222222,\"#7201a8\"],[0.3333333333333333,\"#9c179e\"],[0.4444444444444444,\"#bd3786\"],[0.5555555555555556,\"#d8576b\"],[0.6666666666666666,\"#ed7953\"],[0.7777777777777778,\"#fb9f3a\"],[0.8888888888888888,\"#fdca26\"],[1.0,\"#f0f921\"]],\"type\":\"heatmap\"}],\"histogram2dcontour\":[{\"colorbar\":{\"outlinewidth\":0,\"ticks\":\"\"},\"colorscale\":[[0.0,\"#0d0887\"],[0.1111111111111111,\"#46039f\"],[0.2222222222222222,\"#7201a8\"],[0.3333333333333333,\"#9c179e\"],[0.4444444444444444,\"#bd3786\"],[0.5555555555555556,\"#d8576b\"],[0.6666666666666666,\"#ed7953\"],[0.7777777777777778,\"#fb9f3a\"],[0.8888888888888888,\"#fdca26\"],[1.0,\"#f0f921\"]],\"type\":\"histogram2dcontour\"}],\"histogram2d\":[{\"colorbar\":{\"outlinewidth\":0,\"ticks\":\"\"},\"colorscale\":[[0.0,\"#0d0887\"],[0.1111111111111111,\"#46039f\"],[0.2222222222222222,\"#7201a8\"],[0.3333333333333333,\"#9c179e\"],[0.4444444444444444,\"#bd3786\"],[0.5555555555555556,\"#d8576b\"],[0.6666666666666666,\"#ed7953\"],[0.7777777777777778,\"#fb9f3a\"],[0.8888888888888888,\"#fdca26\"],[1.0,\"#f0f921\"]],\"type\":\"histogram2d\"}],\"histogram\":[{\"marker\":{\"pattern\":{\"fillmode\":\"overlay\",\"size\":10,\"solidity\":0.2}},\"type\":\"histogram\"}],\"mesh3d\":[{\"colorbar\":{\"outlinewidth\":0,\"ticks\":\"\"},\"type\":\"mesh3d\"}],\"parcoords\":[{\"line\":{\"colorbar\":{\"outlinewidth\":0,\"ticks\":\"\"}},\"type\":\"parcoords\"}],\"pie\":[{\"automargin\":true,\"type\":\"pie\"}],\"scatter3d\":[{\"line\":{\"colorbar\":{\"outlinewidth\":0,\"ticks\":\"\"}},\"marker\":{\"colorbar\":{\"outlinewidth\":0,\"ticks\":\"\"}},\"type\":\"scatter3d\"}],\"scattercarpet\":[{\"marker\":{\"colorbar\":{\"outlinewidth\":0,\"ticks\":\"\"}},\"type\":\"scattercarpet\"}],\"scattergeo\":[{\"marker\":{\"colorbar\":{\"outlinewidth\":0,\"ticks\":\"\"}},\"type\":\"scattergeo\"}],\"scattergl\":[{\"marker\":{\"colorbar\":{\"outlinewidth\":0,\"ticks\":\"\"}},\"type\":\"scattergl\"}],\"scattermapbox\":[{\"marker\":{\"colorbar\":{\"outlinewidth\":0,\"ticks\":\"\"}},\"type\":\"scattermapbox\"}],\"scatterpolargl\":[{\"marker\":{\"colorbar\":{\"outlinewidth\":0,\"ticks\":\"\"}},\"type\":\"scatterpolargl\"}],\"scatterpolar\":[{\"marker\":{\"colorbar\":{\"outlinewidth\":0,\"ticks\":\"\"}},\"type\":\"scatterpolar\"}],\"scatter\":[{\"fillpattern\":{\"fillmode\":\"overlay\",\"size\":10,\"solidity\":0.2},\"type\":\"scatter\"}],\"scatterternary\":[{\"marker\":{\"colorbar\":{\"outlinewidth\":0,\"ticks\":\"\"}},\"type\":\"scatterternary\"}],\"surface\":[{\"colorbar\":{\"outlinewidth\":0,\"ticks\":\"\"},\"colorscale\":[[0.0,\"#0d0887\"],[0.1111111111111111,\"#46039f\"],[0.2222222222222222,\"#7201a8\"],[0.3333333333333333,\"#9c179e\"],[0.4444444444444444,\"#bd3786\"],[0.5555555555555556,\"#d8576b\"],[0.6666666666666666,\"#ed7953\"],[0.7777777777777778,\"#fb9f3a\"],[0.8888888888888888,\"#fdca26\"],[1.0,\"#f0f921\"]],\"type\":\"surface\"}],\"table\":[{\"cells\":{\"fill\":{\"color\":\"#EBF0F8\"},\"line\":{\"color\":\"white\"}},\"header\":{\"fill\":{\"color\":\"#C8D4E3\"},\"line\":{\"color\":\"white\"}},\"type\":\"table\"}]},\"layout\":{\"annotationdefaults\":{\"arrowcolor\":\"#2a3f5f\",\"arrowhead\":0,\"arrowwidth\":1},\"autotypenumbers\":\"strict\",\"coloraxis\":{\"colorbar\":{\"outlinewidth\":0,\"ticks\":\"\"}},\"colorscale\":{\"diverging\":[[0,\"#8e0152\"],[0.1,\"#c51b7d\"],[0.2,\"#de77ae\"],[0.3,\"#f1b6da\"],[0.4,\"#fde0ef\"],[0.5,\"#f7f7f7\"],[0.6,\"#e6f5d0\"],[0.7,\"#b8e186\"],[0.8,\"#7fbc41\"],[0.9,\"#4d9221\"],[1,\"#276419\"]],\"sequential\":[[0.0,\"#0d0887\"],[0.1111111111111111,\"#46039f\"],[0.2222222222222222,\"#7201a8\"],[0.3333333333333333,\"#9c179e\"],[0.4444444444444444,\"#bd3786\"],[0.5555555555555556,\"#d8576b\"],[0.6666666666666666,\"#ed7953\"],[0.7777777777777778,\"#fb9f3a\"],[0.8888888888888888,\"#fdca26\"],[1.0,\"#f0f921\"]],\"sequentialminus\":[[0.0,\"#0d0887\"],[0.1111111111111111,\"#46039f\"],[0.2222222222222222,\"#7201a8\"],[0.3333333333333333,\"#9c179e\"],[0.4444444444444444,\"#bd3786\"],[0.5555555555555556,\"#d8576b\"],[0.6666666666666666,\"#ed7953\"],[0.7777777777777778,\"#fb9f3a\"],[0.8888888888888888,\"#fdca26\"],[1.0,\"#f0f921\"]]},\"colorway\":[\"#636efa\",\"#EF553B\",\"#00cc96\",\"#ab63fa\",\"#FFA15A\",\"#19d3f3\",\"#FF6692\",\"#B6E880\",\"#FF97FF\",\"#FECB52\"],\"font\":{\"color\":\"#2a3f5f\"},\"geo\":{\"bgcolor\":\"white\",\"lakecolor\":\"white\",\"landcolor\":\"#E5ECF6\",\"showlakes\":true,\"showland\":true,\"subunitcolor\":\"white\"},\"hoverlabel\":{\"align\":\"left\"},\"hovermode\":\"closest\",\"mapbox\":{\"style\":\"light\"},\"paper_bgcolor\":\"white\",\"plot_bgcolor\":\"#E5ECF6\",\"polar\":{\"angularaxis\":{\"gridcolor\":\"white\",\"linecolor\":\"white\",\"ticks\":\"\"},\"bgcolor\":\"#E5ECF6\",\"radialaxis\":{\"gridcolor\":\"white\",\"linecolor\":\"white\",\"ticks\":\"\"}},\"scene\":{\"xaxis\":{\"backgroundcolor\":\"#E5ECF6\",\"gridcolor\":\"white\",\"gridwidth\":2,\"linecolor\":\"white\",\"showbackground\":true,\"ticks\":\"\",\"zerolinecolor\":\"white\"},\"yaxis\":{\"backgroundcolor\":\"#E5ECF6\",\"gridcolor\":\"white\",\"gridwidth\":2,\"linecolor\":\"white\",\"showbackground\":true,\"ticks\":\"\",\"zerolinecolor\":\"white\"},\"zaxis\":{\"backgroundcolor\":\"#E5ECF6\",\"gridcolor\":\"white\",\"gridwidth\":2,\"linecolor\":\"white\",\"showbackground\":true,\"ticks\":\"\",\"zerolinecolor\":\"white\"}},\"shapedefaults\":{\"line\":{\"color\":\"#2a3f5f\"}},\"ternary\":{\"aaxis\":{\"gridcolor\":\"white\",\"linecolor\":\"white\",\"ticks\":\"\"},\"baxis\":{\"gridcolor\":\"white\",\"linecolor\":\"white\",\"ticks\":\"\"},\"bgcolor\":\"#E5ECF6\",\"caxis\":{\"gridcolor\":\"white\",\"linecolor\":\"white\",\"ticks\":\"\"}},\"title\":{\"x\":0.05},\"xaxis\":{\"automargin\":true,\"gridcolor\":\"white\",\"linecolor\":\"white\",\"ticks\":\"\",\"title\":{\"standoff\":15},\"zerolinecolor\":\"white\",\"zerolinewidth\":2},\"yaxis\":{\"automargin\":true,\"gridcolor\":\"white\",\"linecolor\":\"white\",\"ticks\":\"\",\"title\":{\"standoff\":15},\"zerolinecolor\":\"white\",\"zerolinewidth\":2}}},\"title\":{\"font\":{\"color\":\"#4D5663\"}},\"xaxis\":{\"gridcolor\":\"#E1E5ED\",\"showgrid\":true,\"tickfont\":{\"color\":\"#4D5663\"},\"title\":{\"font\":{\"color\":\"#4D5663\"},\"text\":\"\"},\"zerolinecolor\":\"#E1E5ED\"},\"yaxis\":{\"gridcolor\":\"#E1E5ED\",\"showgrid\":true,\"tickfont\":{\"color\":\"#4D5663\"},\"title\":{\"font\":{\"color\":\"#4D5663\"},\"text\":\"\"},\"zerolinecolor\":\"#E1E5ED\"}},                        {\"showLink\": true, \"linkText\": \"Export to plot.ly\", \"plotlyServerURL\": \"https://plot.ly\", \"responsive\": true}                    ).then(function(){\n",
       "                            \n",
       "var gd = document.getElementById('c1b852ed-1a91-4373-af42-10e62973a60a');\n",
       "var x = new MutationObserver(function (mutations, observer) {{\n",
       "        var display = window.getComputedStyle(gd).display;\n",
       "        if (!display || display === 'none') {{\n",
       "            console.log([gd, 'removed!']);\n",
       "            Plotly.purge(gd);\n",
       "            observer.disconnect();\n",
       "        }}\n",
       "}});\n",
       "\n",
       "// Listen for the removal of the full notebook cells\n",
       "var notebookContainer = gd.closest('#notebook-container');\n",
       "if (notebookContainer) {{\n",
       "    x.observe(notebookContainer, {childList: true});\n",
       "}}\n",
       "\n",
       "// Listen for the clearing of the current output cell\n",
       "var outputEl = gd.closest('.output');\n",
       "if (outputEl) {{\n",
       "    x.observe(outputEl, {childList: true});\n",
       "}}\n",
       "\n",
       "                        })                };                });            </script>        </div>"
      ]
     },
     "metadata": {},
     "output_type": "display_data"
    }
   ],
   "source": [
    "df.iplot(kind='scatter',x='A',y='B',mode='markers',size=10)"
   ]
  },
  {
   "cell_type": "markdown",
   "metadata": {},
   "source": [
    "## Bar Plots"
   ]
  },
  {
   "cell_type": "code",
   "execution_count": 38,
   "metadata": {},
   "outputs": [
    {
     "data": {
      "application/vnd.plotly.v1+json": {
       "config": {
        "linkText": "Export to plot.ly",
        "plotlyServerURL": "https://plot.ly",
        "showLink": true
       },
       "data": [
        {
         "marker": {
          "color": "rgba(255, 153, 51, 0.6)",
          "line": {
           "color": "rgba(255, 153, 51, 1.0)",
           "width": 1
          }
         },
         "name": "Values",
         "orientation": "v",
         "text": "",
         "type": "bar",
         "x": [
          "A",
          "B",
          "C"
         ],
         "y": [
          32,
          43,
          50
         ]
        }
       ],
       "layout": {
        "legend": {
         "bgcolor": "#F5F6F9",
         "font": {
          "color": "#4D5663"
         }
        },
        "paper_bgcolor": "#F5F6F9",
        "plot_bgcolor": "#F5F6F9",
        "template": {
         "data": {
          "bar": [
           {
            "error_x": {
             "color": "#2a3f5f"
            },
            "error_y": {
             "color": "#2a3f5f"
            },
            "marker": {
             "line": {
              "color": "#E5ECF6",
              "width": 0.5
             },
             "pattern": {
              "fillmode": "overlay",
              "size": 10,
              "solidity": 0.2
             }
            },
            "type": "bar"
           }
          ],
          "barpolar": [
           {
            "marker": {
             "line": {
              "color": "#E5ECF6",
              "width": 0.5
             },
             "pattern": {
              "fillmode": "overlay",
              "size": 10,
              "solidity": 0.2
             }
            },
            "type": "barpolar"
           }
          ],
          "carpet": [
           {
            "aaxis": {
             "endlinecolor": "#2a3f5f",
             "gridcolor": "white",
             "linecolor": "white",
             "minorgridcolor": "white",
             "startlinecolor": "#2a3f5f"
            },
            "baxis": {
             "endlinecolor": "#2a3f5f",
             "gridcolor": "white",
             "linecolor": "white",
             "minorgridcolor": "white",
             "startlinecolor": "#2a3f5f"
            },
            "type": "carpet"
           }
          ],
          "choropleth": [
           {
            "colorbar": {
             "outlinewidth": 0,
             "ticks": ""
            },
            "type": "choropleth"
           }
          ],
          "contour": [
           {
            "colorbar": {
             "outlinewidth": 0,
             "ticks": ""
            },
            "colorscale": [
             [
              0,
              "#0d0887"
             ],
             [
              0.1111111111111111,
              "#46039f"
             ],
             [
              0.2222222222222222,
              "#7201a8"
             ],
             [
              0.3333333333333333,
              "#9c179e"
             ],
             [
              0.4444444444444444,
              "#bd3786"
             ],
             [
              0.5555555555555556,
              "#d8576b"
             ],
             [
              0.6666666666666666,
              "#ed7953"
             ],
             [
              0.7777777777777778,
              "#fb9f3a"
             ],
             [
              0.8888888888888888,
              "#fdca26"
             ],
             [
              1,
              "#f0f921"
             ]
            ],
            "type": "contour"
           }
          ],
          "contourcarpet": [
           {
            "colorbar": {
             "outlinewidth": 0,
             "ticks": ""
            },
            "type": "contourcarpet"
           }
          ],
          "heatmap": [
           {
            "colorbar": {
             "outlinewidth": 0,
             "ticks": ""
            },
            "colorscale": [
             [
              0,
              "#0d0887"
             ],
             [
              0.1111111111111111,
              "#46039f"
             ],
             [
              0.2222222222222222,
              "#7201a8"
             ],
             [
              0.3333333333333333,
              "#9c179e"
             ],
             [
              0.4444444444444444,
              "#bd3786"
             ],
             [
              0.5555555555555556,
              "#d8576b"
             ],
             [
              0.6666666666666666,
              "#ed7953"
             ],
             [
              0.7777777777777778,
              "#fb9f3a"
             ],
             [
              0.8888888888888888,
              "#fdca26"
             ],
             [
              1,
              "#f0f921"
             ]
            ],
            "type": "heatmap"
           }
          ],
          "heatmapgl": [
           {
            "colorbar": {
             "outlinewidth": 0,
             "ticks": ""
            },
            "colorscale": [
             [
              0,
              "#0d0887"
             ],
             [
              0.1111111111111111,
              "#46039f"
             ],
             [
              0.2222222222222222,
              "#7201a8"
             ],
             [
              0.3333333333333333,
              "#9c179e"
             ],
             [
              0.4444444444444444,
              "#bd3786"
             ],
             [
              0.5555555555555556,
              "#d8576b"
             ],
             [
              0.6666666666666666,
              "#ed7953"
             ],
             [
              0.7777777777777778,
              "#fb9f3a"
             ],
             [
              0.8888888888888888,
              "#fdca26"
             ],
             [
              1,
              "#f0f921"
             ]
            ],
            "type": "heatmapgl"
           }
          ],
          "histogram": [
           {
            "marker": {
             "pattern": {
              "fillmode": "overlay",
              "size": 10,
              "solidity": 0.2
             }
            },
            "type": "histogram"
           }
          ],
          "histogram2d": [
           {
            "colorbar": {
             "outlinewidth": 0,
             "ticks": ""
            },
            "colorscale": [
             [
              0,
              "#0d0887"
             ],
             [
              0.1111111111111111,
              "#46039f"
             ],
             [
              0.2222222222222222,
              "#7201a8"
             ],
             [
              0.3333333333333333,
              "#9c179e"
             ],
             [
              0.4444444444444444,
              "#bd3786"
             ],
             [
              0.5555555555555556,
              "#d8576b"
             ],
             [
              0.6666666666666666,
              "#ed7953"
             ],
             [
              0.7777777777777778,
              "#fb9f3a"
             ],
             [
              0.8888888888888888,
              "#fdca26"
             ],
             [
              1,
              "#f0f921"
             ]
            ],
            "type": "histogram2d"
           }
          ],
          "histogram2dcontour": [
           {
            "colorbar": {
             "outlinewidth": 0,
             "ticks": ""
            },
            "colorscale": [
             [
              0,
              "#0d0887"
             ],
             [
              0.1111111111111111,
              "#46039f"
             ],
             [
              0.2222222222222222,
              "#7201a8"
             ],
             [
              0.3333333333333333,
              "#9c179e"
             ],
             [
              0.4444444444444444,
              "#bd3786"
             ],
             [
              0.5555555555555556,
              "#d8576b"
             ],
             [
              0.6666666666666666,
              "#ed7953"
             ],
             [
              0.7777777777777778,
              "#fb9f3a"
             ],
             [
              0.8888888888888888,
              "#fdca26"
             ],
             [
              1,
              "#f0f921"
             ]
            ],
            "type": "histogram2dcontour"
           }
          ],
          "mesh3d": [
           {
            "colorbar": {
             "outlinewidth": 0,
             "ticks": ""
            },
            "type": "mesh3d"
           }
          ],
          "parcoords": [
           {
            "line": {
             "colorbar": {
              "outlinewidth": 0,
              "ticks": ""
             }
            },
            "type": "parcoords"
           }
          ],
          "pie": [
           {
            "automargin": true,
            "type": "pie"
           }
          ],
          "scatter": [
           {
            "fillpattern": {
             "fillmode": "overlay",
             "size": 10,
             "solidity": 0.2
            },
            "type": "scatter"
           }
          ],
          "scatter3d": [
           {
            "line": {
             "colorbar": {
              "outlinewidth": 0,
              "ticks": ""
             }
            },
            "marker": {
             "colorbar": {
              "outlinewidth": 0,
              "ticks": ""
             }
            },
            "type": "scatter3d"
           }
          ],
          "scattercarpet": [
           {
            "marker": {
             "colorbar": {
              "outlinewidth": 0,
              "ticks": ""
             }
            },
            "type": "scattercarpet"
           }
          ],
          "scattergeo": [
           {
            "marker": {
             "colorbar": {
              "outlinewidth": 0,
              "ticks": ""
             }
            },
            "type": "scattergeo"
           }
          ],
          "scattergl": [
           {
            "marker": {
             "colorbar": {
              "outlinewidth": 0,
              "ticks": ""
             }
            },
            "type": "scattergl"
           }
          ],
          "scattermapbox": [
           {
            "marker": {
             "colorbar": {
              "outlinewidth": 0,
              "ticks": ""
             }
            },
            "type": "scattermapbox"
           }
          ],
          "scatterpolar": [
           {
            "marker": {
             "colorbar": {
              "outlinewidth": 0,
              "ticks": ""
             }
            },
            "type": "scatterpolar"
           }
          ],
          "scatterpolargl": [
           {
            "marker": {
             "colorbar": {
              "outlinewidth": 0,
              "ticks": ""
             }
            },
            "type": "scatterpolargl"
           }
          ],
          "scatterternary": [
           {
            "marker": {
             "colorbar": {
              "outlinewidth": 0,
              "ticks": ""
             }
            },
            "type": "scatterternary"
           }
          ],
          "surface": [
           {
            "colorbar": {
             "outlinewidth": 0,
             "ticks": ""
            },
            "colorscale": [
             [
              0,
              "#0d0887"
             ],
             [
              0.1111111111111111,
              "#46039f"
             ],
             [
              0.2222222222222222,
              "#7201a8"
             ],
             [
              0.3333333333333333,
              "#9c179e"
             ],
             [
              0.4444444444444444,
              "#bd3786"
             ],
             [
              0.5555555555555556,
              "#d8576b"
             ],
             [
              0.6666666666666666,
              "#ed7953"
             ],
             [
              0.7777777777777778,
              "#fb9f3a"
             ],
             [
              0.8888888888888888,
              "#fdca26"
             ],
             [
              1,
              "#f0f921"
             ]
            ],
            "type": "surface"
           }
          ],
          "table": [
           {
            "cells": {
             "fill": {
              "color": "#EBF0F8"
             },
             "line": {
              "color": "white"
             }
            },
            "header": {
             "fill": {
              "color": "#C8D4E3"
             },
             "line": {
              "color": "white"
             }
            },
            "type": "table"
           }
          ]
         },
         "layout": {
          "annotationdefaults": {
           "arrowcolor": "#2a3f5f",
           "arrowhead": 0,
           "arrowwidth": 1
          },
          "autotypenumbers": "strict",
          "coloraxis": {
           "colorbar": {
            "outlinewidth": 0,
            "ticks": ""
           }
          },
          "colorscale": {
           "diverging": [
            [
             0,
             "#8e0152"
            ],
            [
             0.1,
             "#c51b7d"
            ],
            [
             0.2,
             "#de77ae"
            ],
            [
             0.3,
             "#f1b6da"
            ],
            [
             0.4,
             "#fde0ef"
            ],
            [
             0.5,
             "#f7f7f7"
            ],
            [
             0.6,
             "#e6f5d0"
            ],
            [
             0.7,
             "#b8e186"
            ],
            [
             0.8,
             "#7fbc41"
            ],
            [
             0.9,
             "#4d9221"
            ],
            [
             1,
             "#276419"
            ]
           ],
           "sequential": [
            [
             0,
             "#0d0887"
            ],
            [
             0.1111111111111111,
             "#46039f"
            ],
            [
             0.2222222222222222,
             "#7201a8"
            ],
            [
             0.3333333333333333,
             "#9c179e"
            ],
            [
             0.4444444444444444,
             "#bd3786"
            ],
            [
             0.5555555555555556,
             "#d8576b"
            ],
            [
             0.6666666666666666,
             "#ed7953"
            ],
            [
             0.7777777777777778,
             "#fb9f3a"
            ],
            [
             0.8888888888888888,
             "#fdca26"
            ],
            [
             1,
             "#f0f921"
            ]
           ],
           "sequentialminus": [
            [
             0,
             "#0d0887"
            ],
            [
             0.1111111111111111,
             "#46039f"
            ],
            [
             0.2222222222222222,
             "#7201a8"
            ],
            [
             0.3333333333333333,
             "#9c179e"
            ],
            [
             0.4444444444444444,
             "#bd3786"
            ],
            [
             0.5555555555555556,
             "#d8576b"
            ],
            [
             0.6666666666666666,
             "#ed7953"
            ],
            [
             0.7777777777777778,
             "#fb9f3a"
            ],
            [
             0.8888888888888888,
             "#fdca26"
            ],
            [
             1,
             "#f0f921"
            ]
           ]
          },
          "colorway": [
           "#636efa",
           "#EF553B",
           "#00cc96",
           "#ab63fa",
           "#FFA15A",
           "#19d3f3",
           "#FF6692",
           "#B6E880",
           "#FF97FF",
           "#FECB52"
          ],
          "font": {
           "color": "#2a3f5f"
          },
          "geo": {
           "bgcolor": "white",
           "lakecolor": "white",
           "landcolor": "#E5ECF6",
           "showlakes": true,
           "showland": true,
           "subunitcolor": "white"
          },
          "hoverlabel": {
           "align": "left"
          },
          "hovermode": "closest",
          "mapbox": {
           "style": "light"
          },
          "paper_bgcolor": "white",
          "plot_bgcolor": "#E5ECF6",
          "polar": {
           "angularaxis": {
            "gridcolor": "white",
            "linecolor": "white",
            "ticks": ""
           },
           "bgcolor": "#E5ECF6",
           "radialaxis": {
            "gridcolor": "white",
            "linecolor": "white",
            "ticks": ""
           }
          },
          "scene": {
           "xaxis": {
            "backgroundcolor": "#E5ECF6",
            "gridcolor": "white",
            "gridwidth": 2,
            "linecolor": "white",
            "showbackground": true,
            "ticks": "",
            "zerolinecolor": "white"
           },
           "yaxis": {
            "backgroundcolor": "#E5ECF6",
            "gridcolor": "white",
            "gridwidth": 2,
            "linecolor": "white",
            "showbackground": true,
            "ticks": "",
            "zerolinecolor": "white"
           },
           "zaxis": {
            "backgroundcolor": "#E5ECF6",
            "gridcolor": "white",
            "gridwidth": 2,
            "linecolor": "white",
            "showbackground": true,
            "ticks": "",
            "zerolinecolor": "white"
           }
          },
          "shapedefaults": {
           "line": {
            "color": "#2a3f5f"
           }
          },
          "ternary": {
           "aaxis": {
            "gridcolor": "white",
            "linecolor": "white",
            "ticks": ""
           },
           "baxis": {
            "gridcolor": "white",
            "linecolor": "white",
            "ticks": ""
           },
           "bgcolor": "#E5ECF6",
           "caxis": {
            "gridcolor": "white",
            "linecolor": "white",
            "ticks": ""
           }
          },
          "title": {
           "x": 0.05
          },
          "xaxis": {
           "automargin": true,
           "gridcolor": "white",
           "linecolor": "white",
           "ticks": "",
           "title": {
            "standoff": 15
           },
           "zerolinecolor": "white",
           "zerolinewidth": 2
          },
          "yaxis": {
           "automargin": true,
           "gridcolor": "white",
           "linecolor": "white",
           "ticks": "",
           "title": {
            "standoff": 15
           },
           "zerolinecolor": "white",
           "zerolinewidth": 2
          }
         }
        },
        "title": {
         "font": {
          "color": "#4D5663"
         }
        },
        "xaxis": {
         "gridcolor": "#E1E5ED",
         "showgrid": true,
         "tickfont": {
          "color": "#4D5663"
         },
         "title": {
          "font": {
           "color": "#4D5663"
          },
          "text": ""
         },
         "zerolinecolor": "#E1E5ED"
        },
        "yaxis": {
         "gridcolor": "#E1E5ED",
         "showgrid": true,
         "tickfont": {
          "color": "#4D5663"
         },
         "title": {
          "font": {
           "color": "#4D5663"
          },
          "text": ""
         },
         "zerolinecolor": "#E1E5ED"
        }
       }
      },
      "text/html": [
       "<div>                            <div id=\"743a4670-297c-4567-b125-2dd72a1db3c3\" class=\"plotly-graph-div\" style=\"height:525px; width:100%;\"></div>            <script type=\"text/javascript\">                require([\"plotly\"], function(Plotly) {                    window.PLOTLYENV=window.PLOTLYENV || {};\n",
       "                    window.PLOTLYENV.BASE_URL='https://plot.ly';                                    if (document.getElementById(\"743a4670-297c-4567-b125-2dd72a1db3c3\")) {                    Plotly.newPlot(                        \"743a4670-297c-4567-b125-2dd72a1db3c3\",                        [{\"marker\":{\"color\":\"rgba(255, 153, 51, 0.6)\",\"line\":{\"color\":\"rgba(255, 153, 51, 1.0)\",\"width\":1}},\"name\":\"Values\",\"orientation\":\"v\",\"text\":\"\",\"x\":[\"A\",\"B\",\"C\"],\"y\":[32,43,50],\"type\":\"bar\"}],                        {\"legend\":{\"bgcolor\":\"#F5F6F9\",\"font\":{\"color\":\"#4D5663\"}},\"paper_bgcolor\":\"#F5F6F9\",\"plot_bgcolor\":\"#F5F6F9\",\"template\":{\"data\":{\"barpolar\":[{\"marker\":{\"line\":{\"color\":\"#E5ECF6\",\"width\":0.5},\"pattern\":{\"fillmode\":\"overlay\",\"size\":10,\"solidity\":0.2}},\"type\":\"barpolar\"}],\"bar\":[{\"error_x\":{\"color\":\"#2a3f5f\"},\"error_y\":{\"color\":\"#2a3f5f\"},\"marker\":{\"line\":{\"color\":\"#E5ECF6\",\"width\":0.5},\"pattern\":{\"fillmode\":\"overlay\",\"size\":10,\"solidity\":0.2}},\"type\":\"bar\"}],\"carpet\":[{\"aaxis\":{\"endlinecolor\":\"#2a3f5f\",\"gridcolor\":\"white\",\"linecolor\":\"white\",\"minorgridcolor\":\"white\",\"startlinecolor\":\"#2a3f5f\"},\"baxis\":{\"endlinecolor\":\"#2a3f5f\",\"gridcolor\":\"white\",\"linecolor\":\"white\",\"minorgridcolor\":\"white\",\"startlinecolor\":\"#2a3f5f\"},\"type\":\"carpet\"}],\"choropleth\":[{\"colorbar\":{\"outlinewidth\":0,\"ticks\":\"\"},\"type\":\"choropleth\"}],\"contourcarpet\":[{\"colorbar\":{\"outlinewidth\":0,\"ticks\":\"\"},\"type\":\"contourcarpet\"}],\"contour\":[{\"colorbar\":{\"outlinewidth\":0,\"ticks\":\"\"},\"colorscale\":[[0.0,\"#0d0887\"],[0.1111111111111111,\"#46039f\"],[0.2222222222222222,\"#7201a8\"],[0.3333333333333333,\"#9c179e\"],[0.4444444444444444,\"#bd3786\"],[0.5555555555555556,\"#d8576b\"],[0.6666666666666666,\"#ed7953\"],[0.7777777777777778,\"#fb9f3a\"],[0.8888888888888888,\"#fdca26\"],[1.0,\"#f0f921\"]],\"type\":\"contour\"}],\"heatmapgl\":[{\"colorbar\":{\"outlinewidth\":0,\"ticks\":\"\"},\"colorscale\":[[0.0,\"#0d0887\"],[0.1111111111111111,\"#46039f\"],[0.2222222222222222,\"#7201a8\"],[0.3333333333333333,\"#9c179e\"],[0.4444444444444444,\"#bd3786\"],[0.5555555555555556,\"#d8576b\"],[0.6666666666666666,\"#ed7953\"],[0.7777777777777778,\"#fb9f3a\"],[0.8888888888888888,\"#fdca26\"],[1.0,\"#f0f921\"]],\"type\":\"heatmapgl\"}],\"heatmap\":[{\"colorbar\":{\"outlinewidth\":0,\"ticks\":\"\"},\"colorscale\":[[0.0,\"#0d0887\"],[0.1111111111111111,\"#46039f\"],[0.2222222222222222,\"#7201a8\"],[0.3333333333333333,\"#9c179e\"],[0.4444444444444444,\"#bd3786\"],[0.5555555555555556,\"#d8576b\"],[0.6666666666666666,\"#ed7953\"],[0.7777777777777778,\"#fb9f3a\"],[0.8888888888888888,\"#fdca26\"],[1.0,\"#f0f921\"]],\"type\":\"heatmap\"}],\"histogram2dcontour\":[{\"colorbar\":{\"outlinewidth\":0,\"ticks\":\"\"},\"colorscale\":[[0.0,\"#0d0887\"],[0.1111111111111111,\"#46039f\"],[0.2222222222222222,\"#7201a8\"],[0.3333333333333333,\"#9c179e\"],[0.4444444444444444,\"#bd3786\"],[0.5555555555555556,\"#d8576b\"],[0.6666666666666666,\"#ed7953\"],[0.7777777777777778,\"#fb9f3a\"],[0.8888888888888888,\"#fdca26\"],[1.0,\"#f0f921\"]],\"type\":\"histogram2dcontour\"}],\"histogram2d\":[{\"colorbar\":{\"outlinewidth\":0,\"ticks\":\"\"},\"colorscale\":[[0.0,\"#0d0887\"],[0.1111111111111111,\"#46039f\"],[0.2222222222222222,\"#7201a8\"],[0.3333333333333333,\"#9c179e\"],[0.4444444444444444,\"#bd3786\"],[0.5555555555555556,\"#d8576b\"],[0.6666666666666666,\"#ed7953\"],[0.7777777777777778,\"#fb9f3a\"],[0.8888888888888888,\"#fdca26\"],[1.0,\"#f0f921\"]],\"type\":\"histogram2d\"}],\"histogram\":[{\"marker\":{\"pattern\":{\"fillmode\":\"overlay\",\"size\":10,\"solidity\":0.2}},\"type\":\"histogram\"}],\"mesh3d\":[{\"colorbar\":{\"outlinewidth\":0,\"ticks\":\"\"},\"type\":\"mesh3d\"}],\"parcoords\":[{\"line\":{\"colorbar\":{\"outlinewidth\":0,\"ticks\":\"\"}},\"type\":\"parcoords\"}],\"pie\":[{\"automargin\":true,\"type\":\"pie\"}],\"scatter3d\":[{\"line\":{\"colorbar\":{\"outlinewidth\":0,\"ticks\":\"\"}},\"marker\":{\"colorbar\":{\"outlinewidth\":0,\"ticks\":\"\"}},\"type\":\"scatter3d\"}],\"scattercarpet\":[{\"marker\":{\"colorbar\":{\"outlinewidth\":0,\"ticks\":\"\"}},\"type\":\"scattercarpet\"}],\"scattergeo\":[{\"marker\":{\"colorbar\":{\"outlinewidth\":0,\"ticks\":\"\"}},\"type\":\"scattergeo\"}],\"scattergl\":[{\"marker\":{\"colorbar\":{\"outlinewidth\":0,\"ticks\":\"\"}},\"type\":\"scattergl\"}],\"scattermapbox\":[{\"marker\":{\"colorbar\":{\"outlinewidth\":0,\"ticks\":\"\"}},\"type\":\"scattermapbox\"}],\"scatterpolargl\":[{\"marker\":{\"colorbar\":{\"outlinewidth\":0,\"ticks\":\"\"}},\"type\":\"scatterpolargl\"}],\"scatterpolar\":[{\"marker\":{\"colorbar\":{\"outlinewidth\":0,\"ticks\":\"\"}},\"type\":\"scatterpolar\"}],\"scatter\":[{\"fillpattern\":{\"fillmode\":\"overlay\",\"size\":10,\"solidity\":0.2},\"type\":\"scatter\"}],\"scatterternary\":[{\"marker\":{\"colorbar\":{\"outlinewidth\":0,\"ticks\":\"\"}},\"type\":\"scatterternary\"}],\"surface\":[{\"colorbar\":{\"outlinewidth\":0,\"ticks\":\"\"},\"colorscale\":[[0.0,\"#0d0887\"],[0.1111111111111111,\"#46039f\"],[0.2222222222222222,\"#7201a8\"],[0.3333333333333333,\"#9c179e\"],[0.4444444444444444,\"#bd3786\"],[0.5555555555555556,\"#d8576b\"],[0.6666666666666666,\"#ed7953\"],[0.7777777777777778,\"#fb9f3a\"],[0.8888888888888888,\"#fdca26\"],[1.0,\"#f0f921\"]],\"type\":\"surface\"}],\"table\":[{\"cells\":{\"fill\":{\"color\":\"#EBF0F8\"},\"line\":{\"color\":\"white\"}},\"header\":{\"fill\":{\"color\":\"#C8D4E3\"},\"line\":{\"color\":\"white\"}},\"type\":\"table\"}]},\"layout\":{\"annotationdefaults\":{\"arrowcolor\":\"#2a3f5f\",\"arrowhead\":0,\"arrowwidth\":1},\"autotypenumbers\":\"strict\",\"coloraxis\":{\"colorbar\":{\"outlinewidth\":0,\"ticks\":\"\"}},\"colorscale\":{\"diverging\":[[0,\"#8e0152\"],[0.1,\"#c51b7d\"],[0.2,\"#de77ae\"],[0.3,\"#f1b6da\"],[0.4,\"#fde0ef\"],[0.5,\"#f7f7f7\"],[0.6,\"#e6f5d0\"],[0.7,\"#b8e186\"],[0.8,\"#7fbc41\"],[0.9,\"#4d9221\"],[1,\"#276419\"]],\"sequential\":[[0.0,\"#0d0887\"],[0.1111111111111111,\"#46039f\"],[0.2222222222222222,\"#7201a8\"],[0.3333333333333333,\"#9c179e\"],[0.4444444444444444,\"#bd3786\"],[0.5555555555555556,\"#d8576b\"],[0.6666666666666666,\"#ed7953\"],[0.7777777777777778,\"#fb9f3a\"],[0.8888888888888888,\"#fdca26\"],[1.0,\"#f0f921\"]],\"sequentialminus\":[[0.0,\"#0d0887\"],[0.1111111111111111,\"#46039f\"],[0.2222222222222222,\"#7201a8\"],[0.3333333333333333,\"#9c179e\"],[0.4444444444444444,\"#bd3786\"],[0.5555555555555556,\"#d8576b\"],[0.6666666666666666,\"#ed7953\"],[0.7777777777777778,\"#fb9f3a\"],[0.8888888888888888,\"#fdca26\"],[1.0,\"#f0f921\"]]},\"colorway\":[\"#636efa\",\"#EF553B\",\"#00cc96\",\"#ab63fa\",\"#FFA15A\",\"#19d3f3\",\"#FF6692\",\"#B6E880\",\"#FF97FF\",\"#FECB52\"],\"font\":{\"color\":\"#2a3f5f\"},\"geo\":{\"bgcolor\":\"white\",\"lakecolor\":\"white\",\"landcolor\":\"#E5ECF6\",\"showlakes\":true,\"showland\":true,\"subunitcolor\":\"white\"},\"hoverlabel\":{\"align\":\"left\"},\"hovermode\":\"closest\",\"mapbox\":{\"style\":\"light\"},\"paper_bgcolor\":\"white\",\"plot_bgcolor\":\"#E5ECF6\",\"polar\":{\"angularaxis\":{\"gridcolor\":\"white\",\"linecolor\":\"white\",\"ticks\":\"\"},\"bgcolor\":\"#E5ECF6\",\"radialaxis\":{\"gridcolor\":\"white\",\"linecolor\":\"white\",\"ticks\":\"\"}},\"scene\":{\"xaxis\":{\"backgroundcolor\":\"#E5ECF6\",\"gridcolor\":\"white\",\"gridwidth\":2,\"linecolor\":\"white\",\"showbackground\":true,\"ticks\":\"\",\"zerolinecolor\":\"white\"},\"yaxis\":{\"backgroundcolor\":\"#E5ECF6\",\"gridcolor\":\"white\",\"gridwidth\":2,\"linecolor\":\"white\",\"showbackground\":true,\"ticks\":\"\",\"zerolinecolor\":\"white\"},\"zaxis\":{\"backgroundcolor\":\"#E5ECF6\",\"gridcolor\":\"white\",\"gridwidth\":2,\"linecolor\":\"white\",\"showbackground\":true,\"ticks\":\"\",\"zerolinecolor\":\"white\"}},\"shapedefaults\":{\"line\":{\"color\":\"#2a3f5f\"}},\"ternary\":{\"aaxis\":{\"gridcolor\":\"white\",\"linecolor\":\"white\",\"ticks\":\"\"},\"baxis\":{\"gridcolor\":\"white\",\"linecolor\":\"white\",\"ticks\":\"\"},\"bgcolor\":\"#E5ECF6\",\"caxis\":{\"gridcolor\":\"white\",\"linecolor\":\"white\",\"ticks\":\"\"}},\"title\":{\"x\":0.05},\"xaxis\":{\"automargin\":true,\"gridcolor\":\"white\",\"linecolor\":\"white\",\"ticks\":\"\",\"title\":{\"standoff\":15},\"zerolinecolor\":\"white\",\"zerolinewidth\":2},\"yaxis\":{\"automargin\":true,\"gridcolor\":\"white\",\"linecolor\":\"white\",\"ticks\":\"\",\"title\":{\"standoff\":15},\"zerolinecolor\":\"white\",\"zerolinewidth\":2}}},\"title\":{\"font\":{\"color\":\"#4D5663\"}},\"xaxis\":{\"gridcolor\":\"#E1E5ED\",\"showgrid\":true,\"tickfont\":{\"color\":\"#4D5663\"},\"title\":{\"font\":{\"color\":\"#4D5663\"},\"text\":\"\"},\"zerolinecolor\":\"#E1E5ED\"},\"yaxis\":{\"gridcolor\":\"#E1E5ED\",\"showgrid\":true,\"tickfont\":{\"color\":\"#4D5663\"},\"title\":{\"font\":{\"color\":\"#4D5663\"},\"text\":\"\"},\"zerolinecolor\":\"#E1E5ED\"}},                        {\"showLink\": true, \"linkText\": \"Export to plot.ly\", \"plotlyServerURL\": \"https://plot.ly\", \"responsive\": true}                    ).then(function(){\n",
       "                            \n",
       "var gd = document.getElementById('743a4670-297c-4567-b125-2dd72a1db3c3');\n",
       "var x = new MutationObserver(function (mutations, observer) {{\n",
       "        var display = window.getComputedStyle(gd).display;\n",
       "        if (!display || display === 'none') {{\n",
       "            console.log([gd, 'removed!']);\n",
       "            Plotly.purge(gd);\n",
       "            observer.disconnect();\n",
       "        }}\n",
       "}});\n",
       "\n",
       "// Listen for the removal of the full notebook cells\n",
       "var notebookContainer = gd.closest('#notebook-container');\n",
       "if (notebookContainer) {{\n",
       "    x.observe(notebookContainer, {childList: true});\n",
       "}}\n",
       "\n",
       "// Listen for the clearing of the current output cell\n",
       "var outputEl = gd.closest('.output');\n",
       "if (outputEl) {{\n",
       "    x.observe(outputEl, {childList: true});\n",
       "}}\n",
       "\n",
       "                        })                };                });            </script>        </div>"
      ]
     },
     "metadata": {},
     "output_type": "display_data"
    }
   ],
   "source": [
    "df2.iplot(kind='bar',x='Category',y='Values')"
   ]
  },
  {
   "cell_type": "code",
   "execution_count": 39,
   "metadata": {},
   "outputs": [
    {
     "data": {
      "application/vnd.plotly.v1+json": {
       "config": {
        "linkText": "Export to plot.ly",
        "plotlyServerURL": "https://plot.ly",
        "showLink": true
       },
       "data": [
        {
         "marker": {
          "color": "rgba(255, 153, 51, 0.6)",
          "line": {
           "color": "rgba(255, 153, 51, 1.0)",
           "width": 1
          }
         },
         "name": "None",
         "orientation": "v",
         "text": "",
         "type": "bar",
         "x": [
          "A",
          "B",
          "C",
          "D"
         ],
         "y": [
          100,
          100,
          100,
          100
         ]
        }
       ],
       "layout": {
        "legend": {
         "bgcolor": "#F5F6F9",
         "font": {
          "color": "#4D5663"
         }
        },
        "paper_bgcolor": "#F5F6F9",
        "plot_bgcolor": "#F5F6F9",
        "template": {
         "data": {
          "bar": [
           {
            "error_x": {
             "color": "#2a3f5f"
            },
            "error_y": {
             "color": "#2a3f5f"
            },
            "marker": {
             "line": {
              "color": "#E5ECF6",
              "width": 0.5
             },
             "pattern": {
              "fillmode": "overlay",
              "size": 10,
              "solidity": 0.2
             }
            },
            "type": "bar"
           }
          ],
          "barpolar": [
           {
            "marker": {
             "line": {
              "color": "#E5ECF6",
              "width": 0.5
             },
             "pattern": {
              "fillmode": "overlay",
              "size": 10,
              "solidity": 0.2
             }
            },
            "type": "barpolar"
           }
          ],
          "carpet": [
           {
            "aaxis": {
             "endlinecolor": "#2a3f5f",
             "gridcolor": "white",
             "linecolor": "white",
             "minorgridcolor": "white",
             "startlinecolor": "#2a3f5f"
            },
            "baxis": {
             "endlinecolor": "#2a3f5f",
             "gridcolor": "white",
             "linecolor": "white",
             "minorgridcolor": "white",
             "startlinecolor": "#2a3f5f"
            },
            "type": "carpet"
           }
          ],
          "choropleth": [
           {
            "colorbar": {
             "outlinewidth": 0,
             "ticks": ""
            },
            "type": "choropleth"
           }
          ],
          "contour": [
           {
            "colorbar": {
             "outlinewidth": 0,
             "ticks": ""
            },
            "colorscale": [
             [
              0,
              "#0d0887"
             ],
             [
              0.1111111111111111,
              "#46039f"
             ],
             [
              0.2222222222222222,
              "#7201a8"
             ],
             [
              0.3333333333333333,
              "#9c179e"
             ],
             [
              0.4444444444444444,
              "#bd3786"
             ],
             [
              0.5555555555555556,
              "#d8576b"
             ],
             [
              0.6666666666666666,
              "#ed7953"
             ],
             [
              0.7777777777777778,
              "#fb9f3a"
             ],
             [
              0.8888888888888888,
              "#fdca26"
             ],
             [
              1,
              "#f0f921"
             ]
            ],
            "type": "contour"
           }
          ],
          "contourcarpet": [
           {
            "colorbar": {
             "outlinewidth": 0,
             "ticks": ""
            },
            "type": "contourcarpet"
           }
          ],
          "heatmap": [
           {
            "colorbar": {
             "outlinewidth": 0,
             "ticks": ""
            },
            "colorscale": [
             [
              0,
              "#0d0887"
             ],
             [
              0.1111111111111111,
              "#46039f"
             ],
             [
              0.2222222222222222,
              "#7201a8"
             ],
             [
              0.3333333333333333,
              "#9c179e"
             ],
             [
              0.4444444444444444,
              "#bd3786"
             ],
             [
              0.5555555555555556,
              "#d8576b"
             ],
             [
              0.6666666666666666,
              "#ed7953"
             ],
             [
              0.7777777777777778,
              "#fb9f3a"
             ],
             [
              0.8888888888888888,
              "#fdca26"
             ],
             [
              1,
              "#f0f921"
             ]
            ],
            "type": "heatmap"
           }
          ],
          "heatmapgl": [
           {
            "colorbar": {
             "outlinewidth": 0,
             "ticks": ""
            },
            "colorscale": [
             [
              0,
              "#0d0887"
             ],
             [
              0.1111111111111111,
              "#46039f"
             ],
             [
              0.2222222222222222,
              "#7201a8"
             ],
             [
              0.3333333333333333,
              "#9c179e"
             ],
             [
              0.4444444444444444,
              "#bd3786"
             ],
             [
              0.5555555555555556,
              "#d8576b"
             ],
             [
              0.6666666666666666,
              "#ed7953"
             ],
             [
              0.7777777777777778,
              "#fb9f3a"
             ],
             [
              0.8888888888888888,
              "#fdca26"
             ],
             [
              1,
              "#f0f921"
             ]
            ],
            "type": "heatmapgl"
           }
          ],
          "histogram": [
           {
            "marker": {
             "pattern": {
              "fillmode": "overlay",
              "size": 10,
              "solidity": 0.2
             }
            },
            "type": "histogram"
           }
          ],
          "histogram2d": [
           {
            "colorbar": {
             "outlinewidth": 0,
             "ticks": ""
            },
            "colorscale": [
             [
              0,
              "#0d0887"
             ],
             [
              0.1111111111111111,
              "#46039f"
             ],
             [
              0.2222222222222222,
              "#7201a8"
             ],
             [
              0.3333333333333333,
              "#9c179e"
             ],
             [
              0.4444444444444444,
              "#bd3786"
             ],
             [
              0.5555555555555556,
              "#d8576b"
             ],
             [
              0.6666666666666666,
              "#ed7953"
             ],
             [
              0.7777777777777778,
              "#fb9f3a"
             ],
             [
              0.8888888888888888,
              "#fdca26"
             ],
             [
              1,
              "#f0f921"
             ]
            ],
            "type": "histogram2d"
           }
          ],
          "histogram2dcontour": [
           {
            "colorbar": {
             "outlinewidth": 0,
             "ticks": ""
            },
            "colorscale": [
             [
              0,
              "#0d0887"
             ],
             [
              0.1111111111111111,
              "#46039f"
             ],
             [
              0.2222222222222222,
              "#7201a8"
             ],
             [
              0.3333333333333333,
              "#9c179e"
             ],
             [
              0.4444444444444444,
              "#bd3786"
             ],
             [
              0.5555555555555556,
              "#d8576b"
             ],
             [
              0.6666666666666666,
              "#ed7953"
             ],
             [
              0.7777777777777778,
              "#fb9f3a"
             ],
             [
              0.8888888888888888,
              "#fdca26"
             ],
             [
              1,
              "#f0f921"
             ]
            ],
            "type": "histogram2dcontour"
           }
          ],
          "mesh3d": [
           {
            "colorbar": {
             "outlinewidth": 0,
             "ticks": ""
            },
            "type": "mesh3d"
           }
          ],
          "parcoords": [
           {
            "line": {
             "colorbar": {
              "outlinewidth": 0,
              "ticks": ""
             }
            },
            "type": "parcoords"
           }
          ],
          "pie": [
           {
            "automargin": true,
            "type": "pie"
           }
          ],
          "scatter": [
           {
            "fillpattern": {
             "fillmode": "overlay",
             "size": 10,
             "solidity": 0.2
            },
            "type": "scatter"
           }
          ],
          "scatter3d": [
           {
            "line": {
             "colorbar": {
              "outlinewidth": 0,
              "ticks": ""
             }
            },
            "marker": {
             "colorbar": {
              "outlinewidth": 0,
              "ticks": ""
             }
            },
            "type": "scatter3d"
           }
          ],
          "scattercarpet": [
           {
            "marker": {
             "colorbar": {
              "outlinewidth": 0,
              "ticks": ""
             }
            },
            "type": "scattercarpet"
           }
          ],
          "scattergeo": [
           {
            "marker": {
             "colorbar": {
              "outlinewidth": 0,
              "ticks": ""
             }
            },
            "type": "scattergeo"
           }
          ],
          "scattergl": [
           {
            "marker": {
             "colorbar": {
              "outlinewidth": 0,
              "ticks": ""
             }
            },
            "type": "scattergl"
           }
          ],
          "scattermapbox": [
           {
            "marker": {
             "colorbar": {
              "outlinewidth": 0,
              "ticks": ""
             }
            },
            "type": "scattermapbox"
           }
          ],
          "scatterpolar": [
           {
            "marker": {
             "colorbar": {
              "outlinewidth": 0,
              "ticks": ""
             }
            },
            "type": "scatterpolar"
           }
          ],
          "scatterpolargl": [
           {
            "marker": {
             "colorbar": {
              "outlinewidth": 0,
              "ticks": ""
             }
            },
            "type": "scatterpolargl"
           }
          ],
          "scatterternary": [
           {
            "marker": {
             "colorbar": {
              "outlinewidth": 0,
              "ticks": ""
             }
            },
            "type": "scatterternary"
           }
          ],
          "surface": [
           {
            "colorbar": {
             "outlinewidth": 0,
             "ticks": ""
            },
            "colorscale": [
             [
              0,
              "#0d0887"
             ],
             [
              0.1111111111111111,
              "#46039f"
             ],
             [
              0.2222222222222222,
              "#7201a8"
             ],
             [
              0.3333333333333333,
              "#9c179e"
             ],
             [
              0.4444444444444444,
              "#bd3786"
             ],
             [
              0.5555555555555556,
              "#d8576b"
             ],
             [
              0.6666666666666666,
              "#ed7953"
             ],
             [
              0.7777777777777778,
              "#fb9f3a"
             ],
             [
              0.8888888888888888,
              "#fdca26"
             ],
             [
              1,
              "#f0f921"
             ]
            ],
            "type": "surface"
           }
          ],
          "table": [
           {
            "cells": {
             "fill": {
              "color": "#EBF0F8"
             },
             "line": {
              "color": "white"
             }
            },
            "header": {
             "fill": {
              "color": "#C8D4E3"
             },
             "line": {
              "color": "white"
             }
            },
            "type": "table"
           }
          ]
         },
         "layout": {
          "annotationdefaults": {
           "arrowcolor": "#2a3f5f",
           "arrowhead": 0,
           "arrowwidth": 1
          },
          "autotypenumbers": "strict",
          "coloraxis": {
           "colorbar": {
            "outlinewidth": 0,
            "ticks": ""
           }
          },
          "colorscale": {
           "diverging": [
            [
             0,
             "#8e0152"
            ],
            [
             0.1,
             "#c51b7d"
            ],
            [
             0.2,
             "#de77ae"
            ],
            [
             0.3,
             "#f1b6da"
            ],
            [
             0.4,
             "#fde0ef"
            ],
            [
             0.5,
             "#f7f7f7"
            ],
            [
             0.6,
             "#e6f5d0"
            ],
            [
             0.7,
             "#b8e186"
            ],
            [
             0.8,
             "#7fbc41"
            ],
            [
             0.9,
             "#4d9221"
            ],
            [
             1,
             "#276419"
            ]
           ],
           "sequential": [
            [
             0,
             "#0d0887"
            ],
            [
             0.1111111111111111,
             "#46039f"
            ],
            [
             0.2222222222222222,
             "#7201a8"
            ],
            [
             0.3333333333333333,
             "#9c179e"
            ],
            [
             0.4444444444444444,
             "#bd3786"
            ],
            [
             0.5555555555555556,
             "#d8576b"
            ],
            [
             0.6666666666666666,
             "#ed7953"
            ],
            [
             0.7777777777777778,
             "#fb9f3a"
            ],
            [
             0.8888888888888888,
             "#fdca26"
            ],
            [
             1,
             "#f0f921"
            ]
           ],
           "sequentialminus": [
            [
             0,
             "#0d0887"
            ],
            [
             0.1111111111111111,
             "#46039f"
            ],
            [
             0.2222222222222222,
             "#7201a8"
            ],
            [
             0.3333333333333333,
             "#9c179e"
            ],
            [
             0.4444444444444444,
             "#bd3786"
            ],
            [
             0.5555555555555556,
             "#d8576b"
            ],
            [
             0.6666666666666666,
             "#ed7953"
            ],
            [
             0.7777777777777778,
             "#fb9f3a"
            ],
            [
             0.8888888888888888,
             "#fdca26"
            ],
            [
             1,
             "#f0f921"
            ]
           ]
          },
          "colorway": [
           "#636efa",
           "#EF553B",
           "#00cc96",
           "#ab63fa",
           "#FFA15A",
           "#19d3f3",
           "#FF6692",
           "#B6E880",
           "#FF97FF",
           "#FECB52"
          ],
          "font": {
           "color": "#2a3f5f"
          },
          "geo": {
           "bgcolor": "white",
           "lakecolor": "white",
           "landcolor": "#E5ECF6",
           "showlakes": true,
           "showland": true,
           "subunitcolor": "white"
          },
          "hoverlabel": {
           "align": "left"
          },
          "hovermode": "closest",
          "mapbox": {
           "style": "light"
          },
          "paper_bgcolor": "white",
          "plot_bgcolor": "#E5ECF6",
          "polar": {
           "angularaxis": {
            "gridcolor": "white",
            "linecolor": "white",
            "ticks": ""
           },
           "bgcolor": "#E5ECF6",
           "radialaxis": {
            "gridcolor": "white",
            "linecolor": "white",
            "ticks": ""
           }
          },
          "scene": {
           "xaxis": {
            "backgroundcolor": "#E5ECF6",
            "gridcolor": "white",
            "gridwidth": 2,
            "linecolor": "white",
            "showbackground": true,
            "ticks": "",
            "zerolinecolor": "white"
           },
           "yaxis": {
            "backgroundcolor": "#E5ECF6",
            "gridcolor": "white",
            "gridwidth": 2,
            "linecolor": "white",
            "showbackground": true,
            "ticks": "",
            "zerolinecolor": "white"
           },
           "zaxis": {
            "backgroundcolor": "#E5ECF6",
            "gridcolor": "white",
            "gridwidth": 2,
            "linecolor": "white",
            "showbackground": true,
            "ticks": "",
            "zerolinecolor": "white"
           }
          },
          "shapedefaults": {
           "line": {
            "color": "#2a3f5f"
           }
          },
          "ternary": {
           "aaxis": {
            "gridcolor": "white",
            "linecolor": "white",
            "ticks": ""
           },
           "baxis": {
            "gridcolor": "white",
            "linecolor": "white",
            "ticks": ""
           },
           "bgcolor": "#E5ECF6",
           "caxis": {
            "gridcolor": "white",
            "linecolor": "white",
            "ticks": ""
           }
          },
          "title": {
           "x": 0.05
          },
          "xaxis": {
           "automargin": true,
           "gridcolor": "white",
           "linecolor": "white",
           "ticks": "",
           "title": {
            "standoff": 15
           },
           "zerolinecolor": "white",
           "zerolinewidth": 2
          },
          "yaxis": {
           "automargin": true,
           "gridcolor": "white",
           "linecolor": "white",
           "ticks": "",
           "title": {
            "standoff": 15
           },
           "zerolinecolor": "white",
           "zerolinewidth": 2
          }
         }
        },
        "title": {
         "font": {
          "color": "#4D5663"
         }
        },
        "xaxis": {
         "gridcolor": "#E1E5ED",
         "showgrid": true,
         "tickfont": {
          "color": "#4D5663"
         },
         "title": {
          "font": {
           "color": "#4D5663"
          },
          "text": ""
         },
         "zerolinecolor": "#E1E5ED"
        },
        "yaxis": {
         "gridcolor": "#E1E5ED",
         "showgrid": true,
         "tickfont": {
          "color": "#4D5663"
         },
         "title": {
          "font": {
           "color": "#4D5663"
          },
          "text": ""
         },
         "zerolinecolor": "#E1E5ED"
        }
       }
      },
      "text/html": [
       "<div>                            <div id=\"004535fb-ef00-4951-9943-7f50527002f3\" class=\"plotly-graph-div\" style=\"height:525px; width:100%;\"></div>            <script type=\"text/javascript\">                require([\"plotly\"], function(Plotly) {                    window.PLOTLYENV=window.PLOTLYENV || {};\n",
       "                    window.PLOTLYENV.BASE_URL='https://plot.ly';                                    if (document.getElementById(\"004535fb-ef00-4951-9943-7f50527002f3\")) {                    Plotly.newPlot(                        \"004535fb-ef00-4951-9943-7f50527002f3\",                        [{\"marker\":{\"color\":\"rgba(255, 153, 51, 0.6)\",\"line\":{\"color\":\"rgba(255, 153, 51, 1.0)\",\"width\":1}},\"name\":\"None\",\"orientation\":\"v\",\"text\":\"\",\"x\":[\"A\",\"B\",\"C\",\"D\"],\"y\":[100,100,100,100],\"type\":\"bar\"}],                        {\"legend\":{\"bgcolor\":\"#F5F6F9\",\"font\":{\"color\":\"#4D5663\"}},\"paper_bgcolor\":\"#F5F6F9\",\"plot_bgcolor\":\"#F5F6F9\",\"template\":{\"data\":{\"barpolar\":[{\"marker\":{\"line\":{\"color\":\"#E5ECF6\",\"width\":0.5},\"pattern\":{\"fillmode\":\"overlay\",\"size\":10,\"solidity\":0.2}},\"type\":\"barpolar\"}],\"bar\":[{\"error_x\":{\"color\":\"#2a3f5f\"},\"error_y\":{\"color\":\"#2a3f5f\"},\"marker\":{\"line\":{\"color\":\"#E5ECF6\",\"width\":0.5},\"pattern\":{\"fillmode\":\"overlay\",\"size\":10,\"solidity\":0.2}},\"type\":\"bar\"}],\"carpet\":[{\"aaxis\":{\"endlinecolor\":\"#2a3f5f\",\"gridcolor\":\"white\",\"linecolor\":\"white\",\"minorgridcolor\":\"white\",\"startlinecolor\":\"#2a3f5f\"},\"baxis\":{\"endlinecolor\":\"#2a3f5f\",\"gridcolor\":\"white\",\"linecolor\":\"white\",\"minorgridcolor\":\"white\",\"startlinecolor\":\"#2a3f5f\"},\"type\":\"carpet\"}],\"choropleth\":[{\"colorbar\":{\"outlinewidth\":0,\"ticks\":\"\"},\"type\":\"choropleth\"}],\"contourcarpet\":[{\"colorbar\":{\"outlinewidth\":0,\"ticks\":\"\"},\"type\":\"contourcarpet\"}],\"contour\":[{\"colorbar\":{\"outlinewidth\":0,\"ticks\":\"\"},\"colorscale\":[[0.0,\"#0d0887\"],[0.1111111111111111,\"#46039f\"],[0.2222222222222222,\"#7201a8\"],[0.3333333333333333,\"#9c179e\"],[0.4444444444444444,\"#bd3786\"],[0.5555555555555556,\"#d8576b\"],[0.6666666666666666,\"#ed7953\"],[0.7777777777777778,\"#fb9f3a\"],[0.8888888888888888,\"#fdca26\"],[1.0,\"#f0f921\"]],\"type\":\"contour\"}],\"heatmapgl\":[{\"colorbar\":{\"outlinewidth\":0,\"ticks\":\"\"},\"colorscale\":[[0.0,\"#0d0887\"],[0.1111111111111111,\"#46039f\"],[0.2222222222222222,\"#7201a8\"],[0.3333333333333333,\"#9c179e\"],[0.4444444444444444,\"#bd3786\"],[0.5555555555555556,\"#d8576b\"],[0.6666666666666666,\"#ed7953\"],[0.7777777777777778,\"#fb9f3a\"],[0.8888888888888888,\"#fdca26\"],[1.0,\"#f0f921\"]],\"type\":\"heatmapgl\"}],\"heatmap\":[{\"colorbar\":{\"outlinewidth\":0,\"ticks\":\"\"},\"colorscale\":[[0.0,\"#0d0887\"],[0.1111111111111111,\"#46039f\"],[0.2222222222222222,\"#7201a8\"],[0.3333333333333333,\"#9c179e\"],[0.4444444444444444,\"#bd3786\"],[0.5555555555555556,\"#d8576b\"],[0.6666666666666666,\"#ed7953\"],[0.7777777777777778,\"#fb9f3a\"],[0.8888888888888888,\"#fdca26\"],[1.0,\"#f0f921\"]],\"type\":\"heatmap\"}],\"histogram2dcontour\":[{\"colorbar\":{\"outlinewidth\":0,\"ticks\":\"\"},\"colorscale\":[[0.0,\"#0d0887\"],[0.1111111111111111,\"#46039f\"],[0.2222222222222222,\"#7201a8\"],[0.3333333333333333,\"#9c179e\"],[0.4444444444444444,\"#bd3786\"],[0.5555555555555556,\"#d8576b\"],[0.6666666666666666,\"#ed7953\"],[0.7777777777777778,\"#fb9f3a\"],[0.8888888888888888,\"#fdca26\"],[1.0,\"#f0f921\"]],\"type\":\"histogram2dcontour\"}],\"histogram2d\":[{\"colorbar\":{\"outlinewidth\":0,\"ticks\":\"\"},\"colorscale\":[[0.0,\"#0d0887\"],[0.1111111111111111,\"#46039f\"],[0.2222222222222222,\"#7201a8\"],[0.3333333333333333,\"#9c179e\"],[0.4444444444444444,\"#bd3786\"],[0.5555555555555556,\"#d8576b\"],[0.6666666666666666,\"#ed7953\"],[0.7777777777777778,\"#fb9f3a\"],[0.8888888888888888,\"#fdca26\"],[1.0,\"#f0f921\"]],\"type\":\"histogram2d\"}],\"histogram\":[{\"marker\":{\"pattern\":{\"fillmode\":\"overlay\",\"size\":10,\"solidity\":0.2}},\"type\":\"histogram\"}],\"mesh3d\":[{\"colorbar\":{\"outlinewidth\":0,\"ticks\":\"\"},\"type\":\"mesh3d\"}],\"parcoords\":[{\"line\":{\"colorbar\":{\"outlinewidth\":0,\"ticks\":\"\"}},\"type\":\"parcoords\"}],\"pie\":[{\"automargin\":true,\"type\":\"pie\"}],\"scatter3d\":[{\"line\":{\"colorbar\":{\"outlinewidth\":0,\"ticks\":\"\"}},\"marker\":{\"colorbar\":{\"outlinewidth\":0,\"ticks\":\"\"}},\"type\":\"scatter3d\"}],\"scattercarpet\":[{\"marker\":{\"colorbar\":{\"outlinewidth\":0,\"ticks\":\"\"}},\"type\":\"scattercarpet\"}],\"scattergeo\":[{\"marker\":{\"colorbar\":{\"outlinewidth\":0,\"ticks\":\"\"}},\"type\":\"scattergeo\"}],\"scattergl\":[{\"marker\":{\"colorbar\":{\"outlinewidth\":0,\"ticks\":\"\"}},\"type\":\"scattergl\"}],\"scattermapbox\":[{\"marker\":{\"colorbar\":{\"outlinewidth\":0,\"ticks\":\"\"}},\"type\":\"scattermapbox\"}],\"scatterpolargl\":[{\"marker\":{\"colorbar\":{\"outlinewidth\":0,\"ticks\":\"\"}},\"type\":\"scatterpolargl\"}],\"scatterpolar\":[{\"marker\":{\"colorbar\":{\"outlinewidth\":0,\"ticks\":\"\"}},\"type\":\"scatterpolar\"}],\"scatter\":[{\"fillpattern\":{\"fillmode\":\"overlay\",\"size\":10,\"solidity\":0.2},\"type\":\"scatter\"}],\"scatterternary\":[{\"marker\":{\"colorbar\":{\"outlinewidth\":0,\"ticks\":\"\"}},\"type\":\"scatterternary\"}],\"surface\":[{\"colorbar\":{\"outlinewidth\":0,\"ticks\":\"\"},\"colorscale\":[[0.0,\"#0d0887\"],[0.1111111111111111,\"#46039f\"],[0.2222222222222222,\"#7201a8\"],[0.3333333333333333,\"#9c179e\"],[0.4444444444444444,\"#bd3786\"],[0.5555555555555556,\"#d8576b\"],[0.6666666666666666,\"#ed7953\"],[0.7777777777777778,\"#fb9f3a\"],[0.8888888888888888,\"#fdca26\"],[1.0,\"#f0f921\"]],\"type\":\"surface\"}],\"table\":[{\"cells\":{\"fill\":{\"color\":\"#EBF0F8\"},\"line\":{\"color\":\"white\"}},\"header\":{\"fill\":{\"color\":\"#C8D4E3\"},\"line\":{\"color\":\"white\"}},\"type\":\"table\"}]},\"layout\":{\"annotationdefaults\":{\"arrowcolor\":\"#2a3f5f\",\"arrowhead\":0,\"arrowwidth\":1},\"autotypenumbers\":\"strict\",\"coloraxis\":{\"colorbar\":{\"outlinewidth\":0,\"ticks\":\"\"}},\"colorscale\":{\"diverging\":[[0,\"#8e0152\"],[0.1,\"#c51b7d\"],[0.2,\"#de77ae\"],[0.3,\"#f1b6da\"],[0.4,\"#fde0ef\"],[0.5,\"#f7f7f7\"],[0.6,\"#e6f5d0\"],[0.7,\"#b8e186\"],[0.8,\"#7fbc41\"],[0.9,\"#4d9221\"],[1,\"#276419\"]],\"sequential\":[[0.0,\"#0d0887\"],[0.1111111111111111,\"#46039f\"],[0.2222222222222222,\"#7201a8\"],[0.3333333333333333,\"#9c179e\"],[0.4444444444444444,\"#bd3786\"],[0.5555555555555556,\"#d8576b\"],[0.6666666666666666,\"#ed7953\"],[0.7777777777777778,\"#fb9f3a\"],[0.8888888888888888,\"#fdca26\"],[1.0,\"#f0f921\"]],\"sequentialminus\":[[0.0,\"#0d0887\"],[0.1111111111111111,\"#46039f\"],[0.2222222222222222,\"#7201a8\"],[0.3333333333333333,\"#9c179e\"],[0.4444444444444444,\"#bd3786\"],[0.5555555555555556,\"#d8576b\"],[0.6666666666666666,\"#ed7953\"],[0.7777777777777778,\"#fb9f3a\"],[0.8888888888888888,\"#fdca26\"],[1.0,\"#f0f921\"]]},\"colorway\":[\"#636efa\",\"#EF553B\",\"#00cc96\",\"#ab63fa\",\"#FFA15A\",\"#19d3f3\",\"#FF6692\",\"#B6E880\",\"#FF97FF\",\"#FECB52\"],\"font\":{\"color\":\"#2a3f5f\"},\"geo\":{\"bgcolor\":\"white\",\"lakecolor\":\"white\",\"landcolor\":\"#E5ECF6\",\"showlakes\":true,\"showland\":true,\"subunitcolor\":\"white\"},\"hoverlabel\":{\"align\":\"left\"},\"hovermode\":\"closest\",\"mapbox\":{\"style\":\"light\"},\"paper_bgcolor\":\"white\",\"plot_bgcolor\":\"#E5ECF6\",\"polar\":{\"angularaxis\":{\"gridcolor\":\"white\",\"linecolor\":\"white\",\"ticks\":\"\"},\"bgcolor\":\"#E5ECF6\",\"radialaxis\":{\"gridcolor\":\"white\",\"linecolor\":\"white\",\"ticks\":\"\"}},\"scene\":{\"xaxis\":{\"backgroundcolor\":\"#E5ECF6\",\"gridcolor\":\"white\",\"gridwidth\":2,\"linecolor\":\"white\",\"showbackground\":true,\"ticks\":\"\",\"zerolinecolor\":\"white\"},\"yaxis\":{\"backgroundcolor\":\"#E5ECF6\",\"gridcolor\":\"white\",\"gridwidth\":2,\"linecolor\":\"white\",\"showbackground\":true,\"ticks\":\"\",\"zerolinecolor\":\"white\"},\"zaxis\":{\"backgroundcolor\":\"#E5ECF6\",\"gridcolor\":\"white\",\"gridwidth\":2,\"linecolor\":\"white\",\"showbackground\":true,\"ticks\":\"\",\"zerolinecolor\":\"white\"}},\"shapedefaults\":{\"line\":{\"color\":\"#2a3f5f\"}},\"ternary\":{\"aaxis\":{\"gridcolor\":\"white\",\"linecolor\":\"white\",\"ticks\":\"\"},\"baxis\":{\"gridcolor\":\"white\",\"linecolor\":\"white\",\"ticks\":\"\"},\"bgcolor\":\"#E5ECF6\",\"caxis\":{\"gridcolor\":\"white\",\"linecolor\":\"white\",\"ticks\":\"\"}},\"title\":{\"x\":0.05},\"xaxis\":{\"automargin\":true,\"gridcolor\":\"white\",\"linecolor\":\"white\",\"ticks\":\"\",\"title\":{\"standoff\":15},\"zerolinecolor\":\"white\",\"zerolinewidth\":2},\"yaxis\":{\"automargin\":true,\"gridcolor\":\"white\",\"linecolor\":\"white\",\"ticks\":\"\",\"title\":{\"standoff\":15},\"zerolinecolor\":\"white\",\"zerolinewidth\":2}}},\"title\":{\"font\":{\"color\":\"#4D5663\"}},\"xaxis\":{\"gridcolor\":\"#E1E5ED\",\"showgrid\":true,\"tickfont\":{\"color\":\"#4D5663\"},\"title\":{\"font\":{\"color\":\"#4D5663\"},\"text\":\"\"},\"zerolinecolor\":\"#E1E5ED\"},\"yaxis\":{\"gridcolor\":\"#E1E5ED\",\"showgrid\":true,\"tickfont\":{\"color\":\"#4D5663\"},\"title\":{\"font\":{\"color\":\"#4D5663\"},\"text\":\"\"},\"zerolinecolor\":\"#E1E5ED\"}},                        {\"showLink\": true, \"linkText\": \"Export to plot.ly\", \"plotlyServerURL\": \"https://plot.ly\", \"responsive\": true}                    ).then(function(){\n",
       "                            \n",
       "var gd = document.getElementById('004535fb-ef00-4951-9943-7f50527002f3');\n",
       "var x = new MutationObserver(function (mutations, observer) {{\n",
       "        var display = window.getComputedStyle(gd).display;\n",
       "        if (!display || display === 'none') {{\n",
       "            console.log([gd, 'removed!']);\n",
       "            Plotly.purge(gd);\n",
       "            observer.disconnect();\n",
       "        }}\n",
       "}});\n",
       "\n",
       "// Listen for the removal of the full notebook cells\n",
       "var notebookContainer = gd.closest('#notebook-container');\n",
       "if (notebookContainer) {{\n",
       "    x.observe(notebookContainer, {childList: true});\n",
       "}}\n",
       "\n",
       "// Listen for the clearing of the current output cell\n",
       "var outputEl = gd.closest('.output');\n",
       "if (outputEl) {{\n",
       "    x.observe(outputEl, {childList: true});\n",
       "}}\n",
       "\n",
       "                        })                };                });            </script>        </div>"
      ]
     },
     "metadata": {},
     "output_type": "display_data"
    }
   ],
   "source": [
    "df.count().iplot(kind='bar') # if used in df1 it must be aggregated (grouped by) always think of that"
   ]
  },
  {
   "cell_type": "code",
   "execution_count": 41,
   "metadata": {},
   "outputs": [
    {
     "data": {
      "application/vnd.plotly.v1+json": {
       "config": {
        "linkText": "Export to plot.ly",
        "plotlyServerURL": "https://plot.ly",
        "showLink": true
       },
       "data": [
        {
         "marker": {
          "color": "rgba(255, 153, 51, 0.6)",
          "line": {
           "color": "rgba(255, 153, 51, 1.0)",
           "width": 1
          }
         },
         "name": "None",
         "orientation": "v",
         "text": "",
         "type": "bar",
         "x": [
          "A",
          "B",
          "C",
          "D"
         ],
         "y": [
          -9.476892455145705,
          -2.6381108337841614,
          -2.515657853580733,
          -18.851312205759893
         ]
        }
       ],
       "layout": {
        "legend": {
         "bgcolor": "#F5F6F9",
         "font": {
          "color": "#4D5663"
         }
        },
        "paper_bgcolor": "#F5F6F9",
        "plot_bgcolor": "#F5F6F9",
        "template": {
         "data": {
          "bar": [
           {
            "error_x": {
             "color": "#2a3f5f"
            },
            "error_y": {
             "color": "#2a3f5f"
            },
            "marker": {
             "line": {
              "color": "#E5ECF6",
              "width": 0.5
             },
             "pattern": {
              "fillmode": "overlay",
              "size": 10,
              "solidity": 0.2
             }
            },
            "type": "bar"
           }
          ],
          "barpolar": [
           {
            "marker": {
             "line": {
              "color": "#E5ECF6",
              "width": 0.5
             },
             "pattern": {
              "fillmode": "overlay",
              "size": 10,
              "solidity": 0.2
             }
            },
            "type": "barpolar"
           }
          ],
          "carpet": [
           {
            "aaxis": {
             "endlinecolor": "#2a3f5f",
             "gridcolor": "white",
             "linecolor": "white",
             "minorgridcolor": "white",
             "startlinecolor": "#2a3f5f"
            },
            "baxis": {
             "endlinecolor": "#2a3f5f",
             "gridcolor": "white",
             "linecolor": "white",
             "minorgridcolor": "white",
             "startlinecolor": "#2a3f5f"
            },
            "type": "carpet"
           }
          ],
          "choropleth": [
           {
            "colorbar": {
             "outlinewidth": 0,
             "ticks": ""
            },
            "type": "choropleth"
           }
          ],
          "contour": [
           {
            "colorbar": {
             "outlinewidth": 0,
             "ticks": ""
            },
            "colorscale": [
             [
              0,
              "#0d0887"
             ],
             [
              0.1111111111111111,
              "#46039f"
             ],
             [
              0.2222222222222222,
              "#7201a8"
             ],
             [
              0.3333333333333333,
              "#9c179e"
             ],
             [
              0.4444444444444444,
              "#bd3786"
             ],
             [
              0.5555555555555556,
              "#d8576b"
             ],
             [
              0.6666666666666666,
              "#ed7953"
             ],
             [
              0.7777777777777778,
              "#fb9f3a"
             ],
             [
              0.8888888888888888,
              "#fdca26"
             ],
             [
              1,
              "#f0f921"
             ]
            ],
            "type": "contour"
           }
          ],
          "contourcarpet": [
           {
            "colorbar": {
             "outlinewidth": 0,
             "ticks": ""
            },
            "type": "contourcarpet"
           }
          ],
          "heatmap": [
           {
            "colorbar": {
             "outlinewidth": 0,
             "ticks": ""
            },
            "colorscale": [
             [
              0,
              "#0d0887"
             ],
             [
              0.1111111111111111,
              "#46039f"
             ],
             [
              0.2222222222222222,
              "#7201a8"
             ],
             [
              0.3333333333333333,
              "#9c179e"
             ],
             [
              0.4444444444444444,
              "#bd3786"
             ],
             [
              0.5555555555555556,
              "#d8576b"
             ],
             [
              0.6666666666666666,
              "#ed7953"
             ],
             [
              0.7777777777777778,
              "#fb9f3a"
             ],
             [
              0.8888888888888888,
              "#fdca26"
             ],
             [
              1,
              "#f0f921"
             ]
            ],
            "type": "heatmap"
           }
          ],
          "heatmapgl": [
           {
            "colorbar": {
             "outlinewidth": 0,
             "ticks": ""
            },
            "colorscale": [
             [
              0,
              "#0d0887"
             ],
             [
              0.1111111111111111,
              "#46039f"
             ],
             [
              0.2222222222222222,
              "#7201a8"
             ],
             [
              0.3333333333333333,
              "#9c179e"
             ],
             [
              0.4444444444444444,
              "#bd3786"
             ],
             [
              0.5555555555555556,
              "#d8576b"
             ],
             [
              0.6666666666666666,
              "#ed7953"
             ],
             [
              0.7777777777777778,
              "#fb9f3a"
             ],
             [
              0.8888888888888888,
              "#fdca26"
             ],
             [
              1,
              "#f0f921"
             ]
            ],
            "type": "heatmapgl"
           }
          ],
          "histogram": [
           {
            "marker": {
             "pattern": {
              "fillmode": "overlay",
              "size": 10,
              "solidity": 0.2
             }
            },
            "type": "histogram"
           }
          ],
          "histogram2d": [
           {
            "colorbar": {
             "outlinewidth": 0,
             "ticks": ""
            },
            "colorscale": [
             [
              0,
              "#0d0887"
             ],
             [
              0.1111111111111111,
              "#46039f"
             ],
             [
              0.2222222222222222,
              "#7201a8"
             ],
             [
              0.3333333333333333,
              "#9c179e"
             ],
             [
              0.4444444444444444,
              "#bd3786"
             ],
             [
              0.5555555555555556,
              "#d8576b"
             ],
             [
              0.6666666666666666,
              "#ed7953"
             ],
             [
              0.7777777777777778,
              "#fb9f3a"
             ],
             [
              0.8888888888888888,
              "#fdca26"
             ],
             [
              1,
              "#f0f921"
             ]
            ],
            "type": "histogram2d"
           }
          ],
          "histogram2dcontour": [
           {
            "colorbar": {
             "outlinewidth": 0,
             "ticks": ""
            },
            "colorscale": [
             [
              0,
              "#0d0887"
             ],
             [
              0.1111111111111111,
              "#46039f"
             ],
             [
              0.2222222222222222,
              "#7201a8"
             ],
             [
              0.3333333333333333,
              "#9c179e"
             ],
             [
              0.4444444444444444,
              "#bd3786"
             ],
             [
              0.5555555555555556,
              "#d8576b"
             ],
             [
              0.6666666666666666,
              "#ed7953"
             ],
             [
              0.7777777777777778,
              "#fb9f3a"
             ],
             [
              0.8888888888888888,
              "#fdca26"
             ],
             [
              1,
              "#f0f921"
             ]
            ],
            "type": "histogram2dcontour"
           }
          ],
          "mesh3d": [
           {
            "colorbar": {
             "outlinewidth": 0,
             "ticks": ""
            },
            "type": "mesh3d"
           }
          ],
          "parcoords": [
           {
            "line": {
             "colorbar": {
              "outlinewidth": 0,
              "ticks": ""
             }
            },
            "type": "parcoords"
           }
          ],
          "pie": [
           {
            "automargin": true,
            "type": "pie"
           }
          ],
          "scatter": [
           {
            "fillpattern": {
             "fillmode": "overlay",
             "size": 10,
             "solidity": 0.2
            },
            "type": "scatter"
           }
          ],
          "scatter3d": [
           {
            "line": {
             "colorbar": {
              "outlinewidth": 0,
              "ticks": ""
             }
            },
            "marker": {
             "colorbar": {
              "outlinewidth": 0,
              "ticks": ""
             }
            },
            "type": "scatter3d"
           }
          ],
          "scattercarpet": [
           {
            "marker": {
             "colorbar": {
              "outlinewidth": 0,
              "ticks": ""
             }
            },
            "type": "scattercarpet"
           }
          ],
          "scattergeo": [
           {
            "marker": {
             "colorbar": {
              "outlinewidth": 0,
              "ticks": ""
             }
            },
            "type": "scattergeo"
           }
          ],
          "scattergl": [
           {
            "marker": {
             "colorbar": {
              "outlinewidth": 0,
              "ticks": ""
             }
            },
            "type": "scattergl"
           }
          ],
          "scattermapbox": [
           {
            "marker": {
             "colorbar": {
              "outlinewidth": 0,
              "ticks": ""
             }
            },
            "type": "scattermapbox"
           }
          ],
          "scatterpolar": [
           {
            "marker": {
             "colorbar": {
              "outlinewidth": 0,
              "ticks": ""
             }
            },
            "type": "scatterpolar"
           }
          ],
          "scatterpolargl": [
           {
            "marker": {
             "colorbar": {
              "outlinewidth": 0,
              "ticks": ""
             }
            },
            "type": "scatterpolargl"
           }
          ],
          "scatterternary": [
           {
            "marker": {
             "colorbar": {
              "outlinewidth": 0,
              "ticks": ""
             }
            },
            "type": "scatterternary"
           }
          ],
          "surface": [
           {
            "colorbar": {
             "outlinewidth": 0,
             "ticks": ""
            },
            "colorscale": [
             [
              0,
              "#0d0887"
             ],
             [
              0.1111111111111111,
              "#46039f"
             ],
             [
              0.2222222222222222,
              "#7201a8"
             ],
             [
              0.3333333333333333,
              "#9c179e"
             ],
             [
              0.4444444444444444,
              "#bd3786"
             ],
             [
              0.5555555555555556,
              "#d8576b"
             ],
             [
              0.6666666666666666,
              "#ed7953"
             ],
             [
              0.7777777777777778,
              "#fb9f3a"
             ],
             [
              0.8888888888888888,
              "#fdca26"
             ],
             [
              1,
              "#f0f921"
             ]
            ],
            "type": "surface"
           }
          ],
          "table": [
           {
            "cells": {
             "fill": {
              "color": "#EBF0F8"
             },
             "line": {
              "color": "white"
             }
            },
            "header": {
             "fill": {
              "color": "#C8D4E3"
             },
             "line": {
              "color": "white"
             }
            },
            "type": "table"
           }
          ]
         },
         "layout": {
          "annotationdefaults": {
           "arrowcolor": "#2a3f5f",
           "arrowhead": 0,
           "arrowwidth": 1
          },
          "autotypenumbers": "strict",
          "coloraxis": {
           "colorbar": {
            "outlinewidth": 0,
            "ticks": ""
           }
          },
          "colorscale": {
           "diverging": [
            [
             0,
             "#8e0152"
            ],
            [
             0.1,
             "#c51b7d"
            ],
            [
             0.2,
             "#de77ae"
            ],
            [
             0.3,
             "#f1b6da"
            ],
            [
             0.4,
             "#fde0ef"
            ],
            [
             0.5,
             "#f7f7f7"
            ],
            [
             0.6,
             "#e6f5d0"
            ],
            [
             0.7,
             "#b8e186"
            ],
            [
             0.8,
             "#7fbc41"
            ],
            [
             0.9,
             "#4d9221"
            ],
            [
             1,
             "#276419"
            ]
           ],
           "sequential": [
            [
             0,
             "#0d0887"
            ],
            [
             0.1111111111111111,
             "#46039f"
            ],
            [
             0.2222222222222222,
             "#7201a8"
            ],
            [
             0.3333333333333333,
             "#9c179e"
            ],
            [
             0.4444444444444444,
             "#bd3786"
            ],
            [
             0.5555555555555556,
             "#d8576b"
            ],
            [
             0.6666666666666666,
             "#ed7953"
            ],
            [
             0.7777777777777778,
             "#fb9f3a"
            ],
            [
             0.8888888888888888,
             "#fdca26"
            ],
            [
             1,
             "#f0f921"
            ]
           ],
           "sequentialminus": [
            [
             0,
             "#0d0887"
            ],
            [
             0.1111111111111111,
             "#46039f"
            ],
            [
             0.2222222222222222,
             "#7201a8"
            ],
            [
             0.3333333333333333,
             "#9c179e"
            ],
            [
             0.4444444444444444,
             "#bd3786"
            ],
            [
             0.5555555555555556,
             "#d8576b"
            ],
            [
             0.6666666666666666,
             "#ed7953"
            ],
            [
             0.7777777777777778,
             "#fb9f3a"
            ],
            [
             0.8888888888888888,
             "#fdca26"
            ],
            [
             1,
             "#f0f921"
            ]
           ]
          },
          "colorway": [
           "#636efa",
           "#EF553B",
           "#00cc96",
           "#ab63fa",
           "#FFA15A",
           "#19d3f3",
           "#FF6692",
           "#B6E880",
           "#FF97FF",
           "#FECB52"
          ],
          "font": {
           "color": "#2a3f5f"
          },
          "geo": {
           "bgcolor": "white",
           "lakecolor": "white",
           "landcolor": "#E5ECF6",
           "showlakes": true,
           "showland": true,
           "subunitcolor": "white"
          },
          "hoverlabel": {
           "align": "left"
          },
          "hovermode": "closest",
          "mapbox": {
           "style": "light"
          },
          "paper_bgcolor": "white",
          "plot_bgcolor": "#E5ECF6",
          "polar": {
           "angularaxis": {
            "gridcolor": "white",
            "linecolor": "white",
            "ticks": ""
           },
           "bgcolor": "#E5ECF6",
           "radialaxis": {
            "gridcolor": "white",
            "linecolor": "white",
            "ticks": ""
           }
          },
          "scene": {
           "xaxis": {
            "backgroundcolor": "#E5ECF6",
            "gridcolor": "white",
            "gridwidth": 2,
            "linecolor": "white",
            "showbackground": true,
            "ticks": "",
            "zerolinecolor": "white"
           },
           "yaxis": {
            "backgroundcolor": "#E5ECF6",
            "gridcolor": "white",
            "gridwidth": 2,
            "linecolor": "white",
            "showbackground": true,
            "ticks": "",
            "zerolinecolor": "white"
           },
           "zaxis": {
            "backgroundcolor": "#E5ECF6",
            "gridcolor": "white",
            "gridwidth": 2,
            "linecolor": "white",
            "showbackground": true,
            "ticks": "",
            "zerolinecolor": "white"
           }
          },
          "shapedefaults": {
           "line": {
            "color": "#2a3f5f"
           }
          },
          "ternary": {
           "aaxis": {
            "gridcolor": "white",
            "linecolor": "white",
            "ticks": ""
           },
           "baxis": {
            "gridcolor": "white",
            "linecolor": "white",
            "ticks": ""
           },
           "bgcolor": "#E5ECF6",
           "caxis": {
            "gridcolor": "white",
            "linecolor": "white",
            "ticks": ""
           }
          },
          "title": {
           "x": 0.05
          },
          "xaxis": {
           "automargin": true,
           "gridcolor": "white",
           "linecolor": "white",
           "ticks": "",
           "title": {
            "standoff": 15
           },
           "zerolinecolor": "white",
           "zerolinewidth": 2
          },
          "yaxis": {
           "automargin": true,
           "gridcolor": "white",
           "linecolor": "white",
           "ticks": "",
           "title": {
            "standoff": 15
           },
           "zerolinecolor": "white",
           "zerolinewidth": 2
          }
         }
        },
        "title": {
         "font": {
          "color": "#4D5663"
         }
        },
        "xaxis": {
         "gridcolor": "#E1E5ED",
         "showgrid": true,
         "tickfont": {
          "color": "#4D5663"
         },
         "title": {
          "font": {
           "color": "#4D5663"
          },
          "text": ""
         },
         "zerolinecolor": "#E1E5ED"
        },
        "yaxis": {
         "gridcolor": "#E1E5ED",
         "showgrid": true,
         "tickfont": {
          "color": "#4D5663"
         },
         "title": {
          "font": {
           "color": "#4D5663"
          },
          "text": ""
         },
         "zerolinecolor": "#E1E5ED"
        }
       }
      },
      "text/html": [
       "<div>                            <div id=\"02a6e597-402b-4d39-8211-879ca026d8d8\" class=\"plotly-graph-div\" style=\"height:525px; width:100%;\"></div>            <script type=\"text/javascript\">                require([\"plotly\"], function(Plotly) {                    window.PLOTLYENV=window.PLOTLYENV || {};\n",
       "                    window.PLOTLYENV.BASE_URL='https://plot.ly';                                    if (document.getElementById(\"02a6e597-402b-4d39-8211-879ca026d8d8\")) {                    Plotly.newPlot(                        \"02a6e597-402b-4d39-8211-879ca026d8d8\",                        [{\"marker\":{\"color\":\"rgba(255, 153, 51, 0.6)\",\"line\":{\"color\":\"rgba(255, 153, 51, 1.0)\",\"width\":1}},\"name\":\"None\",\"orientation\":\"v\",\"text\":\"\",\"x\":[\"A\",\"B\",\"C\",\"D\"],\"y\":[-9.476892455145705,-2.6381108337841614,-2.515657853580733,-18.851312205759893],\"type\":\"bar\"}],                        {\"legend\":{\"bgcolor\":\"#F5F6F9\",\"font\":{\"color\":\"#4D5663\"}},\"paper_bgcolor\":\"#F5F6F9\",\"plot_bgcolor\":\"#F5F6F9\",\"template\":{\"data\":{\"barpolar\":[{\"marker\":{\"line\":{\"color\":\"#E5ECF6\",\"width\":0.5},\"pattern\":{\"fillmode\":\"overlay\",\"size\":10,\"solidity\":0.2}},\"type\":\"barpolar\"}],\"bar\":[{\"error_x\":{\"color\":\"#2a3f5f\"},\"error_y\":{\"color\":\"#2a3f5f\"},\"marker\":{\"line\":{\"color\":\"#E5ECF6\",\"width\":0.5},\"pattern\":{\"fillmode\":\"overlay\",\"size\":10,\"solidity\":0.2}},\"type\":\"bar\"}],\"carpet\":[{\"aaxis\":{\"endlinecolor\":\"#2a3f5f\",\"gridcolor\":\"white\",\"linecolor\":\"white\",\"minorgridcolor\":\"white\",\"startlinecolor\":\"#2a3f5f\"},\"baxis\":{\"endlinecolor\":\"#2a3f5f\",\"gridcolor\":\"white\",\"linecolor\":\"white\",\"minorgridcolor\":\"white\",\"startlinecolor\":\"#2a3f5f\"},\"type\":\"carpet\"}],\"choropleth\":[{\"colorbar\":{\"outlinewidth\":0,\"ticks\":\"\"},\"type\":\"choropleth\"}],\"contourcarpet\":[{\"colorbar\":{\"outlinewidth\":0,\"ticks\":\"\"},\"type\":\"contourcarpet\"}],\"contour\":[{\"colorbar\":{\"outlinewidth\":0,\"ticks\":\"\"},\"colorscale\":[[0.0,\"#0d0887\"],[0.1111111111111111,\"#46039f\"],[0.2222222222222222,\"#7201a8\"],[0.3333333333333333,\"#9c179e\"],[0.4444444444444444,\"#bd3786\"],[0.5555555555555556,\"#d8576b\"],[0.6666666666666666,\"#ed7953\"],[0.7777777777777778,\"#fb9f3a\"],[0.8888888888888888,\"#fdca26\"],[1.0,\"#f0f921\"]],\"type\":\"contour\"}],\"heatmapgl\":[{\"colorbar\":{\"outlinewidth\":0,\"ticks\":\"\"},\"colorscale\":[[0.0,\"#0d0887\"],[0.1111111111111111,\"#46039f\"],[0.2222222222222222,\"#7201a8\"],[0.3333333333333333,\"#9c179e\"],[0.4444444444444444,\"#bd3786\"],[0.5555555555555556,\"#d8576b\"],[0.6666666666666666,\"#ed7953\"],[0.7777777777777778,\"#fb9f3a\"],[0.8888888888888888,\"#fdca26\"],[1.0,\"#f0f921\"]],\"type\":\"heatmapgl\"}],\"heatmap\":[{\"colorbar\":{\"outlinewidth\":0,\"ticks\":\"\"},\"colorscale\":[[0.0,\"#0d0887\"],[0.1111111111111111,\"#46039f\"],[0.2222222222222222,\"#7201a8\"],[0.3333333333333333,\"#9c179e\"],[0.4444444444444444,\"#bd3786\"],[0.5555555555555556,\"#d8576b\"],[0.6666666666666666,\"#ed7953\"],[0.7777777777777778,\"#fb9f3a\"],[0.8888888888888888,\"#fdca26\"],[1.0,\"#f0f921\"]],\"type\":\"heatmap\"}],\"histogram2dcontour\":[{\"colorbar\":{\"outlinewidth\":0,\"ticks\":\"\"},\"colorscale\":[[0.0,\"#0d0887\"],[0.1111111111111111,\"#46039f\"],[0.2222222222222222,\"#7201a8\"],[0.3333333333333333,\"#9c179e\"],[0.4444444444444444,\"#bd3786\"],[0.5555555555555556,\"#d8576b\"],[0.6666666666666666,\"#ed7953\"],[0.7777777777777778,\"#fb9f3a\"],[0.8888888888888888,\"#fdca26\"],[1.0,\"#f0f921\"]],\"type\":\"histogram2dcontour\"}],\"histogram2d\":[{\"colorbar\":{\"outlinewidth\":0,\"ticks\":\"\"},\"colorscale\":[[0.0,\"#0d0887\"],[0.1111111111111111,\"#46039f\"],[0.2222222222222222,\"#7201a8\"],[0.3333333333333333,\"#9c179e\"],[0.4444444444444444,\"#bd3786\"],[0.5555555555555556,\"#d8576b\"],[0.6666666666666666,\"#ed7953\"],[0.7777777777777778,\"#fb9f3a\"],[0.8888888888888888,\"#fdca26\"],[1.0,\"#f0f921\"]],\"type\":\"histogram2d\"}],\"histogram\":[{\"marker\":{\"pattern\":{\"fillmode\":\"overlay\",\"size\":10,\"solidity\":0.2}},\"type\":\"histogram\"}],\"mesh3d\":[{\"colorbar\":{\"outlinewidth\":0,\"ticks\":\"\"},\"type\":\"mesh3d\"}],\"parcoords\":[{\"line\":{\"colorbar\":{\"outlinewidth\":0,\"ticks\":\"\"}},\"type\":\"parcoords\"}],\"pie\":[{\"automargin\":true,\"type\":\"pie\"}],\"scatter3d\":[{\"line\":{\"colorbar\":{\"outlinewidth\":0,\"ticks\":\"\"}},\"marker\":{\"colorbar\":{\"outlinewidth\":0,\"ticks\":\"\"}},\"type\":\"scatter3d\"}],\"scattercarpet\":[{\"marker\":{\"colorbar\":{\"outlinewidth\":0,\"ticks\":\"\"}},\"type\":\"scattercarpet\"}],\"scattergeo\":[{\"marker\":{\"colorbar\":{\"outlinewidth\":0,\"ticks\":\"\"}},\"type\":\"scattergeo\"}],\"scattergl\":[{\"marker\":{\"colorbar\":{\"outlinewidth\":0,\"ticks\":\"\"}},\"type\":\"scattergl\"}],\"scattermapbox\":[{\"marker\":{\"colorbar\":{\"outlinewidth\":0,\"ticks\":\"\"}},\"type\":\"scattermapbox\"}],\"scatterpolargl\":[{\"marker\":{\"colorbar\":{\"outlinewidth\":0,\"ticks\":\"\"}},\"type\":\"scatterpolargl\"}],\"scatterpolar\":[{\"marker\":{\"colorbar\":{\"outlinewidth\":0,\"ticks\":\"\"}},\"type\":\"scatterpolar\"}],\"scatter\":[{\"fillpattern\":{\"fillmode\":\"overlay\",\"size\":10,\"solidity\":0.2},\"type\":\"scatter\"}],\"scatterternary\":[{\"marker\":{\"colorbar\":{\"outlinewidth\":0,\"ticks\":\"\"}},\"type\":\"scatterternary\"}],\"surface\":[{\"colorbar\":{\"outlinewidth\":0,\"ticks\":\"\"},\"colorscale\":[[0.0,\"#0d0887\"],[0.1111111111111111,\"#46039f\"],[0.2222222222222222,\"#7201a8\"],[0.3333333333333333,\"#9c179e\"],[0.4444444444444444,\"#bd3786\"],[0.5555555555555556,\"#d8576b\"],[0.6666666666666666,\"#ed7953\"],[0.7777777777777778,\"#fb9f3a\"],[0.8888888888888888,\"#fdca26\"],[1.0,\"#f0f921\"]],\"type\":\"surface\"}],\"table\":[{\"cells\":{\"fill\":{\"color\":\"#EBF0F8\"},\"line\":{\"color\":\"white\"}},\"header\":{\"fill\":{\"color\":\"#C8D4E3\"},\"line\":{\"color\":\"white\"}},\"type\":\"table\"}]},\"layout\":{\"annotationdefaults\":{\"arrowcolor\":\"#2a3f5f\",\"arrowhead\":0,\"arrowwidth\":1},\"autotypenumbers\":\"strict\",\"coloraxis\":{\"colorbar\":{\"outlinewidth\":0,\"ticks\":\"\"}},\"colorscale\":{\"diverging\":[[0,\"#8e0152\"],[0.1,\"#c51b7d\"],[0.2,\"#de77ae\"],[0.3,\"#f1b6da\"],[0.4,\"#fde0ef\"],[0.5,\"#f7f7f7\"],[0.6,\"#e6f5d0\"],[0.7,\"#b8e186\"],[0.8,\"#7fbc41\"],[0.9,\"#4d9221\"],[1,\"#276419\"]],\"sequential\":[[0.0,\"#0d0887\"],[0.1111111111111111,\"#46039f\"],[0.2222222222222222,\"#7201a8\"],[0.3333333333333333,\"#9c179e\"],[0.4444444444444444,\"#bd3786\"],[0.5555555555555556,\"#d8576b\"],[0.6666666666666666,\"#ed7953\"],[0.7777777777777778,\"#fb9f3a\"],[0.8888888888888888,\"#fdca26\"],[1.0,\"#f0f921\"]],\"sequentialminus\":[[0.0,\"#0d0887\"],[0.1111111111111111,\"#46039f\"],[0.2222222222222222,\"#7201a8\"],[0.3333333333333333,\"#9c179e\"],[0.4444444444444444,\"#bd3786\"],[0.5555555555555556,\"#d8576b\"],[0.6666666666666666,\"#ed7953\"],[0.7777777777777778,\"#fb9f3a\"],[0.8888888888888888,\"#fdca26\"],[1.0,\"#f0f921\"]]},\"colorway\":[\"#636efa\",\"#EF553B\",\"#00cc96\",\"#ab63fa\",\"#FFA15A\",\"#19d3f3\",\"#FF6692\",\"#B6E880\",\"#FF97FF\",\"#FECB52\"],\"font\":{\"color\":\"#2a3f5f\"},\"geo\":{\"bgcolor\":\"white\",\"lakecolor\":\"white\",\"landcolor\":\"#E5ECF6\",\"showlakes\":true,\"showland\":true,\"subunitcolor\":\"white\"},\"hoverlabel\":{\"align\":\"left\"},\"hovermode\":\"closest\",\"mapbox\":{\"style\":\"light\"},\"paper_bgcolor\":\"white\",\"plot_bgcolor\":\"#E5ECF6\",\"polar\":{\"angularaxis\":{\"gridcolor\":\"white\",\"linecolor\":\"white\",\"ticks\":\"\"},\"bgcolor\":\"#E5ECF6\",\"radialaxis\":{\"gridcolor\":\"white\",\"linecolor\":\"white\",\"ticks\":\"\"}},\"scene\":{\"xaxis\":{\"backgroundcolor\":\"#E5ECF6\",\"gridcolor\":\"white\",\"gridwidth\":2,\"linecolor\":\"white\",\"showbackground\":true,\"ticks\":\"\",\"zerolinecolor\":\"white\"},\"yaxis\":{\"backgroundcolor\":\"#E5ECF6\",\"gridcolor\":\"white\",\"gridwidth\":2,\"linecolor\":\"white\",\"showbackground\":true,\"ticks\":\"\",\"zerolinecolor\":\"white\"},\"zaxis\":{\"backgroundcolor\":\"#E5ECF6\",\"gridcolor\":\"white\",\"gridwidth\":2,\"linecolor\":\"white\",\"showbackground\":true,\"ticks\":\"\",\"zerolinecolor\":\"white\"}},\"shapedefaults\":{\"line\":{\"color\":\"#2a3f5f\"}},\"ternary\":{\"aaxis\":{\"gridcolor\":\"white\",\"linecolor\":\"white\",\"ticks\":\"\"},\"baxis\":{\"gridcolor\":\"white\",\"linecolor\":\"white\",\"ticks\":\"\"},\"bgcolor\":\"#E5ECF6\",\"caxis\":{\"gridcolor\":\"white\",\"linecolor\":\"white\",\"ticks\":\"\"}},\"title\":{\"x\":0.05},\"xaxis\":{\"automargin\":true,\"gridcolor\":\"white\",\"linecolor\":\"white\",\"ticks\":\"\",\"title\":{\"standoff\":15},\"zerolinecolor\":\"white\",\"zerolinewidth\":2},\"yaxis\":{\"automargin\":true,\"gridcolor\":\"white\",\"linecolor\":\"white\",\"ticks\":\"\",\"title\":{\"standoff\":15},\"zerolinecolor\":\"white\",\"zerolinewidth\":2}}},\"title\":{\"font\":{\"color\":\"#4D5663\"}},\"xaxis\":{\"gridcolor\":\"#E1E5ED\",\"showgrid\":true,\"tickfont\":{\"color\":\"#4D5663\"},\"title\":{\"font\":{\"color\":\"#4D5663\"},\"text\":\"\"},\"zerolinecolor\":\"#E1E5ED\"},\"yaxis\":{\"gridcolor\":\"#E1E5ED\",\"showgrid\":true,\"tickfont\":{\"color\":\"#4D5663\"},\"title\":{\"font\":{\"color\":\"#4D5663\"},\"text\":\"\"},\"zerolinecolor\":\"#E1E5ED\"}},                        {\"showLink\": true, \"linkText\": \"Export to plot.ly\", \"plotlyServerURL\": \"https://plot.ly\", \"responsive\": true}                    ).then(function(){\n",
       "                            \n",
       "var gd = document.getElementById('02a6e597-402b-4d39-8211-879ca026d8d8');\n",
       "var x = new MutationObserver(function (mutations, observer) {{\n",
       "        var display = window.getComputedStyle(gd).display;\n",
       "        if (!display || display === 'none') {{\n",
       "            console.log([gd, 'removed!']);\n",
       "            Plotly.purge(gd);\n",
       "            observer.disconnect();\n",
       "        }}\n",
       "}});\n",
       "\n",
       "// Listen for the removal of the full notebook cells\n",
       "var notebookContainer = gd.closest('#notebook-container');\n",
       "if (notebookContainer) {{\n",
       "    x.observe(notebookContainer, {childList: true});\n",
       "}}\n",
       "\n",
       "// Listen for the clearing of the current output cell\n",
       "var outputEl = gd.closest('.output');\n",
       "if (outputEl) {{\n",
       "    x.observe(outputEl, {childList: true});\n",
       "}}\n",
       "\n",
       "                        })                };                });            </script>        </div>"
      ]
     },
     "metadata": {},
     "output_type": "display_data"
    }
   ],
   "source": [
    "df.sum().iplot(kind='bar') # if used in df1 it must be aggregated (grouped by) always think of that"
   ]
  },
  {
   "cell_type": "markdown",
   "metadata": {},
   "source": [
    "## Boxplots"
   ]
  },
  {
   "cell_type": "code",
   "execution_count": 42,
   "metadata": {},
   "outputs": [
    {
     "data": {
      "application/vnd.plotly.v1+json": {
       "config": {
        "linkText": "Export to plot.ly",
        "plotlyServerURL": "https://plot.ly",
        "showLink": true
       },
       "data": [
        {
         "boxpoints": false,
         "line": {
          "width": 1.3
         },
         "marker": {
          "color": "rgba(255, 153, 51, 1.0)"
         },
         "name": "A",
         "orientation": "v",
         "type": "box",
         "y": [
          -0.34120759272223433,
          0.5319968935053704,
          -2.450455488118163,
          -1.2456715548083472,
          1.5209640716102542,
          -0.0049272852738787625,
          1.0985475472016015,
          0.6773710522533647,
          1.3607142958212726,
          0.07711242446398583,
          0.29079341587599095,
          -0.43367282563883897,
          0.06753015159812732,
          -0.614125917644946,
          1.709868882712002,
          -0.5083695153972636,
          0.8304776785532717,
          1.5520601876707454,
          -0.3222961640789218,
          -1.977901874814474,
          1.3606452503009314,
          -0.06010963701062323,
          -0.29577165906393466,
          1.1022486760316241,
          1.0178363788213247,
          -0.16442359229547276,
          -1.112695636415679,
          -0.1270802957928152,
          1.007890170700006,
          1.4524421801030634,
          0.8296522843963062,
          1.0532618501781965,
          0.6795082735205985,
          -2.0221482750492252,
          1.1461514030298305,
          0.06140342823868589,
          -0.13708816055394313,
          -0.7651459419975741,
          0.7096138267240532,
          -0.5667400030206438,
          -1.1516645799042164,
          -0.7686303875696663,
          -1.2446233678971257,
          -1.2812299231096487,
          0.012725410380528336,
          -1.748983001114331,
          0.3983896418002656,
          -1.7455224885371137,
          0.5245636491056316,
          0.3304388918863971,
          -1.2147105369960398,
          -0.7984194519889587,
          0.29731511377892034,
          1.405402979776943,
          -1.619812830345721,
          1.2811861693543742,
          -1.4539006003318269,
          -0.38631762914312007,
          -0.03712563436194027,
          -0.05812227019037334,
          0.6245645987974078,
          -0.3951156093367975,
          -2.0161901747549456,
          -0.8956798469753015,
          -0.4370140644033481,
          -0.47276981141969854,
          -0.2854548890731237,
          0.41838971907076516,
          0.45133415609646577,
          0.11713657133354452,
          -1.325159071044354,
          0.11202376189144415,
          -0.5249627092180661,
          -0.3039374941801457,
          -0.8324933320883989,
          -0.9722317483126025,
          -0.9724144691955017,
          -0.1836356643644105,
          -0.019578188435622406,
          -1.724204841009576,
          1.1651900890724414,
          0.4587265805469331,
          -0.4269940736068984,
          0.5177334206115901,
          -1.489836025046481,
          0.2245692761053648,
          0.07659364207849126,
          0.5651885751515057,
          -0.7321710513842877,
          -0.6919190329872751,
          -0.608863992546054,
          1.5946083343083195,
          1.1696186036170675,
          3.408773057810497,
          0.7607021874075978,
          0.4911325983640859,
          0.2541815539119816,
          -0.36709667595476897,
          -0.4014232037425139,
          -3.5374312704476396
         ]
        },
        {
         "boxpoints": false,
         "line": {
          "width": 1.3
         },
         "marker": {
          "color": "rgba(55, 128, 191, 1.0)"
         },
         "name": "B",
         "orientation": "v",
         "type": "box",
         "y": [
          -0.1900973688397165,
          -0.3885684197362916,
          -0.8243907823378489,
          -0.34426573550469863,
          -0.7626995434404207,
          1.048395759001549,
          -0.6777940482446037,
          0.48805974008760755,
          -0.8657238553940302,
          -1.0882723358497837,
          0.4935583948718675,
          0.6182601714481422,
          1.076153033939917,
          -1.5275925690188878,
          0.11136087864535325,
          -0.03044574885719981,
          1.0911851333068108,
          -1.9085340262220345,
          0.46707220029218444,
          -0.49162188861230577,
          0.2877384567818682,
          -0.7823599322251517,
          0.8856691326164089,
          -1.5296573349468923,
          1.1753557301216002,
          -0.9701383706040404,
          0.22639557889842796,
          0.07959265795089271,
          -0.600017743474129,
          0.7756064831698299,
          -0.024756147151807524,
          0.2403527999954404,
          0.6859012737106033,
          -0.037355532168663004,
          0.3717754255978988,
          -0.3919203744324361,
          1.3989115743370044,
          0.2630122570447996,
          -0.3661137393198716,
          0.5471467735292461,
          -1.324642349339428,
          0.11102380481679991,
          -2.075535494176627,
          -0.6382404975762375,
          -2.431797406032161,
          1.6332158939212884,
          -0.09197085112428421,
          1.096049833938106,
          -1.5665098795579453,
          0.7553824116210116,
          0.27913582420989463,
          0.5849420797340267,
          -1.4403775974022306,
          0.13935913692345353,
          -0.44404066805046516,
          0.7385428641964557,
          -1.0332904032432841,
          -0.35396806719374563,
          0.7722679906037915,
          -0.37027214771386874,
          1.7005243008160968,
          0.7471972464198535,
          -0.11815451440255341,
          0.07430273329491482,
          0.4416672561505827,
          -1.274908033954568,
          0.1429012656245399,
          0.6978793081267491,
          1.671557457121776,
          -0.3759987962182951,
          -0.7463195842669548,
          -0.22005038550342224,
          0.46823691228267017,
          1.4855727847467244,
          -1.3957646201898561,
          -1.4884209880380301,
          -0.4763819880346412,
          -0.578184560559735,
          0.6961651030678019,
          1.7259166311829497,
          -0.8252362073213497,
          1.1438609706293845,
          -1.2404930633441245,
          -1.1368471840189844,
          0.5887204356027591,
          0.2335619414877631,
          1.9745688477403562,
          1.3279686184388286,
          0.42260923836531145,
          0.10254556518247043,
          0.9658870494782116,
          -2.0148036419525,
          0.2596301436019747,
          -0.06635611816136357,
          -1.302025346364487,
          -1.2272680873133386,
          0.5198072029053998,
          0.8388417678839464,
          -0.16665292552917554,
          0.9173799937169625
         ]
        },
        {
         "boxpoints": false,
         "line": {
          "width": 1.3
         },
         "marker": {
          "color": "rgba(50, 171, 96, 1.0)"
         },
         "name": "C",
         "orientation": "v",
         "type": "box",
         "y": [
          1.9103045059110908,
          -0.0324766010900323,
          0.6747898519986482,
          0.5005818365646658,
          0.33239968159943106,
          -0.5059053011102334,
          0.6020966849444732,
          1.4699655049211517,
          1.1978975456814263,
          -0.6865975518884714,
          0.852723195013891,
          -0.6437507674782534,
          -0.8754403484121193,
          -0.9775154768468096,
          -0.8546413342436442,
          1.2537442619905128,
          -1.9045312672674817,
          0.2891690886155776,
          0.012169966037095614,
          0.42039855791564923,
          0.11943814146188779,
          -0.3662562134813379,
          0.18414472055402206,
          -0.45845911460225097,
          0.6960109196869487,
          -0.4485487991500414,
          0.7683798511340175,
          -1.179058799293875,
          -1.6431012439508441,
          -0.1869963005418975,
          -0.9437887922665755,
          -0.324677373437033,
          -0.5907019899086499,
          0.16492026139989754,
          -0.48078879856769285,
          0.01143673520281042,
          0.04503960431374931,
          -0.8606320112210435,
          1.1437459274916573,
          0.7088930992311374,
          0.7548223897350274,
          0.5723430657995876,
          -0.9168325310802138,
          -0.5947982012392957,
          -0.34723195084082425,
          -0.0567159159561067,
          0.5335021066473415,
          -1.0726517231911452,
          -0.13224619742200586,
          0.6170142858493078,
          -0.6498928991754115,
          -0.5702211150515724,
          2.4295020090482966,
          -1.4392668384899499,
          0.8617542275712754,
          -0.9646885280823778,
          1.5643528970295268,
          -0.4089725285242998,
          0.3270756006762052,
          -1.770341555084864,
          -0.22647757226224874,
          1.092101420347575,
          -1.7939279055023416,
          1.2566143114982407,
          -0.07479236452051884,
          -1.031532453568368,
          -1.156943941099765,
          0.27135227294525066,
          0.5373722152966268,
          -0.5546514317901003,
          -1.8987842579735061,
          0.19241697433215038,
          1.530485498493259,
          0.7228333379963006,
          -0.5429533538796294,
          1.2803714175803076,
          -2.306863721403007,
          0.7842828916206536,
          0.34215135124192275,
          -1.519151467178333,
          0.40424669002063457,
          0.07957446406931469,
          0.18225871645319636,
          -0.9957462127426185,
          -0.015076853568017676,
          0.7900297816375214,
          -1.646200384516348,
          0.05956573499105154,
          0.03598077324014414,
          0.49208716731850244,
          0.7165417033278323,
          0.6427778018277905,
          -0.3028173472450331,
          0.9464796740335952,
          1.0106234451776535,
          -0.043494628755843645,
          -1.3375309950242353,
          1.0387172543114143,
          -0.6225978712784589,
          1.0141315558367463
         ]
        },
        {
         "boxpoints": false,
         "line": {
          "width": 1.3
         },
         "marker": {
          "color": "rgba(128, 0, 128, 1.0)"
         },
         "name": "D",
         "orientation": "v",
         "type": "box",
         "y": [
          -0.4103104538548829,
          -0.333734732060692,
          -0.7249999454796346,
          -0.12075186624438715,
          -0.9702228237202677,
          -0.4184563513631616,
          -0.8130953552812726,
          -1.070368211863948,
          0.9128122466326866,
          -0.5376006658015672,
          -1.841641920831229,
          -0.021698430731425182,
          -1.222794919048431,
          0.35958413692086305,
          -1.8470224783340559,
          -0.3650599729439193,
          1.31878607504766,
          2.507340775170648,
          -0.4561208585900866,
          -0.8047272454906428,
          -0.9559197397423289,
          -0.5068998849581509,
          -0.25307716519577905,
          -1.27148336694633,
          -1.0816751073569362,
          -0.8054584860614372,
          0.706461609907511,
          0.974118086445685,
          -0.10017039553463598,
          -0.914780942447579,
          1.015919094342769,
          -0.25966822399211303,
          0.34889234956949616,
          -1.2292438175622884,
          0.3834021421904984,
          1.316869079413164,
          -0.7352352723825953,
          -1.972516516260567,
          -0.9085118921654491,
          0.9329586987495015,
          1.683204649059652,
          0.09013890257122327,
          -0.3373355375224495,
          -0.5540672145916483,
          1.5804141593421892,
          0.8042210936260737,
          0.6965998388250881,
          -3.147066036074273,
          0.0019682458700349204,
          -1.596825890440718,
          -0.2586942384250054,
          -1.1822047310215698,
          -0.7668621938093012,
          0.16260199826039162,
          -0.09931253373823028,
          -0.08092746615191286,
          -0.20277833052264038,
          0.2359661276767108,
          -1.0552832205083178,
          -1.0736684827535101,
          1.784179172173497,
          -0.7790597148297769,
          0.32343402702051244,
          -0.16924425041690172,
          0.6630700536431359,
          -1.0039576064353046,
          -0.9435030034103241,
          -0.5290232460448169,
          0.6835359923302197,
          -0.702806914451176,
          1.1489346413496178,
          2.0788187651310945,
          0.06550548107752338,
          0.4722262637519014,
          -0.4349686402153224,
          1.3829089676360604,
          -1.6202804762309257,
          -0.22377563808704218,
          -1.5299244176176388,
          1.353954906478887,
          -1.3893374560698426,
          0.32525442502010615,
          0.616410318419713,
          -1.6647326211126063,
          -1.046207963235596,
          1.3856257209977199,
          -0.4451796457350623,
          0.8817781193226517,
          -0.3766409683986692,
          -1.3624244460816255,
          2.312277355326506,
          -1.1802234454149356,
          0.2172895716657932,
          1.0630724292373221,
          0.17504094074453513,
          -0.03192945139517454,
          -0.7112178442185724,
          -0.7806039652950968,
          -1.0007269638007035,
          -0.5828470704060571
         ]
        }
       ],
       "layout": {
        "legend": {
         "bgcolor": "#F5F6F9",
         "font": {
          "color": "#4D5663"
         }
        },
        "paper_bgcolor": "#F5F6F9",
        "plot_bgcolor": "#F5F6F9",
        "template": {
         "data": {
          "bar": [
           {
            "error_x": {
             "color": "#2a3f5f"
            },
            "error_y": {
             "color": "#2a3f5f"
            },
            "marker": {
             "line": {
              "color": "#E5ECF6",
              "width": 0.5
             },
             "pattern": {
              "fillmode": "overlay",
              "size": 10,
              "solidity": 0.2
             }
            },
            "type": "bar"
           }
          ],
          "barpolar": [
           {
            "marker": {
             "line": {
              "color": "#E5ECF6",
              "width": 0.5
             },
             "pattern": {
              "fillmode": "overlay",
              "size": 10,
              "solidity": 0.2
             }
            },
            "type": "barpolar"
           }
          ],
          "carpet": [
           {
            "aaxis": {
             "endlinecolor": "#2a3f5f",
             "gridcolor": "white",
             "linecolor": "white",
             "minorgridcolor": "white",
             "startlinecolor": "#2a3f5f"
            },
            "baxis": {
             "endlinecolor": "#2a3f5f",
             "gridcolor": "white",
             "linecolor": "white",
             "minorgridcolor": "white",
             "startlinecolor": "#2a3f5f"
            },
            "type": "carpet"
           }
          ],
          "choropleth": [
           {
            "colorbar": {
             "outlinewidth": 0,
             "ticks": ""
            },
            "type": "choropleth"
           }
          ],
          "contour": [
           {
            "colorbar": {
             "outlinewidth": 0,
             "ticks": ""
            },
            "colorscale": [
             [
              0,
              "#0d0887"
             ],
             [
              0.1111111111111111,
              "#46039f"
             ],
             [
              0.2222222222222222,
              "#7201a8"
             ],
             [
              0.3333333333333333,
              "#9c179e"
             ],
             [
              0.4444444444444444,
              "#bd3786"
             ],
             [
              0.5555555555555556,
              "#d8576b"
             ],
             [
              0.6666666666666666,
              "#ed7953"
             ],
             [
              0.7777777777777778,
              "#fb9f3a"
             ],
             [
              0.8888888888888888,
              "#fdca26"
             ],
             [
              1,
              "#f0f921"
             ]
            ],
            "type": "contour"
           }
          ],
          "contourcarpet": [
           {
            "colorbar": {
             "outlinewidth": 0,
             "ticks": ""
            },
            "type": "contourcarpet"
           }
          ],
          "heatmap": [
           {
            "colorbar": {
             "outlinewidth": 0,
             "ticks": ""
            },
            "colorscale": [
             [
              0,
              "#0d0887"
             ],
             [
              0.1111111111111111,
              "#46039f"
             ],
             [
              0.2222222222222222,
              "#7201a8"
             ],
             [
              0.3333333333333333,
              "#9c179e"
             ],
             [
              0.4444444444444444,
              "#bd3786"
             ],
             [
              0.5555555555555556,
              "#d8576b"
             ],
             [
              0.6666666666666666,
              "#ed7953"
             ],
             [
              0.7777777777777778,
              "#fb9f3a"
             ],
             [
              0.8888888888888888,
              "#fdca26"
             ],
             [
              1,
              "#f0f921"
             ]
            ],
            "type": "heatmap"
           }
          ],
          "heatmapgl": [
           {
            "colorbar": {
             "outlinewidth": 0,
             "ticks": ""
            },
            "colorscale": [
             [
              0,
              "#0d0887"
             ],
             [
              0.1111111111111111,
              "#46039f"
             ],
             [
              0.2222222222222222,
              "#7201a8"
             ],
             [
              0.3333333333333333,
              "#9c179e"
             ],
             [
              0.4444444444444444,
              "#bd3786"
             ],
             [
              0.5555555555555556,
              "#d8576b"
             ],
             [
              0.6666666666666666,
              "#ed7953"
             ],
             [
              0.7777777777777778,
              "#fb9f3a"
             ],
             [
              0.8888888888888888,
              "#fdca26"
             ],
             [
              1,
              "#f0f921"
             ]
            ],
            "type": "heatmapgl"
           }
          ],
          "histogram": [
           {
            "marker": {
             "pattern": {
              "fillmode": "overlay",
              "size": 10,
              "solidity": 0.2
             }
            },
            "type": "histogram"
           }
          ],
          "histogram2d": [
           {
            "colorbar": {
             "outlinewidth": 0,
             "ticks": ""
            },
            "colorscale": [
             [
              0,
              "#0d0887"
             ],
             [
              0.1111111111111111,
              "#46039f"
             ],
             [
              0.2222222222222222,
              "#7201a8"
             ],
             [
              0.3333333333333333,
              "#9c179e"
             ],
             [
              0.4444444444444444,
              "#bd3786"
             ],
             [
              0.5555555555555556,
              "#d8576b"
             ],
             [
              0.6666666666666666,
              "#ed7953"
             ],
             [
              0.7777777777777778,
              "#fb9f3a"
             ],
             [
              0.8888888888888888,
              "#fdca26"
             ],
             [
              1,
              "#f0f921"
             ]
            ],
            "type": "histogram2d"
           }
          ],
          "histogram2dcontour": [
           {
            "colorbar": {
             "outlinewidth": 0,
             "ticks": ""
            },
            "colorscale": [
             [
              0,
              "#0d0887"
             ],
             [
              0.1111111111111111,
              "#46039f"
             ],
             [
              0.2222222222222222,
              "#7201a8"
             ],
             [
              0.3333333333333333,
              "#9c179e"
             ],
             [
              0.4444444444444444,
              "#bd3786"
             ],
             [
              0.5555555555555556,
              "#d8576b"
             ],
             [
              0.6666666666666666,
              "#ed7953"
             ],
             [
              0.7777777777777778,
              "#fb9f3a"
             ],
             [
              0.8888888888888888,
              "#fdca26"
             ],
             [
              1,
              "#f0f921"
             ]
            ],
            "type": "histogram2dcontour"
           }
          ],
          "mesh3d": [
           {
            "colorbar": {
             "outlinewidth": 0,
             "ticks": ""
            },
            "type": "mesh3d"
           }
          ],
          "parcoords": [
           {
            "line": {
             "colorbar": {
              "outlinewidth": 0,
              "ticks": ""
             }
            },
            "type": "parcoords"
           }
          ],
          "pie": [
           {
            "automargin": true,
            "type": "pie"
           }
          ],
          "scatter": [
           {
            "fillpattern": {
             "fillmode": "overlay",
             "size": 10,
             "solidity": 0.2
            },
            "type": "scatter"
           }
          ],
          "scatter3d": [
           {
            "line": {
             "colorbar": {
              "outlinewidth": 0,
              "ticks": ""
             }
            },
            "marker": {
             "colorbar": {
              "outlinewidth": 0,
              "ticks": ""
             }
            },
            "type": "scatter3d"
           }
          ],
          "scattercarpet": [
           {
            "marker": {
             "colorbar": {
              "outlinewidth": 0,
              "ticks": ""
             }
            },
            "type": "scattercarpet"
           }
          ],
          "scattergeo": [
           {
            "marker": {
             "colorbar": {
              "outlinewidth": 0,
              "ticks": ""
             }
            },
            "type": "scattergeo"
           }
          ],
          "scattergl": [
           {
            "marker": {
             "colorbar": {
              "outlinewidth": 0,
              "ticks": ""
             }
            },
            "type": "scattergl"
           }
          ],
          "scattermapbox": [
           {
            "marker": {
             "colorbar": {
              "outlinewidth": 0,
              "ticks": ""
             }
            },
            "type": "scattermapbox"
           }
          ],
          "scatterpolar": [
           {
            "marker": {
             "colorbar": {
              "outlinewidth": 0,
              "ticks": ""
             }
            },
            "type": "scatterpolar"
           }
          ],
          "scatterpolargl": [
           {
            "marker": {
             "colorbar": {
              "outlinewidth": 0,
              "ticks": ""
             }
            },
            "type": "scatterpolargl"
           }
          ],
          "scatterternary": [
           {
            "marker": {
             "colorbar": {
              "outlinewidth": 0,
              "ticks": ""
             }
            },
            "type": "scatterternary"
           }
          ],
          "surface": [
           {
            "colorbar": {
             "outlinewidth": 0,
             "ticks": ""
            },
            "colorscale": [
             [
              0,
              "#0d0887"
             ],
             [
              0.1111111111111111,
              "#46039f"
             ],
             [
              0.2222222222222222,
              "#7201a8"
             ],
             [
              0.3333333333333333,
              "#9c179e"
             ],
             [
              0.4444444444444444,
              "#bd3786"
             ],
             [
              0.5555555555555556,
              "#d8576b"
             ],
             [
              0.6666666666666666,
              "#ed7953"
             ],
             [
              0.7777777777777778,
              "#fb9f3a"
             ],
             [
              0.8888888888888888,
              "#fdca26"
             ],
             [
              1,
              "#f0f921"
             ]
            ],
            "type": "surface"
           }
          ],
          "table": [
           {
            "cells": {
             "fill": {
              "color": "#EBF0F8"
             },
             "line": {
              "color": "white"
             }
            },
            "header": {
             "fill": {
              "color": "#C8D4E3"
             },
             "line": {
              "color": "white"
             }
            },
            "type": "table"
           }
          ]
         },
         "layout": {
          "annotationdefaults": {
           "arrowcolor": "#2a3f5f",
           "arrowhead": 0,
           "arrowwidth": 1
          },
          "autotypenumbers": "strict",
          "coloraxis": {
           "colorbar": {
            "outlinewidth": 0,
            "ticks": ""
           }
          },
          "colorscale": {
           "diverging": [
            [
             0,
             "#8e0152"
            ],
            [
             0.1,
             "#c51b7d"
            ],
            [
             0.2,
             "#de77ae"
            ],
            [
             0.3,
             "#f1b6da"
            ],
            [
             0.4,
             "#fde0ef"
            ],
            [
             0.5,
             "#f7f7f7"
            ],
            [
             0.6,
             "#e6f5d0"
            ],
            [
             0.7,
             "#b8e186"
            ],
            [
             0.8,
             "#7fbc41"
            ],
            [
             0.9,
             "#4d9221"
            ],
            [
             1,
             "#276419"
            ]
           ],
           "sequential": [
            [
             0,
             "#0d0887"
            ],
            [
             0.1111111111111111,
             "#46039f"
            ],
            [
             0.2222222222222222,
             "#7201a8"
            ],
            [
             0.3333333333333333,
             "#9c179e"
            ],
            [
             0.4444444444444444,
             "#bd3786"
            ],
            [
             0.5555555555555556,
             "#d8576b"
            ],
            [
             0.6666666666666666,
             "#ed7953"
            ],
            [
             0.7777777777777778,
             "#fb9f3a"
            ],
            [
             0.8888888888888888,
             "#fdca26"
            ],
            [
             1,
             "#f0f921"
            ]
           ],
           "sequentialminus": [
            [
             0,
             "#0d0887"
            ],
            [
             0.1111111111111111,
             "#46039f"
            ],
            [
             0.2222222222222222,
             "#7201a8"
            ],
            [
             0.3333333333333333,
             "#9c179e"
            ],
            [
             0.4444444444444444,
             "#bd3786"
            ],
            [
             0.5555555555555556,
             "#d8576b"
            ],
            [
             0.6666666666666666,
             "#ed7953"
            ],
            [
             0.7777777777777778,
             "#fb9f3a"
            ],
            [
             0.8888888888888888,
             "#fdca26"
            ],
            [
             1,
             "#f0f921"
            ]
           ]
          },
          "colorway": [
           "#636efa",
           "#EF553B",
           "#00cc96",
           "#ab63fa",
           "#FFA15A",
           "#19d3f3",
           "#FF6692",
           "#B6E880",
           "#FF97FF",
           "#FECB52"
          ],
          "font": {
           "color": "#2a3f5f"
          },
          "geo": {
           "bgcolor": "white",
           "lakecolor": "white",
           "landcolor": "#E5ECF6",
           "showlakes": true,
           "showland": true,
           "subunitcolor": "white"
          },
          "hoverlabel": {
           "align": "left"
          },
          "hovermode": "closest",
          "mapbox": {
           "style": "light"
          },
          "paper_bgcolor": "white",
          "plot_bgcolor": "#E5ECF6",
          "polar": {
           "angularaxis": {
            "gridcolor": "white",
            "linecolor": "white",
            "ticks": ""
           },
           "bgcolor": "#E5ECF6",
           "radialaxis": {
            "gridcolor": "white",
            "linecolor": "white",
            "ticks": ""
           }
          },
          "scene": {
           "xaxis": {
            "backgroundcolor": "#E5ECF6",
            "gridcolor": "white",
            "gridwidth": 2,
            "linecolor": "white",
            "showbackground": true,
            "ticks": "",
            "zerolinecolor": "white"
           },
           "yaxis": {
            "backgroundcolor": "#E5ECF6",
            "gridcolor": "white",
            "gridwidth": 2,
            "linecolor": "white",
            "showbackground": true,
            "ticks": "",
            "zerolinecolor": "white"
           },
           "zaxis": {
            "backgroundcolor": "#E5ECF6",
            "gridcolor": "white",
            "gridwidth": 2,
            "linecolor": "white",
            "showbackground": true,
            "ticks": "",
            "zerolinecolor": "white"
           }
          },
          "shapedefaults": {
           "line": {
            "color": "#2a3f5f"
           }
          },
          "ternary": {
           "aaxis": {
            "gridcolor": "white",
            "linecolor": "white",
            "ticks": ""
           },
           "baxis": {
            "gridcolor": "white",
            "linecolor": "white",
            "ticks": ""
           },
           "bgcolor": "#E5ECF6",
           "caxis": {
            "gridcolor": "white",
            "linecolor": "white",
            "ticks": ""
           }
          },
          "title": {
           "x": 0.05
          },
          "xaxis": {
           "automargin": true,
           "gridcolor": "white",
           "linecolor": "white",
           "ticks": "",
           "title": {
            "standoff": 15
           },
           "zerolinecolor": "white",
           "zerolinewidth": 2
          },
          "yaxis": {
           "automargin": true,
           "gridcolor": "white",
           "linecolor": "white",
           "ticks": "",
           "title": {
            "standoff": 15
           },
           "zerolinecolor": "white",
           "zerolinewidth": 2
          }
         }
        },
        "title": {
         "font": {
          "color": "#4D5663"
         }
        },
        "xaxis": {
         "gridcolor": "#E1E5ED",
         "showgrid": true,
         "tickfont": {
          "color": "#4D5663"
         },
         "title": {
          "font": {
           "color": "#4D5663"
          },
          "text": ""
         },
         "zerolinecolor": "#E1E5ED"
        },
        "yaxis": {
         "gridcolor": "#E1E5ED",
         "showgrid": true,
         "tickfont": {
          "color": "#4D5663"
         },
         "title": {
          "font": {
           "color": "#4D5663"
          },
          "text": ""
         },
         "zerolinecolor": "#E1E5ED"
        }
       }
      },
      "text/html": [
       "<div>                            <div id=\"9970b8fe-2a15-4443-8d3e-5b871b626d39\" class=\"plotly-graph-div\" style=\"height:525px; width:100%;\"></div>            <script type=\"text/javascript\">                require([\"plotly\"], function(Plotly) {                    window.PLOTLYENV=window.PLOTLYENV || {};\n",
       "                    window.PLOTLYENV.BASE_URL='https://plot.ly';                                    if (document.getElementById(\"9970b8fe-2a15-4443-8d3e-5b871b626d39\")) {                    Plotly.newPlot(                        \"9970b8fe-2a15-4443-8d3e-5b871b626d39\",                        [{\"boxpoints\":false,\"line\":{\"width\":1.3},\"marker\":{\"color\":\"rgba(255, 153, 51, 1.0)\"},\"name\":\"A\",\"orientation\":\"v\",\"y\":[-0.34120759272223433,0.5319968935053704,-2.450455488118163,-1.2456715548083472,1.5209640716102542,-0.0049272852738787625,1.0985475472016015,0.6773710522533647,1.3607142958212726,0.07711242446398583,0.29079341587599095,-0.43367282563883897,0.06753015159812732,-0.614125917644946,1.709868882712002,-0.5083695153972636,0.8304776785532717,1.5520601876707454,-0.3222961640789218,-1.977901874814474,1.3606452503009314,-0.06010963701062323,-0.29577165906393466,1.1022486760316241,1.0178363788213247,-0.16442359229547276,-1.112695636415679,-0.1270802957928152,1.007890170700006,1.4524421801030634,0.8296522843963062,1.0532618501781965,0.6795082735205985,-2.0221482750492252,1.1461514030298305,0.06140342823868589,-0.13708816055394313,-0.7651459419975741,0.7096138267240532,-0.5667400030206438,-1.1516645799042164,-0.7686303875696663,-1.2446233678971257,-1.2812299231096487,0.012725410380528336,-1.748983001114331,0.3983896418002656,-1.7455224885371137,0.5245636491056316,0.3304388918863971,-1.2147105369960398,-0.7984194519889587,0.29731511377892034,1.405402979776943,-1.619812830345721,1.2811861693543742,-1.4539006003318269,-0.38631762914312007,-0.03712563436194027,-0.05812227019037334,0.6245645987974078,-0.3951156093367975,-2.0161901747549456,-0.8956798469753015,-0.4370140644033481,-0.47276981141969854,-0.2854548890731237,0.41838971907076516,0.45133415609646577,0.11713657133354452,-1.325159071044354,0.11202376189144415,-0.5249627092180661,-0.3039374941801457,-0.8324933320883989,-0.9722317483126025,-0.9724144691955017,-0.1836356643644105,-0.019578188435622406,-1.724204841009576,1.1651900890724414,0.4587265805469331,-0.4269940736068984,0.5177334206115901,-1.489836025046481,0.2245692761053648,0.07659364207849126,0.5651885751515057,-0.7321710513842877,-0.6919190329872751,-0.608863992546054,1.5946083343083195,1.1696186036170675,3.408773057810497,0.7607021874075978,0.4911325983640859,0.2541815539119816,-0.36709667595476897,-0.4014232037425139,-3.5374312704476396],\"type\":\"box\"},{\"boxpoints\":false,\"line\":{\"width\":1.3},\"marker\":{\"color\":\"rgba(55, 128, 191, 1.0)\"},\"name\":\"B\",\"orientation\":\"v\",\"y\":[-0.1900973688397165,-0.3885684197362916,-0.8243907823378489,-0.34426573550469863,-0.7626995434404207,1.048395759001549,-0.6777940482446037,0.48805974008760755,-0.8657238553940302,-1.0882723358497837,0.4935583948718675,0.6182601714481422,1.076153033939917,-1.5275925690188878,0.11136087864535325,-0.03044574885719981,1.0911851333068108,-1.9085340262220345,0.46707220029218444,-0.49162188861230577,0.2877384567818682,-0.7823599322251517,0.8856691326164089,-1.5296573349468923,1.1753557301216002,-0.9701383706040404,0.22639557889842796,0.07959265795089271,-0.600017743474129,0.7756064831698299,-0.024756147151807524,0.2403527999954404,0.6859012737106033,-0.037355532168663004,0.3717754255978988,-0.3919203744324361,1.3989115743370044,0.2630122570447996,-0.3661137393198716,0.5471467735292461,-1.324642349339428,0.11102380481679991,-2.075535494176627,-0.6382404975762375,-2.431797406032161,1.6332158939212884,-0.09197085112428421,1.096049833938106,-1.5665098795579453,0.7553824116210116,0.27913582420989463,0.5849420797340267,-1.4403775974022306,0.13935913692345353,-0.44404066805046516,0.7385428641964557,-1.0332904032432841,-0.35396806719374563,0.7722679906037915,-0.37027214771386874,1.7005243008160968,0.7471972464198535,-0.11815451440255341,0.07430273329491482,0.4416672561505827,-1.274908033954568,0.1429012656245399,0.6978793081267491,1.671557457121776,-0.3759987962182951,-0.7463195842669548,-0.22005038550342224,0.46823691228267017,1.4855727847467244,-1.3957646201898561,-1.4884209880380301,-0.4763819880346412,-0.578184560559735,0.6961651030678019,1.7259166311829497,-0.8252362073213497,1.1438609706293845,-1.2404930633441245,-1.1368471840189844,0.5887204356027591,0.2335619414877631,1.9745688477403562,1.3279686184388286,0.42260923836531145,0.10254556518247043,0.9658870494782116,-2.0148036419525,0.2596301436019747,-0.06635611816136357,-1.302025346364487,-1.2272680873133386,0.5198072029053998,0.8388417678839464,-0.16665292552917554,0.9173799937169625],\"type\":\"box\"},{\"boxpoints\":false,\"line\":{\"width\":1.3},\"marker\":{\"color\":\"rgba(50, 171, 96, 1.0)\"},\"name\":\"C\",\"orientation\":\"v\",\"y\":[1.9103045059110908,-0.0324766010900323,0.6747898519986482,0.5005818365646658,0.33239968159943106,-0.5059053011102334,0.6020966849444732,1.4699655049211517,1.1978975456814263,-0.6865975518884714,0.852723195013891,-0.6437507674782534,-0.8754403484121193,-0.9775154768468096,-0.8546413342436442,1.2537442619905128,-1.9045312672674817,0.2891690886155776,0.012169966037095614,0.42039855791564923,0.11943814146188779,-0.3662562134813379,0.18414472055402206,-0.45845911460225097,0.6960109196869487,-0.4485487991500414,0.7683798511340175,-1.179058799293875,-1.6431012439508441,-0.1869963005418975,-0.9437887922665755,-0.324677373437033,-0.5907019899086499,0.16492026139989754,-0.48078879856769285,0.01143673520281042,0.04503960431374931,-0.8606320112210435,1.1437459274916573,0.7088930992311374,0.7548223897350274,0.5723430657995876,-0.9168325310802138,-0.5947982012392957,-0.34723195084082425,-0.0567159159561067,0.5335021066473415,-1.0726517231911452,-0.13224619742200586,0.6170142858493078,-0.6498928991754115,-0.5702211150515724,2.4295020090482966,-1.4392668384899499,0.8617542275712754,-0.9646885280823778,1.5643528970295268,-0.4089725285242998,0.3270756006762052,-1.770341555084864,-0.22647757226224874,1.092101420347575,-1.7939279055023416,1.2566143114982407,-0.07479236452051884,-1.031532453568368,-1.156943941099765,0.27135227294525066,0.5373722152966268,-0.5546514317901003,-1.8987842579735061,0.19241697433215038,1.530485498493259,0.7228333379963006,-0.5429533538796294,1.2803714175803076,-2.306863721403007,0.7842828916206536,0.34215135124192275,-1.519151467178333,0.40424669002063457,0.07957446406931469,0.18225871645319636,-0.9957462127426185,-0.015076853568017676,0.7900297816375214,-1.646200384516348,0.05956573499105154,0.03598077324014414,0.49208716731850244,0.7165417033278323,0.6427778018277905,-0.3028173472450331,0.9464796740335952,1.0106234451776535,-0.043494628755843645,-1.3375309950242353,1.0387172543114143,-0.6225978712784589,1.0141315558367463],\"type\":\"box\"},{\"boxpoints\":false,\"line\":{\"width\":1.3},\"marker\":{\"color\":\"rgba(128, 0, 128, 1.0)\"},\"name\":\"D\",\"orientation\":\"v\",\"y\":[-0.4103104538548829,-0.333734732060692,-0.7249999454796346,-0.12075186624438715,-0.9702228237202677,-0.4184563513631616,-0.8130953552812726,-1.070368211863948,0.9128122466326866,-0.5376006658015672,-1.841641920831229,-0.021698430731425182,-1.222794919048431,0.35958413692086305,-1.8470224783340559,-0.3650599729439193,1.31878607504766,2.507340775170648,-0.4561208585900866,-0.8047272454906428,-0.9559197397423289,-0.5068998849581509,-0.25307716519577905,-1.27148336694633,-1.0816751073569362,-0.8054584860614372,0.706461609907511,0.974118086445685,-0.10017039553463598,-0.914780942447579,1.015919094342769,-0.25966822399211303,0.34889234956949616,-1.2292438175622884,0.3834021421904984,1.316869079413164,-0.7352352723825953,-1.972516516260567,-0.9085118921654491,0.9329586987495015,1.683204649059652,0.09013890257122327,-0.3373355375224495,-0.5540672145916483,1.5804141593421892,0.8042210936260737,0.6965998388250881,-3.147066036074273,0.0019682458700349204,-1.596825890440718,-0.2586942384250054,-1.1822047310215698,-0.7668621938093012,0.16260199826039162,-0.09931253373823028,-0.08092746615191286,-0.20277833052264038,0.2359661276767108,-1.0552832205083178,-1.0736684827535101,1.784179172173497,-0.7790597148297769,0.32343402702051244,-0.16924425041690172,0.6630700536431359,-1.0039576064353046,-0.9435030034103241,-0.5290232460448169,0.6835359923302197,-0.702806914451176,1.1489346413496178,2.0788187651310945,0.06550548107752338,0.4722262637519014,-0.4349686402153224,1.3829089676360604,-1.6202804762309257,-0.22377563808704218,-1.5299244176176388,1.353954906478887,-1.3893374560698426,0.32525442502010615,0.616410318419713,-1.6647326211126063,-1.046207963235596,1.3856257209977199,-0.4451796457350623,0.8817781193226517,-0.3766409683986692,-1.3624244460816255,2.312277355326506,-1.1802234454149356,0.2172895716657932,1.0630724292373221,0.17504094074453513,-0.03192945139517454,-0.7112178442185724,-0.7806039652950968,-1.0007269638007035,-0.5828470704060571],\"type\":\"box\"}],                        {\"legend\":{\"bgcolor\":\"#F5F6F9\",\"font\":{\"color\":\"#4D5663\"}},\"paper_bgcolor\":\"#F5F6F9\",\"plot_bgcolor\":\"#F5F6F9\",\"template\":{\"data\":{\"barpolar\":[{\"marker\":{\"line\":{\"color\":\"#E5ECF6\",\"width\":0.5},\"pattern\":{\"fillmode\":\"overlay\",\"size\":10,\"solidity\":0.2}},\"type\":\"barpolar\"}],\"bar\":[{\"error_x\":{\"color\":\"#2a3f5f\"},\"error_y\":{\"color\":\"#2a3f5f\"},\"marker\":{\"line\":{\"color\":\"#E5ECF6\",\"width\":0.5},\"pattern\":{\"fillmode\":\"overlay\",\"size\":10,\"solidity\":0.2}},\"type\":\"bar\"}],\"carpet\":[{\"aaxis\":{\"endlinecolor\":\"#2a3f5f\",\"gridcolor\":\"white\",\"linecolor\":\"white\",\"minorgridcolor\":\"white\",\"startlinecolor\":\"#2a3f5f\"},\"baxis\":{\"endlinecolor\":\"#2a3f5f\",\"gridcolor\":\"white\",\"linecolor\":\"white\",\"minorgridcolor\":\"white\",\"startlinecolor\":\"#2a3f5f\"},\"type\":\"carpet\"}],\"choropleth\":[{\"colorbar\":{\"outlinewidth\":0,\"ticks\":\"\"},\"type\":\"choropleth\"}],\"contourcarpet\":[{\"colorbar\":{\"outlinewidth\":0,\"ticks\":\"\"},\"type\":\"contourcarpet\"}],\"contour\":[{\"colorbar\":{\"outlinewidth\":0,\"ticks\":\"\"},\"colorscale\":[[0.0,\"#0d0887\"],[0.1111111111111111,\"#46039f\"],[0.2222222222222222,\"#7201a8\"],[0.3333333333333333,\"#9c179e\"],[0.4444444444444444,\"#bd3786\"],[0.5555555555555556,\"#d8576b\"],[0.6666666666666666,\"#ed7953\"],[0.7777777777777778,\"#fb9f3a\"],[0.8888888888888888,\"#fdca26\"],[1.0,\"#f0f921\"]],\"type\":\"contour\"}],\"heatmapgl\":[{\"colorbar\":{\"outlinewidth\":0,\"ticks\":\"\"},\"colorscale\":[[0.0,\"#0d0887\"],[0.1111111111111111,\"#46039f\"],[0.2222222222222222,\"#7201a8\"],[0.3333333333333333,\"#9c179e\"],[0.4444444444444444,\"#bd3786\"],[0.5555555555555556,\"#d8576b\"],[0.6666666666666666,\"#ed7953\"],[0.7777777777777778,\"#fb9f3a\"],[0.8888888888888888,\"#fdca26\"],[1.0,\"#f0f921\"]],\"type\":\"heatmapgl\"}],\"heatmap\":[{\"colorbar\":{\"outlinewidth\":0,\"ticks\":\"\"},\"colorscale\":[[0.0,\"#0d0887\"],[0.1111111111111111,\"#46039f\"],[0.2222222222222222,\"#7201a8\"],[0.3333333333333333,\"#9c179e\"],[0.4444444444444444,\"#bd3786\"],[0.5555555555555556,\"#d8576b\"],[0.6666666666666666,\"#ed7953\"],[0.7777777777777778,\"#fb9f3a\"],[0.8888888888888888,\"#fdca26\"],[1.0,\"#f0f921\"]],\"type\":\"heatmap\"}],\"histogram2dcontour\":[{\"colorbar\":{\"outlinewidth\":0,\"ticks\":\"\"},\"colorscale\":[[0.0,\"#0d0887\"],[0.1111111111111111,\"#46039f\"],[0.2222222222222222,\"#7201a8\"],[0.3333333333333333,\"#9c179e\"],[0.4444444444444444,\"#bd3786\"],[0.5555555555555556,\"#d8576b\"],[0.6666666666666666,\"#ed7953\"],[0.7777777777777778,\"#fb9f3a\"],[0.8888888888888888,\"#fdca26\"],[1.0,\"#f0f921\"]],\"type\":\"histogram2dcontour\"}],\"histogram2d\":[{\"colorbar\":{\"outlinewidth\":0,\"ticks\":\"\"},\"colorscale\":[[0.0,\"#0d0887\"],[0.1111111111111111,\"#46039f\"],[0.2222222222222222,\"#7201a8\"],[0.3333333333333333,\"#9c179e\"],[0.4444444444444444,\"#bd3786\"],[0.5555555555555556,\"#d8576b\"],[0.6666666666666666,\"#ed7953\"],[0.7777777777777778,\"#fb9f3a\"],[0.8888888888888888,\"#fdca26\"],[1.0,\"#f0f921\"]],\"type\":\"histogram2d\"}],\"histogram\":[{\"marker\":{\"pattern\":{\"fillmode\":\"overlay\",\"size\":10,\"solidity\":0.2}},\"type\":\"histogram\"}],\"mesh3d\":[{\"colorbar\":{\"outlinewidth\":0,\"ticks\":\"\"},\"type\":\"mesh3d\"}],\"parcoords\":[{\"line\":{\"colorbar\":{\"outlinewidth\":0,\"ticks\":\"\"}},\"type\":\"parcoords\"}],\"pie\":[{\"automargin\":true,\"type\":\"pie\"}],\"scatter3d\":[{\"line\":{\"colorbar\":{\"outlinewidth\":0,\"ticks\":\"\"}},\"marker\":{\"colorbar\":{\"outlinewidth\":0,\"ticks\":\"\"}},\"type\":\"scatter3d\"}],\"scattercarpet\":[{\"marker\":{\"colorbar\":{\"outlinewidth\":0,\"ticks\":\"\"}},\"type\":\"scattercarpet\"}],\"scattergeo\":[{\"marker\":{\"colorbar\":{\"outlinewidth\":0,\"ticks\":\"\"}},\"type\":\"scattergeo\"}],\"scattergl\":[{\"marker\":{\"colorbar\":{\"outlinewidth\":0,\"ticks\":\"\"}},\"type\":\"scattergl\"}],\"scattermapbox\":[{\"marker\":{\"colorbar\":{\"outlinewidth\":0,\"ticks\":\"\"}},\"type\":\"scattermapbox\"}],\"scatterpolargl\":[{\"marker\":{\"colorbar\":{\"outlinewidth\":0,\"ticks\":\"\"}},\"type\":\"scatterpolargl\"}],\"scatterpolar\":[{\"marker\":{\"colorbar\":{\"outlinewidth\":0,\"ticks\":\"\"}},\"type\":\"scatterpolar\"}],\"scatter\":[{\"fillpattern\":{\"fillmode\":\"overlay\",\"size\":10,\"solidity\":0.2},\"type\":\"scatter\"}],\"scatterternary\":[{\"marker\":{\"colorbar\":{\"outlinewidth\":0,\"ticks\":\"\"}},\"type\":\"scatterternary\"}],\"surface\":[{\"colorbar\":{\"outlinewidth\":0,\"ticks\":\"\"},\"colorscale\":[[0.0,\"#0d0887\"],[0.1111111111111111,\"#46039f\"],[0.2222222222222222,\"#7201a8\"],[0.3333333333333333,\"#9c179e\"],[0.4444444444444444,\"#bd3786\"],[0.5555555555555556,\"#d8576b\"],[0.6666666666666666,\"#ed7953\"],[0.7777777777777778,\"#fb9f3a\"],[0.8888888888888888,\"#fdca26\"],[1.0,\"#f0f921\"]],\"type\":\"surface\"}],\"table\":[{\"cells\":{\"fill\":{\"color\":\"#EBF0F8\"},\"line\":{\"color\":\"white\"}},\"header\":{\"fill\":{\"color\":\"#C8D4E3\"},\"line\":{\"color\":\"white\"}},\"type\":\"table\"}]},\"layout\":{\"annotationdefaults\":{\"arrowcolor\":\"#2a3f5f\",\"arrowhead\":0,\"arrowwidth\":1},\"autotypenumbers\":\"strict\",\"coloraxis\":{\"colorbar\":{\"outlinewidth\":0,\"ticks\":\"\"}},\"colorscale\":{\"diverging\":[[0,\"#8e0152\"],[0.1,\"#c51b7d\"],[0.2,\"#de77ae\"],[0.3,\"#f1b6da\"],[0.4,\"#fde0ef\"],[0.5,\"#f7f7f7\"],[0.6,\"#e6f5d0\"],[0.7,\"#b8e186\"],[0.8,\"#7fbc41\"],[0.9,\"#4d9221\"],[1,\"#276419\"]],\"sequential\":[[0.0,\"#0d0887\"],[0.1111111111111111,\"#46039f\"],[0.2222222222222222,\"#7201a8\"],[0.3333333333333333,\"#9c179e\"],[0.4444444444444444,\"#bd3786\"],[0.5555555555555556,\"#d8576b\"],[0.6666666666666666,\"#ed7953\"],[0.7777777777777778,\"#fb9f3a\"],[0.8888888888888888,\"#fdca26\"],[1.0,\"#f0f921\"]],\"sequentialminus\":[[0.0,\"#0d0887\"],[0.1111111111111111,\"#46039f\"],[0.2222222222222222,\"#7201a8\"],[0.3333333333333333,\"#9c179e\"],[0.4444444444444444,\"#bd3786\"],[0.5555555555555556,\"#d8576b\"],[0.6666666666666666,\"#ed7953\"],[0.7777777777777778,\"#fb9f3a\"],[0.8888888888888888,\"#fdca26\"],[1.0,\"#f0f921\"]]},\"colorway\":[\"#636efa\",\"#EF553B\",\"#00cc96\",\"#ab63fa\",\"#FFA15A\",\"#19d3f3\",\"#FF6692\",\"#B6E880\",\"#FF97FF\",\"#FECB52\"],\"font\":{\"color\":\"#2a3f5f\"},\"geo\":{\"bgcolor\":\"white\",\"lakecolor\":\"white\",\"landcolor\":\"#E5ECF6\",\"showlakes\":true,\"showland\":true,\"subunitcolor\":\"white\"},\"hoverlabel\":{\"align\":\"left\"},\"hovermode\":\"closest\",\"mapbox\":{\"style\":\"light\"},\"paper_bgcolor\":\"white\",\"plot_bgcolor\":\"#E5ECF6\",\"polar\":{\"angularaxis\":{\"gridcolor\":\"white\",\"linecolor\":\"white\",\"ticks\":\"\"},\"bgcolor\":\"#E5ECF6\",\"radialaxis\":{\"gridcolor\":\"white\",\"linecolor\":\"white\",\"ticks\":\"\"}},\"scene\":{\"xaxis\":{\"backgroundcolor\":\"#E5ECF6\",\"gridcolor\":\"white\",\"gridwidth\":2,\"linecolor\":\"white\",\"showbackground\":true,\"ticks\":\"\",\"zerolinecolor\":\"white\"},\"yaxis\":{\"backgroundcolor\":\"#E5ECF6\",\"gridcolor\":\"white\",\"gridwidth\":2,\"linecolor\":\"white\",\"showbackground\":true,\"ticks\":\"\",\"zerolinecolor\":\"white\"},\"zaxis\":{\"backgroundcolor\":\"#E5ECF6\",\"gridcolor\":\"white\",\"gridwidth\":2,\"linecolor\":\"white\",\"showbackground\":true,\"ticks\":\"\",\"zerolinecolor\":\"white\"}},\"shapedefaults\":{\"line\":{\"color\":\"#2a3f5f\"}},\"ternary\":{\"aaxis\":{\"gridcolor\":\"white\",\"linecolor\":\"white\",\"ticks\":\"\"},\"baxis\":{\"gridcolor\":\"white\",\"linecolor\":\"white\",\"ticks\":\"\"},\"bgcolor\":\"#E5ECF6\",\"caxis\":{\"gridcolor\":\"white\",\"linecolor\":\"white\",\"ticks\":\"\"}},\"title\":{\"x\":0.05},\"xaxis\":{\"automargin\":true,\"gridcolor\":\"white\",\"linecolor\":\"white\",\"ticks\":\"\",\"title\":{\"standoff\":15},\"zerolinecolor\":\"white\",\"zerolinewidth\":2},\"yaxis\":{\"automargin\":true,\"gridcolor\":\"white\",\"linecolor\":\"white\",\"ticks\":\"\",\"title\":{\"standoff\":15},\"zerolinecolor\":\"white\",\"zerolinewidth\":2}}},\"title\":{\"font\":{\"color\":\"#4D5663\"}},\"xaxis\":{\"gridcolor\":\"#E1E5ED\",\"showgrid\":true,\"tickfont\":{\"color\":\"#4D5663\"},\"title\":{\"font\":{\"color\":\"#4D5663\"},\"text\":\"\"},\"zerolinecolor\":\"#E1E5ED\"},\"yaxis\":{\"gridcolor\":\"#E1E5ED\",\"showgrid\":true,\"tickfont\":{\"color\":\"#4D5663\"},\"title\":{\"font\":{\"color\":\"#4D5663\"},\"text\":\"\"},\"zerolinecolor\":\"#E1E5ED\"}},                        {\"showLink\": true, \"linkText\": \"Export to plot.ly\", \"plotlyServerURL\": \"https://plot.ly\", \"responsive\": true}                    ).then(function(){\n",
       "                            \n",
       "var gd = document.getElementById('9970b8fe-2a15-4443-8d3e-5b871b626d39');\n",
       "var x = new MutationObserver(function (mutations, observer) {{\n",
       "        var display = window.getComputedStyle(gd).display;\n",
       "        if (!display || display === 'none') {{\n",
       "            console.log([gd, 'removed!']);\n",
       "            Plotly.purge(gd);\n",
       "            observer.disconnect();\n",
       "        }}\n",
       "}});\n",
       "\n",
       "// Listen for the removal of the full notebook cells\n",
       "var notebookContainer = gd.closest('#notebook-container');\n",
       "if (notebookContainer) {{\n",
       "    x.observe(notebookContainer, {childList: true});\n",
       "}}\n",
       "\n",
       "// Listen for the clearing of the current output cell\n",
       "var outputEl = gd.closest('.output');\n",
       "if (outputEl) {{\n",
       "    x.observe(outputEl, {childList: true});\n",
       "}}\n",
       "\n",
       "                        })                };                });            </script>        </div>"
      ]
     },
     "metadata": {},
     "output_type": "display_data"
    }
   ],
   "source": [
    "df.iplot(kind='box')"
   ]
  },
  {
   "cell_type": "markdown",
   "metadata": {},
   "source": [
    "## 3d Surface"
   ]
  },
  {
   "cell_type": "code",
   "execution_count": 47,
   "metadata": {},
   "outputs": [
    {
     "data": {
      "application/vnd.plotly.v1+json": {
       "config": {
        "linkText": "Export to plot.ly",
        "plotlyServerURL": "https://plot.ly",
        "showLink": true
       },
       "data": [
        {
         "colorscale": [
          [
           0,
           "rgb(165,0,38)"
          ],
          [
           0.1,
           "rgb(215,48,39)"
          ],
          [
           0.2,
           "rgb(244,109,67)"
          ],
          [
           0.3,
           "rgb(253,174,97)"
          ],
          [
           0.4,
           "rgb(254,224,144)"
          ],
          [
           0.5,
           "rgb(255,255,191)"
          ],
          [
           0.6,
           "rgb(224,243,248)"
          ],
          [
           0.7,
           "rgb(171,217,233)"
          ],
          [
           0.8,
           "rgb(116,173,209)"
          ],
          [
           0.9,
           "rgb(69,117,180)"
          ],
          [
           1,
           "rgb(49,54,149)"
          ]
         ],
         "type": "surface",
         "x": [
          0,
          1,
          2,
          3,
          4
         ],
         "y": [
          "x",
          "y",
          "z"
         ],
         "z": [
          [
           1,
           2,
           3,
           4,
           5
          ],
          [
           10,
           20,
           30,
           20,
           10
          ],
          [
           5,
           4,
           3,
           2,
           1
          ]
         ]
        }
       ],
       "layout": {
        "legend": {
         "bgcolor": "#F5F6F9",
         "font": {
          "color": "#4D5663"
         }
        },
        "paper_bgcolor": "#F5F6F9",
        "plot_bgcolor": "#F5F6F9",
        "template": {
         "data": {
          "bar": [
           {
            "error_x": {
             "color": "#2a3f5f"
            },
            "error_y": {
             "color": "#2a3f5f"
            },
            "marker": {
             "line": {
              "color": "#E5ECF6",
              "width": 0.5
             },
             "pattern": {
              "fillmode": "overlay",
              "size": 10,
              "solidity": 0.2
             }
            },
            "type": "bar"
           }
          ],
          "barpolar": [
           {
            "marker": {
             "line": {
              "color": "#E5ECF6",
              "width": 0.5
             },
             "pattern": {
              "fillmode": "overlay",
              "size": 10,
              "solidity": 0.2
             }
            },
            "type": "barpolar"
           }
          ],
          "carpet": [
           {
            "aaxis": {
             "endlinecolor": "#2a3f5f",
             "gridcolor": "white",
             "linecolor": "white",
             "minorgridcolor": "white",
             "startlinecolor": "#2a3f5f"
            },
            "baxis": {
             "endlinecolor": "#2a3f5f",
             "gridcolor": "white",
             "linecolor": "white",
             "minorgridcolor": "white",
             "startlinecolor": "#2a3f5f"
            },
            "type": "carpet"
           }
          ],
          "choropleth": [
           {
            "colorbar": {
             "outlinewidth": 0,
             "ticks": ""
            },
            "type": "choropleth"
           }
          ],
          "contour": [
           {
            "colorbar": {
             "outlinewidth": 0,
             "ticks": ""
            },
            "colorscale": [
             [
              0,
              "#0d0887"
             ],
             [
              0.1111111111111111,
              "#46039f"
             ],
             [
              0.2222222222222222,
              "#7201a8"
             ],
             [
              0.3333333333333333,
              "#9c179e"
             ],
             [
              0.4444444444444444,
              "#bd3786"
             ],
             [
              0.5555555555555556,
              "#d8576b"
             ],
             [
              0.6666666666666666,
              "#ed7953"
             ],
             [
              0.7777777777777778,
              "#fb9f3a"
             ],
             [
              0.8888888888888888,
              "#fdca26"
             ],
             [
              1,
              "#f0f921"
             ]
            ],
            "type": "contour"
           }
          ],
          "contourcarpet": [
           {
            "colorbar": {
             "outlinewidth": 0,
             "ticks": ""
            },
            "type": "contourcarpet"
           }
          ],
          "heatmap": [
           {
            "colorbar": {
             "outlinewidth": 0,
             "ticks": ""
            },
            "colorscale": [
             [
              0,
              "#0d0887"
             ],
             [
              0.1111111111111111,
              "#46039f"
             ],
             [
              0.2222222222222222,
              "#7201a8"
             ],
             [
              0.3333333333333333,
              "#9c179e"
             ],
             [
              0.4444444444444444,
              "#bd3786"
             ],
             [
              0.5555555555555556,
              "#d8576b"
             ],
             [
              0.6666666666666666,
              "#ed7953"
             ],
             [
              0.7777777777777778,
              "#fb9f3a"
             ],
             [
              0.8888888888888888,
              "#fdca26"
             ],
             [
              1,
              "#f0f921"
             ]
            ],
            "type": "heatmap"
           }
          ],
          "heatmapgl": [
           {
            "colorbar": {
             "outlinewidth": 0,
             "ticks": ""
            },
            "colorscale": [
             [
              0,
              "#0d0887"
             ],
             [
              0.1111111111111111,
              "#46039f"
             ],
             [
              0.2222222222222222,
              "#7201a8"
             ],
             [
              0.3333333333333333,
              "#9c179e"
             ],
             [
              0.4444444444444444,
              "#bd3786"
             ],
             [
              0.5555555555555556,
              "#d8576b"
             ],
             [
              0.6666666666666666,
              "#ed7953"
             ],
             [
              0.7777777777777778,
              "#fb9f3a"
             ],
             [
              0.8888888888888888,
              "#fdca26"
             ],
             [
              1,
              "#f0f921"
             ]
            ],
            "type": "heatmapgl"
           }
          ],
          "histogram": [
           {
            "marker": {
             "pattern": {
              "fillmode": "overlay",
              "size": 10,
              "solidity": 0.2
             }
            },
            "type": "histogram"
           }
          ],
          "histogram2d": [
           {
            "colorbar": {
             "outlinewidth": 0,
             "ticks": ""
            },
            "colorscale": [
             [
              0,
              "#0d0887"
             ],
             [
              0.1111111111111111,
              "#46039f"
             ],
             [
              0.2222222222222222,
              "#7201a8"
             ],
             [
              0.3333333333333333,
              "#9c179e"
             ],
             [
              0.4444444444444444,
              "#bd3786"
             ],
             [
              0.5555555555555556,
              "#d8576b"
             ],
             [
              0.6666666666666666,
              "#ed7953"
             ],
             [
              0.7777777777777778,
              "#fb9f3a"
             ],
             [
              0.8888888888888888,
              "#fdca26"
             ],
             [
              1,
              "#f0f921"
             ]
            ],
            "type": "histogram2d"
           }
          ],
          "histogram2dcontour": [
           {
            "colorbar": {
             "outlinewidth": 0,
             "ticks": ""
            },
            "colorscale": [
             [
              0,
              "#0d0887"
             ],
             [
              0.1111111111111111,
              "#46039f"
             ],
             [
              0.2222222222222222,
              "#7201a8"
             ],
             [
              0.3333333333333333,
              "#9c179e"
             ],
             [
              0.4444444444444444,
              "#bd3786"
             ],
             [
              0.5555555555555556,
              "#d8576b"
             ],
             [
              0.6666666666666666,
              "#ed7953"
             ],
             [
              0.7777777777777778,
              "#fb9f3a"
             ],
             [
              0.8888888888888888,
              "#fdca26"
             ],
             [
              1,
              "#f0f921"
             ]
            ],
            "type": "histogram2dcontour"
           }
          ],
          "mesh3d": [
           {
            "colorbar": {
             "outlinewidth": 0,
             "ticks": ""
            },
            "type": "mesh3d"
           }
          ],
          "parcoords": [
           {
            "line": {
             "colorbar": {
              "outlinewidth": 0,
              "ticks": ""
             }
            },
            "type": "parcoords"
           }
          ],
          "pie": [
           {
            "automargin": true,
            "type": "pie"
           }
          ],
          "scatter": [
           {
            "fillpattern": {
             "fillmode": "overlay",
             "size": 10,
             "solidity": 0.2
            },
            "type": "scatter"
           }
          ],
          "scatter3d": [
           {
            "line": {
             "colorbar": {
              "outlinewidth": 0,
              "ticks": ""
             }
            },
            "marker": {
             "colorbar": {
              "outlinewidth": 0,
              "ticks": ""
             }
            },
            "type": "scatter3d"
           }
          ],
          "scattercarpet": [
           {
            "marker": {
             "colorbar": {
              "outlinewidth": 0,
              "ticks": ""
             }
            },
            "type": "scattercarpet"
           }
          ],
          "scattergeo": [
           {
            "marker": {
             "colorbar": {
              "outlinewidth": 0,
              "ticks": ""
             }
            },
            "type": "scattergeo"
           }
          ],
          "scattergl": [
           {
            "marker": {
             "colorbar": {
              "outlinewidth": 0,
              "ticks": ""
             }
            },
            "type": "scattergl"
           }
          ],
          "scattermapbox": [
           {
            "marker": {
             "colorbar": {
              "outlinewidth": 0,
              "ticks": ""
             }
            },
            "type": "scattermapbox"
           }
          ],
          "scatterpolar": [
           {
            "marker": {
             "colorbar": {
              "outlinewidth": 0,
              "ticks": ""
             }
            },
            "type": "scatterpolar"
           }
          ],
          "scatterpolargl": [
           {
            "marker": {
             "colorbar": {
              "outlinewidth": 0,
              "ticks": ""
             }
            },
            "type": "scatterpolargl"
           }
          ],
          "scatterternary": [
           {
            "marker": {
             "colorbar": {
              "outlinewidth": 0,
              "ticks": ""
             }
            },
            "type": "scatterternary"
           }
          ],
          "surface": [
           {
            "colorbar": {
             "outlinewidth": 0,
             "ticks": ""
            },
            "colorscale": [
             [
              0,
              "#0d0887"
             ],
             [
              0.1111111111111111,
              "#46039f"
             ],
             [
              0.2222222222222222,
              "#7201a8"
             ],
             [
              0.3333333333333333,
              "#9c179e"
             ],
             [
              0.4444444444444444,
              "#bd3786"
             ],
             [
              0.5555555555555556,
              "#d8576b"
             ],
             [
              0.6666666666666666,
              "#ed7953"
             ],
             [
              0.7777777777777778,
              "#fb9f3a"
             ],
             [
              0.8888888888888888,
              "#fdca26"
             ],
             [
              1,
              "#f0f921"
             ]
            ],
            "type": "surface"
           }
          ],
          "table": [
           {
            "cells": {
             "fill": {
              "color": "#EBF0F8"
             },
             "line": {
              "color": "white"
             }
            },
            "header": {
             "fill": {
              "color": "#C8D4E3"
             },
             "line": {
              "color": "white"
             }
            },
            "type": "table"
           }
          ]
         },
         "layout": {
          "annotationdefaults": {
           "arrowcolor": "#2a3f5f",
           "arrowhead": 0,
           "arrowwidth": 1
          },
          "autotypenumbers": "strict",
          "coloraxis": {
           "colorbar": {
            "outlinewidth": 0,
            "ticks": ""
           }
          },
          "colorscale": {
           "diverging": [
            [
             0,
             "#8e0152"
            ],
            [
             0.1,
             "#c51b7d"
            ],
            [
             0.2,
             "#de77ae"
            ],
            [
             0.3,
             "#f1b6da"
            ],
            [
             0.4,
             "#fde0ef"
            ],
            [
             0.5,
             "#f7f7f7"
            ],
            [
             0.6,
             "#e6f5d0"
            ],
            [
             0.7,
             "#b8e186"
            ],
            [
             0.8,
             "#7fbc41"
            ],
            [
             0.9,
             "#4d9221"
            ],
            [
             1,
             "#276419"
            ]
           ],
           "sequential": [
            [
             0,
             "#0d0887"
            ],
            [
             0.1111111111111111,
             "#46039f"
            ],
            [
             0.2222222222222222,
             "#7201a8"
            ],
            [
             0.3333333333333333,
             "#9c179e"
            ],
            [
             0.4444444444444444,
             "#bd3786"
            ],
            [
             0.5555555555555556,
             "#d8576b"
            ],
            [
             0.6666666666666666,
             "#ed7953"
            ],
            [
             0.7777777777777778,
             "#fb9f3a"
            ],
            [
             0.8888888888888888,
             "#fdca26"
            ],
            [
             1,
             "#f0f921"
            ]
           ],
           "sequentialminus": [
            [
             0,
             "#0d0887"
            ],
            [
             0.1111111111111111,
             "#46039f"
            ],
            [
             0.2222222222222222,
             "#7201a8"
            ],
            [
             0.3333333333333333,
             "#9c179e"
            ],
            [
             0.4444444444444444,
             "#bd3786"
            ],
            [
             0.5555555555555556,
             "#d8576b"
            ],
            [
             0.6666666666666666,
             "#ed7953"
            ],
            [
             0.7777777777777778,
             "#fb9f3a"
            ],
            [
             0.8888888888888888,
             "#fdca26"
            ],
            [
             1,
             "#f0f921"
            ]
           ]
          },
          "colorway": [
           "#636efa",
           "#EF553B",
           "#00cc96",
           "#ab63fa",
           "#FFA15A",
           "#19d3f3",
           "#FF6692",
           "#B6E880",
           "#FF97FF",
           "#FECB52"
          ],
          "font": {
           "color": "#2a3f5f"
          },
          "geo": {
           "bgcolor": "white",
           "lakecolor": "white",
           "landcolor": "#E5ECF6",
           "showlakes": true,
           "showland": true,
           "subunitcolor": "white"
          },
          "hoverlabel": {
           "align": "left"
          },
          "hovermode": "closest",
          "mapbox": {
           "style": "light"
          },
          "paper_bgcolor": "white",
          "plot_bgcolor": "#E5ECF6",
          "polar": {
           "angularaxis": {
            "gridcolor": "white",
            "linecolor": "white",
            "ticks": ""
           },
           "bgcolor": "#E5ECF6",
           "radialaxis": {
            "gridcolor": "white",
            "linecolor": "white",
            "ticks": ""
           }
          },
          "scene": {
           "xaxis": {
            "backgroundcolor": "#E5ECF6",
            "gridcolor": "white",
            "gridwidth": 2,
            "linecolor": "white",
            "showbackground": true,
            "ticks": "",
            "zerolinecolor": "white"
           },
           "yaxis": {
            "backgroundcolor": "#E5ECF6",
            "gridcolor": "white",
            "gridwidth": 2,
            "linecolor": "white",
            "showbackground": true,
            "ticks": "",
            "zerolinecolor": "white"
           },
           "zaxis": {
            "backgroundcolor": "#E5ECF6",
            "gridcolor": "white",
            "gridwidth": 2,
            "linecolor": "white",
            "showbackground": true,
            "ticks": "",
            "zerolinecolor": "white"
           }
          },
          "shapedefaults": {
           "line": {
            "color": "#2a3f5f"
           }
          },
          "ternary": {
           "aaxis": {
            "gridcolor": "white",
            "linecolor": "white",
            "ticks": ""
           },
           "baxis": {
            "gridcolor": "white",
            "linecolor": "white",
            "ticks": ""
           },
           "bgcolor": "#E5ECF6",
           "caxis": {
            "gridcolor": "white",
            "linecolor": "white",
            "ticks": ""
           }
          },
          "title": {
           "x": 0.05
          },
          "xaxis": {
           "automargin": true,
           "gridcolor": "white",
           "linecolor": "white",
           "ticks": "",
           "title": {
            "standoff": 15
           },
           "zerolinecolor": "white",
           "zerolinewidth": 2
          },
          "yaxis": {
           "automargin": true,
           "gridcolor": "white",
           "linecolor": "white",
           "ticks": "",
           "title": {
            "standoff": 15
           },
           "zerolinecolor": "white",
           "zerolinewidth": 2
          }
         }
        },
        "title": {
         "font": {
          "color": "#4D5663"
         }
        },
        "xaxis": {
         "gridcolor": "#E1E5ED",
         "showgrid": true,
         "tickfont": {
          "color": "#4D5663"
         },
         "title": {
          "font": {
           "color": "#4D5663"
          },
          "text": ""
         },
         "zerolinecolor": "#E1E5ED"
        },
        "yaxis": {
         "gridcolor": "#E1E5ED",
         "showgrid": true,
         "tickfont": {
          "color": "#4D5663"
         },
         "title": {
          "font": {
           "color": "#4D5663"
          },
          "text": ""
         },
         "zerolinecolor": "#E1E5ED"
        }
       }
      },
      "text/html": [
       "<div>                            <div id=\"f6bd3bd8-9868-4e7c-8b37-da7a5f475195\" class=\"plotly-graph-div\" style=\"height:525px; width:100%;\"></div>            <script type=\"text/javascript\">                require([\"plotly\"], function(Plotly) {                    window.PLOTLYENV=window.PLOTLYENV || {};\n",
       "                    window.PLOTLYENV.BASE_URL='https://plot.ly';                                    if (document.getElementById(\"f6bd3bd8-9868-4e7c-8b37-da7a5f475195\")) {                    Plotly.newPlot(                        \"f6bd3bd8-9868-4e7c-8b37-da7a5f475195\",                        [{\"colorscale\":[[0.0,\"rgb(165,0,38)\"],[0.1,\"rgb(215,48,39)\"],[0.2,\"rgb(244,109,67)\"],[0.3,\"rgb(253,174,97)\"],[0.4,\"rgb(254,224,144)\"],[0.5,\"rgb(255,255,191)\"],[0.6,\"rgb(224,243,248)\"],[0.7,\"rgb(171,217,233)\"],[0.8,\"rgb(116,173,209)\"],[0.9,\"rgb(69,117,180)\"],[1.0,\"rgb(49,54,149)\"]],\"x\":[0,1,2,3,4],\"y\":[\"x\",\"y\",\"z\"],\"z\":[[1,2,3,4,5],[10,20,30,20,10],[5,4,3,2,1]],\"type\":\"surface\"}],                        {\"legend\":{\"bgcolor\":\"#F5F6F9\",\"font\":{\"color\":\"#4D5663\"}},\"paper_bgcolor\":\"#F5F6F9\",\"plot_bgcolor\":\"#F5F6F9\",\"template\":{\"data\":{\"barpolar\":[{\"marker\":{\"line\":{\"color\":\"#E5ECF6\",\"width\":0.5},\"pattern\":{\"fillmode\":\"overlay\",\"size\":10,\"solidity\":0.2}},\"type\":\"barpolar\"}],\"bar\":[{\"error_x\":{\"color\":\"#2a3f5f\"},\"error_y\":{\"color\":\"#2a3f5f\"},\"marker\":{\"line\":{\"color\":\"#E5ECF6\",\"width\":0.5},\"pattern\":{\"fillmode\":\"overlay\",\"size\":10,\"solidity\":0.2}},\"type\":\"bar\"}],\"carpet\":[{\"aaxis\":{\"endlinecolor\":\"#2a3f5f\",\"gridcolor\":\"white\",\"linecolor\":\"white\",\"minorgridcolor\":\"white\",\"startlinecolor\":\"#2a3f5f\"},\"baxis\":{\"endlinecolor\":\"#2a3f5f\",\"gridcolor\":\"white\",\"linecolor\":\"white\",\"minorgridcolor\":\"white\",\"startlinecolor\":\"#2a3f5f\"},\"type\":\"carpet\"}],\"choropleth\":[{\"colorbar\":{\"outlinewidth\":0,\"ticks\":\"\"},\"type\":\"choropleth\"}],\"contourcarpet\":[{\"colorbar\":{\"outlinewidth\":0,\"ticks\":\"\"},\"type\":\"contourcarpet\"}],\"contour\":[{\"colorbar\":{\"outlinewidth\":0,\"ticks\":\"\"},\"colorscale\":[[0.0,\"#0d0887\"],[0.1111111111111111,\"#46039f\"],[0.2222222222222222,\"#7201a8\"],[0.3333333333333333,\"#9c179e\"],[0.4444444444444444,\"#bd3786\"],[0.5555555555555556,\"#d8576b\"],[0.6666666666666666,\"#ed7953\"],[0.7777777777777778,\"#fb9f3a\"],[0.8888888888888888,\"#fdca26\"],[1.0,\"#f0f921\"]],\"type\":\"contour\"}],\"heatmapgl\":[{\"colorbar\":{\"outlinewidth\":0,\"ticks\":\"\"},\"colorscale\":[[0.0,\"#0d0887\"],[0.1111111111111111,\"#46039f\"],[0.2222222222222222,\"#7201a8\"],[0.3333333333333333,\"#9c179e\"],[0.4444444444444444,\"#bd3786\"],[0.5555555555555556,\"#d8576b\"],[0.6666666666666666,\"#ed7953\"],[0.7777777777777778,\"#fb9f3a\"],[0.8888888888888888,\"#fdca26\"],[1.0,\"#f0f921\"]],\"type\":\"heatmapgl\"}],\"heatmap\":[{\"colorbar\":{\"outlinewidth\":0,\"ticks\":\"\"},\"colorscale\":[[0.0,\"#0d0887\"],[0.1111111111111111,\"#46039f\"],[0.2222222222222222,\"#7201a8\"],[0.3333333333333333,\"#9c179e\"],[0.4444444444444444,\"#bd3786\"],[0.5555555555555556,\"#d8576b\"],[0.6666666666666666,\"#ed7953\"],[0.7777777777777778,\"#fb9f3a\"],[0.8888888888888888,\"#fdca26\"],[1.0,\"#f0f921\"]],\"type\":\"heatmap\"}],\"histogram2dcontour\":[{\"colorbar\":{\"outlinewidth\":0,\"ticks\":\"\"},\"colorscale\":[[0.0,\"#0d0887\"],[0.1111111111111111,\"#46039f\"],[0.2222222222222222,\"#7201a8\"],[0.3333333333333333,\"#9c179e\"],[0.4444444444444444,\"#bd3786\"],[0.5555555555555556,\"#d8576b\"],[0.6666666666666666,\"#ed7953\"],[0.7777777777777778,\"#fb9f3a\"],[0.8888888888888888,\"#fdca26\"],[1.0,\"#f0f921\"]],\"type\":\"histogram2dcontour\"}],\"histogram2d\":[{\"colorbar\":{\"outlinewidth\":0,\"ticks\":\"\"},\"colorscale\":[[0.0,\"#0d0887\"],[0.1111111111111111,\"#46039f\"],[0.2222222222222222,\"#7201a8\"],[0.3333333333333333,\"#9c179e\"],[0.4444444444444444,\"#bd3786\"],[0.5555555555555556,\"#d8576b\"],[0.6666666666666666,\"#ed7953\"],[0.7777777777777778,\"#fb9f3a\"],[0.8888888888888888,\"#fdca26\"],[1.0,\"#f0f921\"]],\"type\":\"histogram2d\"}],\"histogram\":[{\"marker\":{\"pattern\":{\"fillmode\":\"overlay\",\"size\":10,\"solidity\":0.2}},\"type\":\"histogram\"}],\"mesh3d\":[{\"colorbar\":{\"outlinewidth\":0,\"ticks\":\"\"},\"type\":\"mesh3d\"}],\"parcoords\":[{\"line\":{\"colorbar\":{\"outlinewidth\":0,\"ticks\":\"\"}},\"type\":\"parcoords\"}],\"pie\":[{\"automargin\":true,\"type\":\"pie\"}],\"scatter3d\":[{\"line\":{\"colorbar\":{\"outlinewidth\":0,\"ticks\":\"\"}},\"marker\":{\"colorbar\":{\"outlinewidth\":0,\"ticks\":\"\"}},\"type\":\"scatter3d\"}],\"scattercarpet\":[{\"marker\":{\"colorbar\":{\"outlinewidth\":0,\"ticks\":\"\"}},\"type\":\"scattercarpet\"}],\"scattergeo\":[{\"marker\":{\"colorbar\":{\"outlinewidth\":0,\"ticks\":\"\"}},\"type\":\"scattergeo\"}],\"scattergl\":[{\"marker\":{\"colorbar\":{\"outlinewidth\":0,\"ticks\":\"\"}},\"type\":\"scattergl\"}],\"scattermapbox\":[{\"marker\":{\"colorbar\":{\"outlinewidth\":0,\"ticks\":\"\"}},\"type\":\"scattermapbox\"}],\"scatterpolargl\":[{\"marker\":{\"colorbar\":{\"outlinewidth\":0,\"ticks\":\"\"}},\"type\":\"scatterpolargl\"}],\"scatterpolar\":[{\"marker\":{\"colorbar\":{\"outlinewidth\":0,\"ticks\":\"\"}},\"type\":\"scatterpolar\"}],\"scatter\":[{\"fillpattern\":{\"fillmode\":\"overlay\",\"size\":10,\"solidity\":0.2},\"type\":\"scatter\"}],\"scatterternary\":[{\"marker\":{\"colorbar\":{\"outlinewidth\":0,\"ticks\":\"\"}},\"type\":\"scatterternary\"}],\"surface\":[{\"colorbar\":{\"outlinewidth\":0,\"ticks\":\"\"},\"colorscale\":[[0.0,\"#0d0887\"],[0.1111111111111111,\"#46039f\"],[0.2222222222222222,\"#7201a8\"],[0.3333333333333333,\"#9c179e\"],[0.4444444444444444,\"#bd3786\"],[0.5555555555555556,\"#d8576b\"],[0.6666666666666666,\"#ed7953\"],[0.7777777777777778,\"#fb9f3a\"],[0.8888888888888888,\"#fdca26\"],[1.0,\"#f0f921\"]],\"type\":\"surface\"}],\"table\":[{\"cells\":{\"fill\":{\"color\":\"#EBF0F8\"},\"line\":{\"color\":\"white\"}},\"header\":{\"fill\":{\"color\":\"#C8D4E3\"},\"line\":{\"color\":\"white\"}},\"type\":\"table\"}]},\"layout\":{\"annotationdefaults\":{\"arrowcolor\":\"#2a3f5f\",\"arrowhead\":0,\"arrowwidth\":1},\"autotypenumbers\":\"strict\",\"coloraxis\":{\"colorbar\":{\"outlinewidth\":0,\"ticks\":\"\"}},\"colorscale\":{\"diverging\":[[0,\"#8e0152\"],[0.1,\"#c51b7d\"],[0.2,\"#de77ae\"],[0.3,\"#f1b6da\"],[0.4,\"#fde0ef\"],[0.5,\"#f7f7f7\"],[0.6,\"#e6f5d0\"],[0.7,\"#b8e186\"],[0.8,\"#7fbc41\"],[0.9,\"#4d9221\"],[1,\"#276419\"]],\"sequential\":[[0.0,\"#0d0887\"],[0.1111111111111111,\"#46039f\"],[0.2222222222222222,\"#7201a8\"],[0.3333333333333333,\"#9c179e\"],[0.4444444444444444,\"#bd3786\"],[0.5555555555555556,\"#d8576b\"],[0.6666666666666666,\"#ed7953\"],[0.7777777777777778,\"#fb9f3a\"],[0.8888888888888888,\"#fdca26\"],[1.0,\"#f0f921\"]],\"sequentialminus\":[[0.0,\"#0d0887\"],[0.1111111111111111,\"#46039f\"],[0.2222222222222222,\"#7201a8\"],[0.3333333333333333,\"#9c179e\"],[0.4444444444444444,\"#bd3786\"],[0.5555555555555556,\"#d8576b\"],[0.6666666666666666,\"#ed7953\"],[0.7777777777777778,\"#fb9f3a\"],[0.8888888888888888,\"#fdca26\"],[1.0,\"#f0f921\"]]},\"colorway\":[\"#636efa\",\"#EF553B\",\"#00cc96\",\"#ab63fa\",\"#FFA15A\",\"#19d3f3\",\"#FF6692\",\"#B6E880\",\"#FF97FF\",\"#FECB52\"],\"font\":{\"color\":\"#2a3f5f\"},\"geo\":{\"bgcolor\":\"white\",\"lakecolor\":\"white\",\"landcolor\":\"#E5ECF6\",\"showlakes\":true,\"showland\":true,\"subunitcolor\":\"white\"},\"hoverlabel\":{\"align\":\"left\"},\"hovermode\":\"closest\",\"mapbox\":{\"style\":\"light\"},\"paper_bgcolor\":\"white\",\"plot_bgcolor\":\"#E5ECF6\",\"polar\":{\"angularaxis\":{\"gridcolor\":\"white\",\"linecolor\":\"white\",\"ticks\":\"\"},\"bgcolor\":\"#E5ECF6\",\"radialaxis\":{\"gridcolor\":\"white\",\"linecolor\":\"white\",\"ticks\":\"\"}},\"scene\":{\"xaxis\":{\"backgroundcolor\":\"#E5ECF6\",\"gridcolor\":\"white\",\"gridwidth\":2,\"linecolor\":\"white\",\"showbackground\":true,\"ticks\":\"\",\"zerolinecolor\":\"white\"},\"yaxis\":{\"backgroundcolor\":\"#E5ECF6\",\"gridcolor\":\"white\",\"gridwidth\":2,\"linecolor\":\"white\",\"showbackground\":true,\"ticks\":\"\",\"zerolinecolor\":\"white\"},\"zaxis\":{\"backgroundcolor\":\"#E5ECF6\",\"gridcolor\":\"white\",\"gridwidth\":2,\"linecolor\":\"white\",\"showbackground\":true,\"ticks\":\"\",\"zerolinecolor\":\"white\"}},\"shapedefaults\":{\"line\":{\"color\":\"#2a3f5f\"}},\"ternary\":{\"aaxis\":{\"gridcolor\":\"white\",\"linecolor\":\"white\",\"ticks\":\"\"},\"baxis\":{\"gridcolor\":\"white\",\"linecolor\":\"white\",\"ticks\":\"\"},\"bgcolor\":\"#E5ECF6\",\"caxis\":{\"gridcolor\":\"white\",\"linecolor\":\"white\",\"ticks\":\"\"}},\"title\":{\"x\":0.05},\"xaxis\":{\"automargin\":true,\"gridcolor\":\"white\",\"linecolor\":\"white\",\"ticks\":\"\",\"title\":{\"standoff\":15},\"zerolinecolor\":\"white\",\"zerolinewidth\":2},\"yaxis\":{\"automargin\":true,\"gridcolor\":\"white\",\"linecolor\":\"white\",\"ticks\":\"\",\"title\":{\"standoff\":15},\"zerolinecolor\":\"white\",\"zerolinewidth\":2}}},\"title\":{\"font\":{\"color\":\"#4D5663\"}},\"xaxis\":{\"gridcolor\":\"#E1E5ED\",\"showgrid\":true,\"tickfont\":{\"color\":\"#4D5663\"},\"title\":{\"font\":{\"color\":\"#4D5663\"},\"text\":\"\"},\"zerolinecolor\":\"#E1E5ED\"},\"yaxis\":{\"gridcolor\":\"#E1E5ED\",\"showgrid\":true,\"tickfont\":{\"color\":\"#4D5663\"},\"title\":{\"font\":{\"color\":\"#4D5663\"},\"text\":\"\"},\"zerolinecolor\":\"#E1E5ED\"}},                        {\"showLink\": true, \"linkText\": \"Export to plot.ly\", \"plotlyServerURL\": \"https://plot.ly\", \"responsive\": true}                    ).then(function(){\n",
       "                            \n",
       "var gd = document.getElementById('f6bd3bd8-9868-4e7c-8b37-da7a5f475195');\n",
       "var x = new MutationObserver(function (mutations, observer) {{\n",
       "        var display = window.getComputedStyle(gd).display;\n",
       "        if (!display || display === 'none') {{\n",
       "            console.log([gd, 'removed!']);\n",
       "            Plotly.purge(gd);\n",
       "            observer.disconnect();\n",
       "        }}\n",
       "}});\n",
       "\n",
       "// Listen for the removal of the full notebook cells\n",
       "var notebookContainer = gd.closest('#notebook-container');\n",
       "if (notebookContainer) {{\n",
       "    x.observe(notebookContainer, {childList: true});\n",
       "}}\n",
       "\n",
       "// Listen for the clearing of the current output cell\n",
       "var outputEl = gd.closest('.output');\n",
       "if (outputEl) {{\n",
       "    x.observe(outputEl, {childList: true});\n",
       "}}\n",
       "\n",
       "                        })                };                });            </script>        </div>"
      ]
     },
     "metadata": {},
     "output_type": "display_data"
    }
   ],
   "source": [
    "df3 = pd.DataFrame({'x':[1,2,3,4,5],'y':[10,20,30,20,10],'z':[5,4,3,2,1]})\n",
    "df3.iplot(kind='surface',colorscale='rdylbu')"
   ]
  },
  {
   "cell_type": "markdown",
   "metadata": {},
   "source": [
    "## Spread"
   ]
  },
  {
   "cell_type": "code",
   "execution_count": 51,
   "metadata": {},
   "outputs": [
    {
     "name": "stderr",
     "output_type": "stream",
     "text": [
      "C:\\Users\\marion.garcia\\Anaconda3\\lib\\site-packages\\cufflinks\\plotlytools.py:849: FutureWarning:\n",
      "\n",
      "The pandas.np module is deprecated and will be removed from pandas in a future version. Import numpy directly instead.\n",
      "\n",
      "C:\\Users\\marion.garcia\\Anaconda3\\lib\\site-packages\\cufflinks\\plotlytools.py:850: FutureWarning:\n",
      "\n",
      "The pandas.np module is deprecated and will be removed from pandas in a future version. Import numpy directly instead.\n",
      "\n"
     ]
    },
    {
     "data": {
      "application/vnd.plotly.v1+json": {
       "config": {
        "linkText": "Export to plot.ly",
        "plotlyServerURL": "https://plot.ly",
        "showLink": true
       },
       "data": [
        {
         "line": {
          "color": "rgba(255, 153, 51, 1.0)",
          "dash": "solid",
          "shape": "linear",
          "width": 1.3
         },
         "mode": "lines",
         "name": "A",
         "text": "",
         "type": "scatter",
         "x": [
          0,
          1,
          2,
          3,
          4,
          5,
          6,
          7,
          8,
          9,
          10,
          11,
          12,
          13,
          14,
          15,
          16,
          17,
          18,
          19,
          20,
          21,
          22,
          23,
          24,
          25,
          26,
          27,
          28,
          29,
          30,
          31,
          32,
          33,
          34,
          35,
          36,
          37,
          38,
          39,
          40,
          41,
          42,
          43,
          44,
          45,
          46,
          47,
          48,
          49,
          50,
          51,
          52,
          53,
          54,
          55,
          56,
          57,
          58,
          59,
          60,
          61,
          62,
          63,
          64,
          65,
          66,
          67,
          68,
          69,
          70,
          71,
          72,
          73,
          74,
          75,
          76,
          77,
          78,
          79,
          80,
          81,
          82,
          83,
          84,
          85,
          86,
          87,
          88,
          89,
          90,
          91,
          92,
          93,
          94,
          95,
          96,
          97,
          98,
          99
         ],
         "y": [
          -0.34120759272223433,
          0.5319968935053704,
          -2.450455488118163,
          -1.2456715548083472,
          1.5209640716102542,
          -0.0049272852738787625,
          1.0985475472016015,
          0.6773710522533647,
          1.3607142958212726,
          0.07711242446398583,
          0.29079341587599095,
          -0.43367282563883897,
          0.06753015159812732,
          -0.614125917644946,
          1.709868882712002,
          -0.5083695153972636,
          0.8304776785532717,
          1.5520601876707454,
          -0.3222961640789218,
          -1.977901874814474,
          1.3606452503009314,
          -0.06010963701062323,
          -0.29577165906393466,
          1.1022486760316241,
          1.0178363788213247,
          -0.16442359229547276,
          -1.112695636415679,
          -0.1270802957928152,
          1.007890170700006,
          1.4524421801030634,
          0.8296522843963062,
          1.0532618501781965,
          0.6795082735205985,
          -2.0221482750492252,
          1.1461514030298305,
          0.06140342823868589,
          -0.13708816055394313,
          -0.7651459419975741,
          0.7096138267240532,
          -0.5667400030206438,
          -1.1516645799042164,
          -0.7686303875696663,
          -1.2446233678971257,
          -1.2812299231096487,
          0.012725410380528336,
          -1.748983001114331,
          0.3983896418002656,
          -1.7455224885371137,
          0.5245636491056316,
          0.3304388918863971,
          -1.2147105369960398,
          -0.7984194519889587,
          0.29731511377892034,
          1.405402979776943,
          -1.619812830345721,
          1.2811861693543742,
          -1.4539006003318269,
          -0.38631762914312007,
          -0.03712563436194027,
          -0.05812227019037334,
          0.6245645987974078,
          -0.3951156093367975,
          -2.0161901747549456,
          -0.8956798469753015,
          -0.4370140644033481,
          -0.47276981141969854,
          -0.2854548890731237,
          0.41838971907076516,
          0.45133415609646577,
          0.11713657133354452,
          -1.325159071044354,
          0.11202376189144415,
          -0.5249627092180661,
          -0.3039374941801457,
          -0.8324933320883989,
          -0.9722317483126025,
          -0.9724144691955017,
          -0.1836356643644105,
          -0.019578188435622406,
          -1.724204841009576,
          1.1651900890724414,
          0.4587265805469331,
          -0.4269940736068984,
          0.5177334206115901,
          -1.489836025046481,
          0.2245692761053648,
          0.07659364207849126,
          0.5651885751515057,
          -0.7321710513842877,
          -0.6919190329872751,
          -0.608863992546054,
          1.5946083343083195,
          1.1696186036170675,
          3.408773057810497,
          0.7607021874075978,
          0.4911325983640859,
          0.2541815539119816,
          -0.36709667595476897,
          -0.4014232037425139,
          -3.5374312704476396
         ]
        },
        {
         "line": {
          "color": "rgba(55, 128, 191, 1.0)",
          "dash": "solid",
          "shape": "linear",
          "width": 1.3
         },
         "mode": "lines",
         "name": "B",
         "text": "",
         "type": "scatter",
         "x": [
          0,
          1,
          2,
          3,
          4,
          5,
          6,
          7,
          8,
          9,
          10,
          11,
          12,
          13,
          14,
          15,
          16,
          17,
          18,
          19,
          20,
          21,
          22,
          23,
          24,
          25,
          26,
          27,
          28,
          29,
          30,
          31,
          32,
          33,
          34,
          35,
          36,
          37,
          38,
          39,
          40,
          41,
          42,
          43,
          44,
          45,
          46,
          47,
          48,
          49,
          50,
          51,
          52,
          53,
          54,
          55,
          56,
          57,
          58,
          59,
          60,
          61,
          62,
          63,
          64,
          65,
          66,
          67,
          68,
          69,
          70,
          71,
          72,
          73,
          74,
          75,
          76,
          77,
          78,
          79,
          80,
          81,
          82,
          83,
          84,
          85,
          86,
          87,
          88,
          89,
          90,
          91,
          92,
          93,
          94,
          95,
          96,
          97,
          98,
          99
         ],
         "y": [
          -0.1900973688397165,
          -0.3885684197362916,
          -0.8243907823378489,
          -0.34426573550469863,
          -0.7626995434404207,
          1.048395759001549,
          -0.6777940482446037,
          0.48805974008760755,
          -0.8657238553940302,
          -1.0882723358497837,
          0.4935583948718675,
          0.6182601714481422,
          1.076153033939917,
          -1.5275925690188878,
          0.11136087864535325,
          -0.03044574885719981,
          1.0911851333068108,
          -1.9085340262220345,
          0.46707220029218444,
          -0.49162188861230577,
          0.2877384567818682,
          -0.7823599322251517,
          0.8856691326164089,
          -1.5296573349468923,
          1.1753557301216002,
          -0.9701383706040404,
          0.22639557889842796,
          0.07959265795089271,
          -0.600017743474129,
          0.7756064831698299,
          -0.024756147151807524,
          0.2403527999954404,
          0.6859012737106033,
          -0.037355532168663004,
          0.3717754255978988,
          -0.3919203744324361,
          1.3989115743370044,
          0.2630122570447996,
          -0.3661137393198716,
          0.5471467735292461,
          -1.324642349339428,
          0.11102380481679991,
          -2.075535494176627,
          -0.6382404975762375,
          -2.431797406032161,
          1.6332158939212884,
          -0.09197085112428421,
          1.096049833938106,
          -1.5665098795579453,
          0.7553824116210116,
          0.27913582420989463,
          0.5849420797340267,
          -1.4403775974022306,
          0.13935913692345353,
          -0.44404066805046516,
          0.7385428641964557,
          -1.0332904032432841,
          -0.35396806719374563,
          0.7722679906037915,
          -0.37027214771386874,
          1.7005243008160968,
          0.7471972464198535,
          -0.11815451440255341,
          0.07430273329491482,
          0.4416672561505827,
          -1.274908033954568,
          0.1429012656245399,
          0.6978793081267491,
          1.671557457121776,
          -0.3759987962182951,
          -0.7463195842669548,
          -0.22005038550342224,
          0.46823691228267017,
          1.4855727847467244,
          -1.3957646201898561,
          -1.4884209880380301,
          -0.4763819880346412,
          -0.578184560559735,
          0.6961651030678019,
          1.7259166311829497,
          -0.8252362073213497,
          1.1438609706293845,
          -1.2404930633441245,
          -1.1368471840189844,
          0.5887204356027591,
          0.2335619414877631,
          1.9745688477403562,
          1.3279686184388286,
          0.42260923836531145,
          0.10254556518247043,
          0.9658870494782116,
          -2.0148036419525,
          0.2596301436019747,
          -0.06635611816136357,
          -1.302025346364487,
          -1.2272680873133386,
          0.5198072029053998,
          0.8388417678839464,
          -0.16665292552917554,
          0.9173799937169625
         ]
        },
        {
         "connectgaps": false,
         "fill": "tozeroy",
         "line": {
          "color": "green",
          "dash": "solid",
          "shape": "linear",
          "width": 0.5
         },
         "mode": "lines",
         "name": "Spread",
         "showlegend": false,
         "type": "scatter",
         "x": [
          0,
          1,
          2,
          3,
          4,
          5,
          6,
          7,
          8,
          9,
          10,
          11,
          12,
          13,
          14,
          15,
          16,
          17,
          18,
          19,
          20,
          21,
          22,
          23,
          24,
          25,
          26,
          27,
          28,
          29,
          30,
          31,
          32,
          33,
          34,
          35,
          36,
          37,
          38,
          39,
          40,
          41,
          42,
          43,
          44,
          45,
          46,
          47,
          48,
          49,
          50,
          51,
          52,
          53,
          54,
          55,
          56,
          57,
          58,
          59,
          60,
          61,
          62,
          63,
          64,
          65,
          66,
          67,
          68,
          69,
          70,
          71,
          72,
          73,
          74,
          75,
          76,
          77,
          78,
          79,
          80,
          81,
          82,
          83,
          84,
          85,
          86,
          87,
          88,
          89,
          90,
          91,
          92,
          93,
          94,
          95,
          96,
          97,
          98,
          99
         ],
         "xaxis": "x2",
         "y": [
          "",
          0.920565313241662,
          "",
          "",
          2.283663615050675,
          "",
          1.7763415954462052,
          0.18931131216575714,
          2.226438151215303,
          1.1653847603137695,
          "",
          "",
          "",
          0.9134666513739419,
          1.5985080040666488,
          "",
          "",
          3.46059421389278,
          "",
          "",
          1.0729067935190633,
          0.7222502952145284,
          "",
          2.6319060109785166,
          "",
          0.8057147783085676,
          "",
          "",
          1.607907914174135,
          0.6768356969332334,
          0.8544084315481137,
          0.812909050182756,
          "",
          "",
          0.7743759774319318,
          0.453323802671122,
          "",
          "",
          1.0757275660439247,
          "",
          0.17297776943521148,
          "",
          0.8309121262795014,
          "",
          2.4445228164126895,
          "",
          0.4903604929245498,
          "",
          2.0910735286635767,
          "",
          "",
          "",
          1.7376927111811509,
          1.2660438428534895,
          "",
          0.5426433051579186,
          "",
          "",
          "",
          0.3121498775234954,
          "",
          "",
          "",
          "",
          "",
          0.8021382225348694,
          "",
          "",
          "",
          0.4931353675518396,
          "",
          0.3320741473948664,
          "",
          "",
          0.5632712881014572,
          0.5161892397254276,
          "",
          0.3945488961953245,
          "",
          "",
          1.990426296393791,
          "",
          0.813498989737226,
          1.6545806046305747,
          "",
          "",
          "",
          "",
          "",
          "",
          "",
          3.6094119762608194,
          0.9099884600150927,
          3.4751291759718606,
          2.062727533772085,
          1.7184006856774245,
          "",
          "",
          "",
          ""
         ],
         "yaxis": "y2"
        },
        {
         "connectgaps": false,
         "fill": "tozeroy",
         "line": {
          "color": "red",
          "dash": "solid",
          "shape": "linear",
          "width": 0.5
         },
         "mode": "lines",
         "name": "Spread",
         "showlegend": false,
         "type": "scatter",
         "x": [
          0,
          1,
          2,
          3,
          4,
          5,
          6,
          7,
          8,
          9,
          10,
          11,
          12,
          13,
          14,
          15,
          16,
          17,
          18,
          19,
          20,
          21,
          22,
          23,
          24,
          25,
          26,
          27,
          28,
          29,
          30,
          31,
          32,
          33,
          34,
          35,
          36,
          37,
          38,
          39,
          40,
          41,
          42,
          43,
          44,
          45,
          46,
          47,
          48,
          49,
          50,
          51,
          52,
          53,
          54,
          55,
          56,
          57,
          58,
          59,
          60,
          61,
          62,
          63,
          64,
          65,
          66,
          67,
          68,
          69,
          70,
          71,
          72,
          73,
          74,
          75,
          76,
          77,
          78,
          79,
          80,
          81,
          82,
          83,
          84,
          85,
          86,
          87,
          88,
          89,
          90,
          91,
          92,
          93,
          94,
          95,
          96,
          97,
          98,
          99
         ],
         "xaxis": "x2",
         "y": [
          -0.15111022388251782,
          "",
          -1.6260647057803141,
          -0.9014058193036486,
          "",
          -1.0533230442754278,
          "",
          "",
          "",
          "",
          -0.20276497899587653,
          -1.051932997086981,
          -1.0086228823417898,
          "",
          "",
          -0.4779237665400638,
          -0.26070745475353907,
          "",
          -0.7893683643711062,
          -1.4862799862021683,
          "",
          "",
          -1.1814407916803435,
          "",
          -0.1575193513002755,
          "",
          -1.339091215314107,
          -0.20667295374370792,
          "",
          "",
          "",
          "",
          -0.006393000190004772,
          -1.9847927428805623,
          "",
          "",
          -1.5359997348909475,
          -1.0281581990423736,
          "",
          -1.1138867765498899,
          "",
          -0.8796541923864662,
          "",
          -0.6429894255334112,
          "",
          -3.3821988950356197,
          "",
          -2.8415723224752196,
          "",
          -0.4249435197346145,
          -1.4938463612059345,
          -1.3833615317229855,
          "",
          "",
          -1.175772162295256,
          "",
          -0.42061019708854275,
          -0.03234956194937444,
          -0.8093936249657318,
          "",
          -1.075959702018689,
          -1.142312855756651,
          -1.8980356603523922,
          -0.9699825802702162,
          -0.8786813205539308,
          "",
          -0.42835615469766364,
          -0.279489589055984,
          -1.2202233010253103,
          "",
          -0.5788394867773992,
          "",
          -0.9931996215007363,
          -1.78951027892687,
          "",
          "",
          -0.49603248116086046,
          "",
          -0.7157432915034243,
          -3.4501214721925257,
          "",
          -0.6851343900824514,
          "",
          "",
          -2.0785564606492404,
          -0.00899266538239829,
          -1.897975205661865,
          -0.762780043287323,
          -1.1547802897495991,
          -0.7944645981697456,
          -1.5747510420242654,
          "",
          "",
          "",
          "",
          "",
          -0.26562564899341823,
          -1.2059384438387153,
          -0.23477027821333835,
          -4.4548112641646025
         ],
         "yaxis": "y2"
        }
       ],
       "layout": {
        "hovermode": "x",
        "legend": {
         "bgcolor": "#F5F6F9",
         "font": {
          "color": "#4D5663"
         }
        },
        "paper_bgcolor": "#F5F6F9",
        "plot_bgcolor": "#F5F6F9",
        "template": {
         "data": {
          "bar": [
           {
            "error_x": {
             "color": "#2a3f5f"
            },
            "error_y": {
             "color": "#2a3f5f"
            },
            "marker": {
             "line": {
              "color": "#E5ECF6",
              "width": 0.5
             },
             "pattern": {
              "fillmode": "overlay",
              "size": 10,
              "solidity": 0.2
             }
            },
            "type": "bar"
           }
          ],
          "barpolar": [
           {
            "marker": {
             "line": {
              "color": "#E5ECF6",
              "width": 0.5
             },
             "pattern": {
              "fillmode": "overlay",
              "size": 10,
              "solidity": 0.2
             }
            },
            "type": "barpolar"
           }
          ],
          "carpet": [
           {
            "aaxis": {
             "endlinecolor": "#2a3f5f",
             "gridcolor": "white",
             "linecolor": "white",
             "minorgridcolor": "white",
             "startlinecolor": "#2a3f5f"
            },
            "baxis": {
             "endlinecolor": "#2a3f5f",
             "gridcolor": "white",
             "linecolor": "white",
             "minorgridcolor": "white",
             "startlinecolor": "#2a3f5f"
            },
            "type": "carpet"
           }
          ],
          "choropleth": [
           {
            "colorbar": {
             "outlinewidth": 0,
             "ticks": ""
            },
            "type": "choropleth"
           }
          ],
          "contour": [
           {
            "colorbar": {
             "outlinewidth": 0,
             "ticks": ""
            },
            "colorscale": [
             [
              0,
              "#0d0887"
             ],
             [
              0.1111111111111111,
              "#46039f"
             ],
             [
              0.2222222222222222,
              "#7201a8"
             ],
             [
              0.3333333333333333,
              "#9c179e"
             ],
             [
              0.4444444444444444,
              "#bd3786"
             ],
             [
              0.5555555555555556,
              "#d8576b"
             ],
             [
              0.6666666666666666,
              "#ed7953"
             ],
             [
              0.7777777777777778,
              "#fb9f3a"
             ],
             [
              0.8888888888888888,
              "#fdca26"
             ],
             [
              1,
              "#f0f921"
             ]
            ],
            "type": "contour"
           }
          ],
          "contourcarpet": [
           {
            "colorbar": {
             "outlinewidth": 0,
             "ticks": ""
            },
            "type": "contourcarpet"
           }
          ],
          "heatmap": [
           {
            "colorbar": {
             "outlinewidth": 0,
             "ticks": ""
            },
            "colorscale": [
             [
              0,
              "#0d0887"
             ],
             [
              0.1111111111111111,
              "#46039f"
             ],
             [
              0.2222222222222222,
              "#7201a8"
             ],
             [
              0.3333333333333333,
              "#9c179e"
             ],
             [
              0.4444444444444444,
              "#bd3786"
             ],
             [
              0.5555555555555556,
              "#d8576b"
             ],
             [
              0.6666666666666666,
              "#ed7953"
             ],
             [
              0.7777777777777778,
              "#fb9f3a"
             ],
             [
              0.8888888888888888,
              "#fdca26"
             ],
             [
              1,
              "#f0f921"
             ]
            ],
            "type": "heatmap"
           }
          ],
          "heatmapgl": [
           {
            "colorbar": {
             "outlinewidth": 0,
             "ticks": ""
            },
            "colorscale": [
             [
              0,
              "#0d0887"
             ],
             [
              0.1111111111111111,
              "#46039f"
             ],
             [
              0.2222222222222222,
              "#7201a8"
             ],
             [
              0.3333333333333333,
              "#9c179e"
             ],
             [
              0.4444444444444444,
              "#bd3786"
             ],
             [
              0.5555555555555556,
              "#d8576b"
             ],
             [
              0.6666666666666666,
              "#ed7953"
             ],
             [
              0.7777777777777778,
              "#fb9f3a"
             ],
             [
              0.8888888888888888,
              "#fdca26"
             ],
             [
              1,
              "#f0f921"
             ]
            ],
            "type": "heatmapgl"
           }
          ],
          "histogram": [
           {
            "marker": {
             "pattern": {
              "fillmode": "overlay",
              "size": 10,
              "solidity": 0.2
             }
            },
            "type": "histogram"
           }
          ],
          "histogram2d": [
           {
            "colorbar": {
             "outlinewidth": 0,
             "ticks": ""
            },
            "colorscale": [
             [
              0,
              "#0d0887"
             ],
             [
              0.1111111111111111,
              "#46039f"
             ],
             [
              0.2222222222222222,
              "#7201a8"
             ],
             [
              0.3333333333333333,
              "#9c179e"
             ],
             [
              0.4444444444444444,
              "#bd3786"
             ],
             [
              0.5555555555555556,
              "#d8576b"
             ],
             [
              0.6666666666666666,
              "#ed7953"
             ],
             [
              0.7777777777777778,
              "#fb9f3a"
             ],
             [
              0.8888888888888888,
              "#fdca26"
             ],
             [
              1,
              "#f0f921"
             ]
            ],
            "type": "histogram2d"
           }
          ],
          "histogram2dcontour": [
           {
            "colorbar": {
             "outlinewidth": 0,
             "ticks": ""
            },
            "colorscale": [
             [
              0,
              "#0d0887"
             ],
             [
              0.1111111111111111,
              "#46039f"
             ],
             [
              0.2222222222222222,
              "#7201a8"
             ],
             [
              0.3333333333333333,
              "#9c179e"
             ],
             [
              0.4444444444444444,
              "#bd3786"
             ],
             [
              0.5555555555555556,
              "#d8576b"
             ],
             [
              0.6666666666666666,
              "#ed7953"
             ],
             [
              0.7777777777777778,
              "#fb9f3a"
             ],
             [
              0.8888888888888888,
              "#fdca26"
             ],
             [
              1,
              "#f0f921"
             ]
            ],
            "type": "histogram2dcontour"
           }
          ],
          "mesh3d": [
           {
            "colorbar": {
             "outlinewidth": 0,
             "ticks": ""
            },
            "type": "mesh3d"
           }
          ],
          "parcoords": [
           {
            "line": {
             "colorbar": {
              "outlinewidth": 0,
              "ticks": ""
             }
            },
            "type": "parcoords"
           }
          ],
          "pie": [
           {
            "automargin": true,
            "type": "pie"
           }
          ],
          "scatter": [
           {
            "fillpattern": {
             "fillmode": "overlay",
             "size": 10,
             "solidity": 0.2
            },
            "type": "scatter"
           }
          ],
          "scatter3d": [
           {
            "line": {
             "colorbar": {
              "outlinewidth": 0,
              "ticks": ""
             }
            },
            "marker": {
             "colorbar": {
              "outlinewidth": 0,
              "ticks": ""
             }
            },
            "type": "scatter3d"
           }
          ],
          "scattercarpet": [
           {
            "marker": {
             "colorbar": {
              "outlinewidth": 0,
              "ticks": ""
             }
            },
            "type": "scattercarpet"
           }
          ],
          "scattergeo": [
           {
            "marker": {
             "colorbar": {
              "outlinewidth": 0,
              "ticks": ""
             }
            },
            "type": "scattergeo"
           }
          ],
          "scattergl": [
           {
            "marker": {
             "colorbar": {
              "outlinewidth": 0,
              "ticks": ""
             }
            },
            "type": "scattergl"
           }
          ],
          "scattermapbox": [
           {
            "marker": {
             "colorbar": {
              "outlinewidth": 0,
              "ticks": ""
             }
            },
            "type": "scattermapbox"
           }
          ],
          "scatterpolar": [
           {
            "marker": {
             "colorbar": {
              "outlinewidth": 0,
              "ticks": ""
             }
            },
            "type": "scatterpolar"
           }
          ],
          "scatterpolargl": [
           {
            "marker": {
             "colorbar": {
              "outlinewidth": 0,
              "ticks": ""
             }
            },
            "type": "scatterpolargl"
           }
          ],
          "scatterternary": [
           {
            "marker": {
             "colorbar": {
              "outlinewidth": 0,
              "ticks": ""
             }
            },
            "type": "scatterternary"
           }
          ],
          "surface": [
           {
            "colorbar": {
             "outlinewidth": 0,
             "ticks": ""
            },
            "colorscale": [
             [
              0,
              "#0d0887"
             ],
             [
              0.1111111111111111,
              "#46039f"
             ],
             [
              0.2222222222222222,
              "#7201a8"
             ],
             [
              0.3333333333333333,
              "#9c179e"
             ],
             [
              0.4444444444444444,
              "#bd3786"
             ],
             [
              0.5555555555555556,
              "#d8576b"
             ],
             [
              0.6666666666666666,
              "#ed7953"
             ],
             [
              0.7777777777777778,
              "#fb9f3a"
             ],
             [
              0.8888888888888888,
              "#fdca26"
             ],
             [
              1,
              "#f0f921"
             ]
            ],
            "type": "surface"
           }
          ],
          "table": [
           {
            "cells": {
             "fill": {
              "color": "#EBF0F8"
             },
             "line": {
              "color": "white"
             }
            },
            "header": {
             "fill": {
              "color": "#C8D4E3"
             },
             "line": {
              "color": "white"
             }
            },
            "type": "table"
           }
          ]
         },
         "layout": {
          "annotationdefaults": {
           "arrowcolor": "#2a3f5f",
           "arrowhead": 0,
           "arrowwidth": 1
          },
          "autotypenumbers": "strict",
          "coloraxis": {
           "colorbar": {
            "outlinewidth": 0,
            "ticks": ""
           }
          },
          "colorscale": {
           "diverging": [
            [
             0,
             "#8e0152"
            ],
            [
             0.1,
             "#c51b7d"
            ],
            [
             0.2,
             "#de77ae"
            ],
            [
             0.3,
             "#f1b6da"
            ],
            [
             0.4,
             "#fde0ef"
            ],
            [
             0.5,
             "#f7f7f7"
            ],
            [
             0.6,
             "#e6f5d0"
            ],
            [
             0.7,
             "#b8e186"
            ],
            [
             0.8,
             "#7fbc41"
            ],
            [
             0.9,
             "#4d9221"
            ],
            [
             1,
             "#276419"
            ]
           ],
           "sequential": [
            [
             0,
             "#0d0887"
            ],
            [
             0.1111111111111111,
             "#46039f"
            ],
            [
             0.2222222222222222,
             "#7201a8"
            ],
            [
             0.3333333333333333,
             "#9c179e"
            ],
            [
             0.4444444444444444,
             "#bd3786"
            ],
            [
             0.5555555555555556,
             "#d8576b"
            ],
            [
             0.6666666666666666,
             "#ed7953"
            ],
            [
             0.7777777777777778,
             "#fb9f3a"
            ],
            [
             0.8888888888888888,
             "#fdca26"
            ],
            [
             1,
             "#f0f921"
            ]
           ],
           "sequentialminus": [
            [
             0,
             "#0d0887"
            ],
            [
             0.1111111111111111,
             "#46039f"
            ],
            [
             0.2222222222222222,
             "#7201a8"
            ],
            [
             0.3333333333333333,
             "#9c179e"
            ],
            [
             0.4444444444444444,
             "#bd3786"
            ],
            [
             0.5555555555555556,
             "#d8576b"
            ],
            [
             0.6666666666666666,
             "#ed7953"
            ],
            [
             0.7777777777777778,
             "#fb9f3a"
            ],
            [
             0.8888888888888888,
             "#fdca26"
            ],
            [
             1,
             "#f0f921"
            ]
           ]
          },
          "colorway": [
           "#636efa",
           "#EF553B",
           "#00cc96",
           "#ab63fa",
           "#FFA15A",
           "#19d3f3",
           "#FF6692",
           "#B6E880",
           "#FF97FF",
           "#FECB52"
          ],
          "font": {
           "color": "#2a3f5f"
          },
          "geo": {
           "bgcolor": "white",
           "lakecolor": "white",
           "landcolor": "#E5ECF6",
           "showlakes": true,
           "showland": true,
           "subunitcolor": "white"
          },
          "hoverlabel": {
           "align": "left"
          },
          "hovermode": "closest",
          "mapbox": {
           "style": "light"
          },
          "paper_bgcolor": "white",
          "plot_bgcolor": "#E5ECF6",
          "polar": {
           "angularaxis": {
            "gridcolor": "white",
            "linecolor": "white",
            "ticks": ""
           },
           "bgcolor": "#E5ECF6",
           "radialaxis": {
            "gridcolor": "white",
            "linecolor": "white",
            "ticks": ""
           }
          },
          "scene": {
           "xaxis": {
            "backgroundcolor": "#E5ECF6",
            "gridcolor": "white",
            "gridwidth": 2,
            "linecolor": "white",
            "showbackground": true,
            "ticks": "",
            "zerolinecolor": "white"
           },
           "yaxis": {
            "backgroundcolor": "#E5ECF6",
            "gridcolor": "white",
            "gridwidth": 2,
            "linecolor": "white",
            "showbackground": true,
            "ticks": "",
            "zerolinecolor": "white"
           },
           "zaxis": {
            "backgroundcolor": "#E5ECF6",
            "gridcolor": "white",
            "gridwidth": 2,
            "linecolor": "white",
            "showbackground": true,
            "ticks": "",
            "zerolinecolor": "white"
           }
          },
          "shapedefaults": {
           "line": {
            "color": "#2a3f5f"
           }
          },
          "ternary": {
           "aaxis": {
            "gridcolor": "white",
            "linecolor": "white",
            "ticks": ""
           },
           "baxis": {
            "gridcolor": "white",
            "linecolor": "white",
            "ticks": ""
           },
           "bgcolor": "#E5ECF6",
           "caxis": {
            "gridcolor": "white",
            "linecolor": "white",
            "ticks": ""
           }
          },
          "title": {
           "x": 0.05
          },
          "xaxis": {
           "automargin": true,
           "gridcolor": "white",
           "linecolor": "white",
           "ticks": "",
           "title": {
            "standoff": 15
           },
           "zerolinecolor": "white",
           "zerolinewidth": 2
          },
          "yaxis": {
           "automargin": true,
           "gridcolor": "white",
           "linecolor": "white",
           "ticks": "",
           "title": {
            "standoff": 15
           },
           "zerolinecolor": "white",
           "zerolinewidth": 2
          }
         }
        },
        "title": {
         "font": {
          "color": "#4D5663"
         }
        },
        "xaxis": {
         "gridcolor": "#E1E5ED",
         "showgrid": true,
         "tickfont": {
          "color": "#4D5663"
         },
         "title": {
          "font": {
           "color": "#4D5663"
          },
          "text": ""
         },
         "zerolinecolor": "#E1E5ED"
        },
        "xaxis2": {
         "anchor": "y2",
         "gridcolor": "#E1E5ED",
         "showgrid": true,
         "showticklabels": false,
         "tickfont": {
          "color": "#4D5663"
         },
         "title": {
          "font": {
           "color": "#4D5663"
          },
          "text": ""
         },
         "zerolinecolor": "#E1E5ED"
        },
        "yaxis": {
         "domain": [
          0.3,
          1
         ],
         "gridcolor": "#E1E5ED",
         "showgrid": true,
         "tickfont": {
          "color": "#4D5663"
         },
         "title": {
          "font": {
           "color": "#4D5663"
          },
          "text": ""
         },
         "zerolinecolor": "#E1E5ED"
        },
        "yaxis2": {
         "domain": [
          0,
          0.25
         ],
         "gridcolor": "#E1E5ED",
         "showgrid": true,
         "tickfont": {
          "color": "#4D5663"
         },
         "title": {
          "font": {
           "color": "#4D5663"
          },
          "text": "Spread"
         },
         "zerolinecolor": "#E1E5ED"
        }
       }
      },
      "text/html": [
       "<div>                            <div id=\"c83cae9a-17fd-4403-b56b-378b0329b306\" class=\"plotly-graph-div\" style=\"height:525px; width:100%;\"></div>            <script type=\"text/javascript\">                require([\"plotly\"], function(Plotly) {                    window.PLOTLYENV=window.PLOTLYENV || {};\n",
       "                    window.PLOTLYENV.BASE_URL='https://plot.ly';                                    if (document.getElementById(\"c83cae9a-17fd-4403-b56b-378b0329b306\")) {                    Plotly.newPlot(                        \"c83cae9a-17fd-4403-b56b-378b0329b306\",                        [{\"line\":{\"color\":\"rgba(255, 153, 51, 1.0)\",\"dash\":\"solid\",\"shape\":\"linear\",\"width\":1.3},\"mode\":\"lines\",\"name\":\"A\",\"text\":\"\",\"x\":[0,1,2,3,4,5,6,7,8,9,10,11,12,13,14,15,16,17,18,19,20,21,22,23,24,25,26,27,28,29,30,31,32,33,34,35,36,37,38,39,40,41,42,43,44,45,46,47,48,49,50,51,52,53,54,55,56,57,58,59,60,61,62,63,64,65,66,67,68,69,70,71,72,73,74,75,76,77,78,79,80,81,82,83,84,85,86,87,88,89,90,91,92,93,94,95,96,97,98,99],\"y\":[-0.34120759272223433,0.5319968935053704,-2.450455488118163,-1.2456715548083472,1.5209640716102542,-0.0049272852738787625,1.0985475472016015,0.6773710522533647,1.3607142958212726,0.07711242446398583,0.29079341587599095,-0.43367282563883897,0.06753015159812732,-0.614125917644946,1.709868882712002,-0.5083695153972636,0.8304776785532717,1.5520601876707454,-0.3222961640789218,-1.977901874814474,1.3606452503009314,-0.06010963701062323,-0.29577165906393466,1.1022486760316241,1.0178363788213247,-0.16442359229547276,-1.112695636415679,-0.1270802957928152,1.007890170700006,1.4524421801030634,0.8296522843963062,1.0532618501781965,0.6795082735205985,-2.0221482750492252,1.1461514030298305,0.06140342823868589,-0.13708816055394313,-0.7651459419975741,0.7096138267240532,-0.5667400030206438,-1.1516645799042164,-0.7686303875696663,-1.2446233678971257,-1.2812299231096487,0.012725410380528336,-1.748983001114331,0.3983896418002656,-1.7455224885371137,0.5245636491056316,0.3304388918863971,-1.2147105369960398,-0.7984194519889587,0.29731511377892034,1.405402979776943,-1.619812830345721,1.2811861693543742,-1.4539006003318269,-0.38631762914312007,-0.03712563436194027,-0.05812227019037334,0.6245645987974078,-0.3951156093367975,-2.0161901747549456,-0.8956798469753015,-0.4370140644033481,-0.47276981141969854,-0.2854548890731237,0.41838971907076516,0.45133415609646577,0.11713657133354452,-1.325159071044354,0.11202376189144415,-0.5249627092180661,-0.3039374941801457,-0.8324933320883989,-0.9722317483126025,-0.9724144691955017,-0.1836356643644105,-0.019578188435622406,-1.724204841009576,1.1651900890724414,0.4587265805469331,-0.4269940736068984,0.5177334206115901,-1.489836025046481,0.2245692761053648,0.07659364207849126,0.5651885751515057,-0.7321710513842877,-0.6919190329872751,-0.608863992546054,1.5946083343083195,1.1696186036170675,3.408773057810497,0.7607021874075978,0.4911325983640859,0.2541815539119816,-0.36709667595476897,-0.4014232037425139,-3.5374312704476396],\"type\":\"scatter\"},{\"line\":{\"color\":\"rgba(55, 128, 191, 1.0)\",\"dash\":\"solid\",\"shape\":\"linear\",\"width\":1.3},\"mode\":\"lines\",\"name\":\"B\",\"text\":\"\",\"x\":[0,1,2,3,4,5,6,7,8,9,10,11,12,13,14,15,16,17,18,19,20,21,22,23,24,25,26,27,28,29,30,31,32,33,34,35,36,37,38,39,40,41,42,43,44,45,46,47,48,49,50,51,52,53,54,55,56,57,58,59,60,61,62,63,64,65,66,67,68,69,70,71,72,73,74,75,76,77,78,79,80,81,82,83,84,85,86,87,88,89,90,91,92,93,94,95,96,97,98,99],\"y\":[-0.1900973688397165,-0.3885684197362916,-0.8243907823378489,-0.34426573550469863,-0.7626995434404207,1.048395759001549,-0.6777940482446037,0.48805974008760755,-0.8657238553940302,-1.0882723358497837,0.4935583948718675,0.6182601714481422,1.076153033939917,-1.5275925690188878,0.11136087864535325,-0.03044574885719981,1.0911851333068108,-1.9085340262220345,0.46707220029218444,-0.49162188861230577,0.2877384567818682,-0.7823599322251517,0.8856691326164089,-1.5296573349468923,1.1753557301216002,-0.9701383706040404,0.22639557889842796,0.07959265795089271,-0.600017743474129,0.7756064831698299,-0.024756147151807524,0.2403527999954404,0.6859012737106033,-0.037355532168663004,0.3717754255978988,-0.3919203744324361,1.3989115743370044,0.2630122570447996,-0.3661137393198716,0.5471467735292461,-1.324642349339428,0.11102380481679991,-2.075535494176627,-0.6382404975762375,-2.431797406032161,1.6332158939212884,-0.09197085112428421,1.096049833938106,-1.5665098795579453,0.7553824116210116,0.27913582420989463,0.5849420797340267,-1.4403775974022306,0.13935913692345353,-0.44404066805046516,0.7385428641964557,-1.0332904032432841,-0.35396806719374563,0.7722679906037915,-0.37027214771386874,1.7005243008160968,0.7471972464198535,-0.11815451440255341,0.07430273329491482,0.4416672561505827,-1.274908033954568,0.1429012656245399,0.6978793081267491,1.671557457121776,-0.3759987962182951,-0.7463195842669548,-0.22005038550342224,0.46823691228267017,1.4855727847467244,-1.3957646201898561,-1.4884209880380301,-0.4763819880346412,-0.578184560559735,0.6961651030678019,1.7259166311829497,-0.8252362073213497,1.1438609706293845,-1.2404930633441245,-1.1368471840189844,0.5887204356027591,0.2335619414877631,1.9745688477403562,1.3279686184388286,0.42260923836531145,0.10254556518247043,0.9658870494782116,-2.0148036419525,0.2596301436019747,-0.06635611816136357,-1.302025346364487,-1.2272680873133386,0.5198072029053998,0.8388417678839464,-0.16665292552917554,0.9173799937169625],\"type\":\"scatter\"},{\"connectgaps\":false,\"fill\":\"tozeroy\",\"line\":{\"color\":\"green\",\"dash\":\"solid\",\"shape\":\"linear\",\"width\":0.5},\"mode\":\"lines\",\"name\":\"Spread\",\"showlegend\":false,\"x\":[0,1,2,3,4,5,6,7,8,9,10,11,12,13,14,15,16,17,18,19,20,21,22,23,24,25,26,27,28,29,30,31,32,33,34,35,36,37,38,39,40,41,42,43,44,45,46,47,48,49,50,51,52,53,54,55,56,57,58,59,60,61,62,63,64,65,66,67,68,69,70,71,72,73,74,75,76,77,78,79,80,81,82,83,84,85,86,87,88,89,90,91,92,93,94,95,96,97,98,99],\"xaxis\":\"x2\",\"y\":[\"\",0.920565313241662,\"\",\"\",2.283663615050675,\"\",1.7763415954462052,0.18931131216575714,2.226438151215303,1.1653847603137695,\"\",\"\",\"\",0.9134666513739419,1.5985080040666488,\"\",\"\",3.46059421389278,\"\",\"\",1.0729067935190633,0.7222502952145284,\"\",2.6319060109785166,\"\",0.8057147783085676,\"\",\"\",1.607907914174135,0.6768356969332334,0.8544084315481137,0.812909050182756,\"\",\"\",0.7743759774319318,0.453323802671122,\"\",\"\",1.0757275660439247,\"\",0.17297776943521148,\"\",0.8309121262795014,\"\",2.4445228164126895,\"\",0.4903604929245498,\"\",2.0910735286635767,\"\",\"\",\"\",1.7376927111811509,1.2660438428534895,\"\",0.5426433051579186,\"\",\"\",\"\",0.3121498775234954,\"\",\"\",\"\",\"\",\"\",0.8021382225348694,\"\",\"\",\"\",0.4931353675518396,\"\",0.3320741473948664,\"\",\"\",0.5632712881014572,0.5161892397254276,\"\",0.3945488961953245,\"\",\"\",1.990426296393791,\"\",0.813498989737226,1.6545806046305747,\"\",\"\",\"\",\"\",\"\",\"\",\"\",3.6094119762608194,0.9099884600150927,3.4751291759718606,2.062727533772085,1.7184006856774245,\"\",\"\",\"\",\"\"],\"yaxis\":\"y2\",\"type\":\"scatter\"},{\"connectgaps\":false,\"fill\":\"tozeroy\",\"line\":{\"color\":\"red\",\"dash\":\"solid\",\"shape\":\"linear\",\"width\":0.5},\"mode\":\"lines\",\"name\":\"Spread\",\"showlegend\":false,\"x\":[0,1,2,3,4,5,6,7,8,9,10,11,12,13,14,15,16,17,18,19,20,21,22,23,24,25,26,27,28,29,30,31,32,33,34,35,36,37,38,39,40,41,42,43,44,45,46,47,48,49,50,51,52,53,54,55,56,57,58,59,60,61,62,63,64,65,66,67,68,69,70,71,72,73,74,75,76,77,78,79,80,81,82,83,84,85,86,87,88,89,90,91,92,93,94,95,96,97,98,99],\"xaxis\":\"x2\",\"y\":[-0.15111022388251782,\"\",-1.6260647057803141,-0.9014058193036486,\"\",-1.0533230442754278,\"\",\"\",\"\",\"\",-0.20276497899587653,-1.051932997086981,-1.0086228823417898,\"\",\"\",-0.4779237665400638,-0.26070745475353907,\"\",-0.7893683643711062,-1.4862799862021683,\"\",\"\",-1.1814407916803435,\"\",-0.1575193513002755,\"\",-1.339091215314107,-0.20667295374370792,\"\",\"\",\"\",\"\",-0.006393000190004772,-1.9847927428805623,\"\",\"\",-1.5359997348909475,-1.0281581990423736,\"\",-1.1138867765498899,\"\",-0.8796541923864662,\"\",-0.6429894255334112,\"\",-3.3821988950356197,\"\",-2.8415723224752196,\"\",-0.4249435197346145,-1.4938463612059345,-1.3833615317229855,\"\",\"\",-1.175772162295256,\"\",-0.42061019708854275,-0.03234956194937444,-0.8093936249657318,\"\",-1.075959702018689,-1.142312855756651,-1.8980356603523922,-0.9699825802702162,-0.8786813205539308,\"\",-0.42835615469766364,-0.279489589055984,-1.2202233010253103,\"\",-0.5788394867773992,\"\",-0.9931996215007363,-1.78951027892687,\"\",\"\",-0.49603248116086046,\"\",-0.7157432915034243,-3.4501214721925257,\"\",-0.6851343900824514,\"\",\"\",-2.0785564606492404,-0.00899266538239829,-1.897975205661865,-0.762780043287323,-1.1547802897495991,-0.7944645981697456,-1.5747510420242654,\"\",\"\",\"\",\"\",\"\",-0.26562564899341823,-1.2059384438387153,-0.23477027821333835,-4.4548112641646025],\"yaxis\":\"y2\",\"type\":\"scatter\"}],                        {\"hovermode\":\"x\",\"legend\":{\"bgcolor\":\"#F5F6F9\",\"font\":{\"color\":\"#4D5663\"}},\"paper_bgcolor\":\"#F5F6F9\",\"plot_bgcolor\":\"#F5F6F9\",\"template\":{\"data\":{\"barpolar\":[{\"marker\":{\"line\":{\"color\":\"#E5ECF6\",\"width\":0.5},\"pattern\":{\"fillmode\":\"overlay\",\"size\":10,\"solidity\":0.2}},\"type\":\"barpolar\"}],\"bar\":[{\"error_x\":{\"color\":\"#2a3f5f\"},\"error_y\":{\"color\":\"#2a3f5f\"},\"marker\":{\"line\":{\"color\":\"#E5ECF6\",\"width\":0.5},\"pattern\":{\"fillmode\":\"overlay\",\"size\":10,\"solidity\":0.2}},\"type\":\"bar\"}],\"carpet\":[{\"aaxis\":{\"endlinecolor\":\"#2a3f5f\",\"gridcolor\":\"white\",\"linecolor\":\"white\",\"minorgridcolor\":\"white\",\"startlinecolor\":\"#2a3f5f\"},\"baxis\":{\"endlinecolor\":\"#2a3f5f\",\"gridcolor\":\"white\",\"linecolor\":\"white\",\"minorgridcolor\":\"white\",\"startlinecolor\":\"#2a3f5f\"},\"type\":\"carpet\"}],\"choropleth\":[{\"colorbar\":{\"outlinewidth\":0,\"ticks\":\"\"},\"type\":\"choropleth\"}],\"contourcarpet\":[{\"colorbar\":{\"outlinewidth\":0,\"ticks\":\"\"},\"type\":\"contourcarpet\"}],\"contour\":[{\"colorbar\":{\"outlinewidth\":0,\"ticks\":\"\"},\"colorscale\":[[0.0,\"#0d0887\"],[0.1111111111111111,\"#46039f\"],[0.2222222222222222,\"#7201a8\"],[0.3333333333333333,\"#9c179e\"],[0.4444444444444444,\"#bd3786\"],[0.5555555555555556,\"#d8576b\"],[0.6666666666666666,\"#ed7953\"],[0.7777777777777778,\"#fb9f3a\"],[0.8888888888888888,\"#fdca26\"],[1.0,\"#f0f921\"]],\"type\":\"contour\"}],\"heatmapgl\":[{\"colorbar\":{\"outlinewidth\":0,\"ticks\":\"\"},\"colorscale\":[[0.0,\"#0d0887\"],[0.1111111111111111,\"#46039f\"],[0.2222222222222222,\"#7201a8\"],[0.3333333333333333,\"#9c179e\"],[0.4444444444444444,\"#bd3786\"],[0.5555555555555556,\"#d8576b\"],[0.6666666666666666,\"#ed7953\"],[0.7777777777777778,\"#fb9f3a\"],[0.8888888888888888,\"#fdca26\"],[1.0,\"#f0f921\"]],\"type\":\"heatmapgl\"}],\"heatmap\":[{\"colorbar\":{\"outlinewidth\":0,\"ticks\":\"\"},\"colorscale\":[[0.0,\"#0d0887\"],[0.1111111111111111,\"#46039f\"],[0.2222222222222222,\"#7201a8\"],[0.3333333333333333,\"#9c179e\"],[0.4444444444444444,\"#bd3786\"],[0.5555555555555556,\"#d8576b\"],[0.6666666666666666,\"#ed7953\"],[0.7777777777777778,\"#fb9f3a\"],[0.8888888888888888,\"#fdca26\"],[1.0,\"#f0f921\"]],\"type\":\"heatmap\"}],\"histogram2dcontour\":[{\"colorbar\":{\"outlinewidth\":0,\"ticks\":\"\"},\"colorscale\":[[0.0,\"#0d0887\"],[0.1111111111111111,\"#46039f\"],[0.2222222222222222,\"#7201a8\"],[0.3333333333333333,\"#9c179e\"],[0.4444444444444444,\"#bd3786\"],[0.5555555555555556,\"#d8576b\"],[0.6666666666666666,\"#ed7953\"],[0.7777777777777778,\"#fb9f3a\"],[0.8888888888888888,\"#fdca26\"],[1.0,\"#f0f921\"]],\"type\":\"histogram2dcontour\"}],\"histogram2d\":[{\"colorbar\":{\"outlinewidth\":0,\"ticks\":\"\"},\"colorscale\":[[0.0,\"#0d0887\"],[0.1111111111111111,\"#46039f\"],[0.2222222222222222,\"#7201a8\"],[0.3333333333333333,\"#9c179e\"],[0.4444444444444444,\"#bd3786\"],[0.5555555555555556,\"#d8576b\"],[0.6666666666666666,\"#ed7953\"],[0.7777777777777778,\"#fb9f3a\"],[0.8888888888888888,\"#fdca26\"],[1.0,\"#f0f921\"]],\"type\":\"histogram2d\"}],\"histogram\":[{\"marker\":{\"pattern\":{\"fillmode\":\"overlay\",\"size\":10,\"solidity\":0.2}},\"type\":\"histogram\"}],\"mesh3d\":[{\"colorbar\":{\"outlinewidth\":0,\"ticks\":\"\"},\"type\":\"mesh3d\"}],\"parcoords\":[{\"line\":{\"colorbar\":{\"outlinewidth\":0,\"ticks\":\"\"}},\"type\":\"parcoords\"}],\"pie\":[{\"automargin\":true,\"type\":\"pie\"}],\"scatter3d\":[{\"line\":{\"colorbar\":{\"outlinewidth\":0,\"ticks\":\"\"}},\"marker\":{\"colorbar\":{\"outlinewidth\":0,\"ticks\":\"\"}},\"type\":\"scatter3d\"}],\"scattercarpet\":[{\"marker\":{\"colorbar\":{\"outlinewidth\":0,\"ticks\":\"\"}},\"type\":\"scattercarpet\"}],\"scattergeo\":[{\"marker\":{\"colorbar\":{\"outlinewidth\":0,\"ticks\":\"\"}},\"type\":\"scattergeo\"}],\"scattergl\":[{\"marker\":{\"colorbar\":{\"outlinewidth\":0,\"ticks\":\"\"}},\"type\":\"scattergl\"}],\"scattermapbox\":[{\"marker\":{\"colorbar\":{\"outlinewidth\":0,\"ticks\":\"\"}},\"type\":\"scattermapbox\"}],\"scatterpolargl\":[{\"marker\":{\"colorbar\":{\"outlinewidth\":0,\"ticks\":\"\"}},\"type\":\"scatterpolargl\"}],\"scatterpolar\":[{\"marker\":{\"colorbar\":{\"outlinewidth\":0,\"ticks\":\"\"}},\"type\":\"scatterpolar\"}],\"scatter\":[{\"fillpattern\":{\"fillmode\":\"overlay\",\"size\":10,\"solidity\":0.2},\"type\":\"scatter\"}],\"scatterternary\":[{\"marker\":{\"colorbar\":{\"outlinewidth\":0,\"ticks\":\"\"}},\"type\":\"scatterternary\"}],\"surface\":[{\"colorbar\":{\"outlinewidth\":0,\"ticks\":\"\"},\"colorscale\":[[0.0,\"#0d0887\"],[0.1111111111111111,\"#46039f\"],[0.2222222222222222,\"#7201a8\"],[0.3333333333333333,\"#9c179e\"],[0.4444444444444444,\"#bd3786\"],[0.5555555555555556,\"#d8576b\"],[0.6666666666666666,\"#ed7953\"],[0.7777777777777778,\"#fb9f3a\"],[0.8888888888888888,\"#fdca26\"],[1.0,\"#f0f921\"]],\"type\":\"surface\"}],\"table\":[{\"cells\":{\"fill\":{\"color\":\"#EBF0F8\"},\"line\":{\"color\":\"white\"}},\"header\":{\"fill\":{\"color\":\"#C8D4E3\"},\"line\":{\"color\":\"white\"}},\"type\":\"table\"}]},\"layout\":{\"annotationdefaults\":{\"arrowcolor\":\"#2a3f5f\",\"arrowhead\":0,\"arrowwidth\":1},\"autotypenumbers\":\"strict\",\"coloraxis\":{\"colorbar\":{\"outlinewidth\":0,\"ticks\":\"\"}},\"colorscale\":{\"diverging\":[[0,\"#8e0152\"],[0.1,\"#c51b7d\"],[0.2,\"#de77ae\"],[0.3,\"#f1b6da\"],[0.4,\"#fde0ef\"],[0.5,\"#f7f7f7\"],[0.6,\"#e6f5d0\"],[0.7,\"#b8e186\"],[0.8,\"#7fbc41\"],[0.9,\"#4d9221\"],[1,\"#276419\"]],\"sequential\":[[0.0,\"#0d0887\"],[0.1111111111111111,\"#46039f\"],[0.2222222222222222,\"#7201a8\"],[0.3333333333333333,\"#9c179e\"],[0.4444444444444444,\"#bd3786\"],[0.5555555555555556,\"#d8576b\"],[0.6666666666666666,\"#ed7953\"],[0.7777777777777778,\"#fb9f3a\"],[0.8888888888888888,\"#fdca26\"],[1.0,\"#f0f921\"]],\"sequentialminus\":[[0.0,\"#0d0887\"],[0.1111111111111111,\"#46039f\"],[0.2222222222222222,\"#7201a8\"],[0.3333333333333333,\"#9c179e\"],[0.4444444444444444,\"#bd3786\"],[0.5555555555555556,\"#d8576b\"],[0.6666666666666666,\"#ed7953\"],[0.7777777777777778,\"#fb9f3a\"],[0.8888888888888888,\"#fdca26\"],[1.0,\"#f0f921\"]]},\"colorway\":[\"#636efa\",\"#EF553B\",\"#00cc96\",\"#ab63fa\",\"#FFA15A\",\"#19d3f3\",\"#FF6692\",\"#B6E880\",\"#FF97FF\",\"#FECB52\"],\"font\":{\"color\":\"#2a3f5f\"},\"geo\":{\"bgcolor\":\"white\",\"lakecolor\":\"white\",\"landcolor\":\"#E5ECF6\",\"showlakes\":true,\"showland\":true,\"subunitcolor\":\"white\"},\"hoverlabel\":{\"align\":\"left\"},\"hovermode\":\"closest\",\"mapbox\":{\"style\":\"light\"},\"paper_bgcolor\":\"white\",\"plot_bgcolor\":\"#E5ECF6\",\"polar\":{\"angularaxis\":{\"gridcolor\":\"white\",\"linecolor\":\"white\",\"ticks\":\"\"},\"bgcolor\":\"#E5ECF6\",\"radialaxis\":{\"gridcolor\":\"white\",\"linecolor\":\"white\",\"ticks\":\"\"}},\"scene\":{\"xaxis\":{\"backgroundcolor\":\"#E5ECF6\",\"gridcolor\":\"white\",\"gridwidth\":2,\"linecolor\":\"white\",\"showbackground\":true,\"ticks\":\"\",\"zerolinecolor\":\"white\"},\"yaxis\":{\"backgroundcolor\":\"#E5ECF6\",\"gridcolor\":\"white\",\"gridwidth\":2,\"linecolor\":\"white\",\"showbackground\":true,\"ticks\":\"\",\"zerolinecolor\":\"white\"},\"zaxis\":{\"backgroundcolor\":\"#E5ECF6\",\"gridcolor\":\"white\",\"gridwidth\":2,\"linecolor\":\"white\",\"showbackground\":true,\"ticks\":\"\",\"zerolinecolor\":\"white\"}},\"shapedefaults\":{\"line\":{\"color\":\"#2a3f5f\"}},\"ternary\":{\"aaxis\":{\"gridcolor\":\"white\",\"linecolor\":\"white\",\"ticks\":\"\"},\"baxis\":{\"gridcolor\":\"white\",\"linecolor\":\"white\",\"ticks\":\"\"},\"bgcolor\":\"#E5ECF6\",\"caxis\":{\"gridcolor\":\"white\",\"linecolor\":\"white\",\"ticks\":\"\"}},\"title\":{\"x\":0.05},\"xaxis\":{\"automargin\":true,\"gridcolor\":\"white\",\"linecolor\":\"white\",\"ticks\":\"\",\"title\":{\"standoff\":15},\"zerolinecolor\":\"white\",\"zerolinewidth\":2},\"yaxis\":{\"automargin\":true,\"gridcolor\":\"white\",\"linecolor\":\"white\",\"ticks\":\"\",\"title\":{\"standoff\":15},\"zerolinecolor\":\"white\",\"zerolinewidth\":2}}},\"title\":{\"font\":{\"color\":\"#4D5663\"}},\"xaxis\":{\"gridcolor\":\"#E1E5ED\",\"showgrid\":true,\"tickfont\":{\"color\":\"#4D5663\"},\"title\":{\"font\":{\"color\":\"#4D5663\"},\"text\":\"\"},\"zerolinecolor\":\"#E1E5ED\"},\"yaxis\":{\"domain\":[0.3,1],\"gridcolor\":\"#E1E5ED\",\"showgrid\":true,\"tickfont\":{\"color\":\"#4D5663\"},\"title\":{\"font\":{\"color\":\"#4D5663\"},\"text\":\"\"},\"zerolinecolor\":\"#E1E5ED\"},\"yaxis2\":{\"domain\":[0,0.25],\"gridcolor\":\"#E1E5ED\",\"showgrid\":true,\"tickfont\":{\"color\":\"#4D5663\"},\"title\":{\"font\":{\"color\":\"#4D5663\"},\"text\":\"Spread\"},\"zerolinecolor\":\"#E1E5ED\"},\"xaxis2\":{\"anchor\":\"y2\",\"gridcolor\":\"#E1E5ED\",\"showgrid\":true,\"showticklabels\":false,\"tickfont\":{\"color\":\"#4D5663\"},\"title\":{\"font\":{\"color\":\"#4D5663\"},\"text\":\"\"},\"zerolinecolor\":\"#E1E5ED\"}},                        {\"showLink\": true, \"linkText\": \"Export to plot.ly\", \"plotlyServerURL\": \"https://plot.ly\", \"responsive\": true}                    ).then(function(){\n",
       "                            \n",
       "var gd = document.getElementById('c83cae9a-17fd-4403-b56b-378b0329b306');\n",
       "var x = new MutationObserver(function (mutations, observer) {{\n",
       "        var display = window.getComputedStyle(gd).display;\n",
       "        if (!display || display === 'none') {{\n",
       "            console.log([gd, 'removed!']);\n",
       "            Plotly.purge(gd);\n",
       "            observer.disconnect();\n",
       "        }}\n",
       "}});\n",
       "\n",
       "// Listen for the removal of the full notebook cells\n",
       "var notebookContainer = gd.closest('#notebook-container');\n",
       "if (notebookContainer) {{\n",
       "    x.observe(notebookContainer, {childList: true});\n",
       "}}\n",
       "\n",
       "// Listen for the clearing of the current output cell\n",
       "var outputEl = gd.closest('.output');\n",
       "if (outputEl) {{\n",
       "    x.observe(outputEl, {childList: true});\n",
       "}}\n",
       "\n",
       "                        })                };                });            </script>        </div>"
      ]
     },
     "metadata": {},
     "output_type": "display_data"
    }
   ],
   "source": [
    "df[['A','B']].iplot(kind='spread') # usually used in stocks data for comparison"
   ]
  },
  {
   "cell_type": "markdown",
   "metadata": {},
   "source": [
    "## histogram"
   ]
  },
  {
   "cell_type": "code",
   "execution_count": 49,
   "metadata": {},
   "outputs": [
    {
     "data": {
      "application/vnd.plotly.v1+json": {
       "config": {
        "linkText": "Export to plot.ly",
        "plotlyServerURL": "https://plot.ly",
        "showLink": true
       },
       "data": [
        {
         "histfunc": "count",
         "histnorm": "",
         "marker": {
          "color": "rgba(255, 153, 51, 1.0)",
          "line": {
           "color": "#4D5663",
           "width": 1.3
          }
         },
         "name": "A",
         "nbinsx": 25,
         "opacity": 0.8,
         "orientation": "v",
         "type": "histogram",
         "x": [
          -0.34120759272223433,
          0.5319968935053704,
          -2.450455488118163,
          -1.2456715548083472,
          1.5209640716102542,
          -0.0049272852738787625,
          1.0985475472016015,
          0.6773710522533647,
          1.3607142958212726,
          0.07711242446398583,
          0.29079341587599095,
          -0.43367282563883897,
          0.06753015159812732,
          -0.614125917644946,
          1.709868882712002,
          -0.5083695153972636,
          0.8304776785532717,
          1.5520601876707454,
          -0.3222961640789218,
          -1.977901874814474,
          1.3606452503009314,
          -0.06010963701062323,
          -0.29577165906393466,
          1.1022486760316241,
          1.0178363788213247,
          -0.16442359229547276,
          -1.112695636415679,
          -0.1270802957928152,
          1.007890170700006,
          1.4524421801030634,
          0.8296522843963062,
          1.0532618501781965,
          0.6795082735205985,
          -2.0221482750492252,
          1.1461514030298305,
          0.06140342823868589,
          -0.13708816055394313,
          -0.7651459419975741,
          0.7096138267240532,
          -0.5667400030206438,
          -1.1516645799042164,
          -0.7686303875696663,
          -1.2446233678971257,
          -1.2812299231096487,
          0.012725410380528336,
          -1.748983001114331,
          0.3983896418002656,
          -1.7455224885371137,
          0.5245636491056316,
          0.3304388918863971,
          -1.2147105369960398,
          -0.7984194519889587,
          0.29731511377892034,
          1.405402979776943,
          -1.619812830345721,
          1.2811861693543742,
          -1.4539006003318269,
          -0.38631762914312007,
          -0.03712563436194027,
          -0.05812227019037334,
          0.6245645987974078,
          -0.3951156093367975,
          -2.0161901747549456,
          -0.8956798469753015,
          -0.4370140644033481,
          -0.47276981141969854,
          -0.2854548890731237,
          0.41838971907076516,
          0.45133415609646577,
          0.11713657133354452,
          -1.325159071044354,
          0.11202376189144415,
          -0.5249627092180661,
          -0.3039374941801457,
          -0.8324933320883989,
          -0.9722317483126025,
          -0.9724144691955017,
          -0.1836356643644105,
          -0.019578188435622406,
          -1.724204841009576,
          1.1651900890724414,
          0.4587265805469331,
          -0.4269940736068984,
          0.5177334206115901,
          -1.489836025046481,
          0.2245692761053648,
          0.07659364207849126,
          0.5651885751515057,
          -0.7321710513842877,
          -0.6919190329872751,
          -0.608863992546054,
          1.5946083343083195,
          1.1696186036170675,
          3.408773057810497,
          0.7607021874075978,
          0.4911325983640859,
          0.2541815539119816,
          -0.36709667595476897,
          -0.4014232037425139,
          -3.5374312704476396
         ]
        }
       ],
       "layout": {
        "barmode": "overlay",
        "legend": {
         "bgcolor": "#F5F6F9",
         "font": {
          "color": "#4D5663"
         }
        },
        "paper_bgcolor": "#F5F6F9",
        "plot_bgcolor": "#F5F6F9",
        "template": {
         "data": {
          "bar": [
           {
            "error_x": {
             "color": "#2a3f5f"
            },
            "error_y": {
             "color": "#2a3f5f"
            },
            "marker": {
             "line": {
              "color": "#E5ECF6",
              "width": 0.5
             },
             "pattern": {
              "fillmode": "overlay",
              "size": 10,
              "solidity": 0.2
             }
            },
            "type": "bar"
           }
          ],
          "barpolar": [
           {
            "marker": {
             "line": {
              "color": "#E5ECF6",
              "width": 0.5
             },
             "pattern": {
              "fillmode": "overlay",
              "size": 10,
              "solidity": 0.2
             }
            },
            "type": "barpolar"
           }
          ],
          "carpet": [
           {
            "aaxis": {
             "endlinecolor": "#2a3f5f",
             "gridcolor": "white",
             "linecolor": "white",
             "minorgridcolor": "white",
             "startlinecolor": "#2a3f5f"
            },
            "baxis": {
             "endlinecolor": "#2a3f5f",
             "gridcolor": "white",
             "linecolor": "white",
             "minorgridcolor": "white",
             "startlinecolor": "#2a3f5f"
            },
            "type": "carpet"
           }
          ],
          "choropleth": [
           {
            "colorbar": {
             "outlinewidth": 0,
             "ticks": ""
            },
            "type": "choropleth"
           }
          ],
          "contour": [
           {
            "colorbar": {
             "outlinewidth": 0,
             "ticks": ""
            },
            "colorscale": [
             [
              0,
              "#0d0887"
             ],
             [
              0.1111111111111111,
              "#46039f"
             ],
             [
              0.2222222222222222,
              "#7201a8"
             ],
             [
              0.3333333333333333,
              "#9c179e"
             ],
             [
              0.4444444444444444,
              "#bd3786"
             ],
             [
              0.5555555555555556,
              "#d8576b"
             ],
             [
              0.6666666666666666,
              "#ed7953"
             ],
             [
              0.7777777777777778,
              "#fb9f3a"
             ],
             [
              0.8888888888888888,
              "#fdca26"
             ],
             [
              1,
              "#f0f921"
             ]
            ],
            "type": "contour"
           }
          ],
          "contourcarpet": [
           {
            "colorbar": {
             "outlinewidth": 0,
             "ticks": ""
            },
            "type": "contourcarpet"
           }
          ],
          "heatmap": [
           {
            "colorbar": {
             "outlinewidth": 0,
             "ticks": ""
            },
            "colorscale": [
             [
              0,
              "#0d0887"
             ],
             [
              0.1111111111111111,
              "#46039f"
             ],
             [
              0.2222222222222222,
              "#7201a8"
             ],
             [
              0.3333333333333333,
              "#9c179e"
             ],
             [
              0.4444444444444444,
              "#bd3786"
             ],
             [
              0.5555555555555556,
              "#d8576b"
             ],
             [
              0.6666666666666666,
              "#ed7953"
             ],
             [
              0.7777777777777778,
              "#fb9f3a"
             ],
             [
              0.8888888888888888,
              "#fdca26"
             ],
             [
              1,
              "#f0f921"
             ]
            ],
            "type": "heatmap"
           }
          ],
          "heatmapgl": [
           {
            "colorbar": {
             "outlinewidth": 0,
             "ticks": ""
            },
            "colorscale": [
             [
              0,
              "#0d0887"
             ],
             [
              0.1111111111111111,
              "#46039f"
             ],
             [
              0.2222222222222222,
              "#7201a8"
             ],
             [
              0.3333333333333333,
              "#9c179e"
             ],
             [
              0.4444444444444444,
              "#bd3786"
             ],
             [
              0.5555555555555556,
              "#d8576b"
             ],
             [
              0.6666666666666666,
              "#ed7953"
             ],
             [
              0.7777777777777778,
              "#fb9f3a"
             ],
             [
              0.8888888888888888,
              "#fdca26"
             ],
             [
              1,
              "#f0f921"
             ]
            ],
            "type": "heatmapgl"
           }
          ],
          "histogram": [
           {
            "marker": {
             "pattern": {
              "fillmode": "overlay",
              "size": 10,
              "solidity": 0.2
             }
            },
            "type": "histogram"
           }
          ],
          "histogram2d": [
           {
            "colorbar": {
             "outlinewidth": 0,
             "ticks": ""
            },
            "colorscale": [
             [
              0,
              "#0d0887"
             ],
             [
              0.1111111111111111,
              "#46039f"
             ],
             [
              0.2222222222222222,
              "#7201a8"
             ],
             [
              0.3333333333333333,
              "#9c179e"
             ],
             [
              0.4444444444444444,
              "#bd3786"
             ],
             [
              0.5555555555555556,
              "#d8576b"
             ],
             [
              0.6666666666666666,
              "#ed7953"
             ],
             [
              0.7777777777777778,
              "#fb9f3a"
             ],
             [
              0.8888888888888888,
              "#fdca26"
             ],
             [
              1,
              "#f0f921"
             ]
            ],
            "type": "histogram2d"
           }
          ],
          "histogram2dcontour": [
           {
            "colorbar": {
             "outlinewidth": 0,
             "ticks": ""
            },
            "colorscale": [
             [
              0,
              "#0d0887"
             ],
             [
              0.1111111111111111,
              "#46039f"
             ],
             [
              0.2222222222222222,
              "#7201a8"
             ],
             [
              0.3333333333333333,
              "#9c179e"
             ],
             [
              0.4444444444444444,
              "#bd3786"
             ],
             [
              0.5555555555555556,
              "#d8576b"
             ],
             [
              0.6666666666666666,
              "#ed7953"
             ],
             [
              0.7777777777777778,
              "#fb9f3a"
             ],
             [
              0.8888888888888888,
              "#fdca26"
             ],
             [
              1,
              "#f0f921"
             ]
            ],
            "type": "histogram2dcontour"
           }
          ],
          "mesh3d": [
           {
            "colorbar": {
             "outlinewidth": 0,
             "ticks": ""
            },
            "type": "mesh3d"
           }
          ],
          "parcoords": [
           {
            "line": {
             "colorbar": {
              "outlinewidth": 0,
              "ticks": ""
             }
            },
            "type": "parcoords"
           }
          ],
          "pie": [
           {
            "automargin": true,
            "type": "pie"
           }
          ],
          "scatter": [
           {
            "fillpattern": {
             "fillmode": "overlay",
             "size": 10,
             "solidity": 0.2
            },
            "type": "scatter"
           }
          ],
          "scatter3d": [
           {
            "line": {
             "colorbar": {
              "outlinewidth": 0,
              "ticks": ""
             }
            },
            "marker": {
             "colorbar": {
              "outlinewidth": 0,
              "ticks": ""
             }
            },
            "type": "scatter3d"
           }
          ],
          "scattercarpet": [
           {
            "marker": {
             "colorbar": {
              "outlinewidth": 0,
              "ticks": ""
             }
            },
            "type": "scattercarpet"
           }
          ],
          "scattergeo": [
           {
            "marker": {
             "colorbar": {
              "outlinewidth": 0,
              "ticks": ""
             }
            },
            "type": "scattergeo"
           }
          ],
          "scattergl": [
           {
            "marker": {
             "colorbar": {
              "outlinewidth": 0,
              "ticks": ""
             }
            },
            "type": "scattergl"
           }
          ],
          "scattermapbox": [
           {
            "marker": {
             "colorbar": {
              "outlinewidth": 0,
              "ticks": ""
             }
            },
            "type": "scattermapbox"
           }
          ],
          "scatterpolar": [
           {
            "marker": {
             "colorbar": {
              "outlinewidth": 0,
              "ticks": ""
             }
            },
            "type": "scatterpolar"
           }
          ],
          "scatterpolargl": [
           {
            "marker": {
             "colorbar": {
              "outlinewidth": 0,
              "ticks": ""
             }
            },
            "type": "scatterpolargl"
           }
          ],
          "scatterternary": [
           {
            "marker": {
             "colorbar": {
              "outlinewidth": 0,
              "ticks": ""
             }
            },
            "type": "scatterternary"
           }
          ],
          "surface": [
           {
            "colorbar": {
             "outlinewidth": 0,
             "ticks": ""
            },
            "colorscale": [
             [
              0,
              "#0d0887"
             ],
             [
              0.1111111111111111,
              "#46039f"
             ],
             [
              0.2222222222222222,
              "#7201a8"
             ],
             [
              0.3333333333333333,
              "#9c179e"
             ],
             [
              0.4444444444444444,
              "#bd3786"
             ],
             [
              0.5555555555555556,
              "#d8576b"
             ],
             [
              0.6666666666666666,
              "#ed7953"
             ],
             [
              0.7777777777777778,
              "#fb9f3a"
             ],
             [
              0.8888888888888888,
              "#fdca26"
             ],
             [
              1,
              "#f0f921"
             ]
            ],
            "type": "surface"
           }
          ],
          "table": [
           {
            "cells": {
             "fill": {
              "color": "#EBF0F8"
             },
             "line": {
              "color": "white"
             }
            },
            "header": {
             "fill": {
              "color": "#C8D4E3"
             },
             "line": {
              "color": "white"
             }
            },
            "type": "table"
           }
          ]
         },
         "layout": {
          "annotationdefaults": {
           "arrowcolor": "#2a3f5f",
           "arrowhead": 0,
           "arrowwidth": 1
          },
          "autotypenumbers": "strict",
          "coloraxis": {
           "colorbar": {
            "outlinewidth": 0,
            "ticks": ""
           }
          },
          "colorscale": {
           "diverging": [
            [
             0,
             "#8e0152"
            ],
            [
             0.1,
             "#c51b7d"
            ],
            [
             0.2,
             "#de77ae"
            ],
            [
             0.3,
             "#f1b6da"
            ],
            [
             0.4,
             "#fde0ef"
            ],
            [
             0.5,
             "#f7f7f7"
            ],
            [
             0.6,
             "#e6f5d0"
            ],
            [
             0.7,
             "#b8e186"
            ],
            [
             0.8,
             "#7fbc41"
            ],
            [
             0.9,
             "#4d9221"
            ],
            [
             1,
             "#276419"
            ]
           ],
           "sequential": [
            [
             0,
             "#0d0887"
            ],
            [
             0.1111111111111111,
             "#46039f"
            ],
            [
             0.2222222222222222,
             "#7201a8"
            ],
            [
             0.3333333333333333,
             "#9c179e"
            ],
            [
             0.4444444444444444,
             "#bd3786"
            ],
            [
             0.5555555555555556,
             "#d8576b"
            ],
            [
             0.6666666666666666,
             "#ed7953"
            ],
            [
             0.7777777777777778,
             "#fb9f3a"
            ],
            [
             0.8888888888888888,
             "#fdca26"
            ],
            [
             1,
             "#f0f921"
            ]
           ],
           "sequentialminus": [
            [
             0,
             "#0d0887"
            ],
            [
             0.1111111111111111,
             "#46039f"
            ],
            [
             0.2222222222222222,
             "#7201a8"
            ],
            [
             0.3333333333333333,
             "#9c179e"
            ],
            [
             0.4444444444444444,
             "#bd3786"
            ],
            [
             0.5555555555555556,
             "#d8576b"
            ],
            [
             0.6666666666666666,
             "#ed7953"
            ],
            [
             0.7777777777777778,
             "#fb9f3a"
            ],
            [
             0.8888888888888888,
             "#fdca26"
            ],
            [
             1,
             "#f0f921"
            ]
           ]
          },
          "colorway": [
           "#636efa",
           "#EF553B",
           "#00cc96",
           "#ab63fa",
           "#FFA15A",
           "#19d3f3",
           "#FF6692",
           "#B6E880",
           "#FF97FF",
           "#FECB52"
          ],
          "font": {
           "color": "#2a3f5f"
          },
          "geo": {
           "bgcolor": "white",
           "lakecolor": "white",
           "landcolor": "#E5ECF6",
           "showlakes": true,
           "showland": true,
           "subunitcolor": "white"
          },
          "hoverlabel": {
           "align": "left"
          },
          "hovermode": "closest",
          "mapbox": {
           "style": "light"
          },
          "paper_bgcolor": "white",
          "plot_bgcolor": "#E5ECF6",
          "polar": {
           "angularaxis": {
            "gridcolor": "white",
            "linecolor": "white",
            "ticks": ""
           },
           "bgcolor": "#E5ECF6",
           "radialaxis": {
            "gridcolor": "white",
            "linecolor": "white",
            "ticks": ""
           }
          },
          "scene": {
           "xaxis": {
            "backgroundcolor": "#E5ECF6",
            "gridcolor": "white",
            "gridwidth": 2,
            "linecolor": "white",
            "showbackground": true,
            "ticks": "",
            "zerolinecolor": "white"
           },
           "yaxis": {
            "backgroundcolor": "#E5ECF6",
            "gridcolor": "white",
            "gridwidth": 2,
            "linecolor": "white",
            "showbackground": true,
            "ticks": "",
            "zerolinecolor": "white"
           },
           "zaxis": {
            "backgroundcolor": "#E5ECF6",
            "gridcolor": "white",
            "gridwidth": 2,
            "linecolor": "white",
            "showbackground": true,
            "ticks": "",
            "zerolinecolor": "white"
           }
          },
          "shapedefaults": {
           "line": {
            "color": "#2a3f5f"
           }
          },
          "ternary": {
           "aaxis": {
            "gridcolor": "white",
            "linecolor": "white",
            "ticks": ""
           },
           "baxis": {
            "gridcolor": "white",
            "linecolor": "white",
            "ticks": ""
           },
           "bgcolor": "#E5ECF6",
           "caxis": {
            "gridcolor": "white",
            "linecolor": "white",
            "ticks": ""
           }
          },
          "title": {
           "x": 0.05
          },
          "xaxis": {
           "automargin": true,
           "gridcolor": "white",
           "linecolor": "white",
           "ticks": "",
           "title": {
            "standoff": 15
           },
           "zerolinecolor": "white",
           "zerolinewidth": 2
          },
          "yaxis": {
           "automargin": true,
           "gridcolor": "white",
           "linecolor": "white",
           "ticks": "",
           "title": {
            "standoff": 15
           },
           "zerolinecolor": "white",
           "zerolinewidth": 2
          }
         }
        },
        "title": {
         "font": {
          "color": "#4D5663"
         }
        },
        "xaxis": {
         "gridcolor": "#E1E5ED",
         "showgrid": true,
         "tickfont": {
          "color": "#4D5663"
         },
         "title": {
          "font": {
           "color": "#4D5663"
          },
          "text": ""
         },
         "zerolinecolor": "#E1E5ED"
        },
        "yaxis": {
         "gridcolor": "#E1E5ED",
         "showgrid": true,
         "tickfont": {
          "color": "#4D5663"
         },
         "title": {
          "font": {
           "color": "#4D5663"
          },
          "text": ""
         },
         "zerolinecolor": "#E1E5ED"
        }
       }
      },
      "text/html": [
       "<div>                            <div id=\"ff7e5f6e-ce27-40c6-8c13-67ec8327eac5\" class=\"plotly-graph-div\" style=\"height:525px; width:100%;\"></div>            <script type=\"text/javascript\">                require([\"plotly\"], function(Plotly) {                    window.PLOTLYENV=window.PLOTLYENV || {};\n",
       "                    window.PLOTLYENV.BASE_URL='https://plot.ly';                                    if (document.getElementById(\"ff7e5f6e-ce27-40c6-8c13-67ec8327eac5\")) {                    Plotly.newPlot(                        \"ff7e5f6e-ce27-40c6-8c13-67ec8327eac5\",                        [{\"histfunc\":\"count\",\"histnorm\":\"\",\"marker\":{\"color\":\"rgba(255, 153, 51, 1.0)\",\"line\":{\"color\":\"#4D5663\",\"width\":1.3}},\"name\":\"A\",\"nbinsx\":25,\"opacity\":0.8,\"orientation\":\"v\",\"x\":[-0.34120759272223433,0.5319968935053704,-2.450455488118163,-1.2456715548083472,1.5209640716102542,-0.0049272852738787625,1.0985475472016015,0.6773710522533647,1.3607142958212726,0.07711242446398583,0.29079341587599095,-0.43367282563883897,0.06753015159812732,-0.614125917644946,1.709868882712002,-0.5083695153972636,0.8304776785532717,1.5520601876707454,-0.3222961640789218,-1.977901874814474,1.3606452503009314,-0.06010963701062323,-0.29577165906393466,1.1022486760316241,1.0178363788213247,-0.16442359229547276,-1.112695636415679,-0.1270802957928152,1.007890170700006,1.4524421801030634,0.8296522843963062,1.0532618501781965,0.6795082735205985,-2.0221482750492252,1.1461514030298305,0.06140342823868589,-0.13708816055394313,-0.7651459419975741,0.7096138267240532,-0.5667400030206438,-1.1516645799042164,-0.7686303875696663,-1.2446233678971257,-1.2812299231096487,0.012725410380528336,-1.748983001114331,0.3983896418002656,-1.7455224885371137,0.5245636491056316,0.3304388918863971,-1.2147105369960398,-0.7984194519889587,0.29731511377892034,1.405402979776943,-1.619812830345721,1.2811861693543742,-1.4539006003318269,-0.38631762914312007,-0.03712563436194027,-0.05812227019037334,0.6245645987974078,-0.3951156093367975,-2.0161901747549456,-0.8956798469753015,-0.4370140644033481,-0.47276981141969854,-0.2854548890731237,0.41838971907076516,0.45133415609646577,0.11713657133354452,-1.325159071044354,0.11202376189144415,-0.5249627092180661,-0.3039374941801457,-0.8324933320883989,-0.9722317483126025,-0.9724144691955017,-0.1836356643644105,-0.019578188435622406,-1.724204841009576,1.1651900890724414,0.4587265805469331,-0.4269940736068984,0.5177334206115901,-1.489836025046481,0.2245692761053648,0.07659364207849126,0.5651885751515057,-0.7321710513842877,-0.6919190329872751,-0.608863992546054,1.5946083343083195,1.1696186036170675,3.408773057810497,0.7607021874075978,0.4911325983640859,0.2541815539119816,-0.36709667595476897,-0.4014232037425139,-3.5374312704476396],\"type\":\"histogram\"}],                        {\"barmode\":\"overlay\",\"legend\":{\"bgcolor\":\"#F5F6F9\",\"font\":{\"color\":\"#4D5663\"}},\"paper_bgcolor\":\"#F5F6F9\",\"plot_bgcolor\":\"#F5F6F9\",\"template\":{\"data\":{\"barpolar\":[{\"marker\":{\"line\":{\"color\":\"#E5ECF6\",\"width\":0.5},\"pattern\":{\"fillmode\":\"overlay\",\"size\":10,\"solidity\":0.2}},\"type\":\"barpolar\"}],\"bar\":[{\"error_x\":{\"color\":\"#2a3f5f\"},\"error_y\":{\"color\":\"#2a3f5f\"},\"marker\":{\"line\":{\"color\":\"#E5ECF6\",\"width\":0.5},\"pattern\":{\"fillmode\":\"overlay\",\"size\":10,\"solidity\":0.2}},\"type\":\"bar\"}],\"carpet\":[{\"aaxis\":{\"endlinecolor\":\"#2a3f5f\",\"gridcolor\":\"white\",\"linecolor\":\"white\",\"minorgridcolor\":\"white\",\"startlinecolor\":\"#2a3f5f\"},\"baxis\":{\"endlinecolor\":\"#2a3f5f\",\"gridcolor\":\"white\",\"linecolor\":\"white\",\"minorgridcolor\":\"white\",\"startlinecolor\":\"#2a3f5f\"},\"type\":\"carpet\"}],\"choropleth\":[{\"colorbar\":{\"outlinewidth\":0,\"ticks\":\"\"},\"type\":\"choropleth\"}],\"contourcarpet\":[{\"colorbar\":{\"outlinewidth\":0,\"ticks\":\"\"},\"type\":\"contourcarpet\"}],\"contour\":[{\"colorbar\":{\"outlinewidth\":0,\"ticks\":\"\"},\"colorscale\":[[0.0,\"#0d0887\"],[0.1111111111111111,\"#46039f\"],[0.2222222222222222,\"#7201a8\"],[0.3333333333333333,\"#9c179e\"],[0.4444444444444444,\"#bd3786\"],[0.5555555555555556,\"#d8576b\"],[0.6666666666666666,\"#ed7953\"],[0.7777777777777778,\"#fb9f3a\"],[0.8888888888888888,\"#fdca26\"],[1.0,\"#f0f921\"]],\"type\":\"contour\"}],\"heatmapgl\":[{\"colorbar\":{\"outlinewidth\":0,\"ticks\":\"\"},\"colorscale\":[[0.0,\"#0d0887\"],[0.1111111111111111,\"#46039f\"],[0.2222222222222222,\"#7201a8\"],[0.3333333333333333,\"#9c179e\"],[0.4444444444444444,\"#bd3786\"],[0.5555555555555556,\"#d8576b\"],[0.6666666666666666,\"#ed7953\"],[0.7777777777777778,\"#fb9f3a\"],[0.8888888888888888,\"#fdca26\"],[1.0,\"#f0f921\"]],\"type\":\"heatmapgl\"}],\"heatmap\":[{\"colorbar\":{\"outlinewidth\":0,\"ticks\":\"\"},\"colorscale\":[[0.0,\"#0d0887\"],[0.1111111111111111,\"#46039f\"],[0.2222222222222222,\"#7201a8\"],[0.3333333333333333,\"#9c179e\"],[0.4444444444444444,\"#bd3786\"],[0.5555555555555556,\"#d8576b\"],[0.6666666666666666,\"#ed7953\"],[0.7777777777777778,\"#fb9f3a\"],[0.8888888888888888,\"#fdca26\"],[1.0,\"#f0f921\"]],\"type\":\"heatmap\"}],\"histogram2dcontour\":[{\"colorbar\":{\"outlinewidth\":0,\"ticks\":\"\"},\"colorscale\":[[0.0,\"#0d0887\"],[0.1111111111111111,\"#46039f\"],[0.2222222222222222,\"#7201a8\"],[0.3333333333333333,\"#9c179e\"],[0.4444444444444444,\"#bd3786\"],[0.5555555555555556,\"#d8576b\"],[0.6666666666666666,\"#ed7953\"],[0.7777777777777778,\"#fb9f3a\"],[0.8888888888888888,\"#fdca26\"],[1.0,\"#f0f921\"]],\"type\":\"histogram2dcontour\"}],\"histogram2d\":[{\"colorbar\":{\"outlinewidth\":0,\"ticks\":\"\"},\"colorscale\":[[0.0,\"#0d0887\"],[0.1111111111111111,\"#46039f\"],[0.2222222222222222,\"#7201a8\"],[0.3333333333333333,\"#9c179e\"],[0.4444444444444444,\"#bd3786\"],[0.5555555555555556,\"#d8576b\"],[0.6666666666666666,\"#ed7953\"],[0.7777777777777778,\"#fb9f3a\"],[0.8888888888888888,\"#fdca26\"],[1.0,\"#f0f921\"]],\"type\":\"histogram2d\"}],\"histogram\":[{\"marker\":{\"pattern\":{\"fillmode\":\"overlay\",\"size\":10,\"solidity\":0.2}},\"type\":\"histogram\"}],\"mesh3d\":[{\"colorbar\":{\"outlinewidth\":0,\"ticks\":\"\"},\"type\":\"mesh3d\"}],\"parcoords\":[{\"line\":{\"colorbar\":{\"outlinewidth\":0,\"ticks\":\"\"}},\"type\":\"parcoords\"}],\"pie\":[{\"automargin\":true,\"type\":\"pie\"}],\"scatter3d\":[{\"line\":{\"colorbar\":{\"outlinewidth\":0,\"ticks\":\"\"}},\"marker\":{\"colorbar\":{\"outlinewidth\":0,\"ticks\":\"\"}},\"type\":\"scatter3d\"}],\"scattercarpet\":[{\"marker\":{\"colorbar\":{\"outlinewidth\":0,\"ticks\":\"\"}},\"type\":\"scattercarpet\"}],\"scattergeo\":[{\"marker\":{\"colorbar\":{\"outlinewidth\":0,\"ticks\":\"\"}},\"type\":\"scattergeo\"}],\"scattergl\":[{\"marker\":{\"colorbar\":{\"outlinewidth\":0,\"ticks\":\"\"}},\"type\":\"scattergl\"}],\"scattermapbox\":[{\"marker\":{\"colorbar\":{\"outlinewidth\":0,\"ticks\":\"\"}},\"type\":\"scattermapbox\"}],\"scatterpolargl\":[{\"marker\":{\"colorbar\":{\"outlinewidth\":0,\"ticks\":\"\"}},\"type\":\"scatterpolargl\"}],\"scatterpolar\":[{\"marker\":{\"colorbar\":{\"outlinewidth\":0,\"ticks\":\"\"}},\"type\":\"scatterpolar\"}],\"scatter\":[{\"fillpattern\":{\"fillmode\":\"overlay\",\"size\":10,\"solidity\":0.2},\"type\":\"scatter\"}],\"scatterternary\":[{\"marker\":{\"colorbar\":{\"outlinewidth\":0,\"ticks\":\"\"}},\"type\":\"scatterternary\"}],\"surface\":[{\"colorbar\":{\"outlinewidth\":0,\"ticks\":\"\"},\"colorscale\":[[0.0,\"#0d0887\"],[0.1111111111111111,\"#46039f\"],[0.2222222222222222,\"#7201a8\"],[0.3333333333333333,\"#9c179e\"],[0.4444444444444444,\"#bd3786\"],[0.5555555555555556,\"#d8576b\"],[0.6666666666666666,\"#ed7953\"],[0.7777777777777778,\"#fb9f3a\"],[0.8888888888888888,\"#fdca26\"],[1.0,\"#f0f921\"]],\"type\":\"surface\"}],\"table\":[{\"cells\":{\"fill\":{\"color\":\"#EBF0F8\"},\"line\":{\"color\":\"white\"}},\"header\":{\"fill\":{\"color\":\"#C8D4E3\"},\"line\":{\"color\":\"white\"}},\"type\":\"table\"}]},\"layout\":{\"annotationdefaults\":{\"arrowcolor\":\"#2a3f5f\",\"arrowhead\":0,\"arrowwidth\":1},\"autotypenumbers\":\"strict\",\"coloraxis\":{\"colorbar\":{\"outlinewidth\":0,\"ticks\":\"\"}},\"colorscale\":{\"diverging\":[[0,\"#8e0152\"],[0.1,\"#c51b7d\"],[0.2,\"#de77ae\"],[0.3,\"#f1b6da\"],[0.4,\"#fde0ef\"],[0.5,\"#f7f7f7\"],[0.6,\"#e6f5d0\"],[0.7,\"#b8e186\"],[0.8,\"#7fbc41\"],[0.9,\"#4d9221\"],[1,\"#276419\"]],\"sequential\":[[0.0,\"#0d0887\"],[0.1111111111111111,\"#46039f\"],[0.2222222222222222,\"#7201a8\"],[0.3333333333333333,\"#9c179e\"],[0.4444444444444444,\"#bd3786\"],[0.5555555555555556,\"#d8576b\"],[0.6666666666666666,\"#ed7953\"],[0.7777777777777778,\"#fb9f3a\"],[0.8888888888888888,\"#fdca26\"],[1.0,\"#f0f921\"]],\"sequentialminus\":[[0.0,\"#0d0887\"],[0.1111111111111111,\"#46039f\"],[0.2222222222222222,\"#7201a8\"],[0.3333333333333333,\"#9c179e\"],[0.4444444444444444,\"#bd3786\"],[0.5555555555555556,\"#d8576b\"],[0.6666666666666666,\"#ed7953\"],[0.7777777777777778,\"#fb9f3a\"],[0.8888888888888888,\"#fdca26\"],[1.0,\"#f0f921\"]]},\"colorway\":[\"#636efa\",\"#EF553B\",\"#00cc96\",\"#ab63fa\",\"#FFA15A\",\"#19d3f3\",\"#FF6692\",\"#B6E880\",\"#FF97FF\",\"#FECB52\"],\"font\":{\"color\":\"#2a3f5f\"},\"geo\":{\"bgcolor\":\"white\",\"lakecolor\":\"white\",\"landcolor\":\"#E5ECF6\",\"showlakes\":true,\"showland\":true,\"subunitcolor\":\"white\"},\"hoverlabel\":{\"align\":\"left\"},\"hovermode\":\"closest\",\"mapbox\":{\"style\":\"light\"},\"paper_bgcolor\":\"white\",\"plot_bgcolor\":\"#E5ECF6\",\"polar\":{\"angularaxis\":{\"gridcolor\":\"white\",\"linecolor\":\"white\",\"ticks\":\"\"},\"bgcolor\":\"#E5ECF6\",\"radialaxis\":{\"gridcolor\":\"white\",\"linecolor\":\"white\",\"ticks\":\"\"}},\"scene\":{\"xaxis\":{\"backgroundcolor\":\"#E5ECF6\",\"gridcolor\":\"white\",\"gridwidth\":2,\"linecolor\":\"white\",\"showbackground\":true,\"ticks\":\"\",\"zerolinecolor\":\"white\"},\"yaxis\":{\"backgroundcolor\":\"#E5ECF6\",\"gridcolor\":\"white\",\"gridwidth\":2,\"linecolor\":\"white\",\"showbackground\":true,\"ticks\":\"\",\"zerolinecolor\":\"white\"},\"zaxis\":{\"backgroundcolor\":\"#E5ECF6\",\"gridcolor\":\"white\",\"gridwidth\":2,\"linecolor\":\"white\",\"showbackground\":true,\"ticks\":\"\",\"zerolinecolor\":\"white\"}},\"shapedefaults\":{\"line\":{\"color\":\"#2a3f5f\"}},\"ternary\":{\"aaxis\":{\"gridcolor\":\"white\",\"linecolor\":\"white\",\"ticks\":\"\"},\"baxis\":{\"gridcolor\":\"white\",\"linecolor\":\"white\",\"ticks\":\"\"},\"bgcolor\":\"#E5ECF6\",\"caxis\":{\"gridcolor\":\"white\",\"linecolor\":\"white\",\"ticks\":\"\"}},\"title\":{\"x\":0.05},\"xaxis\":{\"automargin\":true,\"gridcolor\":\"white\",\"linecolor\":\"white\",\"ticks\":\"\",\"title\":{\"standoff\":15},\"zerolinecolor\":\"white\",\"zerolinewidth\":2},\"yaxis\":{\"automargin\":true,\"gridcolor\":\"white\",\"linecolor\":\"white\",\"ticks\":\"\",\"title\":{\"standoff\":15},\"zerolinecolor\":\"white\",\"zerolinewidth\":2}}},\"title\":{\"font\":{\"color\":\"#4D5663\"}},\"xaxis\":{\"gridcolor\":\"#E1E5ED\",\"showgrid\":true,\"tickfont\":{\"color\":\"#4D5663\"},\"title\":{\"font\":{\"color\":\"#4D5663\"},\"text\":\"\"},\"zerolinecolor\":\"#E1E5ED\"},\"yaxis\":{\"gridcolor\":\"#E1E5ED\",\"showgrid\":true,\"tickfont\":{\"color\":\"#4D5663\"},\"title\":{\"font\":{\"color\":\"#4D5663\"},\"text\":\"\"},\"zerolinecolor\":\"#E1E5ED\"}},                        {\"showLink\": true, \"linkText\": \"Export to plot.ly\", \"plotlyServerURL\": \"https://plot.ly\", \"responsive\": true}                    ).then(function(){\n",
       "                            \n",
       "var gd = document.getElementById('ff7e5f6e-ce27-40c6-8c13-67ec8327eac5');\n",
       "var x = new MutationObserver(function (mutations, observer) {{\n",
       "        var display = window.getComputedStyle(gd).display;\n",
       "        if (!display || display === 'none') {{\n",
       "            console.log([gd, 'removed!']);\n",
       "            Plotly.purge(gd);\n",
       "            observer.disconnect();\n",
       "        }}\n",
       "}});\n",
       "\n",
       "// Listen for the removal of the full notebook cells\n",
       "var notebookContainer = gd.closest('#notebook-container');\n",
       "if (notebookContainer) {{\n",
       "    x.observe(notebookContainer, {childList: true});\n",
       "}}\n",
       "\n",
       "// Listen for the clearing of the current output cell\n",
       "var outputEl = gd.closest('.output');\n",
       "if (outputEl) {{\n",
       "    x.observe(outputEl, {childList: true});\n",
       "}}\n",
       "\n",
       "                        })                };                });            </script>        </div>"
      ]
     },
     "metadata": {},
     "output_type": "display_data"
    }
   ],
   "source": [
    "df['A'].iplot(kind='hist',bins=25)"
   ]
  },
  {
   "cell_type": "code",
   "execution_count": 54,
   "metadata": {},
   "outputs": [
    {
     "data": {
      "application/vnd.plotly.v1+json": {
       "config": {
        "linkText": "Export to plot.ly",
        "plotlyServerURL": "https://plot.ly",
        "showLink": true
       },
       "data": [
        {
         "marker": {
          "color": [
           "orange",
           "orange",
           "orange",
           "orange",
           "orange",
           "orange",
           "orange",
           "orange",
           "orange",
           "orange",
           "orange",
           "orange",
           "orange",
           "orange",
           "orange",
           "orange",
           "orange",
           "orange",
           "orange",
           "orange",
           "orange",
           "orange",
           "orange",
           "orange",
           "orange",
           "orange",
           "orange",
           "orange",
           "orange",
           "orange",
           "orange",
           "orange",
           "orange",
           "orange",
           "orange",
           "orange",
           "orange",
           "orange",
           "orange",
           "orange",
           "orange",
           "orange",
           "orange",
           "orange",
           "orange",
           "orange",
           "orange",
           "orange",
           "orange",
           "orange",
           "orange",
           "orange",
           "orange",
           "orange",
           "orange",
           "orange",
           "orange",
           "orange",
           "orange",
           "orange",
           "orange",
           "orange",
           "orange",
           "orange",
           "orange",
           "orange",
           "orange",
           "orange",
           "orange",
           "orange",
           "orange",
           "orange",
           "orange",
           "orange",
           "orange",
           "orange",
           "orange",
           "orange",
           "orange",
           "orange",
           "orange",
           "orange",
           "orange",
           "orange",
           "orange",
           "orange",
           "orange",
           "orange",
           "orange",
           "orange",
           "orange",
           "orange",
           "orange",
           "orange",
           "orange",
           "orange",
           "orange",
           "orange",
           "orange",
           "orange"
          ],
          "line": {
           "width": 1.3
          },
          "size": [
           101,
           60,
           74,
           71,
           67,
           50,
           73,
           91,
           85,
           46,
           78,
           47,
           42,
           40,
           42,
           87,
           20,
           66,
           60,
           69,
           63,
           52,
           64,
           51,
           75,
           51,
           76,
           35,
           26,
           56,
           40,
           53,
           48,
           64,
           50,
           60,
           61,
           42,
           84,
           75,
           76,
           72,
           41,
           48,
           53,
           59,
           71,
           38,
           57,
           73,
           46,
           48,
           112,
           30,
           78,
           40,
           93,
           52,
           67,
           23,
           55,
           83,
           22,
           87,
           59,
           38,
           36,
           66,
           72,
           48,
           20,
           64,
           93,
           75,
           49,
           87,
           12,
           77,
           67,
           28,
           69,
           62,
           64,
           39,
           60,
           77,
           25,
           61,
           61,
           71,
           75,
           74,
           54,
           80,
           82,
           59,
           32,
           82,
           47,
           82
          ],
          "symbol": "circle"
         },
         "mode": "markers",
         "text": "",
         "type": "scatter",
         "x": [
          -0.34120759272223433,
          0.5319968935053704,
          -2.450455488118163,
          -1.2456715548083472,
          1.5209640716102542,
          -0.0049272852738787625,
          1.0985475472016015,
          0.6773710522533647,
          1.3607142958212726,
          0.07711242446398583,
          0.29079341587599095,
          -0.43367282563883897,
          0.06753015159812732,
          -0.614125917644946,
          1.709868882712002,
          -0.5083695153972636,
          0.8304776785532717,
          1.5520601876707454,
          -0.3222961640789218,
          -1.977901874814474,
          1.3606452503009314,
          -0.06010963701062323,
          -0.29577165906393466,
          1.1022486760316241,
          1.0178363788213247,
          -0.16442359229547276,
          -1.112695636415679,
          -0.1270802957928152,
          1.007890170700006,
          1.4524421801030634,
          0.8296522843963062,
          1.0532618501781965,
          0.6795082735205985,
          -2.0221482750492252,
          1.1461514030298305,
          0.06140342823868589,
          -0.13708816055394313,
          -0.7651459419975741,
          0.7096138267240532,
          -0.5667400030206438,
          -1.1516645799042164,
          -0.7686303875696663,
          -1.2446233678971257,
          -1.2812299231096487,
          0.012725410380528336,
          -1.748983001114331,
          0.3983896418002656,
          -1.7455224885371137,
          0.5245636491056316,
          0.3304388918863971,
          -1.2147105369960398,
          -0.7984194519889587,
          0.29731511377892034,
          1.405402979776943,
          -1.619812830345721,
          1.2811861693543742,
          -1.4539006003318269,
          -0.38631762914312007,
          -0.03712563436194027,
          -0.05812227019037334,
          0.6245645987974078,
          -0.3951156093367975,
          -2.0161901747549456,
          -0.8956798469753015,
          -0.4370140644033481,
          -0.47276981141969854,
          -0.2854548890731237,
          0.41838971907076516,
          0.45133415609646577,
          0.11713657133354452,
          -1.325159071044354,
          0.11202376189144415,
          -0.5249627092180661,
          -0.3039374941801457,
          -0.8324933320883989,
          -0.9722317483126025,
          -0.9724144691955017,
          -0.1836356643644105,
          -0.019578188435622406,
          -1.724204841009576,
          1.1651900890724414,
          0.4587265805469331,
          -0.4269940736068984,
          0.5177334206115901,
          -1.489836025046481,
          0.2245692761053648,
          0.07659364207849126,
          0.5651885751515057,
          -0.7321710513842877,
          -0.6919190329872751,
          -0.608863992546054,
          1.5946083343083195,
          1.1696186036170675,
          3.408773057810497,
          0.7607021874075978,
          0.4911325983640859,
          0.2541815539119816,
          -0.36709667595476897,
          -0.4014232037425139,
          -3.5374312704476396
         ],
         "y": [
          -0.1900973688397165,
          -0.3885684197362916,
          -0.8243907823378489,
          -0.34426573550469863,
          -0.7626995434404207,
          1.048395759001549,
          -0.6777940482446037,
          0.48805974008760755,
          -0.8657238553940302,
          -1.0882723358497837,
          0.4935583948718675,
          0.6182601714481422,
          1.076153033939917,
          -1.5275925690188878,
          0.11136087864535325,
          -0.03044574885719981,
          1.0911851333068108,
          -1.9085340262220345,
          0.46707220029218444,
          -0.49162188861230577,
          0.2877384567818682,
          -0.7823599322251517,
          0.8856691326164089,
          -1.5296573349468923,
          1.1753557301216002,
          -0.9701383706040404,
          0.22639557889842796,
          0.07959265795089271,
          -0.600017743474129,
          0.7756064831698299,
          -0.024756147151807524,
          0.2403527999954404,
          0.6859012737106033,
          -0.037355532168663004,
          0.3717754255978988,
          -0.3919203744324361,
          1.3989115743370044,
          0.2630122570447996,
          -0.3661137393198716,
          0.5471467735292461,
          -1.324642349339428,
          0.11102380481679991,
          -2.075535494176627,
          -0.6382404975762375,
          -2.431797406032161,
          1.6332158939212884,
          -0.09197085112428421,
          1.096049833938106,
          -1.5665098795579453,
          0.7553824116210116,
          0.27913582420989463,
          0.5849420797340267,
          -1.4403775974022306,
          0.13935913692345353,
          -0.44404066805046516,
          0.7385428641964557,
          -1.0332904032432841,
          -0.35396806719374563,
          0.7722679906037915,
          -0.37027214771386874,
          1.7005243008160968,
          0.7471972464198535,
          -0.11815451440255341,
          0.07430273329491482,
          0.4416672561505827,
          -1.274908033954568,
          0.1429012656245399,
          0.6978793081267491,
          1.671557457121776,
          -0.3759987962182951,
          -0.7463195842669548,
          -0.22005038550342224,
          0.46823691228267017,
          1.4855727847467244,
          -1.3957646201898561,
          -1.4884209880380301,
          -0.4763819880346412,
          -0.578184560559735,
          0.6961651030678019,
          1.7259166311829497,
          -0.8252362073213497,
          1.1438609706293845,
          -1.2404930633441245,
          -1.1368471840189844,
          0.5887204356027591,
          0.2335619414877631,
          1.9745688477403562,
          1.3279686184388286,
          0.42260923836531145,
          0.10254556518247043,
          0.9658870494782116,
          -2.0148036419525,
          0.2596301436019747,
          -0.06635611816136357,
          -1.302025346364487,
          -1.2272680873133386,
          0.5198072029053998,
          0.8388417678839464,
          -0.16665292552917554,
          0.9173799937169625
         ]
        }
       ],
       "layout": {
        "legend": {
         "bgcolor": "#F5F6F9",
         "font": {
          "color": "#4D5663"
         }
        },
        "paper_bgcolor": "#F5F6F9",
        "plot_bgcolor": "#F5F6F9",
        "template": {
         "data": {
          "bar": [
           {
            "error_x": {
             "color": "#2a3f5f"
            },
            "error_y": {
             "color": "#2a3f5f"
            },
            "marker": {
             "line": {
              "color": "#E5ECF6",
              "width": 0.5
             },
             "pattern": {
              "fillmode": "overlay",
              "size": 10,
              "solidity": 0.2
             }
            },
            "type": "bar"
           }
          ],
          "barpolar": [
           {
            "marker": {
             "line": {
              "color": "#E5ECF6",
              "width": 0.5
             },
             "pattern": {
              "fillmode": "overlay",
              "size": 10,
              "solidity": 0.2
             }
            },
            "type": "barpolar"
           }
          ],
          "carpet": [
           {
            "aaxis": {
             "endlinecolor": "#2a3f5f",
             "gridcolor": "white",
             "linecolor": "white",
             "minorgridcolor": "white",
             "startlinecolor": "#2a3f5f"
            },
            "baxis": {
             "endlinecolor": "#2a3f5f",
             "gridcolor": "white",
             "linecolor": "white",
             "minorgridcolor": "white",
             "startlinecolor": "#2a3f5f"
            },
            "type": "carpet"
           }
          ],
          "choropleth": [
           {
            "colorbar": {
             "outlinewidth": 0,
             "ticks": ""
            },
            "type": "choropleth"
           }
          ],
          "contour": [
           {
            "colorbar": {
             "outlinewidth": 0,
             "ticks": ""
            },
            "colorscale": [
             [
              0,
              "#0d0887"
             ],
             [
              0.1111111111111111,
              "#46039f"
             ],
             [
              0.2222222222222222,
              "#7201a8"
             ],
             [
              0.3333333333333333,
              "#9c179e"
             ],
             [
              0.4444444444444444,
              "#bd3786"
             ],
             [
              0.5555555555555556,
              "#d8576b"
             ],
             [
              0.6666666666666666,
              "#ed7953"
             ],
             [
              0.7777777777777778,
              "#fb9f3a"
             ],
             [
              0.8888888888888888,
              "#fdca26"
             ],
             [
              1,
              "#f0f921"
             ]
            ],
            "type": "contour"
           }
          ],
          "contourcarpet": [
           {
            "colorbar": {
             "outlinewidth": 0,
             "ticks": ""
            },
            "type": "contourcarpet"
           }
          ],
          "heatmap": [
           {
            "colorbar": {
             "outlinewidth": 0,
             "ticks": ""
            },
            "colorscale": [
             [
              0,
              "#0d0887"
             ],
             [
              0.1111111111111111,
              "#46039f"
             ],
             [
              0.2222222222222222,
              "#7201a8"
             ],
             [
              0.3333333333333333,
              "#9c179e"
             ],
             [
              0.4444444444444444,
              "#bd3786"
             ],
             [
              0.5555555555555556,
              "#d8576b"
             ],
             [
              0.6666666666666666,
              "#ed7953"
             ],
             [
              0.7777777777777778,
              "#fb9f3a"
             ],
             [
              0.8888888888888888,
              "#fdca26"
             ],
             [
              1,
              "#f0f921"
             ]
            ],
            "type": "heatmap"
           }
          ],
          "heatmapgl": [
           {
            "colorbar": {
             "outlinewidth": 0,
             "ticks": ""
            },
            "colorscale": [
             [
              0,
              "#0d0887"
             ],
             [
              0.1111111111111111,
              "#46039f"
             ],
             [
              0.2222222222222222,
              "#7201a8"
             ],
             [
              0.3333333333333333,
              "#9c179e"
             ],
             [
              0.4444444444444444,
              "#bd3786"
             ],
             [
              0.5555555555555556,
              "#d8576b"
             ],
             [
              0.6666666666666666,
              "#ed7953"
             ],
             [
              0.7777777777777778,
              "#fb9f3a"
             ],
             [
              0.8888888888888888,
              "#fdca26"
             ],
             [
              1,
              "#f0f921"
             ]
            ],
            "type": "heatmapgl"
           }
          ],
          "histogram": [
           {
            "marker": {
             "pattern": {
              "fillmode": "overlay",
              "size": 10,
              "solidity": 0.2
             }
            },
            "type": "histogram"
           }
          ],
          "histogram2d": [
           {
            "colorbar": {
             "outlinewidth": 0,
             "ticks": ""
            },
            "colorscale": [
             [
              0,
              "#0d0887"
             ],
             [
              0.1111111111111111,
              "#46039f"
             ],
             [
              0.2222222222222222,
              "#7201a8"
             ],
             [
              0.3333333333333333,
              "#9c179e"
             ],
             [
              0.4444444444444444,
              "#bd3786"
             ],
             [
              0.5555555555555556,
              "#d8576b"
             ],
             [
              0.6666666666666666,
              "#ed7953"
             ],
             [
              0.7777777777777778,
              "#fb9f3a"
             ],
             [
              0.8888888888888888,
              "#fdca26"
             ],
             [
              1,
              "#f0f921"
             ]
            ],
            "type": "histogram2d"
           }
          ],
          "histogram2dcontour": [
           {
            "colorbar": {
             "outlinewidth": 0,
             "ticks": ""
            },
            "colorscale": [
             [
              0,
              "#0d0887"
             ],
             [
              0.1111111111111111,
              "#46039f"
             ],
             [
              0.2222222222222222,
              "#7201a8"
             ],
             [
              0.3333333333333333,
              "#9c179e"
             ],
             [
              0.4444444444444444,
              "#bd3786"
             ],
             [
              0.5555555555555556,
              "#d8576b"
             ],
             [
              0.6666666666666666,
              "#ed7953"
             ],
             [
              0.7777777777777778,
              "#fb9f3a"
             ],
             [
              0.8888888888888888,
              "#fdca26"
             ],
             [
              1,
              "#f0f921"
             ]
            ],
            "type": "histogram2dcontour"
           }
          ],
          "mesh3d": [
           {
            "colorbar": {
             "outlinewidth": 0,
             "ticks": ""
            },
            "type": "mesh3d"
           }
          ],
          "parcoords": [
           {
            "line": {
             "colorbar": {
              "outlinewidth": 0,
              "ticks": ""
             }
            },
            "type": "parcoords"
           }
          ],
          "pie": [
           {
            "automargin": true,
            "type": "pie"
           }
          ],
          "scatter": [
           {
            "fillpattern": {
             "fillmode": "overlay",
             "size": 10,
             "solidity": 0.2
            },
            "type": "scatter"
           }
          ],
          "scatter3d": [
           {
            "line": {
             "colorbar": {
              "outlinewidth": 0,
              "ticks": ""
             }
            },
            "marker": {
             "colorbar": {
              "outlinewidth": 0,
              "ticks": ""
             }
            },
            "type": "scatter3d"
           }
          ],
          "scattercarpet": [
           {
            "marker": {
             "colorbar": {
              "outlinewidth": 0,
              "ticks": ""
             }
            },
            "type": "scattercarpet"
           }
          ],
          "scattergeo": [
           {
            "marker": {
             "colorbar": {
              "outlinewidth": 0,
              "ticks": ""
             }
            },
            "type": "scattergeo"
           }
          ],
          "scattergl": [
           {
            "marker": {
             "colorbar": {
              "outlinewidth": 0,
              "ticks": ""
             }
            },
            "type": "scattergl"
           }
          ],
          "scattermapbox": [
           {
            "marker": {
             "colorbar": {
              "outlinewidth": 0,
              "ticks": ""
             }
            },
            "type": "scattermapbox"
           }
          ],
          "scatterpolar": [
           {
            "marker": {
             "colorbar": {
              "outlinewidth": 0,
              "ticks": ""
             }
            },
            "type": "scatterpolar"
           }
          ],
          "scatterpolargl": [
           {
            "marker": {
             "colorbar": {
              "outlinewidth": 0,
              "ticks": ""
             }
            },
            "type": "scatterpolargl"
           }
          ],
          "scatterternary": [
           {
            "marker": {
             "colorbar": {
              "outlinewidth": 0,
              "ticks": ""
             }
            },
            "type": "scatterternary"
           }
          ],
          "surface": [
           {
            "colorbar": {
             "outlinewidth": 0,
             "ticks": ""
            },
            "colorscale": [
             [
              0,
              "#0d0887"
             ],
             [
              0.1111111111111111,
              "#46039f"
             ],
             [
              0.2222222222222222,
              "#7201a8"
             ],
             [
              0.3333333333333333,
              "#9c179e"
             ],
             [
              0.4444444444444444,
              "#bd3786"
             ],
             [
              0.5555555555555556,
              "#d8576b"
             ],
             [
              0.6666666666666666,
              "#ed7953"
             ],
             [
              0.7777777777777778,
              "#fb9f3a"
             ],
             [
              0.8888888888888888,
              "#fdca26"
             ],
             [
              1,
              "#f0f921"
             ]
            ],
            "type": "surface"
           }
          ],
          "table": [
           {
            "cells": {
             "fill": {
              "color": "#EBF0F8"
             },
             "line": {
              "color": "white"
             }
            },
            "header": {
             "fill": {
              "color": "#C8D4E3"
             },
             "line": {
              "color": "white"
             }
            },
            "type": "table"
           }
          ]
         },
         "layout": {
          "annotationdefaults": {
           "arrowcolor": "#2a3f5f",
           "arrowhead": 0,
           "arrowwidth": 1
          },
          "autotypenumbers": "strict",
          "coloraxis": {
           "colorbar": {
            "outlinewidth": 0,
            "ticks": ""
           }
          },
          "colorscale": {
           "diverging": [
            [
             0,
             "#8e0152"
            ],
            [
             0.1,
             "#c51b7d"
            ],
            [
             0.2,
             "#de77ae"
            ],
            [
             0.3,
             "#f1b6da"
            ],
            [
             0.4,
             "#fde0ef"
            ],
            [
             0.5,
             "#f7f7f7"
            ],
            [
             0.6,
             "#e6f5d0"
            ],
            [
             0.7,
             "#b8e186"
            ],
            [
             0.8,
             "#7fbc41"
            ],
            [
             0.9,
             "#4d9221"
            ],
            [
             1,
             "#276419"
            ]
           ],
           "sequential": [
            [
             0,
             "#0d0887"
            ],
            [
             0.1111111111111111,
             "#46039f"
            ],
            [
             0.2222222222222222,
             "#7201a8"
            ],
            [
             0.3333333333333333,
             "#9c179e"
            ],
            [
             0.4444444444444444,
             "#bd3786"
            ],
            [
             0.5555555555555556,
             "#d8576b"
            ],
            [
             0.6666666666666666,
             "#ed7953"
            ],
            [
             0.7777777777777778,
             "#fb9f3a"
            ],
            [
             0.8888888888888888,
             "#fdca26"
            ],
            [
             1,
             "#f0f921"
            ]
           ],
           "sequentialminus": [
            [
             0,
             "#0d0887"
            ],
            [
             0.1111111111111111,
             "#46039f"
            ],
            [
             0.2222222222222222,
             "#7201a8"
            ],
            [
             0.3333333333333333,
             "#9c179e"
            ],
            [
             0.4444444444444444,
             "#bd3786"
            ],
            [
             0.5555555555555556,
             "#d8576b"
            ],
            [
             0.6666666666666666,
             "#ed7953"
            ],
            [
             0.7777777777777778,
             "#fb9f3a"
            ],
            [
             0.8888888888888888,
             "#fdca26"
            ],
            [
             1,
             "#f0f921"
            ]
           ]
          },
          "colorway": [
           "#636efa",
           "#EF553B",
           "#00cc96",
           "#ab63fa",
           "#FFA15A",
           "#19d3f3",
           "#FF6692",
           "#B6E880",
           "#FF97FF",
           "#FECB52"
          ],
          "font": {
           "color": "#2a3f5f"
          },
          "geo": {
           "bgcolor": "white",
           "lakecolor": "white",
           "landcolor": "#E5ECF6",
           "showlakes": true,
           "showland": true,
           "subunitcolor": "white"
          },
          "hoverlabel": {
           "align": "left"
          },
          "hovermode": "closest",
          "mapbox": {
           "style": "light"
          },
          "paper_bgcolor": "white",
          "plot_bgcolor": "#E5ECF6",
          "polar": {
           "angularaxis": {
            "gridcolor": "white",
            "linecolor": "white",
            "ticks": ""
           },
           "bgcolor": "#E5ECF6",
           "radialaxis": {
            "gridcolor": "white",
            "linecolor": "white",
            "ticks": ""
           }
          },
          "scene": {
           "xaxis": {
            "backgroundcolor": "#E5ECF6",
            "gridcolor": "white",
            "gridwidth": 2,
            "linecolor": "white",
            "showbackground": true,
            "ticks": "",
            "zerolinecolor": "white"
           },
           "yaxis": {
            "backgroundcolor": "#E5ECF6",
            "gridcolor": "white",
            "gridwidth": 2,
            "linecolor": "white",
            "showbackground": true,
            "ticks": "",
            "zerolinecolor": "white"
           },
           "zaxis": {
            "backgroundcolor": "#E5ECF6",
            "gridcolor": "white",
            "gridwidth": 2,
            "linecolor": "white",
            "showbackground": true,
            "ticks": "",
            "zerolinecolor": "white"
           }
          },
          "shapedefaults": {
           "line": {
            "color": "#2a3f5f"
           }
          },
          "ternary": {
           "aaxis": {
            "gridcolor": "white",
            "linecolor": "white",
            "ticks": ""
           },
           "baxis": {
            "gridcolor": "white",
            "linecolor": "white",
            "ticks": ""
           },
           "bgcolor": "#E5ECF6",
           "caxis": {
            "gridcolor": "white",
            "linecolor": "white",
            "ticks": ""
           }
          },
          "title": {
           "x": 0.05
          },
          "xaxis": {
           "automargin": true,
           "gridcolor": "white",
           "linecolor": "white",
           "ticks": "",
           "title": {
            "standoff": 15
           },
           "zerolinecolor": "white",
           "zerolinewidth": 2
          },
          "yaxis": {
           "automargin": true,
           "gridcolor": "white",
           "linecolor": "white",
           "ticks": "",
           "title": {
            "standoff": 15
           },
           "zerolinecolor": "white",
           "zerolinewidth": 2
          }
         }
        },
        "title": {
         "font": {
          "color": "#4D5663"
         }
        },
        "xaxis": {
         "gridcolor": "#E1E5ED",
         "showgrid": true,
         "tickfont": {
          "color": "#4D5663"
         },
         "title": {
          "font": {
           "color": "#4D5663"
          },
          "text": ""
         },
         "zerolinecolor": "#E1E5ED"
        },
        "yaxis": {
         "gridcolor": "#E1E5ED",
         "showgrid": true,
         "tickfont": {
          "color": "#4D5663"
         },
         "title": {
          "font": {
           "color": "#4D5663"
          },
          "text": ""
         },
         "zerolinecolor": "#E1E5ED"
        }
       }
      },
      "text/html": [
       "<div>                            <div id=\"125f1c57-070a-4ee3-95e4-01d7473e01fe\" class=\"plotly-graph-div\" style=\"height:525px; width:100%;\"></div>            <script type=\"text/javascript\">                require([\"plotly\"], function(Plotly) {                    window.PLOTLYENV=window.PLOTLYENV || {};\n",
       "                    window.PLOTLYENV.BASE_URL='https://plot.ly';                                    if (document.getElementById(\"125f1c57-070a-4ee3-95e4-01d7473e01fe\")) {                    Plotly.newPlot(                        \"125f1c57-070a-4ee3-95e4-01d7473e01fe\",                        [{\"marker\":{\"color\":[\"orange\",\"orange\",\"orange\",\"orange\",\"orange\",\"orange\",\"orange\",\"orange\",\"orange\",\"orange\",\"orange\",\"orange\",\"orange\",\"orange\",\"orange\",\"orange\",\"orange\",\"orange\",\"orange\",\"orange\",\"orange\",\"orange\",\"orange\",\"orange\",\"orange\",\"orange\",\"orange\",\"orange\",\"orange\",\"orange\",\"orange\",\"orange\",\"orange\",\"orange\",\"orange\",\"orange\",\"orange\",\"orange\",\"orange\",\"orange\",\"orange\",\"orange\",\"orange\",\"orange\",\"orange\",\"orange\",\"orange\",\"orange\",\"orange\",\"orange\",\"orange\",\"orange\",\"orange\",\"orange\",\"orange\",\"orange\",\"orange\",\"orange\",\"orange\",\"orange\",\"orange\",\"orange\",\"orange\",\"orange\",\"orange\",\"orange\",\"orange\",\"orange\",\"orange\",\"orange\",\"orange\",\"orange\",\"orange\",\"orange\",\"orange\",\"orange\",\"orange\",\"orange\",\"orange\",\"orange\",\"orange\",\"orange\",\"orange\",\"orange\",\"orange\",\"orange\",\"orange\",\"orange\",\"orange\",\"orange\",\"orange\",\"orange\",\"orange\",\"orange\",\"orange\",\"orange\",\"orange\",\"orange\",\"orange\",\"orange\"],\"line\":{\"width\":1.3},\"size\":[101,60,74,71,67,50,73,91,85,46,78,47,42,40,42,87,20,66,60,69,63,52,64,51,75,51,76,35,26,56,40,53,48,64,50,60,61,42,84,75,76,72,41,48,53,59,71,38,57,73,46,48,112,30,78,40,93,52,67,23,55,83,22,87,59,38,36,66,72,48,20,64,93,75,49,87,12,77,67,28,69,62,64,39,60,77,25,61,61,71,75,74,54,80,82,59,32,82,47,82],\"symbol\":\"circle\"},\"mode\":\"markers\",\"text\":\"\",\"x\":[-0.34120759272223433,0.5319968935053704,-2.450455488118163,-1.2456715548083472,1.5209640716102542,-0.0049272852738787625,1.0985475472016015,0.6773710522533647,1.3607142958212726,0.07711242446398583,0.29079341587599095,-0.43367282563883897,0.06753015159812732,-0.614125917644946,1.709868882712002,-0.5083695153972636,0.8304776785532717,1.5520601876707454,-0.3222961640789218,-1.977901874814474,1.3606452503009314,-0.06010963701062323,-0.29577165906393466,1.1022486760316241,1.0178363788213247,-0.16442359229547276,-1.112695636415679,-0.1270802957928152,1.007890170700006,1.4524421801030634,0.8296522843963062,1.0532618501781965,0.6795082735205985,-2.0221482750492252,1.1461514030298305,0.06140342823868589,-0.13708816055394313,-0.7651459419975741,0.7096138267240532,-0.5667400030206438,-1.1516645799042164,-0.7686303875696663,-1.2446233678971257,-1.2812299231096487,0.012725410380528336,-1.748983001114331,0.3983896418002656,-1.7455224885371137,0.5245636491056316,0.3304388918863971,-1.2147105369960398,-0.7984194519889587,0.29731511377892034,1.405402979776943,-1.619812830345721,1.2811861693543742,-1.4539006003318269,-0.38631762914312007,-0.03712563436194027,-0.05812227019037334,0.6245645987974078,-0.3951156093367975,-2.0161901747549456,-0.8956798469753015,-0.4370140644033481,-0.47276981141969854,-0.2854548890731237,0.41838971907076516,0.45133415609646577,0.11713657133354452,-1.325159071044354,0.11202376189144415,-0.5249627092180661,-0.3039374941801457,-0.8324933320883989,-0.9722317483126025,-0.9724144691955017,-0.1836356643644105,-0.019578188435622406,-1.724204841009576,1.1651900890724414,0.4587265805469331,-0.4269940736068984,0.5177334206115901,-1.489836025046481,0.2245692761053648,0.07659364207849126,0.5651885751515057,-0.7321710513842877,-0.6919190329872751,-0.608863992546054,1.5946083343083195,1.1696186036170675,3.408773057810497,0.7607021874075978,0.4911325983640859,0.2541815539119816,-0.36709667595476897,-0.4014232037425139,-3.5374312704476396],\"y\":[-0.1900973688397165,-0.3885684197362916,-0.8243907823378489,-0.34426573550469863,-0.7626995434404207,1.048395759001549,-0.6777940482446037,0.48805974008760755,-0.8657238553940302,-1.0882723358497837,0.4935583948718675,0.6182601714481422,1.076153033939917,-1.5275925690188878,0.11136087864535325,-0.03044574885719981,1.0911851333068108,-1.9085340262220345,0.46707220029218444,-0.49162188861230577,0.2877384567818682,-0.7823599322251517,0.8856691326164089,-1.5296573349468923,1.1753557301216002,-0.9701383706040404,0.22639557889842796,0.07959265795089271,-0.600017743474129,0.7756064831698299,-0.024756147151807524,0.2403527999954404,0.6859012737106033,-0.037355532168663004,0.3717754255978988,-0.3919203744324361,1.3989115743370044,0.2630122570447996,-0.3661137393198716,0.5471467735292461,-1.324642349339428,0.11102380481679991,-2.075535494176627,-0.6382404975762375,-2.431797406032161,1.6332158939212884,-0.09197085112428421,1.096049833938106,-1.5665098795579453,0.7553824116210116,0.27913582420989463,0.5849420797340267,-1.4403775974022306,0.13935913692345353,-0.44404066805046516,0.7385428641964557,-1.0332904032432841,-0.35396806719374563,0.7722679906037915,-0.37027214771386874,1.7005243008160968,0.7471972464198535,-0.11815451440255341,0.07430273329491482,0.4416672561505827,-1.274908033954568,0.1429012656245399,0.6978793081267491,1.671557457121776,-0.3759987962182951,-0.7463195842669548,-0.22005038550342224,0.46823691228267017,1.4855727847467244,-1.3957646201898561,-1.4884209880380301,-0.4763819880346412,-0.578184560559735,0.6961651030678019,1.7259166311829497,-0.8252362073213497,1.1438609706293845,-1.2404930633441245,-1.1368471840189844,0.5887204356027591,0.2335619414877631,1.9745688477403562,1.3279686184388286,0.42260923836531145,0.10254556518247043,0.9658870494782116,-2.0148036419525,0.2596301436019747,-0.06635611816136357,-1.302025346364487,-1.2272680873133386,0.5198072029053998,0.8388417678839464,-0.16665292552917554,0.9173799937169625],\"type\":\"scatter\"}],                        {\"legend\":{\"bgcolor\":\"#F5F6F9\",\"font\":{\"color\":\"#4D5663\"}},\"paper_bgcolor\":\"#F5F6F9\",\"plot_bgcolor\":\"#F5F6F9\",\"template\":{\"data\":{\"barpolar\":[{\"marker\":{\"line\":{\"color\":\"#E5ECF6\",\"width\":0.5},\"pattern\":{\"fillmode\":\"overlay\",\"size\":10,\"solidity\":0.2}},\"type\":\"barpolar\"}],\"bar\":[{\"error_x\":{\"color\":\"#2a3f5f\"},\"error_y\":{\"color\":\"#2a3f5f\"},\"marker\":{\"line\":{\"color\":\"#E5ECF6\",\"width\":0.5},\"pattern\":{\"fillmode\":\"overlay\",\"size\":10,\"solidity\":0.2}},\"type\":\"bar\"}],\"carpet\":[{\"aaxis\":{\"endlinecolor\":\"#2a3f5f\",\"gridcolor\":\"white\",\"linecolor\":\"white\",\"minorgridcolor\":\"white\",\"startlinecolor\":\"#2a3f5f\"},\"baxis\":{\"endlinecolor\":\"#2a3f5f\",\"gridcolor\":\"white\",\"linecolor\":\"white\",\"minorgridcolor\":\"white\",\"startlinecolor\":\"#2a3f5f\"},\"type\":\"carpet\"}],\"choropleth\":[{\"colorbar\":{\"outlinewidth\":0,\"ticks\":\"\"},\"type\":\"choropleth\"}],\"contourcarpet\":[{\"colorbar\":{\"outlinewidth\":0,\"ticks\":\"\"},\"type\":\"contourcarpet\"}],\"contour\":[{\"colorbar\":{\"outlinewidth\":0,\"ticks\":\"\"},\"colorscale\":[[0.0,\"#0d0887\"],[0.1111111111111111,\"#46039f\"],[0.2222222222222222,\"#7201a8\"],[0.3333333333333333,\"#9c179e\"],[0.4444444444444444,\"#bd3786\"],[0.5555555555555556,\"#d8576b\"],[0.6666666666666666,\"#ed7953\"],[0.7777777777777778,\"#fb9f3a\"],[0.8888888888888888,\"#fdca26\"],[1.0,\"#f0f921\"]],\"type\":\"contour\"}],\"heatmapgl\":[{\"colorbar\":{\"outlinewidth\":0,\"ticks\":\"\"},\"colorscale\":[[0.0,\"#0d0887\"],[0.1111111111111111,\"#46039f\"],[0.2222222222222222,\"#7201a8\"],[0.3333333333333333,\"#9c179e\"],[0.4444444444444444,\"#bd3786\"],[0.5555555555555556,\"#d8576b\"],[0.6666666666666666,\"#ed7953\"],[0.7777777777777778,\"#fb9f3a\"],[0.8888888888888888,\"#fdca26\"],[1.0,\"#f0f921\"]],\"type\":\"heatmapgl\"}],\"heatmap\":[{\"colorbar\":{\"outlinewidth\":0,\"ticks\":\"\"},\"colorscale\":[[0.0,\"#0d0887\"],[0.1111111111111111,\"#46039f\"],[0.2222222222222222,\"#7201a8\"],[0.3333333333333333,\"#9c179e\"],[0.4444444444444444,\"#bd3786\"],[0.5555555555555556,\"#d8576b\"],[0.6666666666666666,\"#ed7953\"],[0.7777777777777778,\"#fb9f3a\"],[0.8888888888888888,\"#fdca26\"],[1.0,\"#f0f921\"]],\"type\":\"heatmap\"}],\"histogram2dcontour\":[{\"colorbar\":{\"outlinewidth\":0,\"ticks\":\"\"},\"colorscale\":[[0.0,\"#0d0887\"],[0.1111111111111111,\"#46039f\"],[0.2222222222222222,\"#7201a8\"],[0.3333333333333333,\"#9c179e\"],[0.4444444444444444,\"#bd3786\"],[0.5555555555555556,\"#d8576b\"],[0.6666666666666666,\"#ed7953\"],[0.7777777777777778,\"#fb9f3a\"],[0.8888888888888888,\"#fdca26\"],[1.0,\"#f0f921\"]],\"type\":\"histogram2dcontour\"}],\"histogram2d\":[{\"colorbar\":{\"outlinewidth\":0,\"ticks\":\"\"},\"colorscale\":[[0.0,\"#0d0887\"],[0.1111111111111111,\"#46039f\"],[0.2222222222222222,\"#7201a8\"],[0.3333333333333333,\"#9c179e\"],[0.4444444444444444,\"#bd3786\"],[0.5555555555555556,\"#d8576b\"],[0.6666666666666666,\"#ed7953\"],[0.7777777777777778,\"#fb9f3a\"],[0.8888888888888888,\"#fdca26\"],[1.0,\"#f0f921\"]],\"type\":\"histogram2d\"}],\"histogram\":[{\"marker\":{\"pattern\":{\"fillmode\":\"overlay\",\"size\":10,\"solidity\":0.2}},\"type\":\"histogram\"}],\"mesh3d\":[{\"colorbar\":{\"outlinewidth\":0,\"ticks\":\"\"},\"type\":\"mesh3d\"}],\"parcoords\":[{\"line\":{\"colorbar\":{\"outlinewidth\":0,\"ticks\":\"\"}},\"type\":\"parcoords\"}],\"pie\":[{\"automargin\":true,\"type\":\"pie\"}],\"scatter3d\":[{\"line\":{\"colorbar\":{\"outlinewidth\":0,\"ticks\":\"\"}},\"marker\":{\"colorbar\":{\"outlinewidth\":0,\"ticks\":\"\"}},\"type\":\"scatter3d\"}],\"scattercarpet\":[{\"marker\":{\"colorbar\":{\"outlinewidth\":0,\"ticks\":\"\"}},\"type\":\"scattercarpet\"}],\"scattergeo\":[{\"marker\":{\"colorbar\":{\"outlinewidth\":0,\"ticks\":\"\"}},\"type\":\"scattergeo\"}],\"scattergl\":[{\"marker\":{\"colorbar\":{\"outlinewidth\":0,\"ticks\":\"\"}},\"type\":\"scattergl\"}],\"scattermapbox\":[{\"marker\":{\"colorbar\":{\"outlinewidth\":0,\"ticks\":\"\"}},\"type\":\"scattermapbox\"}],\"scatterpolargl\":[{\"marker\":{\"colorbar\":{\"outlinewidth\":0,\"ticks\":\"\"}},\"type\":\"scatterpolargl\"}],\"scatterpolar\":[{\"marker\":{\"colorbar\":{\"outlinewidth\":0,\"ticks\":\"\"}},\"type\":\"scatterpolar\"}],\"scatter\":[{\"fillpattern\":{\"fillmode\":\"overlay\",\"size\":10,\"solidity\":0.2},\"type\":\"scatter\"}],\"scatterternary\":[{\"marker\":{\"colorbar\":{\"outlinewidth\":0,\"ticks\":\"\"}},\"type\":\"scatterternary\"}],\"surface\":[{\"colorbar\":{\"outlinewidth\":0,\"ticks\":\"\"},\"colorscale\":[[0.0,\"#0d0887\"],[0.1111111111111111,\"#46039f\"],[0.2222222222222222,\"#7201a8\"],[0.3333333333333333,\"#9c179e\"],[0.4444444444444444,\"#bd3786\"],[0.5555555555555556,\"#d8576b\"],[0.6666666666666666,\"#ed7953\"],[0.7777777777777778,\"#fb9f3a\"],[0.8888888888888888,\"#fdca26\"],[1.0,\"#f0f921\"]],\"type\":\"surface\"}],\"table\":[{\"cells\":{\"fill\":{\"color\":\"#EBF0F8\"},\"line\":{\"color\":\"white\"}},\"header\":{\"fill\":{\"color\":\"#C8D4E3\"},\"line\":{\"color\":\"white\"}},\"type\":\"table\"}]},\"layout\":{\"annotationdefaults\":{\"arrowcolor\":\"#2a3f5f\",\"arrowhead\":0,\"arrowwidth\":1},\"autotypenumbers\":\"strict\",\"coloraxis\":{\"colorbar\":{\"outlinewidth\":0,\"ticks\":\"\"}},\"colorscale\":{\"diverging\":[[0,\"#8e0152\"],[0.1,\"#c51b7d\"],[0.2,\"#de77ae\"],[0.3,\"#f1b6da\"],[0.4,\"#fde0ef\"],[0.5,\"#f7f7f7\"],[0.6,\"#e6f5d0\"],[0.7,\"#b8e186\"],[0.8,\"#7fbc41\"],[0.9,\"#4d9221\"],[1,\"#276419\"]],\"sequential\":[[0.0,\"#0d0887\"],[0.1111111111111111,\"#46039f\"],[0.2222222222222222,\"#7201a8\"],[0.3333333333333333,\"#9c179e\"],[0.4444444444444444,\"#bd3786\"],[0.5555555555555556,\"#d8576b\"],[0.6666666666666666,\"#ed7953\"],[0.7777777777777778,\"#fb9f3a\"],[0.8888888888888888,\"#fdca26\"],[1.0,\"#f0f921\"]],\"sequentialminus\":[[0.0,\"#0d0887\"],[0.1111111111111111,\"#46039f\"],[0.2222222222222222,\"#7201a8\"],[0.3333333333333333,\"#9c179e\"],[0.4444444444444444,\"#bd3786\"],[0.5555555555555556,\"#d8576b\"],[0.6666666666666666,\"#ed7953\"],[0.7777777777777778,\"#fb9f3a\"],[0.8888888888888888,\"#fdca26\"],[1.0,\"#f0f921\"]]},\"colorway\":[\"#636efa\",\"#EF553B\",\"#00cc96\",\"#ab63fa\",\"#FFA15A\",\"#19d3f3\",\"#FF6692\",\"#B6E880\",\"#FF97FF\",\"#FECB52\"],\"font\":{\"color\":\"#2a3f5f\"},\"geo\":{\"bgcolor\":\"white\",\"lakecolor\":\"white\",\"landcolor\":\"#E5ECF6\",\"showlakes\":true,\"showland\":true,\"subunitcolor\":\"white\"},\"hoverlabel\":{\"align\":\"left\"},\"hovermode\":\"closest\",\"mapbox\":{\"style\":\"light\"},\"paper_bgcolor\":\"white\",\"plot_bgcolor\":\"#E5ECF6\",\"polar\":{\"angularaxis\":{\"gridcolor\":\"white\",\"linecolor\":\"white\",\"ticks\":\"\"},\"bgcolor\":\"#E5ECF6\",\"radialaxis\":{\"gridcolor\":\"white\",\"linecolor\":\"white\",\"ticks\":\"\"}},\"scene\":{\"xaxis\":{\"backgroundcolor\":\"#E5ECF6\",\"gridcolor\":\"white\",\"gridwidth\":2,\"linecolor\":\"white\",\"showbackground\":true,\"ticks\":\"\",\"zerolinecolor\":\"white\"},\"yaxis\":{\"backgroundcolor\":\"#E5ECF6\",\"gridcolor\":\"white\",\"gridwidth\":2,\"linecolor\":\"white\",\"showbackground\":true,\"ticks\":\"\",\"zerolinecolor\":\"white\"},\"zaxis\":{\"backgroundcolor\":\"#E5ECF6\",\"gridcolor\":\"white\",\"gridwidth\":2,\"linecolor\":\"white\",\"showbackground\":true,\"ticks\":\"\",\"zerolinecolor\":\"white\"}},\"shapedefaults\":{\"line\":{\"color\":\"#2a3f5f\"}},\"ternary\":{\"aaxis\":{\"gridcolor\":\"white\",\"linecolor\":\"white\",\"ticks\":\"\"},\"baxis\":{\"gridcolor\":\"white\",\"linecolor\":\"white\",\"ticks\":\"\"},\"bgcolor\":\"#E5ECF6\",\"caxis\":{\"gridcolor\":\"white\",\"linecolor\":\"white\",\"ticks\":\"\"}},\"title\":{\"x\":0.05},\"xaxis\":{\"automargin\":true,\"gridcolor\":\"white\",\"linecolor\":\"white\",\"ticks\":\"\",\"title\":{\"standoff\":15},\"zerolinecolor\":\"white\",\"zerolinewidth\":2},\"yaxis\":{\"automargin\":true,\"gridcolor\":\"white\",\"linecolor\":\"white\",\"ticks\":\"\",\"title\":{\"standoff\":15},\"zerolinecolor\":\"white\",\"zerolinewidth\":2}}},\"title\":{\"font\":{\"color\":\"#4D5663\"}},\"xaxis\":{\"gridcolor\":\"#E1E5ED\",\"showgrid\":true,\"tickfont\":{\"color\":\"#4D5663\"},\"title\":{\"font\":{\"color\":\"#4D5663\"},\"text\":\"\"},\"zerolinecolor\":\"#E1E5ED\"},\"yaxis\":{\"gridcolor\":\"#E1E5ED\",\"showgrid\":true,\"tickfont\":{\"color\":\"#4D5663\"},\"title\":{\"font\":{\"color\":\"#4D5663\"},\"text\":\"\"},\"zerolinecolor\":\"#E1E5ED\"}},                        {\"showLink\": true, \"linkText\": \"Export to plot.ly\", \"plotlyServerURL\": \"https://plot.ly\", \"responsive\": true}                    ).then(function(){\n",
       "                            \n",
       "var gd = document.getElementById('125f1c57-070a-4ee3-95e4-01d7473e01fe');\n",
       "var x = new MutationObserver(function (mutations, observer) {{\n",
       "        var display = window.getComputedStyle(gd).display;\n",
       "        if (!display || display === 'none') {{\n",
       "            console.log([gd, 'removed!']);\n",
       "            Plotly.purge(gd);\n",
       "            observer.disconnect();\n",
       "        }}\n",
       "}});\n",
       "\n",
       "// Listen for the removal of the full notebook cells\n",
       "var notebookContainer = gd.closest('#notebook-container');\n",
       "if (notebookContainer) {{\n",
       "    x.observe(notebookContainer, {childList: true});\n",
       "}}\n",
       "\n",
       "// Listen for the clearing of the current output cell\n",
       "var outputEl = gd.closest('.output');\n",
       "if (outputEl) {{\n",
       "    x.observe(outputEl, {childList: true});\n",
       "}}\n",
       "\n",
       "                        })                };                });            </script>        </div>"
      ]
     },
     "metadata": {},
     "output_type": "display_data"
    }
   ],
   "source": [
    "df.iplot(kind='bubble',x='A',y='B',size='C',color='orange')"
   ]
  },
  {
   "cell_type": "markdown",
   "metadata": {},
   "source": [
    "## scatter_matrix()\n",
    "\n",
    "Similar to sns.pairplot()"
   ]
  },
  {
   "cell_type": "code",
   "execution_count": 53,
   "metadata": {},
   "outputs": [
    {
     "data": {
      "application/vnd.plotly.v1+json": {
       "config": {
        "linkText": "Export to plot.ly",
        "plotlyServerURL": "https://plot.ly",
        "showLink": true
       },
       "data": [
        {
         "histfunc": "count",
         "histnorm": "",
         "marker": {
          "color": "rgba(255, 153, 51, 1.0)",
          "line": {
           "color": "#4D5663",
           "width": 1.3
          }
         },
         "name": "A",
         "nbinsx": 10,
         "opacity": 0.8,
         "orientation": "v",
         "type": "histogram",
         "x": [
          -0.34120759272223433,
          0.5319968935053704,
          -2.450455488118163,
          -1.2456715548083472,
          1.5209640716102542,
          -0.0049272852738787625,
          1.0985475472016015,
          0.6773710522533647,
          1.3607142958212726,
          0.07711242446398583,
          0.29079341587599095,
          -0.43367282563883897,
          0.06753015159812732,
          -0.614125917644946,
          1.709868882712002,
          -0.5083695153972636,
          0.8304776785532717,
          1.5520601876707454,
          -0.3222961640789218,
          -1.977901874814474,
          1.3606452503009314,
          -0.06010963701062323,
          -0.29577165906393466,
          1.1022486760316241,
          1.0178363788213247,
          -0.16442359229547276,
          -1.112695636415679,
          -0.1270802957928152,
          1.007890170700006,
          1.4524421801030634,
          0.8296522843963062,
          1.0532618501781965,
          0.6795082735205985,
          -2.0221482750492252,
          1.1461514030298305,
          0.06140342823868589,
          -0.13708816055394313,
          -0.7651459419975741,
          0.7096138267240532,
          -0.5667400030206438,
          -1.1516645799042164,
          -0.7686303875696663,
          -1.2446233678971257,
          -1.2812299231096487,
          0.012725410380528336,
          -1.748983001114331,
          0.3983896418002656,
          -1.7455224885371137,
          0.5245636491056316,
          0.3304388918863971,
          -1.2147105369960398,
          -0.7984194519889587,
          0.29731511377892034,
          1.405402979776943,
          -1.619812830345721,
          1.2811861693543742,
          -1.4539006003318269,
          -0.38631762914312007,
          -0.03712563436194027,
          -0.05812227019037334,
          0.6245645987974078,
          -0.3951156093367975,
          -2.0161901747549456,
          -0.8956798469753015,
          -0.4370140644033481,
          -0.47276981141969854,
          -0.2854548890731237,
          0.41838971907076516,
          0.45133415609646577,
          0.11713657133354452,
          -1.325159071044354,
          0.11202376189144415,
          -0.5249627092180661,
          -0.3039374941801457,
          -0.8324933320883989,
          -0.9722317483126025,
          -0.9724144691955017,
          -0.1836356643644105,
          -0.019578188435622406,
          -1.724204841009576,
          1.1651900890724414,
          0.4587265805469331,
          -0.4269940736068984,
          0.5177334206115901,
          -1.489836025046481,
          0.2245692761053648,
          0.07659364207849126,
          0.5651885751515057,
          -0.7321710513842877,
          -0.6919190329872751,
          -0.608863992546054,
          1.5946083343083195,
          1.1696186036170675,
          3.408773057810497,
          0.7607021874075978,
          0.4911325983640859,
          0.2541815539119816,
          -0.36709667595476897,
          -0.4014232037425139,
          -3.5374312704476396
         ],
         "xaxis": "x",
         "yaxis": "y"
        },
        {
         "line": {
          "color": "rgba(128, 128, 128, 1.0)",
          "dash": "solid",
          "shape": "linear",
          "width": 1.3
         },
         "marker": {
          "size": 2,
          "symbol": "circle"
         },
         "mode": "markers",
         "name": "A",
         "text": "",
         "type": "scatter",
         "x": [
          -0.1900973688397165,
          -0.3885684197362916,
          -0.8243907823378489,
          -0.34426573550469863,
          -0.7626995434404207,
          1.048395759001549,
          -0.6777940482446037,
          0.48805974008760755,
          -0.8657238553940302,
          -1.0882723358497837,
          0.4935583948718675,
          0.6182601714481422,
          1.076153033939917,
          -1.5275925690188878,
          0.11136087864535325,
          -0.03044574885719981,
          1.0911851333068108,
          -1.9085340262220345,
          0.46707220029218444,
          -0.49162188861230577,
          0.2877384567818682,
          -0.7823599322251517,
          0.8856691326164089,
          -1.5296573349468923,
          1.1753557301216002,
          -0.9701383706040404,
          0.22639557889842796,
          0.07959265795089271,
          -0.600017743474129,
          0.7756064831698299,
          -0.024756147151807524,
          0.2403527999954404,
          0.6859012737106033,
          -0.037355532168663004,
          0.3717754255978988,
          -0.3919203744324361,
          1.3989115743370044,
          0.2630122570447996,
          -0.3661137393198716,
          0.5471467735292461,
          -1.324642349339428,
          0.11102380481679991,
          -2.075535494176627,
          -0.6382404975762375,
          -2.431797406032161,
          1.6332158939212884,
          -0.09197085112428421,
          1.096049833938106,
          -1.5665098795579453,
          0.7553824116210116,
          0.27913582420989463,
          0.5849420797340267,
          -1.4403775974022306,
          0.13935913692345353,
          -0.44404066805046516,
          0.7385428641964557,
          -1.0332904032432841,
          -0.35396806719374563,
          0.7722679906037915,
          -0.37027214771386874,
          1.7005243008160968,
          0.7471972464198535,
          -0.11815451440255341,
          0.07430273329491482,
          0.4416672561505827,
          -1.274908033954568,
          0.1429012656245399,
          0.6978793081267491,
          1.671557457121776,
          -0.3759987962182951,
          -0.7463195842669548,
          -0.22005038550342224,
          0.46823691228267017,
          1.4855727847467244,
          -1.3957646201898561,
          -1.4884209880380301,
          -0.4763819880346412,
          -0.578184560559735,
          0.6961651030678019,
          1.7259166311829497,
          -0.8252362073213497,
          1.1438609706293845,
          -1.2404930633441245,
          -1.1368471840189844,
          0.5887204356027591,
          0.2335619414877631,
          1.9745688477403562,
          1.3279686184388286,
          0.42260923836531145,
          0.10254556518247043,
          0.9658870494782116,
          -2.0148036419525,
          0.2596301436019747,
          -0.06635611816136357,
          -1.302025346364487,
          -1.2272680873133386,
          0.5198072029053998,
          0.8388417678839464,
          -0.16665292552917554,
          0.9173799937169625
         ],
         "xaxis": "x2",
         "y": [
          -0.34120759272223433,
          0.5319968935053704,
          -2.450455488118163,
          -1.2456715548083472,
          1.5209640716102542,
          -0.0049272852738787625,
          1.0985475472016015,
          0.6773710522533647,
          1.3607142958212726,
          0.07711242446398583,
          0.29079341587599095,
          -0.43367282563883897,
          0.06753015159812732,
          -0.614125917644946,
          1.709868882712002,
          -0.5083695153972636,
          0.8304776785532717,
          1.5520601876707454,
          -0.3222961640789218,
          -1.977901874814474,
          1.3606452503009314,
          -0.06010963701062323,
          -0.29577165906393466,
          1.1022486760316241,
          1.0178363788213247,
          -0.16442359229547276,
          -1.112695636415679,
          -0.1270802957928152,
          1.007890170700006,
          1.4524421801030634,
          0.8296522843963062,
          1.0532618501781965,
          0.6795082735205985,
          -2.0221482750492252,
          1.1461514030298305,
          0.06140342823868589,
          -0.13708816055394313,
          -0.7651459419975741,
          0.7096138267240532,
          -0.5667400030206438,
          -1.1516645799042164,
          -0.7686303875696663,
          -1.2446233678971257,
          -1.2812299231096487,
          0.012725410380528336,
          -1.748983001114331,
          0.3983896418002656,
          -1.7455224885371137,
          0.5245636491056316,
          0.3304388918863971,
          -1.2147105369960398,
          -0.7984194519889587,
          0.29731511377892034,
          1.405402979776943,
          -1.619812830345721,
          1.2811861693543742,
          -1.4539006003318269,
          -0.38631762914312007,
          -0.03712563436194027,
          -0.05812227019037334,
          0.6245645987974078,
          -0.3951156093367975,
          -2.0161901747549456,
          -0.8956798469753015,
          -0.4370140644033481,
          -0.47276981141969854,
          -0.2854548890731237,
          0.41838971907076516,
          0.45133415609646577,
          0.11713657133354452,
          -1.325159071044354,
          0.11202376189144415,
          -0.5249627092180661,
          -0.3039374941801457,
          -0.8324933320883989,
          -0.9722317483126025,
          -0.9724144691955017,
          -0.1836356643644105,
          -0.019578188435622406,
          -1.724204841009576,
          1.1651900890724414,
          0.4587265805469331,
          -0.4269940736068984,
          0.5177334206115901,
          -1.489836025046481,
          0.2245692761053648,
          0.07659364207849126,
          0.5651885751515057,
          -0.7321710513842877,
          -0.6919190329872751,
          -0.608863992546054,
          1.5946083343083195,
          1.1696186036170675,
          3.408773057810497,
          0.7607021874075978,
          0.4911325983640859,
          0.2541815539119816,
          -0.36709667595476897,
          -0.4014232037425139,
          -3.5374312704476396
         ],
         "yaxis": "y2"
        },
        {
         "line": {
          "color": "rgba(128, 128, 128, 1.0)",
          "dash": "solid",
          "shape": "linear",
          "width": 1.3
         },
         "marker": {
          "size": 2,
          "symbol": "circle"
         },
         "mode": "markers",
         "name": "A",
         "text": "",
         "type": "scatter",
         "x": [
          1.9103045059110908,
          -0.0324766010900323,
          0.6747898519986482,
          0.5005818365646658,
          0.33239968159943106,
          -0.5059053011102334,
          0.6020966849444732,
          1.4699655049211517,
          1.1978975456814263,
          -0.6865975518884714,
          0.852723195013891,
          -0.6437507674782534,
          -0.8754403484121193,
          -0.9775154768468096,
          -0.8546413342436442,
          1.2537442619905128,
          -1.9045312672674817,
          0.2891690886155776,
          0.012169966037095614,
          0.42039855791564923,
          0.11943814146188779,
          -0.3662562134813379,
          0.18414472055402206,
          -0.45845911460225097,
          0.6960109196869487,
          -0.4485487991500414,
          0.7683798511340175,
          -1.179058799293875,
          -1.6431012439508441,
          -0.1869963005418975,
          -0.9437887922665755,
          -0.324677373437033,
          -0.5907019899086499,
          0.16492026139989754,
          -0.48078879856769285,
          0.01143673520281042,
          0.04503960431374931,
          -0.8606320112210435,
          1.1437459274916573,
          0.7088930992311374,
          0.7548223897350274,
          0.5723430657995876,
          -0.9168325310802138,
          -0.5947982012392957,
          -0.34723195084082425,
          -0.0567159159561067,
          0.5335021066473415,
          -1.0726517231911452,
          -0.13224619742200586,
          0.6170142858493078,
          -0.6498928991754115,
          -0.5702211150515724,
          2.4295020090482966,
          -1.4392668384899499,
          0.8617542275712754,
          -0.9646885280823778,
          1.5643528970295268,
          -0.4089725285242998,
          0.3270756006762052,
          -1.770341555084864,
          -0.22647757226224874,
          1.092101420347575,
          -1.7939279055023416,
          1.2566143114982407,
          -0.07479236452051884,
          -1.031532453568368,
          -1.156943941099765,
          0.27135227294525066,
          0.5373722152966268,
          -0.5546514317901003,
          -1.8987842579735061,
          0.19241697433215038,
          1.530485498493259,
          0.7228333379963006,
          -0.5429533538796294,
          1.2803714175803076,
          -2.306863721403007,
          0.7842828916206536,
          0.34215135124192275,
          -1.519151467178333,
          0.40424669002063457,
          0.07957446406931469,
          0.18225871645319636,
          -0.9957462127426185,
          -0.015076853568017676,
          0.7900297816375214,
          -1.646200384516348,
          0.05956573499105154,
          0.03598077324014414,
          0.49208716731850244,
          0.7165417033278323,
          0.6427778018277905,
          -0.3028173472450331,
          0.9464796740335952,
          1.0106234451776535,
          -0.043494628755843645,
          -1.3375309950242353,
          1.0387172543114143,
          -0.6225978712784589,
          1.0141315558367463
         ],
         "xaxis": "x3",
         "y": [
          -0.34120759272223433,
          0.5319968935053704,
          -2.450455488118163,
          -1.2456715548083472,
          1.5209640716102542,
          -0.0049272852738787625,
          1.0985475472016015,
          0.6773710522533647,
          1.3607142958212726,
          0.07711242446398583,
          0.29079341587599095,
          -0.43367282563883897,
          0.06753015159812732,
          -0.614125917644946,
          1.709868882712002,
          -0.5083695153972636,
          0.8304776785532717,
          1.5520601876707454,
          -0.3222961640789218,
          -1.977901874814474,
          1.3606452503009314,
          -0.06010963701062323,
          -0.29577165906393466,
          1.1022486760316241,
          1.0178363788213247,
          -0.16442359229547276,
          -1.112695636415679,
          -0.1270802957928152,
          1.007890170700006,
          1.4524421801030634,
          0.8296522843963062,
          1.0532618501781965,
          0.6795082735205985,
          -2.0221482750492252,
          1.1461514030298305,
          0.06140342823868589,
          -0.13708816055394313,
          -0.7651459419975741,
          0.7096138267240532,
          -0.5667400030206438,
          -1.1516645799042164,
          -0.7686303875696663,
          -1.2446233678971257,
          -1.2812299231096487,
          0.012725410380528336,
          -1.748983001114331,
          0.3983896418002656,
          -1.7455224885371137,
          0.5245636491056316,
          0.3304388918863971,
          -1.2147105369960398,
          -0.7984194519889587,
          0.29731511377892034,
          1.405402979776943,
          -1.619812830345721,
          1.2811861693543742,
          -1.4539006003318269,
          -0.38631762914312007,
          -0.03712563436194027,
          -0.05812227019037334,
          0.6245645987974078,
          -0.3951156093367975,
          -2.0161901747549456,
          -0.8956798469753015,
          -0.4370140644033481,
          -0.47276981141969854,
          -0.2854548890731237,
          0.41838971907076516,
          0.45133415609646577,
          0.11713657133354452,
          -1.325159071044354,
          0.11202376189144415,
          -0.5249627092180661,
          -0.3039374941801457,
          -0.8324933320883989,
          -0.9722317483126025,
          -0.9724144691955017,
          -0.1836356643644105,
          -0.019578188435622406,
          -1.724204841009576,
          1.1651900890724414,
          0.4587265805469331,
          -0.4269940736068984,
          0.5177334206115901,
          -1.489836025046481,
          0.2245692761053648,
          0.07659364207849126,
          0.5651885751515057,
          -0.7321710513842877,
          -0.6919190329872751,
          -0.608863992546054,
          1.5946083343083195,
          1.1696186036170675,
          3.408773057810497,
          0.7607021874075978,
          0.4911325983640859,
          0.2541815539119816,
          -0.36709667595476897,
          -0.4014232037425139,
          -3.5374312704476396
         ],
         "yaxis": "y3"
        },
        {
         "line": {
          "color": "rgba(128, 128, 128, 1.0)",
          "dash": "solid",
          "shape": "linear",
          "width": 1.3
         },
         "marker": {
          "size": 2,
          "symbol": "circle"
         },
         "mode": "markers",
         "name": "A",
         "text": "",
         "type": "scatter",
         "x": [
          -0.4103104538548829,
          -0.333734732060692,
          -0.7249999454796346,
          -0.12075186624438715,
          -0.9702228237202677,
          -0.4184563513631616,
          -0.8130953552812726,
          -1.070368211863948,
          0.9128122466326866,
          -0.5376006658015672,
          -1.841641920831229,
          -0.021698430731425182,
          -1.222794919048431,
          0.35958413692086305,
          -1.8470224783340559,
          -0.3650599729439193,
          1.31878607504766,
          2.507340775170648,
          -0.4561208585900866,
          -0.8047272454906428,
          -0.9559197397423289,
          -0.5068998849581509,
          -0.25307716519577905,
          -1.27148336694633,
          -1.0816751073569362,
          -0.8054584860614372,
          0.706461609907511,
          0.974118086445685,
          -0.10017039553463598,
          -0.914780942447579,
          1.015919094342769,
          -0.25966822399211303,
          0.34889234956949616,
          -1.2292438175622884,
          0.3834021421904984,
          1.316869079413164,
          -0.7352352723825953,
          -1.972516516260567,
          -0.9085118921654491,
          0.9329586987495015,
          1.683204649059652,
          0.09013890257122327,
          -0.3373355375224495,
          -0.5540672145916483,
          1.5804141593421892,
          0.8042210936260737,
          0.6965998388250881,
          -3.147066036074273,
          0.0019682458700349204,
          -1.596825890440718,
          -0.2586942384250054,
          -1.1822047310215698,
          -0.7668621938093012,
          0.16260199826039162,
          -0.09931253373823028,
          -0.08092746615191286,
          -0.20277833052264038,
          0.2359661276767108,
          -1.0552832205083178,
          -1.0736684827535101,
          1.784179172173497,
          -0.7790597148297769,
          0.32343402702051244,
          -0.16924425041690172,
          0.6630700536431359,
          -1.0039576064353046,
          -0.9435030034103241,
          -0.5290232460448169,
          0.6835359923302197,
          -0.702806914451176,
          1.1489346413496178,
          2.0788187651310945,
          0.06550548107752338,
          0.4722262637519014,
          -0.4349686402153224,
          1.3829089676360604,
          -1.6202804762309257,
          -0.22377563808704218,
          -1.5299244176176388,
          1.353954906478887,
          -1.3893374560698426,
          0.32525442502010615,
          0.616410318419713,
          -1.6647326211126063,
          -1.046207963235596,
          1.3856257209977199,
          -0.4451796457350623,
          0.8817781193226517,
          -0.3766409683986692,
          -1.3624244460816255,
          2.312277355326506,
          -1.1802234454149356,
          0.2172895716657932,
          1.0630724292373221,
          0.17504094074453513,
          -0.03192945139517454,
          -0.7112178442185724,
          -0.7806039652950968,
          -1.0007269638007035,
          -0.5828470704060571
         ],
         "xaxis": "x4",
         "y": [
          -0.34120759272223433,
          0.5319968935053704,
          -2.450455488118163,
          -1.2456715548083472,
          1.5209640716102542,
          -0.0049272852738787625,
          1.0985475472016015,
          0.6773710522533647,
          1.3607142958212726,
          0.07711242446398583,
          0.29079341587599095,
          -0.43367282563883897,
          0.06753015159812732,
          -0.614125917644946,
          1.709868882712002,
          -0.5083695153972636,
          0.8304776785532717,
          1.5520601876707454,
          -0.3222961640789218,
          -1.977901874814474,
          1.3606452503009314,
          -0.06010963701062323,
          -0.29577165906393466,
          1.1022486760316241,
          1.0178363788213247,
          -0.16442359229547276,
          -1.112695636415679,
          -0.1270802957928152,
          1.007890170700006,
          1.4524421801030634,
          0.8296522843963062,
          1.0532618501781965,
          0.6795082735205985,
          -2.0221482750492252,
          1.1461514030298305,
          0.06140342823868589,
          -0.13708816055394313,
          -0.7651459419975741,
          0.7096138267240532,
          -0.5667400030206438,
          -1.1516645799042164,
          -0.7686303875696663,
          -1.2446233678971257,
          -1.2812299231096487,
          0.012725410380528336,
          -1.748983001114331,
          0.3983896418002656,
          -1.7455224885371137,
          0.5245636491056316,
          0.3304388918863971,
          -1.2147105369960398,
          -0.7984194519889587,
          0.29731511377892034,
          1.405402979776943,
          -1.619812830345721,
          1.2811861693543742,
          -1.4539006003318269,
          -0.38631762914312007,
          -0.03712563436194027,
          -0.05812227019037334,
          0.6245645987974078,
          -0.3951156093367975,
          -2.0161901747549456,
          -0.8956798469753015,
          -0.4370140644033481,
          -0.47276981141969854,
          -0.2854548890731237,
          0.41838971907076516,
          0.45133415609646577,
          0.11713657133354452,
          -1.325159071044354,
          0.11202376189144415,
          -0.5249627092180661,
          -0.3039374941801457,
          -0.8324933320883989,
          -0.9722317483126025,
          -0.9724144691955017,
          -0.1836356643644105,
          -0.019578188435622406,
          -1.724204841009576,
          1.1651900890724414,
          0.4587265805469331,
          -0.4269940736068984,
          0.5177334206115901,
          -1.489836025046481,
          0.2245692761053648,
          0.07659364207849126,
          0.5651885751515057,
          -0.7321710513842877,
          -0.6919190329872751,
          -0.608863992546054,
          1.5946083343083195,
          1.1696186036170675,
          3.408773057810497,
          0.7607021874075978,
          0.4911325983640859,
          0.2541815539119816,
          -0.36709667595476897,
          -0.4014232037425139,
          -3.5374312704476396
         ],
         "yaxis": "y4"
        },
        {
         "line": {
          "color": "rgba(128, 128, 128, 1.0)",
          "dash": "solid",
          "shape": "linear",
          "width": 1.3
         },
         "marker": {
          "size": 2,
          "symbol": "circle"
         },
         "mode": "markers",
         "name": "B",
         "text": "",
         "type": "scatter",
         "x": [
          -0.34120759272223433,
          0.5319968935053704,
          -2.450455488118163,
          -1.2456715548083472,
          1.5209640716102542,
          -0.0049272852738787625,
          1.0985475472016015,
          0.6773710522533647,
          1.3607142958212726,
          0.07711242446398583,
          0.29079341587599095,
          -0.43367282563883897,
          0.06753015159812732,
          -0.614125917644946,
          1.709868882712002,
          -0.5083695153972636,
          0.8304776785532717,
          1.5520601876707454,
          -0.3222961640789218,
          -1.977901874814474,
          1.3606452503009314,
          -0.06010963701062323,
          -0.29577165906393466,
          1.1022486760316241,
          1.0178363788213247,
          -0.16442359229547276,
          -1.112695636415679,
          -0.1270802957928152,
          1.007890170700006,
          1.4524421801030634,
          0.8296522843963062,
          1.0532618501781965,
          0.6795082735205985,
          -2.0221482750492252,
          1.1461514030298305,
          0.06140342823868589,
          -0.13708816055394313,
          -0.7651459419975741,
          0.7096138267240532,
          -0.5667400030206438,
          -1.1516645799042164,
          -0.7686303875696663,
          -1.2446233678971257,
          -1.2812299231096487,
          0.012725410380528336,
          -1.748983001114331,
          0.3983896418002656,
          -1.7455224885371137,
          0.5245636491056316,
          0.3304388918863971,
          -1.2147105369960398,
          -0.7984194519889587,
          0.29731511377892034,
          1.405402979776943,
          -1.619812830345721,
          1.2811861693543742,
          -1.4539006003318269,
          -0.38631762914312007,
          -0.03712563436194027,
          -0.05812227019037334,
          0.6245645987974078,
          -0.3951156093367975,
          -2.0161901747549456,
          -0.8956798469753015,
          -0.4370140644033481,
          -0.47276981141969854,
          -0.2854548890731237,
          0.41838971907076516,
          0.45133415609646577,
          0.11713657133354452,
          -1.325159071044354,
          0.11202376189144415,
          -0.5249627092180661,
          -0.3039374941801457,
          -0.8324933320883989,
          -0.9722317483126025,
          -0.9724144691955017,
          -0.1836356643644105,
          -0.019578188435622406,
          -1.724204841009576,
          1.1651900890724414,
          0.4587265805469331,
          -0.4269940736068984,
          0.5177334206115901,
          -1.489836025046481,
          0.2245692761053648,
          0.07659364207849126,
          0.5651885751515057,
          -0.7321710513842877,
          -0.6919190329872751,
          -0.608863992546054,
          1.5946083343083195,
          1.1696186036170675,
          3.408773057810497,
          0.7607021874075978,
          0.4911325983640859,
          0.2541815539119816,
          -0.36709667595476897,
          -0.4014232037425139,
          -3.5374312704476396
         ],
         "xaxis": "x5",
         "y": [
          -0.1900973688397165,
          -0.3885684197362916,
          -0.8243907823378489,
          -0.34426573550469863,
          -0.7626995434404207,
          1.048395759001549,
          -0.6777940482446037,
          0.48805974008760755,
          -0.8657238553940302,
          -1.0882723358497837,
          0.4935583948718675,
          0.6182601714481422,
          1.076153033939917,
          -1.5275925690188878,
          0.11136087864535325,
          -0.03044574885719981,
          1.0911851333068108,
          -1.9085340262220345,
          0.46707220029218444,
          -0.49162188861230577,
          0.2877384567818682,
          -0.7823599322251517,
          0.8856691326164089,
          -1.5296573349468923,
          1.1753557301216002,
          -0.9701383706040404,
          0.22639557889842796,
          0.07959265795089271,
          -0.600017743474129,
          0.7756064831698299,
          -0.024756147151807524,
          0.2403527999954404,
          0.6859012737106033,
          -0.037355532168663004,
          0.3717754255978988,
          -0.3919203744324361,
          1.3989115743370044,
          0.2630122570447996,
          -0.3661137393198716,
          0.5471467735292461,
          -1.324642349339428,
          0.11102380481679991,
          -2.075535494176627,
          -0.6382404975762375,
          -2.431797406032161,
          1.6332158939212884,
          -0.09197085112428421,
          1.096049833938106,
          -1.5665098795579453,
          0.7553824116210116,
          0.27913582420989463,
          0.5849420797340267,
          -1.4403775974022306,
          0.13935913692345353,
          -0.44404066805046516,
          0.7385428641964557,
          -1.0332904032432841,
          -0.35396806719374563,
          0.7722679906037915,
          -0.37027214771386874,
          1.7005243008160968,
          0.7471972464198535,
          -0.11815451440255341,
          0.07430273329491482,
          0.4416672561505827,
          -1.274908033954568,
          0.1429012656245399,
          0.6978793081267491,
          1.671557457121776,
          -0.3759987962182951,
          -0.7463195842669548,
          -0.22005038550342224,
          0.46823691228267017,
          1.4855727847467244,
          -1.3957646201898561,
          -1.4884209880380301,
          -0.4763819880346412,
          -0.578184560559735,
          0.6961651030678019,
          1.7259166311829497,
          -0.8252362073213497,
          1.1438609706293845,
          -1.2404930633441245,
          -1.1368471840189844,
          0.5887204356027591,
          0.2335619414877631,
          1.9745688477403562,
          1.3279686184388286,
          0.42260923836531145,
          0.10254556518247043,
          0.9658870494782116,
          -2.0148036419525,
          0.2596301436019747,
          -0.06635611816136357,
          -1.302025346364487,
          -1.2272680873133386,
          0.5198072029053998,
          0.8388417678839464,
          -0.16665292552917554,
          0.9173799937169625
         ],
         "yaxis": "y5"
        },
        {
         "histfunc": "count",
         "histnorm": "",
         "marker": {
          "color": "rgba(55, 128, 191, 1.0)",
          "line": {
           "color": "#4D5663",
           "width": 1.3
          }
         },
         "name": "B",
         "nbinsx": 10,
         "opacity": 0.8,
         "orientation": "v",
         "type": "histogram",
         "x": [
          -0.1900973688397165,
          -0.3885684197362916,
          -0.8243907823378489,
          -0.34426573550469863,
          -0.7626995434404207,
          1.048395759001549,
          -0.6777940482446037,
          0.48805974008760755,
          -0.8657238553940302,
          -1.0882723358497837,
          0.4935583948718675,
          0.6182601714481422,
          1.076153033939917,
          -1.5275925690188878,
          0.11136087864535325,
          -0.03044574885719981,
          1.0911851333068108,
          -1.9085340262220345,
          0.46707220029218444,
          -0.49162188861230577,
          0.2877384567818682,
          -0.7823599322251517,
          0.8856691326164089,
          -1.5296573349468923,
          1.1753557301216002,
          -0.9701383706040404,
          0.22639557889842796,
          0.07959265795089271,
          -0.600017743474129,
          0.7756064831698299,
          -0.024756147151807524,
          0.2403527999954404,
          0.6859012737106033,
          -0.037355532168663004,
          0.3717754255978988,
          -0.3919203744324361,
          1.3989115743370044,
          0.2630122570447996,
          -0.3661137393198716,
          0.5471467735292461,
          -1.324642349339428,
          0.11102380481679991,
          -2.075535494176627,
          -0.6382404975762375,
          -2.431797406032161,
          1.6332158939212884,
          -0.09197085112428421,
          1.096049833938106,
          -1.5665098795579453,
          0.7553824116210116,
          0.27913582420989463,
          0.5849420797340267,
          -1.4403775974022306,
          0.13935913692345353,
          -0.44404066805046516,
          0.7385428641964557,
          -1.0332904032432841,
          -0.35396806719374563,
          0.7722679906037915,
          -0.37027214771386874,
          1.7005243008160968,
          0.7471972464198535,
          -0.11815451440255341,
          0.07430273329491482,
          0.4416672561505827,
          -1.274908033954568,
          0.1429012656245399,
          0.6978793081267491,
          1.671557457121776,
          -0.3759987962182951,
          -0.7463195842669548,
          -0.22005038550342224,
          0.46823691228267017,
          1.4855727847467244,
          -1.3957646201898561,
          -1.4884209880380301,
          -0.4763819880346412,
          -0.578184560559735,
          0.6961651030678019,
          1.7259166311829497,
          -0.8252362073213497,
          1.1438609706293845,
          -1.2404930633441245,
          -1.1368471840189844,
          0.5887204356027591,
          0.2335619414877631,
          1.9745688477403562,
          1.3279686184388286,
          0.42260923836531145,
          0.10254556518247043,
          0.9658870494782116,
          -2.0148036419525,
          0.2596301436019747,
          -0.06635611816136357,
          -1.302025346364487,
          -1.2272680873133386,
          0.5198072029053998,
          0.8388417678839464,
          -0.16665292552917554,
          0.9173799937169625
         ],
         "xaxis": "x6",
         "yaxis": "y6"
        },
        {
         "line": {
          "color": "rgba(128, 128, 128, 1.0)",
          "dash": "solid",
          "shape": "linear",
          "width": 1.3
         },
         "marker": {
          "size": 2,
          "symbol": "circle"
         },
         "mode": "markers",
         "name": "B",
         "text": "",
         "type": "scatter",
         "x": [
          1.9103045059110908,
          -0.0324766010900323,
          0.6747898519986482,
          0.5005818365646658,
          0.33239968159943106,
          -0.5059053011102334,
          0.6020966849444732,
          1.4699655049211517,
          1.1978975456814263,
          -0.6865975518884714,
          0.852723195013891,
          -0.6437507674782534,
          -0.8754403484121193,
          -0.9775154768468096,
          -0.8546413342436442,
          1.2537442619905128,
          -1.9045312672674817,
          0.2891690886155776,
          0.012169966037095614,
          0.42039855791564923,
          0.11943814146188779,
          -0.3662562134813379,
          0.18414472055402206,
          -0.45845911460225097,
          0.6960109196869487,
          -0.4485487991500414,
          0.7683798511340175,
          -1.179058799293875,
          -1.6431012439508441,
          -0.1869963005418975,
          -0.9437887922665755,
          -0.324677373437033,
          -0.5907019899086499,
          0.16492026139989754,
          -0.48078879856769285,
          0.01143673520281042,
          0.04503960431374931,
          -0.8606320112210435,
          1.1437459274916573,
          0.7088930992311374,
          0.7548223897350274,
          0.5723430657995876,
          -0.9168325310802138,
          -0.5947982012392957,
          -0.34723195084082425,
          -0.0567159159561067,
          0.5335021066473415,
          -1.0726517231911452,
          -0.13224619742200586,
          0.6170142858493078,
          -0.6498928991754115,
          -0.5702211150515724,
          2.4295020090482966,
          -1.4392668384899499,
          0.8617542275712754,
          -0.9646885280823778,
          1.5643528970295268,
          -0.4089725285242998,
          0.3270756006762052,
          -1.770341555084864,
          -0.22647757226224874,
          1.092101420347575,
          -1.7939279055023416,
          1.2566143114982407,
          -0.07479236452051884,
          -1.031532453568368,
          -1.156943941099765,
          0.27135227294525066,
          0.5373722152966268,
          -0.5546514317901003,
          -1.8987842579735061,
          0.19241697433215038,
          1.530485498493259,
          0.7228333379963006,
          -0.5429533538796294,
          1.2803714175803076,
          -2.306863721403007,
          0.7842828916206536,
          0.34215135124192275,
          -1.519151467178333,
          0.40424669002063457,
          0.07957446406931469,
          0.18225871645319636,
          -0.9957462127426185,
          -0.015076853568017676,
          0.7900297816375214,
          -1.646200384516348,
          0.05956573499105154,
          0.03598077324014414,
          0.49208716731850244,
          0.7165417033278323,
          0.6427778018277905,
          -0.3028173472450331,
          0.9464796740335952,
          1.0106234451776535,
          -0.043494628755843645,
          -1.3375309950242353,
          1.0387172543114143,
          -0.6225978712784589,
          1.0141315558367463
         ],
         "xaxis": "x7",
         "y": [
          -0.1900973688397165,
          -0.3885684197362916,
          -0.8243907823378489,
          -0.34426573550469863,
          -0.7626995434404207,
          1.048395759001549,
          -0.6777940482446037,
          0.48805974008760755,
          -0.8657238553940302,
          -1.0882723358497837,
          0.4935583948718675,
          0.6182601714481422,
          1.076153033939917,
          -1.5275925690188878,
          0.11136087864535325,
          -0.03044574885719981,
          1.0911851333068108,
          -1.9085340262220345,
          0.46707220029218444,
          -0.49162188861230577,
          0.2877384567818682,
          -0.7823599322251517,
          0.8856691326164089,
          -1.5296573349468923,
          1.1753557301216002,
          -0.9701383706040404,
          0.22639557889842796,
          0.07959265795089271,
          -0.600017743474129,
          0.7756064831698299,
          -0.024756147151807524,
          0.2403527999954404,
          0.6859012737106033,
          -0.037355532168663004,
          0.3717754255978988,
          -0.3919203744324361,
          1.3989115743370044,
          0.2630122570447996,
          -0.3661137393198716,
          0.5471467735292461,
          -1.324642349339428,
          0.11102380481679991,
          -2.075535494176627,
          -0.6382404975762375,
          -2.431797406032161,
          1.6332158939212884,
          -0.09197085112428421,
          1.096049833938106,
          -1.5665098795579453,
          0.7553824116210116,
          0.27913582420989463,
          0.5849420797340267,
          -1.4403775974022306,
          0.13935913692345353,
          -0.44404066805046516,
          0.7385428641964557,
          -1.0332904032432841,
          -0.35396806719374563,
          0.7722679906037915,
          -0.37027214771386874,
          1.7005243008160968,
          0.7471972464198535,
          -0.11815451440255341,
          0.07430273329491482,
          0.4416672561505827,
          -1.274908033954568,
          0.1429012656245399,
          0.6978793081267491,
          1.671557457121776,
          -0.3759987962182951,
          -0.7463195842669548,
          -0.22005038550342224,
          0.46823691228267017,
          1.4855727847467244,
          -1.3957646201898561,
          -1.4884209880380301,
          -0.4763819880346412,
          -0.578184560559735,
          0.6961651030678019,
          1.7259166311829497,
          -0.8252362073213497,
          1.1438609706293845,
          -1.2404930633441245,
          -1.1368471840189844,
          0.5887204356027591,
          0.2335619414877631,
          1.9745688477403562,
          1.3279686184388286,
          0.42260923836531145,
          0.10254556518247043,
          0.9658870494782116,
          -2.0148036419525,
          0.2596301436019747,
          -0.06635611816136357,
          -1.302025346364487,
          -1.2272680873133386,
          0.5198072029053998,
          0.8388417678839464,
          -0.16665292552917554,
          0.9173799937169625
         ],
         "yaxis": "y7"
        },
        {
         "line": {
          "color": "rgba(128, 128, 128, 1.0)",
          "dash": "solid",
          "shape": "linear",
          "width": 1.3
         },
         "marker": {
          "size": 2,
          "symbol": "circle"
         },
         "mode": "markers",
         "name": "B",
         "text": "",
         "type": "scatter",
         "x": [
          -0.4103104538548829,
          -0.333734732060692,
          -0.7249999454796346,
          -0.12075186624438715,
          -0.9702228237202677,
          -0.4184563513631616,
          -0.8130953552812726,
          -1.070368211863948,
          0.9128122466326866,
          -0.5376006658015672,
          -1.841641920831229,
          -0.021698430731425182,
          -1.222794919048431,
          0.35958413692086305,
          -1.8470224783340559,
          -0.3650599729439193,
          1.31878607504766,
          2.507340775170648,
          -0.4561208585900866,
          -0.8047272454906428,
          -0.9559197397423289,
          -0.5068998849581509,
          -0.25307716519577905,
          -1.27148336694633,
          -1.0816751073569362,
          -0.8054584860614372,
          0.706461609907511,
          0.974118086445685,
          -0.10017039553463598,
          -0.914780942447579,
          1.015919094342769,
          -0.25966822399211303,
          0.34889234956949616,
          -1.2292438175622884,
          0.3834021421904984,
          1.316869079413164,
          -0.7352352723825953,
          -1.972516516260567,
          -0.9085118921654491,
          0.9329586987495015,
          1.683204649059652,
          0.09013890257122327,
          -0.3373355375224495,
          -0.5540672145916483,
          1.5804141593421892,
          0.8042210936260737,
          0.6965998388250881,
          -3.147066036074273,
          0.0019682458700349204,
          -1.596825890440718,
          -0.2586942384250054,
          -1.1822047310215698,
          -0.7668621938093012,
          0.16260199826039162,
          -0.09931253373823028,
          -0.08092746615191286,
          -0.20277833052264038,
          0.2359661276767108,
          -1.0552832205083178,
          -1.0736684827535101,
          1.784179172173497,
          -0.7790597148297769,
          0.32343402702051244,
          -0.16924425041690172,
          0.6630700536431359,
          -1.0039576064353046,
          -0.9435030034103241,
          -0.5290232460448169,
          0.6835359923302197,
          -0.702806914451176,
          1.1489346413496178,
          2.0788187651310945,
          0.06550548107752338,
          0.4722262637519014,
          -0.4349686402153224,
          1.3829089676360604,
          -1.6202804762309257,
          -0.22377563808704218,
          -1.5299244176176388,
          1.353954906478887,
          -1.3893374560698426,
          0.32525442502010615,
          0.616410318419713,
          -1.6647326211126063,
          -1.046207963235596,
          1.3856257209977199,
          -0.4451796457350623,
          0.8817781193226517,
          -0.3766409683986692,
          -1.3624244460816255,
          2.312277355326506,
          -1.1802234454149356,
          0.2172895716657932,
          1.0630724292373221,
          0.17504094074453513,
          -0.03192945139517454,
          -0.7112178442185724,
          -0.7806039652950968,
          -1.0007269638007035,
          -0.5828470704060571
         ],
         "xaxis": "x8",
         "y": [
          -0.1900973688397165,
          -0.3885684197362916,
          -0.8243907823378489,
          -0.34426573550469863,
          -0.7626995434404207,
          1.048395759001549,
          -0.6777940482446037,
          0.48805974008760755,
          -0.8657238553940302,
          -1.0882723358497837,
          0.4935583948718675,
          0.6182601714481422,
          1.076153033939917,
          -1.5275925690188878,
          0.11136087864535325,
          -0.03044574885719981,
          1.0911851333068108,
          -1.9085340262220345,
          0.46707220029218444,
          -0.49162188861230577,
          0.2877384567818682,
          -0.7823599322251517,
          0.8856691326164089,
          -1.5296573349468923,
          1.1753557301216002,
          -0.9701383706040404,
          0.22639557889842796,
          0.07959265795089271,
          -0.600017743474129,
          0.7756064831698299,
          -0.024756147151807524,
          0.2403527999954404,
          0.6859012737106033,
          -0.037355532168663004,
          0.3717754255978988,
          -0.3919203744324361,
          1.3989115743370044,
          0.2630122570447996,
          -0.3661137393198716,
          0.5471467735292461,
          -1.324642349339428,
          0.11102380481679991,
          -2.075535494176627,
          -0.6382404975762375,
          -2.431797406032161,
          1.6332158939212884,
          -0.09197085112428421,
          1.096049833938106,
          -1.5665098795579453,
          0.7553824116210116,
          0.27913582420989463,
          0.5849420797340267,
          -1.4403775974022306,
          0.13935913692345353,
          -0.44404066805046516,
          0.7385428641964557,
          -1.0332904032432841,
          -0.35396806719374563,
          0.7722679906037915,
          -0.37027214771386874,
          1.7005243008160968,
          0.7471972464198535,
          -0.11815451440255341,
          0.07430273329491482,
          0.4416672561505827,
          -1.274908033954568,
          0.1429012656245399,
          0.6978793081267491,
          1.671557457121776,
          -0.3759987962182951,
          -0.7463195842669548,
          -0.22005038550342224,
          0.46823691228267017,
          1.4855727847467244,
          -1.3957646201898561,
          -1.4884209880380301,
          -0.4763819880346412,
          -0.578184560559735,
          0.6961651030678019,
          1.7259166311829497,
          -0.8252362073213497,
          1.1438609706293845,
          -1.2404930633441245,
          -1.1368471840189844,
          0.5887204356027591,
          0.2335619414877631,
          1.9745688477403562,
          1.3279686184388286,
          0.42260923836531145,
          0.10254556518247043,
          0.9658870494782116,
          -2.0148036419525,
          0.2596301436019747,
          -0.06635611816136357,
          -1.302025346364487,
          -1.2272680873133386,
          0.5198072029053998,
          0.8388417678839464,
          -0.16665292552917554,
          0.9173799937169625
         ],
         "yaxis": "y8"
        },
        {
         "line": {
          "color": "rgba(128, 128, 128, 1.0)",
          "dash": "solid",
          "shape": "linear",
          "width": 1.3
         },
         "marker": {
          "size": 2,
          "symbol": "circle"
         },
         "mode": "markers",
         "name": "C",
         "text": "",
         "type": "scatter",
         "x": [
          -0.34120759272223433,
          0.5319968935053704,
          -2.450455488118163,
          -1.2456715548083472,
          1.5209640716102542,
          -0.0049272852738787625,
          1.0985475472016015,
          0.6773710522533647,
          1.3607142958212726,
          0.07711242446398583,
          0.29079341587599095,
          -0.43367282563883897,
          0.06753015159812732,
          -0.614125917644946,
          1.709868882712002,
          -0.5083695153972636,
          0.8304776785532717,
          1.5520601876707454,
          -0.3222961640789218,
          -1.977901874814474,
          1.3606452503009314,
          -0.06010963701062323,
          -0.29577165906393466,
          1.1022486760316241,
          1.0178363788213247,
          -0.16442359229547276,
          -1.112695636415679,
          -0.1270802957928152,
          1.007890170700006,
          1.4524421801030634,
          0.8296522843963062,
          1.0532618501781965,
          0.6795082735205985,
          -2.0221482750492252,
          1.1461514030298305,
          0.06140342823868589,
          -0.13708816055394313,
          -0.7651459419975741,
          0.7096138267240532,
          -0.5667400030206438,
          -1.1516645799042164,
          -0.7686303875696663,
          -1.2446233678971257,
          -1.2812299231096487,
          0.012725410380528336,
          -1.748983001114331,
          0.3983896418002656,
          -1.7455224885371137,
          0.5245636491056316,
          0.3304388918863971,
          -1.2147105369960398,
          -0.7984194519889587,
          0.29731511377892034,
          1.405402979776943,
          -1.619812830345721,
          1.2811861693543742,
          -1.4539006003318269,
          -0.38631762914312007,
          -0.03712563436194027,
          -0.05812227019037334,
          0.6245645987974078,
          -0.3951156093367975,
          -2.0161901747549456,
          -0.8956798469753015,
          -0.4370140644033481,
          -0.47276981141969854,
          -0.2854548890731237,
          0.41838971907076516,
          0.45133415609646577,
          0.11713657133354452,
          -1.325159071044354,
          0.11202376189144415,
          -0.5249627092180661,
          -0.3039374941801457,
          -0.8324933320883989,
          -0.9722317483126025,
          -0.9724144691955017,
          -0.1836356643644105,
          -0.019578188435622406,
          -1.724204841009576,
          1.1651900890724414,
          0.4587265805469331,
          -0.4269940736068984,
          0.5177334206115901,
          -1.489836025046481,
          0.2245692761053648,
          0.07659364207849126,
          0.5651885751515057,
          -0.7321710513842877,
          -0.6919190329872751,
          -0.608863992546054,
          1.5946083343083195,
          1.1696186036170675,
          3.408773057810497,
          0.7607021874075978,
          0.4911325983640859,
          0.2541815539119816,
          -0.36709667595476897,
          -0.4014232037425139,
          -3.5374312704476396
         ],
         "xaxis": "x9",
         "y": [
          1.9103045059110908,
          -0.0324766010900323,
          0.6747898519986482,
          0.5005818365646658,
          0.33239968159943106,
          -0.5059053011102334,
          0.6020966849444732,
          1.4699655049211517,
          1.1978975456814263,
          -0.6865975518884714,
          0.852723195013891,
          -0.6437507674782534,
          -0.8754403484121193,
          -0.9775154768468096,
          -0.8546413342436442,
          1.2537442619905128,
          -1.9045312672674817,
          0.2891690886155776,
          0.012169966037095614,
          0.42039855791564923,
          0.11943814146188779,
          -0.3662562134813379,
          0.18414472055402206,
          -0.45845911460225097,
          0.6960109196869487,
          -0.4485487991500414,
          0.7683798511340175,
          -1.179058799293875,
          -1.6431012439508441,
          -0.1869963005418975,
          -0.9437887922665755,
          -0.324677373437033,
          -0.5907019899086499,
          0.16492026139989754,
          -0.48078879856769285,
          0.01143673520281042,
          0.04503960431374931,
          -0.8606320112210435,
          1.1437459274916573,
          0.7088930992311374,
          0.7548223897350274,
          0.5723430657995876,
          -0.9168325310802138,
          -0.5947982012392957,
          -0.34723195084082425,
          -0.0567159159561067,
          0.5335021066473415,
          -1.0726517231911452,
          -0.13224619742200586,
          0.6170142858493078,
          -0.6498928991754115,
          -0.5702211150515724,
          2.4295020090482966,
          -1.4392668384899499,
          0.8617542275712754,
          -0.9646885280823778,
          1.5643528970295268,
          -0.4089725285242998,
          0.3270756006762052,
          -1.770341555084864,
          -0.22647757226224874,
          1.092101420347575,
          -1.7939279055023416,
          1.2566143114982407,
          -0.07479236452051884,
          -1.031532453568368,
          -1.156943941099765,
          0.27135227294525066,
          0.5373722152966268,
          -0.5546514317901003,
          -1.8987842579735061,
          0.19241697433215038,
          1.530485498493259,
          0.7228333379963006,
          -0.5429533538796294,
          1.2803714175803076,
          -2.306863721403007,
          0.7842828916206536,
          0.34215135124192275,
          -1.519151467178333,
          0.40424669002063457,
          0.07957446406931469,
          0.18225871645319636,
          -0.9957462127426185,
          -0.015076853568017676,
          0.7900297816375214,
          -1.646200384516348,
          0.05956573499105154,
          0.03598077324014414,
          0.49208716731850244,
          0.7165417033278323,
          0.6427778018277905,
          -0.3028173472450331,
          0.9464796740335952,
          1.0106234451776535,
          -0.043494628755843645,
          -1.3375309950242353,
          1.0387172543114143,
          -0.6225978712784589,
          1.0141315558367463
         ],
         "yaxis": "y9"
        },
        {
         "line": {
          "color": "rgba(128, 128, 128, 1.0)",
          "dash": "solid",
          "shape": "linear",
          "width": 1.3
         },
         "marker": {
          "size": 2,
          "symbol": "circle"
         },
         "mode": "markers",
         "name": "C",
         "text": "",
         "type": "scatter",
         "x": [
          -0.1900973688397165,
          -0.3885684197362916,
          -0.8243907823378489,
          -0.34426573550469863,
          -0.7626995434404207,
          1.048395759001549,
          -0.6777940482446037,
          0.48805974008760755,
          -0.8657238553940302,
          -1.0882723358497837,
          0.4935583948718675,
          0.6182601714481422,
          1.076153033939917,
          -1.5275925690188878,
          0.11136087864535325,
          -0.03044574885719981,
          1.0911851333068108,
          -1.9085340262220345,
          0.46707220029218444,
          -0.49162188861230577,
          0.2877384567818682,
          -0.7823599322251517,
          0.8856691326164089,
          -1.5296573349468923,
          1.1753557301216002,
          -0.9701383706040404,
          0.22639557889842796,
          0.07959265795089271,
          -0.600017743474129,
          0.7756064831698299,
          -0.024756147151807524,
          0.2403527999954404,
          0.6859012737106033,
          -0.037355532168663004,
          0.3717754255978988,
          -0.3919203744324361,
          1.3989115743370044,
          0.2630122570447996,
          -0.3661137393198716,
          0.5471467735292461,
          -1.324642349339428,
          0.11102380481679991,
          -2.075535494176627,
          -0.6382404975762375,
          -2.431797406032161,
          1.6332158939212884,
          -0.09197085112428421,
          1.096049833938106,
          -1.5665098795579453,
          0.7553824116210116,
          0.27913582420989463,
          0.5849420797340267,
          -1.4403775974022306,
          0.13935913692345353,
          -0.44404066805046516,
          0.7385428641964557,
          -1.0332904032432841,
          -0.35396806719374563,
          0.7722679906037915,
          -0.37027214771386874,
          1.7005243008160968,
          0.7471972464198535,
          -0.11815451440255341,
          0.07430273329491482,
          0.4416672561505827,
          -1.274908033954568,
          0.1429012656245399,
          0.6978793081267491,
          1.671557457121776,
          -0.3759987962182951,
          -0.7463195842669548,
          -0.22005038550342224,
          0.46823691228267017,
          1.4855727847467244,
          -1.3957646201898561,
          -1.4884209880380301,
          -0.4763819880346412,
          -0.578184560559735,
          0.6961651030678019,
          1.7259166311829497,
          -0.8252362073213497,
          1.1438609706293845,
          -1.2404930633441245,
          -1.1368471840189844,
          0.5887204356027591,
          0.2335619414877631,
          1.9745688477403562,
          1.3279686184388286,
          0.42260923836531145,
          0.10254556518247043,
          0.9658870494782116,
          -2.0148036419525,
          0.2596301436019747,
          -0.06635611816136357,
          -1.302025346364487,
          -1.2272680873133386,
          0.5198072029053998,
          0.8388417678839464,
          -0.16665292552917554,
          0.9173799937169625
         ],
         "xaxis": "x10",
         "y": [
          1.9103045059110908,
          -0.0324766010900323,
          0.6747898519986482,
          0.5005818365646658,
          0.33239968159943106,
          -0.5059053011102334,
          0.6020966849444732,
          1.4699655049211517,
          1.1978975456814263,
          -0.6865975518884714,
          0.852723195013891,
          -0.6437507674782534,
          -0.8754403484121193,
          -0.9775154768468096,
          -0.8546413342436442,
          1.2537442619905128,
          -1.9045312672674817,
          0.2891690886155776,
          0.012169966037095614,
          0.42039855791564923,
          0.11943814146188779,
          -0.3662562134813379,
          0.18414472055402206,
          -0.45845911460225097,
          0.6960109196869487,
          -0.4485487991500414,
          0.7683798511340175,
          -1.179058799293875,
          -1.6431012439508441,
          -0.1869963005418975,
          -0.9437887922665755,
          -0.324677373437033,
          -0.5907019899086499,
          0.16492026139989754,
          -0.48078879856769285,
          0.01143673520281042,
          0.04503960431374931,
          -0.8606320112210435,
          1.1437459274916573,
          0.7088930992311374,
          0.7548223897350274,
          0.5723430657995876,
          -0.9168325310802138,
          -0.5947982012392957,
          -0.34723195084082425,
          -0.0567159159561067,
          0.5335021066473415,
          -1.0726517231911452,
          -0.13224619742200586,
          0.6170142858493078,
          -0.6498928991754115,
          -0.5702211150515724,
          2.4295020090482966,
          -1.4392668384899499,
          0.8617542275712754,
          -0.9646885280823778,
          1.5643528970295268,
          -0.4089725285242998,
          0.3270756006762052,
          -1.770341555084864,
          -0.22647757226224874,
          1.092101420347575,
          -1.7939279055023416,
          1.2566143114982407,
          -0.07479236452051884,
          -1.031532453568368,
          -1.156943941099765,
          0.27135227294525066,
          0.5373722152966268,
          -0.5546514317901003,
          -1.8987842579735061,
          0.19241697433215038,
          1.530485498493259,
          0.7228333379963006,
          -0.5429533538796294,
          1.2803714175803076,
          -2.306863721403007,
          0.7842828916206536,
          0.34215135124192275,
          -1.519151467178333,
          0.40424669002063457,
          0.07957446406931469,
          0.18225871645319636,
          -0.9957462127426185,
          -0.015076853568017676,
          0.7900297816375214,
          -1.646200384516348,
          0.05956573499105154,
          0.03598077324014414,
          0.49208716731850244,
          0.7165417033278323,
          0.6427778018277905,
          -0.3028173472450331,
          0.9464796740335952,
          1.0106234451776535,
          -0.043494628755843645,
          -1.3375309950242353,
          1.0387172543114143,
          -0.6225978712784589,
          1.0141315558367463
         ],
         "yaxis": "y10"
        },
        {
         "histfunc": "count",
         "histnorm": "",
         "marker": {
          "color": "rgba(50, 171, 96, 1.0)",
          "line": {
           "color": "#4D5663",
           "width": 1.3
          }
         },
         "name": "C",
         "nbinsx": 10,
         "opacity": 0.8,
         "orientation": "v",
         "type": "histogram",
         "x": [
          1.9103045059110908,
          -0.0324766010900323,
          0.6747898519986482,
          0.5005818365646658,
          0.33239968159943106,
          -0.5059053011102334,
          0.6020966849444732,
          1.4699655049211517,
          1.1978975456814263,
          -0.6865975518884714,
          0.852723195013891,
          -0.6437507674782534,
          -0.8754403484121193,
          -0.9775154768468096,
          -0.8546413342436442,
          1.2537442619905128,
          -1.9045312672674817,
          0.2891690886155776,
          0.012169966037095614,
          0.42039855791564923,
          0.11943814146188779,
          -0.3662562134813379,
          0.18414472055402206,
          -0.45845911460225097,
          0.6960109196869487,
          -0.4485487991500414,
          0.7683798511340175,
          -1.179058799293875,
          -1.6431012439508441,
          -0.1869963005418975,
          -0.9437887922665755,
          -0.324677373437033,
          -0.5907019899086499,
          0.16492026139989754,
          -0.48078879856769285,
          0.01143673520281042,
          0.04503960431374931,
          -0.8606320112210435,
          1.1437459274916573,
          0.7088930992311374,
          0.7548223897350274,
          0.5723430657995876,
          -0.9168325310802138,
          -0.5947982012392957,
          -0.34723195084082425,
          -0.0567159159561067,
          0.5335021066473415,
          -1.0726517231911452,
          -0.13224619742200586,
          0.6170142858493078,
          -0.6498928991754115,
          -0.5702211150515724,
          2.4295020090482966,
          -1.4392668384899499,
          0.8617542275712754,
          -0.9646885280823778,
          1.5643528970295268,
          -0.4089725285242998,
          0.3270756006762052,
          -1.770341555084864,
          -0.22647757226224874,
          1.092101420347575,
          -1.7939279055023416,
          1.2566143114982407,
          -0.07479236452051884,
          -1.031532453568368,
          -1.156943941099765,
          0.27135227294525066,
          0.5373722152966268,
          -0.5546514317901003,
          -1.8987842579735061,
          0.19241697433215038,
          1.530485498493259,
          0.7228333379963006,
          -0.5429533538796294,
          1.2803714175803076,
          -2.306863721403007,
          0.7842828916206536,
          0.34215135124192275,
          -1.519151467178333,
          0.40424669002063457,
          0.07957446406931469,
          0.18225871645319636,
          -0.9957462127426185,
          -0.015076853568017676,
          0.7900297816375214,
          -1.646200384516348,
          0.05956573499105154,
          0.03598077324014414,
          0.49208716731850244,
          0.7165417033278323,
          0.6427778018277905,
          -0.3028173472450331,
          0.9464796740335952,
          1.0106234451776535,
          -0.043494628755843645,
          -1.3375309950242353,
          1.0387172543114143,
          -0.6225978712784589,
          1.0141315558367463
         ],
         "xaxis": "x11",
         "yaxis": "y11"
        },
        {
         "line": {
          "color": "rgba(128, 128, 128, 1.0)",
          "dash": "solid",
          "shape": "linear",
          "width": 1.3
         },
         "marker": {
          "size": 2,
          "symbol": "circle"
         },
         "mode": "markers",
         "name": "C",
         "text": "",
         "type": "scatter",
         "x": [
          -0.4103104538548829,
          -0.333734732060692,
          -0.7249999454796346,
          -0.12075186624438715,
          -0.9702228237202677,
          -0.4184563513631616,
          -0.8130953552812726,
          -1.070368211863948,
          0.9128122466326866,
          -0.5376006658015672,
          -1.841641920831229,
          -0.021698430731425182,
          -1.222794919048431,
          0.35958413692086305,
          -1.8470224783340559,
          -0.3650599729439193,
          1.31878607504766,
          2.507340775170648,
          -0.4561208585900866,
          -0.8047272454906428,
          -0.9559197397423289,
          -0.5068998849581509,
          -0.25307716519577905,
          -1.27148336694633,
          -1.0816751073569362,
          -0.8054584860614372,
          0.706461609907511,
          0.974118086445685,
          -0.10017039553463598,
          -0.914780942447579,
          1.015919094342769,
          -0.25966822399211303,
          0.34889234956949616,
          -1.2292438175622884,
          0.3834021421904984,
          1.316869079413164,
          -0.7352352723825953,
          -1.972516516260567,
          -0.9085118921654491,
          0.9329586987495015,
          1.683204649059652,
          0.09013890257122327,
          -0.3373355375224495,
          -0.5540672145916483,
          1.5804141593421892,
          0.8042210936260737,
          0.6965998388250881,
          -3.147066036074273,
          0.0019682458700349204,
          -1.596825890440718,
          -0.2586942384250054,
          -1.1822047310215698,
          -0.7668621938093012,
          0.16260199826039162,
          -0.09931253373823028,
          -0.08092746615191286,
          -0.20277833052264038,
          0.2359661276767108,
          -1.0552832205083178,
          -1.0736684827535101,
          1.784179172173497,
          -0.7790597148297769,
          0.32343402702051244,
          -0.16924425041690172,
          0.6630700536431359,
          -1.0039576064353046,
          -0.9435030034103241,
          -0.5290232460448169,
          0.6835359923302197,
          -0.702806914451176,
          1.1489346413496178,
          2.0788187651310945,
          0.06550548107752338,
          0.4722262637519014,
          -0.4349686402153224,
          1.3829089676360604,
          -1.6202804762309257,
          -0.22377563808704218,
          -1.5299244176176388,
          1.353954906478887,
          -1.3893374560698426,
          0.32525442502010615,
          0.616410318419713,
          -1.6647326211126063,
          -1.046207963235596,
          1.3856257209977199,
          -0.4451796457350623,
          0.8817781193226517,
          -0.3766409683986692,
          -1.3624244460816255,
          2.312277355326506,
          -1.1802234454149356,
          0.2172895716657932,
          1.0630724292373221,
          0.17504094074453513,
          -0.03192945139517454,
          -0.7112178442185724,
          -0.7806039652950968,
          -1.0007269638007035,
          -0.5828470704060571
         ],
         "xaxis": "x12",
         "y": [
          1.9103045059110908,
          -0.0324766010900323,
          0.6747898519986482,
          0.5005818365646658,
          0.33239968159943106,
          -0.5059053011102334,
          0.6020966849444732,
          1.4699655049211517,
          1.1978975456814263,
          -0.6865975518884714,
          0.852723195013891,
          -0.6437507674782534,
          -0.8754403484121193,
          -0.9775154768468096,
          -0.8546413342436442,
          1.2537442619905128,
          -1.9045312672674817,
          0.2891690886155776,
          0.012169966037095614,
          0.42039855791564923,
          0.11943814146188779,
          -0.3662562134813379,
          0.18414472055402206,
          -0.45845911460225097,
          0.6960109196869487,
          -0.4485487991500414,
          0.7683798511340175,
          -1.179058799293875,
          -1.6431012439508441,
          -0.1869963005418975,
          -0.9437887922665755,
          -0.324677373437033,
          -0.5907019899086499,
          0.16492026139989754,
          -0.48078879856769285,
          0.01143673520281042,
          0.04503960431374931,
          -0.8606320112210435,
          1.1437459274916573,
          0.7088930992311374,
          0.7548223897350274,
          0.5723430657995876,
          -0.9168325310802138,
          -0.5947982012392957,
          -0.34723195084082425,
          -0.0567159159561067,
          0.5335021066473415,
          -1.0726517231911452,
          -0.13224619742200586,
          0.6170142858493078,
          -0.6498928991754115,
          -0.5702211150515724,
          2.4295020090482966,
          -1.4392668384899499,
          0.8617542275712754,
          -0.9646885280823778,
          1.5643528970295268,
          -0.4089725285242998,
          0.3270756006762052,
          -1.770341555084864,
          -0.22647757226224874,
          1.092101420347575,
          -1.7939279055023416,
          1.2566143114982407,
          -0.07479236452051884,
          -1.031532453568368,
          -1.156943941099765,
          0.27135227294525066,
          0.5373722152966268,
          -0.5546514317901003,
          -1.8987842579735061,
          0.19241697433215038,
          1.530485498493259,
          0.7228333379963006,
          -0.5429533538796294,
          1.2803714175803076,
          -2.306863721403007,
          0.7842828916206536,
          0.34215135124192275,
          -1.519151467178333,
          0.40424669002063457,
          0.07957446406931469,
          0.18225871645319636,
          -0.9957462127426185,
          -0.015076853568017676,
          0.7900297816375214,
          -1.646200384516348,
          0.05956573499105154,
          0.03598077324014414,
          0.49208716731850244,
          0.7165417033278323,
          0.6427778018277905,
          -0.3028173472450331,
          0.9464796740335952,
          1.0106234451776535,
          -0.043494628755843645,
          -1.3375309950242353,
          1.0387172543114143,
          -0.6225978712784589,
          1.0141315558367463
         ],
         "yaxis": "y12"
        },
        {
         "line": {
          "color": "rgba(128, 128, 128, 1.0)",
          "dash": "solid",
          "shape": "linear",
          "width": 1.3
         },
         "marker": {
          "size": 2,
          "symbol": "circle"
         },
         "mode": "markers",
         "name": "D",
         "text": "",
         "type": "scatter",
         "x": [
          -0.34120759272223433,
          0.5319968935053704,
          -2.450455488118163,
          -1.2456715548083472,
          1.5209640716102542,
          -0.0049272852738787625,
          1.0985475472016015,
          0.6773710522533647,
          1.3607142958212726,
          0.07711242446398583,
          0.29079341587599095,
          -0.43367282563883897,
          0.06753015159812732,
          -0.614125917644946,
          1.709868882712002,
          -0.5083695153972636,
          0.8304776785532717,
          1.5520601876707454,
          -0.3222961640789218,
          -1.977901874814474,
          1.3606452503009314,
          -0.06010963701062323,
          -0.29577165906393466,
          1.1022486760316241,
          1.0178363788213247,
          -0.16442359229547276,
          -1.112695636415679,
          -0.1270802957928152,
          1.007890170700006,
          1.4524421801030634,
          0.8296522843963062,
          1.0532618501781965,
          0.6795082735205985,
          -2.0221482750492252,
          1.1461514030298305,
          0.06140342823868589,
          -0.13708816055394313,
          -0.7651459419975741,
          0.7096138267240532,
          -0.5667400030206438,
          -1.1516645799042164,
          -0.7686303875696663,
          -1.2446233678971257,
          -1.2812299231096487,
          0.012725410380528336,
          -1.748983001114331,
          0.3983896418002656,
          -1.7455224885371137,
          0.5245636491056316,
          0.3304388918863971,
          -1.2147105369960398,
          -0.7984194519889587,
          0.29731511377892034,
          1.405402979776943,
          -1.619812830345721,
          1.2811861693543742,
          -1.4539006003318269,
          -0.38631762914312007,
          -0.03712563436194027,
          -0.05812227019037334,
          0.6245645987974078,
          -0.3951156093367975,
          -2.0161901747549456,
          -0.8956798469753015,
          -0.4370140644033481,
          -0.47276981141969854,
          -0.2854548890731237,
          0.41838971907076516,
          0.45133415609646577,
          0.11713657133354452,
          -1.325159071044354,
          0.11202376189144415,
          -0.5249627092180661,
          -0.3039374941801457,
          -0.8324933320883989,
          -0.9722317483126025,
          -0.9724144691955017,
          -0.1836356643644105,
          -0.019578188435622406,
          -1.724204841009576,
          1.1651900890724414,
          0.4587265805469331,
          -0.4269940736068984,
          0.5177334206115901,
          -1.489836025046481,
          0.2245692761053648,
          0.07659364207849126,
          0.5651885751515057,
          -0.7321710513842877,
          -0.6919190329872751,
          -0.608863992546054,
          1.5946083343083195,
          1.1696186036170675,
          3.408773057810497,
          0.7607021874075978,
          0.4911325983640859,
          0.2541815539119816,
          -0.36709667595476897,
          -0.4014232037425139,
          -3.5374312704476396
         ],
         "xaxis": "x13",
         "y": [
          -0.4103104538548829,
          -0.333734732060692,
          -0.7249999454796346,
          -0.12075186624438715,
          -0.9702228237202677,
          -0.4184563513631616,
          -0.8130953552812726,
          -1.070368211863948,
          0.9128122466326866,
          -0.5376006658015672,
          -1.841641920831229,
          -0.021698430731425182,
          -1.222794919048431,
          0.35958413692086305,
          -1.8470224783340559,
          -0.3650599729439193,
          1.31878607504766,
          2.507340775170648,
          -0.4561208585900866,
          -0.8047272454906428,
          -0.9559197397423289,
          -0.5068998849581509,
          -0.25307716519577905,
          -1.27148336694633,
          -1.0816751073569362,
          -0.8054584860614372,
          0.706461609907511,
          0.974118086445685,
          -0.10017039553463598,
          -0.914780942447579,
          1.015919094342769,
          -0.25966822399211303,
          0.34889234956949616,
          -1.2292438175622884,
          0.3834021421904984,
          1.316869079413164,
          -0.7352352723825953,
          -1.972516516260567,
          -0.9085118921654491,
          0.9329586987495015,
          1.683204649059652,
          0.09013890257122327,
          -0.3373355375224495,
          -0.5540672145916483,
          1.5804141593421892,
          0.8042210936260737,
          0.6965998388250881,
          -3.147066036074273,
          0.0019682458700349204,
          -1.596825890440718,
          -0.2586942384250054,
          -1.1822047310215698,
          -0.7668621938093012,
          0.16260199826039162,
          -0.09931253373823028,
          -0.08092746615191286,
          -0.20277833052264038,
          0.2359661276767108,
          -1.0552832205083178,
          -1.0736684827535101,
          1.784179172173497,
          -0.7790597148297769,
          0.32343402702051244,
          -0.16924425041690172,
          0.6630700536431359,
          -1.0039576064353046,
          -0.9435030034103241,
          -0.5290232460448169,
          0.6835359923302197,
          -0.702806914451176,
          1.1489346413496178,
          2.0788187651310945,
          0.06550548107752338,
          0.4722262637519014,
          -0.4349686402153224,
          1.3829089676360604,
          -1.6202804762309257,
          -0.22377563808704218,
          -1.5299244176176388,
          1.353954906478887,
          -1.3893374560698426,
          0.32525442502010615,
          0.616410318419713,
          -1.6647326211126063,
          -1.046207963235596,
          1.3856257209977199,
          -0.4451796457350623,
          0.8817781193226517,
          -0.3766409683986692,
          -1.3624244460816255,
          2.312277355326506,
          -1.1802234454149356,
          0.2172895716657932,
          1.0630724292373221,
          0.17504094074453513,
          -0.03192945139517454,
          -0.7112178442185724,
          -0.7806039652950968,
          -1.0007269638007035,
          -0.5828470704060571
         ],
         "yaxis": "y13"
        },
        {
         "line": {
          "color": "rgba(128, 128, 128, 1.0)",
          "dash": "solid",
          "shape": "linear",
          "width": 1.3
         },
         "marker": {
          "size": 2,
          "symbol": "circle"
         },
         "mode": "markers",
         "name": "D",
         "text": "",
         "type": "scatter",
         "x": [
          -0.1900973688397165,
          -0.3885684197362916,
          -0.8243907823378489,
          -0.34426573550469863,
          -0.7626995434404207,
          1.048395759001549,
          -0.6777940482446037,
          0.48805974008760755,
          -0.8657238553940302,
          -1.0882723358497837,
          0.4935583948718675,
          0.6182601714481422,
          1.076153033939917,
          -1.5275925690188878,
          0.11136087864535325,
          -0.03044574885719981,
          1.0911851333068108,
          -1.9085340262220345,
          0.46707220029218444,
          -0.49162188861230577,
          0.2877384567818682,
          -0.7823599322251517,
          0.8856691326164089,
          -1.5296573349468923,
          1.1753557301216002,
          -0.9701383706040404,
          0.22639557889842796,
          0.07959265795089271,
          -0.600017743474129,
          0.7756064831698299,
          -0.024756147151807524,
          0.2403527999954404,
          0.6859012737106033,
          -0.037355532168663004,
          0.3717754255978988,
          -0.3919203744324361,
          1.3989115743370044,
          0.2630122570447996,
          -0.3661137393198716,
          0.5471467735292461,
          -1.324642349339428,
          0.11102380481679991,
          -2.075535494176627,
          -0.6382404975762375,
          -2.431797406032161,
          1.6332158939212884,
          -0.09197085112428421,
          1.096049833938106,
          -1.5665098795579453,
          0.7553824116210116,
          0.27913582420989463,
          0.5849420797340267,
          -1.4403775974022306,
          0.13935913692345353,
          -0.44404066805046516,
          0.7385428641964557,
          -1.0332904032432841,
          -0.35396806719374563,
          0.7722679906037915,
          -0.37027214771386874,
          1.7005243008160968,
          0.7471972464198535,
          -0.11815451440255341,
          0.07430273329491482,
          0.4416672561505827,
          -1.274908033954568,
          0.1429012656245399,
          0.6978793081267491,
          1.671557457121776,
          -0.3759987962182951,
          -0.7463195842669548,
          -0.22005038550342224,
          0.46823691228267017,
          1.4855727847467244,
          -1.3957646201898561,
          -1.4884209880380301,
          -0.4763819880346412,
          -0.578184560559735,
          0.6961651030678019,
          1.7259166311829497,
          -0.8252362073213497,
          1.1438609706293845,
          -1.2404930633441245,
          -1.1368471840189844,
          0.5887204356027591,
          0.2335619414877631,
          1.9745688477403562,
          1.3279686184388286,
          0.42260923836531145,
          0.10254556518247043,
          0.9658870494782116,
          -2.0148036419525,
          0.2596301436019747,
          -0.06635611816136357,
          -1.302025346364487,
          -1.2272680873133386,
          0.5198072029053998,
          0.8388417678839464,
          -0.16665292552917554,
          0.9173799937169625
         ],
         "xaxis": "x14",
         "y": [
          -0.4103104538548829,
          -0.333734732060692,
          -0.7249999454796346,
          -0.12075186624438715,
          -0.9702228237202677,
          -0.4184563513631616,
          -0.8130953552812726,
          -1.070368211863948,
          0.9128122466326866,
          -0.5376006658015672,
          -1.841641920831229,
          -0.021698430731425182,
          -1.222794919048431,
          0.35958413692086305,
          -1.8470224783340559,
          -0.3650599729439193,
          1.31878607504766,
          2.507340775170648,
          -0.4561208585900866,
          -0.8047272454906428,
          -0.9559197397423289,
          -0.5068998849581509,
          -0.25307716519577905,
          -1.27148336694633,
          -1.0816751073569362,
          -0.8054584860614372,
          0.706461609907511,
          0.974118086445685,
          -0.10017039553463598,
          -0.914780942447579,
          1.015919094342769,
          -0.25966822399211303,
          0.34889234956949616,
          -1.2292438175622884,
          0.3834021421904984,
          1.316869079413164,
          -0.7352352723825953,
          -1.972516516260567,
          -0.9085118921654491,
          0.9329586987495015,
          1.683204649059652,
          0.09013890257122327,
          -0.3373355375224495,
          -0.5540672145916483,
          1.5804141593421892,
          0.8042210936260737,
          0.6965998388250881,
          -3.147066036074273,
          0.0019682458700349204,
          -1.596825890440718,
          -0.2586942384250054,
          -1.1822047310215698,
          -0.7668621938093012,
          0.16260199826039162,
          -0.09931253373823028,
          -0.08092746615191286,
          -0.20277833052264038,
          0.2359661276767108,
          -1.0552832205083178,
          -1.0736684827535101,
          1.784179172173497,
          -0.7790597148297769,
          0.32343402702051244,
          -0.16924425041690172,
          0.6630700536431359,
          -1.0039576064353046,
          -0.9435030034103241,
          -0.5290232460448169,
          0.6835359923302197,
          -0.702806914451176,
          1.1489346413496178,
          2.0788187651310945,
          0.06550548107752338,
          0.4722262637519014,
          -0.4349686402153224,
          1.3829089676360604,
          -1.6202804762309257,
          -0.22377563808704218,
          -1.5299244176176388,
          1.353954906478887,
          -1.3893374560698426,
          0.32525442502010615,
          0.616410318419713,
          -1.6647326211126063,
          -1.046207963235596,
          1.3856257209977199,
          -0.4451796457350623,
          0.8817781193226517,
          -0.3766409683986692,
          -1.3624244460816255,
          2.312277355326506,
          -1.1802234454149356,
          0.2172895716657932,
          1.0630724292373221,
          0.17504094074453513,
          -0.03192945139517454,
          -0.7112178442185724,
          -0.7806039652950968,
          -1.0007269638007035,
          -0.5828470704060571
         ],
         "yaxis": "y14"
        },
        {
         "line": {
          "color": "rgba(128, 128, 128, 1.0)",
          "dash": "solid",
          "shape": "linear",
          "width": 1.3
         },
         "marker": {
          "size": 2,
          "symbol": "circle"
         },
         "mode": "markers",
         "name": "D",
         "text": "",
         "type": "scatter",
         "x": [
          1.9103045059110908,
          -0.0324766010900323,
          0.6747898519986482,
          0.5005818365646658,
          0.33239968159943106,
          -0.5059053011102334,
          0.6020966849444732,
          1.4699655049211517,
          1.1978975456814263,
          -0.6865975518884714,
          0.852723195013891,
          -0.6437507674782534,
          -0.8754403484121193,
          -0.9775154768468096,
          -0.8546413342436442,
          1.2537442619905128,
          -1.9045312672674817,
          0.2891690886155776,
          0.012169966037095614,
          0.42039855791564923,
          0.11943814146188779,
          -0.3662562134813379,
          0.18414472055402206,
          -0.45845911460225097,
          0.6960109196869487,
          -0.4485487991500414,
          0.7683798511340175,
          -1.179058799293875,
          -1.6431012439508441,
          -0.1869963005418975,
          -0.9437887922665755,
          -0.324677373437033,
          -0.5907019899086499,
          0.16492026139989754,
          -0.48078879856769285,
          0.01143673520281042,
          0.04503960431374931,
          -0.8606320112210435,
          1.1437459274916573,
          0.7088930992311374,
          0.7548223897350274,
          0.5723430657995876,
          -0.9168325310802138,
          -0.5947982012392957,
          -0.34723195084082425,
          -0.0567159159561067,
          0.5335021066473415,
          -1.0726517231911452,
          -0.13224619742200586,
          0.6170142858493078,
          -0.6498928991754115,
          -0.5702211150515724,
          2.4295020090482966,
          -1.4392668384899499,
          0.8617542275712754,
          -0.9646885280823778,
          1.5643528970295268,
          -0.4089725285242998,
          0.3270756006762052,
          -1.770341555084864,
          -0.22647757226224874,
          1.092101420347575,
          -1.7939279055023416,
          1.2566143114982407,
          -0.07479236452051884,
          -1.031532453568368,
          -1.156943941099765,
          0.27135227294525066,
          0.5373722152966268,
          -0.5546514317901003,
          -1.8987842579735061,
          0.19241697433215038,
          1.530485498493259,
          0.7228333379963006,
          -0.5429533538796294,
          1.2803714175803076,
          -2.306863721403007,
          0.7842828916206536,
          0.34215135124192275,
          -1.519151467178333,
          0.40424669002063457,
          0.07957446406931469,
          0.18225871645319636,
          -0.9957462127426185,
          -0.015076853568017676,
          0.7900297816375214,
          -1.646200384516348,
          0.05956573499105154,
          0.03598077324014414,
          0.49208716731850244,
          0.7165417033278323,
          0.6427778018277905,
          -0.3028173472450331,
          0.9464796740335952,
          1.0106234451776535,
          -0.043494628755843645,
          -1.3375309950242353,
          1.0387172543114143,
          -0.6225978712784589,
          1.0141315558367463
         ],
         "xaxis": "x15",
         "y": [
          -0.4103104538548829,
          -0.333734732060692,
          -0.7249999454796346,
          -0.12075186624438715,
          -0.9702228237202677,
          -0.4184563513631616,
          -0.8130953552812726,
          -1.070368211863948,
          0.9128122466326866,
          -0.5376006658015672,
          -1.841641920831229,
          -0.021698430731425182,
          -1.222794919048431,
          0.35958413692086305,
          -1.8470224783340559,
          -0.3650599729439193,
          1.31878607504766,
          2.507340775170648,
          -0.4561208585900866,
          -0.8047272454906428,
          -0.9559197397423289,
          -0.5068998849581509,
          -0.25307716519577905,
          -1.27148336694633,
          -1.0816751073569362,
          -0.8054584860614372,
          0.706461609907511,
          0.974118086445685,
          -0.10017039553463598,
          -0.914780942447579,
          1.015919094342769,
          -0.25966822399211303,
          0.34889234956949616,
          -1.2292438175622884,
          0.3834021421904984,
          1.316869079413164,
          -0.7352352723825953,
          -1.972516516260567,
          -0.9085118921654491,
          0.9329586987495015,
          1.683204649059652,
          0.09013890257122327,
          -0.3373355375224495,
          -0.5540672145916483,
          1.5804141593421892,
          0.8042210936260737,
          0.6965998388250881,
          -3.147066036074273,
          0.0019682458700349204,
          -1.596825890440718,
          -0.2586942384250054,
          -1.1822047310215698,
          -0.7668621938093012,
          0.16260199826039162,
          -0.09931253373823028,
          -0.08092746615191286,
          -0.20277833052264038,
          0.2359661276767108,
          -1.0552832205083178,
          -1.0736684827535101,
          1.784179172173497,
          -0.7790597148297769,
          0.32343402702051244,
          -0.16924425041690172,
          0.6630700536431359,
          -1.0039576064353046,
          -0.9435030034103241,
          -0.5290232460448169,
          0.6835359923302197,
          -0.702806914451176,
          1.1489346413496178,
          2.0788187651310945,
          0.06550548107752338,
          0.4722262637519014,
          -0.4349686402153224,
          1.3829089676360604,
          -1.6202804762309257,
          -0.22377563808704218,
          -1.5299244176176388,
          1.353954906478887,
          -1.3893374560698426,
          0.32525442502010615,
          0.616410318419713,
          -1.6647326211126063,
          -1.046207963235596,
          1.3856257209977199,
          -0.4451796457350623,
          0.8817781193226517,
          -0.3766409683986692,
          -1.3624244460816255,
          2.312277355326506,
          -1.1802234454149356,
          0.2172895716657932,
          1.0630724292373221,
          0.17504094074453513,
          -0.03192945139517454,
          -0.7112178442185724,
          -0.7806039652950968,
          -1.0007269638007035,
          -0.5828470704060571
         ],
         "yaxis": "y15"
        },
        {
         "histfunc": "count",
         "histnorm": "",
         "marker": {
          "color": "rgba(128, 0, 128, 1.0)",
          "line": {
           "color": "#4D5663",
           "width": 1.3
          }
         },
         "name": "D",
         "nbinsx": 10,
         "opacity": 0.8,
         "orientation": "v",
         "type": "histogram",
         "x": [
          -0.4103104538548829,
          -0.333734732060692,
          -0.7249999454796346,
          -0.12075186624438715,
          -0.9702228237202677,
          -0.4184563513631616,
          -0.8130953552812726,
          -1.070368211863948,
          0.9128122466326866,
          -0.5376006658015672,
          -1.841641920831229,
          -0.021698430731425182,
          -1.222794919048431,
          0.35958413692086305,
          -1.8470224783340559,
          -0.3650599729439193,
          1.31878607504766,
          2.507340775170648,
          -0.4561208585900866,
          -0.8047272454906428,
          -0.9559197397423289,
          -0.5068998849581509,
          -0.25307716519577905,
          -1.27148336694633,
          -1.0816751073569362,
          -0.8054584860614372,
          0.706461609907511,
          0.974118086445685,
          -0.10017039553463598,
          -0.914780942447579,
          1.015919094342769,
          -0.25966822399211303,
          0.34889234956949616,
          -1.2292438175622884,
          0.3834021421904984,
          1.316869079413164,
          -0.7352352723825953,
          -1.972516516260567,
          -0.9085118921654491,
          0.9329586987495015,
          1.683204649059652,
          0.09013890257122327,
          -0.3373355375224495,
          -0.5540672145916483,
          1.5804141593421892,
          0.8042210936260737,
          0.6965998388250881,
          -3.147066036074273,
          0.0019682458700349204,
          -1.596825890440718,
          -0.2586942384250054,
          -1.1822047310215698,
          -0.7668621938093012,
          0.16260199826039162,
          -0.09931253373823028,
          -0.08092746615191286,
          -0.20277833052264038,
          0.2359661276767108,
          -1.0552832205083178,
          -1.0736684827535101,
          1.784179172173497,
          -0.7790597148297769,
          0.32343402702051244,
          -0.16924425041690172,
          0.6630700536431359,
          -1.0039576064353046,
          -0.9435030034103241,
          -0.5290232460448169,
          0.6835359923302197,
          -0.702806914451176,
          1.1489346413496178,
          2.0788187651310945,
          0.06550548107752338,
          0.4722262637519014,
          -0.4349686402153224,
          1.3829089676360604,
          -1.6202804762309257,
          -0.22377563808704218,
          -1.5299244176176388,
          1.353954906478887,
          -1.3893374560698426,
          0.32525442502010615,
          0.616410318419713,
          -1.6647326211126063,
          -1.046207963235596,
          1.3856257209977199,
          -0.4451796457350623,
          0.8817781193226517,
          -0.3766409683986692,
          -1.3624244460816255,
          2.312277355326506,
          -1.1802234454149356,
          0.2172895716657932,
          1.0630724292373221,
          0.17504094074453513,
          -0.03192945139517454,
          -0.7112178442185724,
          -0.7806039652950968,
          -1.0007269638007035,
          -0.5828470704060571
         ],
         "xaxis": "x16",
         "yaxis": "y16"
        }
       ],
       "layout": {
        "bargap": 0.02,
        "legend": {
         "bgcolor": "#F5F6F9",
         "font": {
          "color": "#4D5663"
         }
        },
        "paper_bgcolor": "#F5F6F9",
        "plot_bgcolor": "#F5F6F9",
        "showlegend": false,
        "template": {
         "data": {
          "bar": [
           {
            "error_x": {
             "color": "#2a3f5f"
            },
            "error_y": {
             "color": "#2a3f5f"
            },
            "marker": {
             "line": {
              "color": "#E5ECF6",
              "width": 0.5
             },
             "pattern": {
              "fillmode": "overlay",
              "size": 10,
              "solidity": 0.2
             }
            },
            "type": "bar"
           }
          ],
          "barpolar": [
           {
            "marker": {
             "line": {
              "color": "#E5ECF6",
              "width": 0.5
             },
             "pattern": {
              "fillmode": "overlay",
              "size": 10,
              "solidity": 0.2
             }
            },
            "type": "barpolar"
           }
          ],
          "carpet": [
           {
            "aaxis": {
             "endlinecolor": "#2a3f5f",
             "gridcolor": "white",
             "linecolor": "white",
             "minorgridcolor": "white",
             "startlinecolor": "#2a3f5f"
            },
            "baxis": {
             "endlinecolor": "#2a3f5f",
             "gridcolor": "white",
             "linecolor": "white",
             "minorgridcolor": "white",
             "startlinecolor": "#2a3f5f"
            },
            "type": "carpet"
           }
          ],
          "choropleth": [
           {
            "colorbar": {
             "outlinewidth": 0,
             "ticks": ""
            },
            "type": "choropleth"
           }
          ],
          "contour": [
           {
            "colorbar": {
             "outlinewidth": 0,
             "ticks": ""
            },
            "colorscale": [
             [
              0,
              "#0d0887"
             ],
             [
              0.1111111111111111,
              "#46039f"
             ],
             [
              0.2222222222222222,
              "#7201a8"
             ],
             [
              0.3333333333333333,
              "#9c179e"
             ],
             [
              0.4444444444444444,
              "#bd3786"
             ],
             [
              0.5555555555555556,
              "#d8576b"
             ],
             [
              0.6666666666666666,
              "#ed7953"
             ],
             [
              0.7777777777777778,
              "#fb9f3a"
             ],
             [
              0.8888888888888888,
              "#fdca26"
             ],
             [
              1,
              "#f0f921"
             ]
            ],
            "type": "contour"
           }
          ],
          "contourcarpet": [
           {
            "colorbar": {
             "outlinewidth": 0,
             "ticks": ""
            },
            "type": "contourcarpet"
           }
          ],
          "heatmap": [
           {
            "colorbar": {
             "outlinewidth": 0,
             "ticks": ""
            },
            "colorscale": [
             [
              0,
              "#0d0887"
             ],
             [
              0.1111111111111111,
              "#46039f"
             ],
             [
              0.2222222222222222,
              "#7201a8"
             ],
             [
              0.3333333333333333,
              "#9c179e"
             ],
             [
              0.4444444444444444,
              "#bd3786"
             ],
             [
              0.5555555555555556,
              "#d8576b"
             ],
             [
              0.6666666666666666,
              "#ed7953"
             ],
             [
              0.7777777777777778,
              "#fb9f3a"
             ],
             [
              0.8888888888888888,
              "#fdca26"
             ],
             [
              1,
              "#f0f921"
             ]
            ],
            "type": "heatmap"
           }
          ],
          "heatmapgl": [
           {
            "colorbar": {
             "outlinewidth": 0,
             "ticks": ""
            },
            "colorscale": [
             [
              0,
              "#0d0887"
             ],
             [
              0.1111111111111111,
              "#46039f"
             ],
             [
              0.2222222222222222,
              "#7201a8"
             ],
             [
              0.3333333333333333,
              "#9c179e"
             ],
             [
              0.4444444444444444,
              "#bd3786"
             ],
             [
              0.5555555555555556,
              "#d8576b"
             ],
             [
              0.6666666666666666,
              "#ed7953"
             ],
             [
              0.7777777777777778,
              "#fb9f3a"
             ],
             [
              0.8888888888888888,
              "#fdca26"
             ],
             [
              1,
              "#f0f921"
             ]
            ],
            "type": "heatmapgl"
           }
          ],
          "histogram": [
           {
            "marker": {
             "pattern": {
              "fillmode": "overlay",
              "size": 10,
              "solidity": 0.2
             }
            },
            "type": "histogram"
           }
          ],
          "histogram2d": [
           {
            "colorbar": {
             "outlinewidth": 0,
             "ticks": ""
            },
            "colorscale": [
             [
              0,
              "#0d0887"
             ],
             [
              0.1111111111111111,
              "#46039f"
             ],
             [
              0.2222222222222222,
              "#7201a8"
             ],
             [
              0.3333333333333333,
              "#9c179e"
             ],
             [
              0.4444444444444444,
              "#bd3786"
             ],
             [
              0.5555555555555556,
              "#d8576b"
             ],
             [
              0.6666666666666666,
              "#ed7953"
             ],
             [
              0.7777777777777778,
              "#fb9f3a"
             ],
             [
              0.8888888888888888,
              "#fdca26"
             ],
             [
              1,
              "#f0f921"
             ]
            ],
            "type": "histogram2d"
           }
          ],
          "histogram2dcontour": [
           {
            "colorbar": {
             "outlinewidth": 0,
             "ticks": ""
            },
            "colorscale": [
             [
              0,
              "#0d0887"
             ],
             [
              0.1111111111111111,
              "#46039f"
             ],
             [
              0.2222222222222222,
              "#7201a8"
             ],
             [
              0.3333333333333333,
              "#9c179e"
             ],
             [
              0.4444444444444444,
              "#bd3786"
             ],
             [
              0.5555555555555556,
              "#d8576b"
             ],
             [
              0.6666666666666666,
              "#ed7953"
             ],
             [
              0.7777777777777778,
              "#fb9f3a"
             ],
             [
              0.8888888888888888,
              "#fdca26"
             ],
             [
              1,
              "#f0f921"
             ]
            ],
            "type": "histogram2dcontour"
           }
          ],
          "mesh3d": [
           {
            "colorbar": {
             "outlinewidth": 0,
             "ticks": ""
            },
            "type": "mesh3d"
           }
          ],
          "parcoords": [
           {
            "line": {
             "colorbar": {
              "outlinewidth": 0,
              "ticks": ""
             }
            },
            "type": "parcoords"
           }
          ],
          "pie": [
           {
            "automargin": true,
            "type": "pie"
           }
          ],
          "scatter": [
           {
            "fillpattern": {
             "fillmode": "overlay",
             "size": 10,
             "solidity": 0.2
            },
            "type": "scatter"
           }
          ],
          "scatter3d": [
           {
            "line": {
             "colorbar": {
              "outlinewidth": 0,
              "ticks": ""
             }
            },
            "marker": {
             "colorbar": {
              "outlinewidth": 0,
              "ticks": ""
             }
            },
            "type": "scatter3d"
           }
          ],
          "scattercarpet": [
           {
            "marker": {
             "colorbar": {
              "outlinewidth": 0,
              "ticks": ""
             }
            },
            "type": "scattercarpet"
           }
          ],
          "scattergeo": [
           {
            "marker": {
             "colorbar": {
              "outlinewidth": 0,
              "ticks": ""
             }
            },
            "type": "scattergeo"
           }
          ],
          "scattergl": [
           {
            "marker": {
             "colorbar": {
              "outlinewidth": 0,
              "ticks": ""
             }
            },
            "type": "scattergl"
           }
          ],
          "scattermapbox": [
           {
            "marker": {
             "colorbar": {
              "outlinewidth": 0,
              "ticks": ""
             }
            },
            "type": "scattermapbox"
           }
          ],
          "scatterpolar": [
           {
            "marker": {
             "colorbar": {
              "outlinewidth": 0,
              "ticks": ""
             }
            },
            "type": "scatterpolar"
           }
          ],
          "scatterpolargl": [
           {
            "marker": {
             "colorbar": {
              "outlinewidth": 0,
              "ticks": ""
             }
            },
            "type": "scatterpolargl"
           }
          ],
          "scatterternary": [
           {
            "marker": {
             "colorbar": {
              "outlinewidth": 0,
              "ticks": ""
             }
            },
            "type": "scatterternary"
           }
          ],
          "surface": [
           {
            "colorbar": {
             "outlinewidth": 0,
             "ticks": ""
            },
            "colorscale": [
             [
              0,
              "#0d0887"
             ],
             [
              0.1111111111111111,
              "#46039f"
             ],
             [
              0.2222222222222222,
              "#7201a8"
             ],
             [
              0.3333333333333333,
              "#9c179e"
             ],
             [
              0.4444444444444444,
              "#bd3786"
             ],
             [
              0.5555555555555556,
              "#d8576b"
             ],
             [
              0.6666666666666666,
              "#ed7953"
             ],
             [
              0.7777777777777778,
              "#fb9f3a"
             ],
             [
              0.8888888888888888,
              "#fdca26"
             ],
             [
              1,
              "#f0f921"
             ]
            ],
            "type": "surface"
           }
          ],
          "table": [
           {
            "cells": {
             "fill": {
              "color": "#EBF0F8"
             },
             "line": {
              "color": "white"
             }
            },
            "header": {
             "fill": {
              "color": "#C8D4E3"
             },
             "line": {
              "color": "white"
             }
            },
            "type": "table"
           }
          ]
         },
         "layout": {
          "annotationdefaults": {
           "arrowcolor": "#2a3f5f",
           "arrowhead": 0,
           "arrowwidth": 1
          },
          "autotypenumbers": "strict",
          "coloraxis": {
           "colorbar": {
            "outlinewidth": 0,
            "ticks": ""
           }
          },
          "colorscale": {
           "diverging": [
            [
             0,
             "#8e0152"
            ],
            [
             0.1,
             "#c51b7d"
            ],
            [
             0.2,
             "#de77ae"
            ],
            [
             0.3,
             "#f1b6da"
            ],
            [
             0.4,
             "#fde0ef"
            ],
            [
             0.5,
             "#f7f7f7"
            ],
            [
             0.6,
             "#e6f5d0"
            ],
            [
             0.7,
             "#b8e186"
            ],
            [
             0.8,
             "#7fbc41"
            ],
            [
             0.9,
             "#4d9221"
            ],
            [
             1,
             "#276419"
            ]
           ],
           "sequential": [
            [
             0,
             "#0d0887"
            ],
            [
             0.1111111111111111,
             "#46039f"
            ],
            [
             0.2222222222222222,
             "#7201a8"
            ],
            [
             0.3333333333333333,
             "#9c179e"
            ],
            [
             0.4444444444444444,
             "#bd3786"
            ],
            [
             0.5555555555555556,
             "#d8576b"
            ],
            [
             0.6666666666666666,
             "#ed7953"
            ],
            [
             0.7777777777777778,
             "#fb9f3a"
            ],
            [
             0.8888888888888888,
             "#fdca26"
            ],
            [
             1,
             "#f0f921"
            ]
           ],
           "sequentialminus": [
            [
             0,
             "#0d0887"
            ],
            [
             0.1111111111111111,
             "#46039f"
            ],
            [
             0.2222222222222222,
             "#7201a8"
            ],
            [
             0.3333333333333333,
             "#9c179e"
            ],
            [
             0.4444444444444444,
             "#bd3786"
            ],
            [
             0.5555555555555556,
             "#d8576b"
            ],
            [
             0.6666666666666666,
             "#ed7953"
            ],
            [
             0.7777777777777778,
             "#fb9f3a"
            ],
            [
             0.8888888888888888,
             "#fdca26"
            ],
            [
             1,
             "#f0f921"
            ]
           ]
          },
          "colorway": [
           "#636efa",
           "#EF553B",
           "#00cc96",
           "#ab63fa",
           "#FFA15A",
           "#19d3f3",
           "#FF6692",
           "#B6E880",
           "#FF97FF",
           "#FECB52"
          ],
          "font": {
           "color": "#2a3f5f"
          },
          "geo": {
           "bgcolor": "white",
           "lakecolor": "white",
           "landcolor": "#E5ECF6",
           "showlakes": true,
           "showland": true,
           "subunitcolor": "white"
          },
          "hoverlabel": {
           "align": "left"
          },
          "hovermode": "closest",
          "mapbox": {
           "style": "light"
          },
          "paper_bgcolor": "white",
          "plot_bgcolor": "#E5ECF6",
          "polar": {
           "angularaxis": {
            "gridcolor": "white",
            "linecolor": "white",
            "ticks": ""
           },
           "bgcolor": "#E5ECF6",
           "radialaxis": {
            "gridcolor": "white",
            "linecolor": "white",
            "ticks": ""
           }
          },
          "scene": {
           "xaxis": {
            "backgroundcolor": "#E5ECF6",
            "gridcolor": "white",
            "gridwidth": 2,
            "linecolor": "white",
            "showbackground": true,
            "ticks": "",
            "zerolinecolor": "white"
           },
           "yaxis": {
            "backgroundcolor": "#E5ECF6",
            "gridcolor": "white",
            "gridwidth": 2,
            "linecolor": "white",
            "showbackground": true,
            "ticks": "",
            "zerolinecolor": "white"
           },
           "zaxis": {
            "backgroundcolor": "#E5ECF6",
            "gridcolor": "white",
            "gridwidth": 2,
            "linecolor": "white",
            "showbackground": true,
            "ticks": "",
            "zerolinecolor": "white"
           }
          },
          "shapedefaults": {
           "line": {
            "color": "#2a3f5f"
           }
          },
          "ternary": {
           "aaxis": {
            "gridcolor": "white",
            "linecolor": "white",
            "ticks": ""
           },
           "baxis": {
            "gridcolor": "white",
            "linecolor": "white",
            "ticks": ""
           },
           "bgcolor": "#E5ECF6",
           "caxis": {
            "gridcolor": "white",
            "linecolor": "white",
            "ticks": ""
           }
          },
          "title": {
           "x": 0.05
          },
          "xaxis": {
           "automargin": true,
           "gridcolor": "white",
           "linecolor": "white",
           "ticks": "",
           "title": {
            "standoff": 15
           },
           "zerolinecolor": "white",
           "zerolinewidth": 2
          },
          "yaxis": {
           "automargin": true,
           "gridcolor": "white",
           "linecolor": "white",
           "ticks": "",
           "title": {
            "standoff": 15
           },
           "zerolinecolor": "white",
           "zerolinewidth": 2
          }
         }
        },
        "title": {
         "font": {
          "color": "#4D5663"
         }
        },
        "xaxis": {
         "anchor": "y",
         "domain": [
          0,
          0.2125
         ],
         "gridcolor": "#E1E5ED",
         "showgrid": false,
         "tickfont": {
          "color": "#4D5663"
         },
         "title": {
          "font": {
           "color": "#4D5663"
          },
          "text": ""
         },
         "zerolinecolor": "#E1E5ED"
        },
        "xaxis10": {
         "anchor": "y10",
         "domain": [
          0.2625,
          0.475
         ],
         "gridcolor": "#E1E5ED",
         "showgrid": false,
         "tickfont": {
          "color": "#4D5663"
         },
         "title": {
          "font": {
           "color": "#4D5663"
          },
          "text": ""
         },
         "zerolinecolor": "#E1E5ED"
        },
        "xaxis11": {
         "anchor": "y11",
         "domain": [
          0.525,
          0.7375
         ],
         "gridcolor": "#E1E5ED",
         "showgrid": false,
         "tickfont": {
          "color": "#4D5663"
         },
         "title": {
          "font": {
           "color": "#4D5663"
          },
          "text": ""
         },
         "zerolinecolor": "#E1E5ED"
        },
        "xaxis12": {
         "anchor": "y12",
         "domain": [
          0.7875,
          1
         ],
         "gridcolor": "#E1E5ED",
         "showgrid": false,
         "tickfont": {
          "color": "#4D5663"
         },
         "title": {
          "font": {
           "color": "#4D5663"
          },
          "text": ""
         },
         "zerolinecolor": "#E1E5ED"
        },
        "xaxis13": {
         "anchor": "y13",
         "domain": [
          0,
          0.2125
         ],
         "gridcolor": "#E1E5ED",
         "showgrid": false,
         "tickfont": {
          "color": "#4D5663"
         },
         "title": {
          "font": {
           "color": "#4D5663"
          },
          "text": ""
         },
         "zerolinecolor": "#E1E5ED"
        },
        "xaxis14": {
         "anchor": "y14",
         "domain": [
          0.2625,
          0.475
         ],
         "gridcolor": "#E1E5ED",
         "showgrid": false,
         "tickfont": {
          "color": "#4D5663"
         },
         "title": {
          "font": {
           "color": "#4D5663"
          },
          "text": ""
         },
         "zerolinecolor": "#E1E5ED"
        },
        "xaxis15": {
         "anchor": "y15",
         "domain": [
          0.525,
          0.7375
         ],
         "gridcolor": "#E1E5ED",
         "showgrid": false,
         "tickfont": {
          "color": "#4D5663"
         },
         "title": {
          "font": {
           "color": "#4D5663"
          },
          "text": ""
         },
         "zerolinecolor": "#E1E5ED"
        },
        "xaxis16": {
         "anchor": "y16",
         "domain": [
          0.7875,
          1
         ],
         "gridcolor": "#E1E5ED",
         "showgrid": false,
         "tickfont": {
          "color": "#4D5663"
         },
         "title": {
          "font": {
           "color": "#4D5663"
          },
          "text": ""
         },
         "zerolinecolor": "#E1E5ED"
        },
        "xaxis2": {
         "anchor": "y2",
         "domain": [
          0.2625,
          0.475
         ],
         "gridcolor": "#E1E5ED",
         "showgrid": false,
         "tickfont": {
          "color": "#4D5663"
         },
         "title": {
          "font": {
           "color": "#4D5663"
          },
          "text": ""
         },
         "zerolinecolor": "#E1E5ED"
        },
        "xaxis3": {
         "anchor": "y3",
         "domain": [
          0.525,
          0.7375
         ],
         "gridcolor": "#E1E5ED",
         "showgrid": false,
         "tickfont": {
          "color": "#4D5663"
         },
         "title": {
          "font": {
           "color": "#4D5663"
          },
          "text": ""
         },
         "zerolinecolor": "#E1E5ED"
        },
        "xaxis4": {
         "anchor": "y4",
         "domain": [
          0.7875,
          1
         ],
         "gridcolor": "#E1E5ED",
         "showgrid": false,
         "tickfont": {
          "color": "#4D5663"
         },
         "title": {
          "font": {
           "color": "#4D5663"
          },
          "text": ""
         },
         "zerolinecolor": "#E1E5ED"
        },
        "xaxis5": {
         "anchor": "y5",
         "domain": [
          0,
          0.2125
         ],
         "gridcolor": "#E1E5ED",
         "showgrid": false,
         "tickfont": {
          "color": "#4D5663"
         },
         "title": {
          "font": {
           "color": "#4D5663"
          },
          "text": ""
         },
         "zerolinecolor": "#E1E5ED"
        },
        "xaxis6": {
         "anchor": "y6",
         "domain": [
          0.2625,
          0.475
         ],
         "gridcolor": "#E1E5ED",
         "showgrid": false,
         "tickfont": {
          "color": "#4D5663"
         },
         "title": {
          "font": {
           "color": "#4D5663"
          },
          "text": ""
         },
         "zerolinecolor": "#E1E5ED"
        },
        "xaxis7": {
         "anchor": "y7",
         "domain": [
          0.525,
          0.7375
         ],
         "gridcolor": "#E1E5ED",
         "showgrid": false,
         "tickfont": {
          "color": "#4D5663"
         },
         "title": {
          "font": {
           "color": "#4D5663"
          },
          "text": ""
         },
         "zerolinecolor": "#E1E5ED"
        },
        "xaxis8": {
         "anchor": "y8",
         "domain": [
          0.7875,
          1
         ],
         "gridcolor": "#E1E5ED",
         "showgrid": false,
         "tickfont": {
          "color": "#4D5663"
         },
         "title": {
          "font": {
           "color": "#4D5663"
          },
          "text": ""
         },
         "zerolinecolor": "#E1E5ED"
        },
        "xaxis9": {
         "anchor": "y9",
         "domain": [
          0,
          0.2125
         ],
         "gridcolor": "#E1E5ED",
         "showgrid": false,
         "tickfont": {
          "color": "#4D5663"
         },
         "title": {
          "font": {
           "color": "#4D5663"
          },
          "text": ""
         },
         "zerolinecolor": "#E1E5ED"
        },
        "yaxis": {
         "anchor": "x",
         "domain": [
          0.8025,
          1
         ],
         "gridcolor": "#E1E5ED",
         "showgrid": false,
         "tickfont": {
          "color": "#4D5663"
         },
         "title": {
          "font": {
           "color": "#4D5663"
          },
          "text": ""
         },
         "zerolinecolor": "#E1E5ED"
        },
        "yaxis10": {
         "anchor": "x10",
         "domain": [
          0.2675,
          0.465
         ],
         "gridcolor": "#E1E5ED",
         "showgrid": false,
         "tickfont": {
          "color": "#4D5663"
         },
         "title": {
          "font": {
           "color": "#4D5663"
          },
          "text": ""
         },
         "zerolinecolor": "#E1E5ED"
        },
        "yaxis11": {
         "anchor": "x11",
         "domain": [
          0.2675,
          0.465
         ],
         "gridcolor": "#E1E5ED",
         "showgrid": false,
         "tickfont": {
          "color": "#4D5663"
         },
         "title": {
          "font": {
           "color": "#4D5663"
          },
          "text": ""
         },
         "zerolinecolor": "#E1E5ED"
        },
        "yaxis12": {
         "anchor": "x12",
         "domain": [
          0.2675,
          0.465
         ],
         "gridcolor": "#E1E5ED",
         "showgrid": false,
         "tickfont": {
          "color": "#4D5663"
         },
         "title": {
          "font": {
           "color": "#4D5663"
          },
          "text": ""
         },
         "zerolinecolor": "#E1E5ED"
        },
        "yaxis13": {
         "anchor": "x13",
         "domain": [
          0,
          0.1975
         ],
         "gridcolor": "#E1E5ED",
         "showgrid": false,
         "tickfont": {
          "color": "#4D5663"
         },
         "title": {
          "font": {
           "color": "#4D5663"
          },
          "text": ""
         },
         "zerolinecolor": "#E1E5ED"
        },
        "yaxis14": {
         "anchor": "x14",
         "domain": [
          0,
          0.1975
         ],
         "gridcolor": "#E1E5ED",
         "showgrid": false,
         "tickfont": {
          "color": "#4D5663"
         },
         "title": {
          "font": {
           "color": "#4D5663"
          },
          "text": ""
         },
         "zerolinecolor": "#E1E5ED"
        },
        "yaxis15": {
         "anchor": "x15",
         "domain": [
          0,
          0.1975
         ],
         "gridcolor": "#E1E5ED",
         "showgrid": false,
         "tickfont": {
          "color": "#4D5663"
         },
         "title": {
          "font": {
           "color": "#4D5663"
          },
          "text": ""
         },
         "zerolinecolor": "#E1E5ED"
        },
        "yaxis16": {
         "anchor": "x16",
         "domain": [
          0,
          0.1975
         ],
         "gridcolor": "#E1E5ED",
         "showgrid": false,
         "tickfont": {
          "color": "#4D5663"
         },
         "title": {
          "font": {
           "color": "#4D5663"
          },
          "text": ""
         },
         "zerolinecolor": "#E1E5ED"
        },
        "yaxis2": {
         "anchor": "x2",
         "domain": [
          0.8025,
          1
         ],
         "gridcolor": "#E1E5ED",
         "showgrid": false,
         "tickfont": {
          "color": "#4D5663"
         },
         "title": {
          "font": {
           "color": "#4D5663"
          },
          "text": ""
         },
         "zerolinecolor": "#E1E5ED"
        },
        "yaxis3": {
         "anchor": "x3",
         "domain": [
          0.8025,
          1
         ],
         "gridcolor": "#E1E5ED",
         "showgrid": false,
         "tickfont": {
          "color": "#4D5663"
         },
         "title": {
          "font": {
           "color": "#4D5663"
          },
          "text": ""
         },
         "zerolinecolor": "#E1E5ED"
        },
        "yaxis4": {
         "anchor": "x4",
         "domain": [
          0.8025,
          1
         ],
         "gridcolor": "#E1E5ED",
         "showgrid": false,
         "tickfont": {
          "color": "#4D5663"
         },
         "title": {
          "font": {
           "color": "#4D5663"
          },
          "text": ""
         },
         "zerolinecolor": "#E1E5ED"
        },
        "yaxis5": {
         "anchor": "x5",
         "domain": [
          0.535,
          0.7325
         ],
         "gridcolor": "#E1E5ED",
         "showgrid": false,
         "tickfont": {
          "color": "#4D5663"
         },
         "title": {
          "font": {
           "color": "#4D5663"
          },
          "text": ""
         },
         "zerolinecolor": "#E1E5ED"
        },
        "yaxis6": {
         "anchor": "x6",
         "domain": [
          0.535,
          0.7325
         ],
         "gridcolor": "#E1E5ED",
         "showgrid": false,
         "tickfont": {
          "color": "#4D5663"
         },
         "title": {
          "font": {
           "color": "#4D5663"
          },
          "text": ""
         },
         "zerolinecolor": "#E1E5ED"
        },
        "yaxis7": {
         "anchor": "x7",
         "domain": [
          0.535,
          0.7325
         ],
         "gridcolor": "#E1E5ED",
         "showgrid": false,
         "tickfont": {
          "color": "#4D5663"
         },
         "title": {
          "font": {
           "color": "#4D5663"
          },
          "text": ""
         },
         "zerolinecolor": "#E1E5ED"
        },
        "yaxis8": {
         "anchor": "x8",
         "domain": [
          0.535,
          0.7325
         ],
         "gridcolor": "#E1E5ED",
         "showgrid": false,
         "tickfont": {
          "color": "#4D5663"
         },
         "title": {
          "font": {
           "color": "#4D5663"
          },
          "text": ""
         },
         "zerolinecolor": "#E1E5ED"
        },
        "yaxis9": {
         "anchor": "x9",
         "domain": [
          0.2675,
          0.465
         ],
         "gridcolor": "#E1E5ED",
         "showgrid": false,
         "tickfont": {
          "color": "#4D5663"
         },
         "title": {
          "font": {
           "color": "#4D5663"
          },
          "text": ""
         },
         "zerolinecolor": "#E1E5ED"
        }
       }
      },
      "text/html": [
       "<div>                            <div id=\"470eebef-5e31-483f-bf0d-e9897580b83a\" class=\"plotly-graph-div\" style=\"height:525px; width:100%;\"></div>            <script type=\"text/javascript\">                require([\"plotly\"], function(Plotly) {                    window.PLOTLYENV=window.PLOTLYENV || {};\n",
       "                    window.PLOTLYENV.BASE_URL='https://plot.ly';                                    if (document.getElementById(\"470eebef-5e31-483f-bf0d-e9897580b83a\")) {                    Plotly.newPlot(                        \"470eebef-5e31-483f-bf0d-e9897580b83a\",                        [{\"histfunc\":\"count\",\"histnorm\":\"\",\"marker\":{\"color\":\"rgba(255, 153, 51, 1.0)\",\"line\":{\"color\":\"#4D5663\",\"width\":1.3}},\"name\":\"A\",\"nbinsx\":10,\"opacity\":0.8,\"orientation\":\"v\",\"x\":[-0.34120759272223433,0.5319968935053704,-2.450455488118163,-1.2456715548083472,1.5209640716102542,-0.0049272852738787625,1.0985475472016015,0.6773710522533647,1.3607142958212726,0.07711242446398583,0.29079341587599095,-0.43367282563883897,0.06753015159812732,-0.614125917644946,1.709868882712002,-0.5083695153972636,0.8304776785532717,1.5520601876707454,-0.3222961640789218,-1.977901874814474,1.3606452503009314,-0.06010963701062323,-0.29577165906393466,1.1022486760316241,1.0178363788213247,-0.16442359229547276,-1.112695636415679,-0.1270802957928152,1.007890170700006,1.4524421801030634,0.8296522843963062,1.0532618501781965,0.6795082735205985,-2.0221482750492252,1.1461514030298305,0.06140342823868589,-0.13708816055394313,-0.7651459419975741,0.7096138267240532,-0.5667400030206438,-1.1516645799042164,-0.7686303875696663,-1.2446233678971257,-1.2812299231096487,0.012725410380528336,-1.748983001114331,0.3983896418002656,-1.7455224885371137,0.5245636491056316,0.3304388918863971,-1.2147105369960398,-0.7984194519889587,0.29731511377892034,1.405402979776943,-1.619812830345721,1.2811861693543742,-1.4539006003318269,-0.38631762914312007,-0.03712563436194027,-0.05812227019037334,0.6245645987974078,-0.3951156093367975,-2.0161901747549456,-0.8956798469753015,-0.4370140644033481,-0.47276981141969854,-0.2854548890731237,0.41838971907076516,0.45133415609646577,0.11713657133354452,-1.325159071044354,0.11202376189144415,-0.5249627092180661,-0.3039374941801457,-0.8324933320883989,-0.9722317483126025,-0.9724144691955017,-0.1836356643644105,-0.019578188435622406,-1.724204841009576,1.1651900890724414,0.4587265805469331,-0.4269940736068984,0.5177334206115901,-1.489836025046481,0.2245692761053648,0.07659364207849126,0.5651885751515057,-0.7321710513842877,-0.6919190329872751,-0.608863992546054,1.5946083343083195,1.1696186036170675,3.408773057810497,0.7607021874075978,0.4911325983640859,0.2541815539119816,-0.36709667595476897,-0.4014232037425139,-3.5374312704476396],\"xaxis\":\"x\",\"yaxis\":\"y\",\"type\":\"histogram\"},{\"line\":{\"color\":\"rgba(128, 128, 128, 1.0)\",\"dash\":\"solid\",\"shape\":\"linear\",\"width\":1.3},\"marker\":{\"size\":2,\"symbol\":\"circle\"},\"mode\":\"markers\",\"name\":\"A\",\"text\":\"\",\"x\":[-0.1900973688397165,-0.3885684197362916,-0.8243907823378489,-0.34426573550469863,-0.7626995434404207,1.048395759001549,-0.6777940482446037,0.48805974008760755,-0.8657238553940302,-1.0882723358497837,0.4935583948718675,0.6182601714481422,1.076153033939917,-1.5275925690188878,0.11136087864535325,-0.03044574885719981,1.0911851333068108,-1.9085340262220345,0.46707220029218444,-0.49162188861230577,0.2877384567818682,-0.7823599322251517,0.8856691326164089,-1.5296573349468923,1.1753557301216002,-0.9701383706040404,0.22639557889842796,0.07959265795089271,-0.600017743474129,0.7756064831698299,-0.024756147151807524,0.2403527999954404,0.6859012737106033,-0.037355532168663004,0.3717754255978988,-0.3919203744324361,1.3989115743370044,0.2630122570447996,-0.3661137393198716,0.5471467735292461,-1.324642349339428,0.11102380481679991,-2.075535494176627,-0.6382404975762375,-2.431797406032161,1.6332158939212884,-0.09197085112428421,1.096049833938106,-1.5665098795579453,0.7553824116210116,0.27913582420989463,0.5849420797340267,-1.4403775974022306,0.13935913692345353,-0.44404066805046516,0.7385428641964557,-1.0332904032432841,-0.35396806719374563,0.7722679906037915,-0.37027214771386874,1.7005243008160968,0.7471972464198535,-0.11815451440255341,0.07430273329491482,0.4416672561505827,-1.274908033954568,0.1429012656245399,0.6978793081267491,1.671557457121776,-0.3759987962182951,-0.7463195842669548,-0.22005038550342224,0.46823691228267017,1.4855727847467244,-1.3957646201898561,-1.4884209880380301,-0.4763819880346412,-0.578184560559735,0.6961651030678019,1.7259166311829497,-0.8252362073213497,1.1438609706293845,-1.2404930633441245,-1.1368471840189844,0.5887204356027591,0.2335619414877631,1.9745688477403562,1.3279686184388286,0.42260923836531145,0.10254556518247043,0.9658870494782116,-2.0148036419525,0.2596301436019747,-0.06635611816136357,-1.302025346364487,-1.2272680873133386,0.5198072029053998,0.8388417678839464,-0.16665292552917554,0.9173799937169625],\"xaxis\":\"x2\",\"y\":[-0.34120759272223433,0.5319968935053704,-2.450455488118163,-1.2456715548083472,1.5209640716102542,-0.0049272852738787625,1.0985475472016015,0.6773710522533647,1.3607142958212726,0.07711242446398583,0.29079341587599095,-0.43367282563883897,0.06753015159812732,-0.614125917644946,1.709868882712002,-0.5083695153972636,0.8304776785532717,1.5520601876707454,-0.3222961640789218,-1.977901874814474,1.3606452503009314,-0.06010963701062323,-0.29577165906393466,1.1022486760316241,1.0178363788213247,-0.16442359229547276,-1.112695636415679,-0.1270802957928152,1.007890170700006,1.4524421801030634,0.8296522843963062,1.0532618501781965,0.6795082735205985,-2.0221482750492252,1.1461514030298305,0.06140342823868589,-0.13708816055394313,-0.7651459419975741,0.7096138267240532,-0.5667400030206438,-1.1516645799042164,-0.7686303875696663,-1.2446233678971257,-1.2812299231096487,0.012725410380528336,-1.748983001114331,0.3983896418002656,-1.7455224885371137,0.5245636491056316,0.3304388918863971,-1.2147105369960398,-0.7984194519889587,0.29731511377892034,1.405402979776943,-1.619812830345721,1.2811861693543742,-1.4539006003318269,-0.38631762914312007,-0.03712563436194027,-0.05812227019037334,0.6245645987974078,-0.3951156093367975,-2.0161901747549456,-0.8956798469753015,-0.4370140644033481,-0.47276981141969854,-0.2854548890731237,0.41838971907076516,0.45133415609646577,0.11713657133354452,-1.325159071044354,0.11202376189144415,-0.5249627092180661,-0.3039374941801457,-0.8324933320883989,-0.9722317483126025,-0.9724144691955017,-0.1836356643644105,-0.019578188435622406,-1.724204841009576,1.1651900890724414,0.4587265805469331,-0.4269940736068984,0.5177334206115901,-1.489836025046481,0.2245692761053648,0.07659364207849126,0.5651885751515057,-0.7321710513842877,-0.6919190329872751,-0.608863992546054,1.5946083343083195,1.1696186036170675,3.408773057810497,0.7607021874075978,0.4911325983640859,0.2541815539119816,-0.36709667595476897,-0.4014232037425139,-3.5374312704476396],\"yaxis\":\"y2\",\"type\":\"scatter\"},{\"line\":{\"color\":\"rgba(128, 128, 128, 1.0)\",\"dash\":\"solid\",\"shape\":\"linear\",\"width\":1.3},\"marker\":{\"size\":2,\"symbol\":\"circle\"},\"mode\":\"markers\",\"name\":\"A\",\"text\":\"\",\"x\":[1.9103045059110908,-0.0324766010900323,0.6747898519986482,0.5005818365646658,0.33239968159943106,-0.5059053011102334,0.6020966849444732,1.4699655049211517,1.1978975456814263,-0.6865975518884714,0.852723195013891,-0.6437507674782534,-0.8754403484121193,-0.9775154768468096,-0.8546413342436442,1.2537442619905128,-1.9045312672674817,0.2891690886155776,0.012169966037095614,0.42039855791564923,0.11943814146188779,-0.3662562134813379,0.18414472055402206,-0.45845911460225097,0.6960109196869487,-0.4485487991500414,0.7683798511340175,-1.179058799293875,-1.6431012439508441,-0.1869963005418975,-0.9437887922665755,-0.324677373437033,-0.5907019899086499,0.16492026139989754,-0.48078879856769285,0.01143673520281042,0.04503960431374931,-0.8606320112210435,1.1437459274916573,0.7088930992311374,0.7548223897350274,0.5723430657995876,-0.9168325310802138,-0.5947982012392957,-0.34723195084082425,-0.0567159159561067,0.5335021066473415,-1.0726517231911452,-0.13224619742200586,0.6170142858493078,-0.6498928991754115,-0.5702211150515724,2.4295020090482966,-1.4392668384899499,0.8617542275712754,-0.9646885280823778,1.5643528970295268,-0.4089725285242998,0.3270756006762052,-1.770341555084864,-0.22647757226224874,1.092101420347575,-1.7939279055023416,1.2566143114982407,-0.07479236452051884,-1.031532453568368,-1.156943941099765,0.27135227294525066,0.5373722152966268,-0.5546514317901003,-1.8987842579735061,0.19241697433215038,1.530485498493259,0.7228333379963006,-0.5429533538796294,1.2803714175803076,-2.306863721403007,0.7842828916206536,0.34215135124192275,-1.519151467178333,0.40424669002063457,0.07957446406931469,0.18225871645319636,-0.9957462127426185,-0.015076853568017676,0.7900297816375214,-1.646200384516348,0.05956573499105154,0.03598077324014414,0.49208716731850244,0.7165417033278323,0.6427778018277905,-0.3028173472450331,0.9464796740335952,1.0106234451776535,-0.043494628755843645,-1.3375309950242353,1.0387172543114143,-0.6225978712784589,1.0141315558367463],\"xaxis\":\"x3\",\"y\":[-0.34120759272223433,0.5319968935053704,-2.450455488118163,-1.2456715548083472,1.5209640716102542,-0.0049272852738787625,1.0985475472016015,0.6773710522533647,1.3607142958212726,0.07711242446398583,0.29079341587599095,-0.43367282563883897,0.06753015159812732,-0.614125917644946,1.709868882712002,-0.5083695153972636,0.8304776785532717,1.5520601876707454,-0.3222961640789218,-1.977901874814474,1.3606452503009314,-0.06010963701062323,-0.29577165906393466,1.1022486760316241,1.0178363788213247,-0.16442359229547276,-1.112695636415679,-0.1270802957928152,1.007890170700006,1.4524421801030634,0.8296522843963062,1.0532618501781965,0.6795082735205985,-2.0221482750492252,1.1461514030298305,0.06140342823868589,-0.13708816055394313,-0.7651459419975741,0.7096138267240532,-0.5667400030206438,-1.1516645799042164,-0.7686303875696663,-1.2446233678971257,-1.2812299231096487,0.012725410380528336,-1.748983001114331,0.3983896418002656,-1.7455224885371137,0.5245636491056316,0.3304388918863971,-1.2147105369960398,-0.7984194519889587,0.29731511377892034,1.405402979776943,-1.619812830345721,1.2811861693543742,-1.4539006003318269,-0.38631762914312007,-0.03712563436194027,-0.05812227019037334,0.6245645987974078,-0.3951156093367975,-2.0161901747549456,-0.8956798469753015,-0.4370140644033481,-0.47276981141969854,-0.2854548890731237,0.41838971907076516,0.45133415609646577,0.11713657133354452,-1.325159071044354,0.11202376189144415,-0.5249627092180661,-0.3039374941801457,-0.8324933320883989,-0.9722317483126025,-0.9724144691955017,-0.1836356643644105,-0.019578188435622406,-1.724204841009576,1.1651900890724414,0.4587265805469331,-0.4269940736068984,0.5177334206115901,-1.489836025046481,0.2245692761053648,0.07659364207849126,0.5651885751515057,-0.7321710513842877,-0.6919190329872751,-0.608863992546054,1.5946083343083195,1.1696186036170675,3.408773057810497,0.7607021874075978,0.4911325983640859,0.2541815539119816,-0.36709667595476897,-0.4014232037425139,-3.5374312704476396],\"yaxis\":\"y3\",\"type\":\"scatter\"},{\"line\":{\"color\":\"rgba(128, 128, 128, 1.0)\",\"dash\":\"solid\",\"shape\":\"linear\",\"width\":1.3},\"marker\":{\"size\":2,\"symbol\":\"circle\"},\"mode\":\"markers\",\"name\":\"A\",\"text\":\"\",\"x\":[-0.4103104538548829,-0.333734732060692,-0.7249999454796346,-0.12075186624438715,-0.9702228237202677,-0.4184563513631616,-0.8130953552812726,-1.070368211863948,0.9128122466326866,-0.5376006658015672,-1.841641920831229,-0.021698430731425182,-1.222794919048431,0.35958413692086305,-1.8470224783340559,-0.3650599729439193,1.31878607504766,2.507340775170648,-0.4561208585900866,-0.8047272454906428,-0.9559197397423289,-0.5068998849581509,-0.25307716519577905,-1.27148336694633,-1.0816751073569362,-0.8054584860614372,0.706461609907511,0.974118086445685,-0.10017039553463598,-0.914780942447579,1.015919094342769,-0.25966822399211303,0.34889234956949616,-1.2292438175622884,0.3834021421904984,1.316869079413164,-0.7352352723825953,-1.972516516260567,-0.9085118921654491,0.9329586987495015,1.683204649059652,0.09013890257122327,-0.3373355375224495,-0.5540672145916483,1.5804141593421892,0.8042210936260737,0.6965998388250881,-3.147066036074273,0.0019682458700349204,-1.596825890440718,-0.2586942384250054,-1.1822047310215698,-0.7668621938093012,0.16260199826039162,-0.09931253373823028,-0.08092746615191286,-0.20277833052264038,0.2359661276767108,-1.0552832205083178,-1.0736684827535101,1.784179172173497,-0.7790597148297769,0.32343402702051244,-0.16924425041690172,0.6630700536431359,-1.0039576064353046,-0.9435030034103241,-0.5290232460448169,0.6835359923302197,-0.702806914451176,1.1489346413496178,2.0788187651310945,0.06550548107752338,0.4722262637519014,-0.4349686402153224,1.3829089676360604,-1.6202804762309257,-0.22377563808704218,-1.5299244176176388,1.353954906478887,-1.3893374560698426,0.32525442502010615,0.616410318419713,-1.6647326211126063,-1.046207963235596,1.3856257209977199,-0.4451796457350623,0.8817781193226517,-0.3766409683986692,-1.3624244460816255,2.312277355326506,-1.1802234454149356,0.2172895716657932,1.0630724292373221,0.17504094074453513,-0.03192945139517454,-0.7112178442185724,-0.7806039652950968,-1.0007269638007035,-0.5828470704060571],\"xaxis\":\"x4\",\"y\":[-0.34120759272223433,0.5319968935053704,-2.450455488118163,-1.2456715548083472,1.5209640716102542,-0.0049272852738787625,1.0985475472016015,0.6773710522533647,1.3607142958212726,0.07711242446398583,0.29079341587599095,-0.43367282563883897,0.06753015159812732,-0.614125917644946,1.709868882712002,-0.5083695153972636,0.8304776785532717,1.5520601876707454,-0.3222961640789218,-1.977901874814474,1.3606452503009314,-0.06010963701062323,-0.29577165906393466,1.1022486760316241,1.0178363788213247,-0.16442359229547276,-1.112695636415679,-0.1270802957928152,1.007890170700006,1.4524421801030634,0.8296522843963062,1.0532618501781965,0.6795082735205985,-2.0221482750492252,1.1461514030298305,0.06140342823868589,-0.13708816055394313,-0.7651459419975741,0.7096138267240532,-0.5667400030206438,-1.1516645799042164,-0.7686303875696663,-1.2446233678971257,-1.2812299231096487,0.012725410380528336,-1.748983001114331,0.3983896418002656,-1.7455224885371137,0.5245636491056316,0.3304388918863971,-1.2147105369960398,-0.7984194519889587,0.29731511377892034,1.405402979776943,-1.619812830345721,1.2811861693543742,-1.4539006003318269,-0.38631762914312007,-0.03712563436194027,-0.05812227019037334,0.6245645987974078,-0.3951156093367975,-2.0161901747549456,-0.8956798469753015,-0.4370140644033481,-0.47276981141969854,-0.2854548890731237,0.41838971907076516,0.45133415609646577,0.11713657133354452,-1.325159071044354,0.11202376189144415,-0.5249627092180661,-0.3039374941801457,-0.8324933320883989,-0.9722317483126025,-0.9724144691955017,-0.1836356643644105,-0.019578188435622406,-1.724204841009576,1.1651900890724414,0.4587265805469331,-0.4269940736068984,0.5177334206115901,-1.489836025046481,0.2245692761053648,0.07659364207849126,0.5651885751515057,-0.7321710513842877,-0.6919190329872751,-0.608863992546054,1.5946083343083195,1.1696186036170675,3.408773057810497,0.7607021874075978,0.4911325983640859,0.2541815539119816,-0.36709667595476897,-0.4014232037425139,-3.5374312704476396],\"yaxis\":\"y4\",\"type\":\"scatter\"},{\"line\":{\"color\":\"rgba(128, 128, 128, 1.0)\",\"dash\":\"solid\",\"shape\":\"linear\",\"width\":1.3},\"marker\":{\"size\":2,\"symbol\":\"circle\"},\"mode\":\"markers\",\"name\":\"B\",\"text\":\"\",\"x\":[-0.34120759272223433,0.5319968935053704,-2.450455488118163,-1.2456715548083472,1.5209640716102542,-0.0049272852738787625,1.0985475472016015,0.6773710522533647,1.3607142958212726,0.07711242446398583,0.29079341587599095,-0.43367282563883897,0.06753015159812732,-0.614125917644946,1.709868882712002,-0.5083695153972636,0.8304776785532717,1.5520601876707454,-0.3222961640789218,-1.977901874814474,1.3606452503009314,-0.06010963701062323,-0.29577165906393466,1.1022486760316241,1.0178363788213247,-0.16442359229547276,-1.112695636415679,-0.1270802957928152,1.007890170700006,1.4524421801030634,0.8296522843963062,1.0532618501781965,0.6795082735205985,-2.0221482750492252,1.1461514030298305,0.06140342823868589,-0.13708816055394313,-0.7651459419975741,0.7096138267240532,-0.5667400030206438,-1.1516645799042164,-0.7686303875696663,-1.2446233678971257,-1.2812299231096487,0.012725410380528336,-1.748983001114331,0.3983896418002656,-1.7455224885371137,0.5245636491056316,0.3304388918863971,-1.2147105369960398,-0.7984194519889587,0.29731511377892034,1.405402979776943,-1.619812830345721,1.2811861693543742,-1.4539006003318269,-0.38631762914312007,-0.03712563436194027,-0.05812227019037334,0.6245645987974078,-0.3951156093367975,-2.0161901747549456,-0.8956798469753015,-0.4370140644033481,-0.47276981141969854,-0.2854548890731237,0.41838971907076516,0.45133415609646577,0.11713657133354452,-1.325159071044354,0.11202376189144415,-0.5249627092180661,-0.3039374941801457,-0.8324933320883989,-0.9722317483126025,-0.9724144691955017,-0.1836356643644105,-0.019578188435622406,-1.724204841009576,1.1651900890724414,0.4587265805469331,-0.4269940736068984,0.5177334206115901,-1.489836025046481,0.2245692761053648,0.07659364207849126,0.5651885751515057,-0.7321710513842877,-0.6919190329872751,-0.608863992546054,1.5946083343083195,1.1696186036170675,3.408773057810497,0.7607021874075978,0.4911325983640859,0.2541815539119816,-0.36709667595476897,-0.4014232037425139,-3.5374312704476396],\"xaxis\":\"x5\",\"y\":[-0.1900973688397165,-0.3885684197362916,-0.8243907823378489,-0.34426573550469863,-0.7626995434404207,1.048395759001549,-0.6777940482446037,0.48805974008760755,-0.8657238553940302,-1.0882723358497837,0.4935583948718675,0.6182601714481422,1.076153033939917,-1.5275925690188878,0.11136087864535325,-0.03044574885719981,1.0911851333068108,-1.9085340262220345,0.46707220029218444,-0.49162188861230577,0.2877384567818682,-0.7823599322251517,0.8856691326164089,-1.5296573349468923,1.1753557301216002,-0.9701383706040404,0.22639557889842796,0.07959265795089271,-0.600017743474129,0.7756064831698299,-0.024756147151807524,0.2403527999954404,0.6859012737106033,-0.037355532168663004,0.3717754255978988,-0.3919203744324361,1.3989115743370044,0.2630122570447996,-0.3661137393198716,0.5471467735292461,-1.324642349339428,0.11102380481679991,-2.075535494176627,-0.6382404975762375,-2.431797406032161,1.6332158939212884,-0.09197085112428421,1.096049833938106,-1.5665098795579453,0.7553824116210116,0.27913582420989463,0.5849420797340267,-1.4403775974022306,0.13935913692345353,-0.44404066805046516,0.7385428641964557,-1.0332904032432841,-0.35396806719374563,0.7722679906037915,-0.37027214771386874,1.7005243008160968,0.7471972464198535,-0.11815451440255341,0.07430273329491482,0.4416672561505827,-1.274908033954568,0.1429012656245399,0.6978793081267491,1.671557457121776,-0.3759987962182951,-0.7463195842669548,-0.22005038550342224,0.46823691228267017,1.4855727847467244,-1.3957646201898561,-1.4884209880380301,-0.4763819880346412,-0.578184560559735,0.6961651030678019,1.7259166311829497,-0.8252362073213497,1.1438609706293845,-1.2404930633441245,-1.1368471840189844,0.5887204356027591,0.2335619414877631,1.9745688477403562,1.3279686184388286,0.42260923836531145,0.10254556518247043,0.9658870494782116,-2.0148036419525,0.2596301436019747,-0.06635611816136357,-1.302025346364487,-1.2272680873133386,0.5198072029053998,0.8388417678839464,-0.16665292552917554,0.9173799937169625],\"yaxis\":\"y5\",\"type\":\"scatter\"},{\"histfunc\":\"count\",\"histnorm\":\"\",\"marker\":{\"color\":\"rgba(55, 128, 191, 1.0)\",\"line\":{\"color\":\"#4D5663\",\"width\":1.3}},\"name\":\"B\",\"nbinsx\":10,\"opacity\":0.8,\"orientation\":\"v\",\"x\":[-0.1900973688397165,-0.3885684197362916,-0.8243907823378489,-0.34426573550469863,-0.7626995434404207,1.048395759001549,-0.6777940482446037,0.48805974008760755,-0.8657238553940302,-1.0882723358497837,0.4935583948718675,0.6182601714481422,1.076153033939917,-1.5275925690188878,0.11136087864535325,-0.03044574885719981,1.0911851333068108,-1.9085340262220345,0.46707220029218444,-0.49162188861230577,0.2877384567818682,-0.7823599322251517,0.8856691326164089,-1.5296573349468923,1.1753557301216002,-0.9701383706040404,0.22639557889842796,0.07959265795089271,-0.600017743474129,0.7756064831698299,-0.024756147151807524,0.2403527999954404,0.6859012737106033,-0.037355532168663004,0.3717754255978988,-0.3919203744324361,1.3989115743370044,0.2630122570447996,-0.3661137393198716,0.5471467735292461,-1.324642349339428,0.11102380481679991,-2.075535494176627,-0.6382404975762375,-2.431797406032161,1.6332158939212884,-0.09197085112428421,1.096049833938106,-1.5665098795579453,0.7553824116210116,0.27913582420989463,0.5849420797340267,-1.4403775974022306,0.13935913692345353,-0.44404066805046516,0.7385428641964557,-1.0332904032432841,-0.35396806719374563,0.7722679906037915,-0.37027214771386874,1.7005243008160968,0.7471972464198535,-0.11815451440255341,0.07430273329491482,0.4416672561505827,-1.274908033954568,0.1429012656245399,0.6978793081267491,1.671557457121776,-0.3759987962182951,-0.7463195842669548,-0.22005038550342224,0.46823691228267017,1.4855727847467244,-1.3957646201898561,-1.4884209880380301,-0.4763819880346412,-0.578184560559735,0.6961651030678019,1.7259166311829497,-0.8252362073213497,1.1438609706293845,-1.2404930633441245,-1.1368471840189844,0.5887204356027591,0.2335619414877631,1.9745688477403562,1.3279686184388286,0.42260923836531145,0.10254556518247043,0.9658870494782116,-2.0148036419525,0.2596301436019747,-0.06635611816136357,-1.302025346364487,-1.2272680873133386,0.5198072029053998,0.8388417678839464,-0.16665292552917554,0.9173799937169625],\"xaxis\":\"x6\",\"yaxis\":\"y6\",\"type\":\"histogram\"},{\"line\":{\"color\":\"rgba(128, 128, 128, 1.0)\",\"dash\":\"solid\",\"shape\":\"linear\",\"width\":1.3},\"marker\":{\"size\":2,\"symbol\":\"circle\"},\"mode\":\"markers\",\"name\":\"B\",\"text\":\"\",\"x\":[1.9103045059110908,-0.0324766010900323,0.6747898519986482,0.5005818365646658,0.33239968159943106,-0.5059053011102334,0.6020966849444732,1.4699655049211517,1.1978975456814263,-0.6865975518884714,0.852723195013891,-0.6437507674782534,-0.8754403484121193,-0.9775154768468096,-0.8546413342436442,1.2537442619905128,-1.9045312672674817,0.2891690886155776,0.012169966037095614,0.42039855791564923,0.11943814146188779,-0.3662562134813379,0.18414472055402206,-0.45845911460225097,0.6960109196869487,-0.4485487991500414,0.7683798511340175,-1.179058799293875,-1.6431012439508441,-0.1869963005418975,-0.9437887922665755,-0.324677373437033,-0.5907019899086499,0.16492026139989754,-0.48078879856769285,0.01143673520281042,0.04503960431374931,-0.8606320112210435,1.1437459274916573,0.7088930992311374,0.7548223897350274,0.5723430657995876,-0.9168325310802138,-0.5947982012392957,-0.34723195084082425,-0.0567159159561067,0.5335021066473415,-1.0726517231911452,-0.13224619742200586,0.6170142858493078,-0.6498928991754115,-0.5702211150515724,2.4295020090482966,-1.4392668384899499,0.8617542275712754,-0.9646885280823778,1.5643528970295268,-0.4089725285242998,0.3270756006762052,-1.770341555084864,-0.22647757226224874,1.092101420347575,-1.7939279055023416,1.2566143114982407,-0.07479236452051884,-1.031532453568368,-1.156943941099765,0.27135227294525066,0.5373722152966268,-0.5546514317901003,-1.8987842579735061,0.19241697433215038,1.530485498493259,0.7228333379963006,-0.5429533538796294,1.2803714175803076,-2.306863721403007,0.7842828916206536,0.34215135124192275,-1.519151467178333,0.40424669002063457,0.07957446406931469,0.18225871645319636,-0.9957462127426185,-0.015076853568017676,0.7900297816375214,-1.646200384516348,0.05956573499105154,0.03598077324014414,0.49208716731850244,0.7165417033278323,0.6427778018277905,-0.3028173472450331,0.9464796740335952,1.0106234451776535,-0.043494628755843645,-1.3375309950242353,1.0387172543114143,-0.6225978712784589,1.0141315558367463],\"xaxis\":\"x7\",\"y\":[-0.1900973688397165,-0.3885684197362916,-0.8243907823378489,-0.34426573550469863,-0.7626995434404207,1.048395759001549,-0.6777940482446037,0.48805974008760755,-0.8657238553940302,-1.0882723358497837,0.4935583948718675,0.6182601714481422,1.076153033939917,-1.5275925690188878,0.11136087864535325,-0.03044574885719981,1.0911851333068108,-1.9085340262220345,0.46707220029218444,-0.49162188861230577,0.2877384567818682,-0.7823599322251517,0.8856691326164089,-1.5296573349468923,1.1753557301216002,-0.9701383706040404,0.22639557889842796,0.07959265795089271,-0.600017743474129,0.7756064831698299,-0.024756147151807524,0.2403527999954404,0.6859012737106033,-0.037355532168663004,0.3717754255978988,-0.3919203744324361,1.3989115743370044,0.2630122570447996,-0.3661137393198716,0.5471467735292461,-1.324642349339428,0.11102380481679991,-2.075535494176627,-0.6382404975762375,-2.431797406032161,1.6332158939212884,-0.09197085112428421,1.096049833938106,-1.5665098795579453,0.7553824116210116,0.27913582420989463,0.5849420797340267,-1.4403775974022306,0.13935913692345353,-0.44404066805046516,0.7385428641964557,-1.0332904032432841,-0.35396806719374563,0.7722679906037915,-0.37027214771386874,1.7005243008160968,0.7471972464198535,-0.11815451440255341,0.07430273329491482,0.4416672561505827,-1.274908033954568,0.1429012656245399,0.6978793081267491,1.671557457121776,-0.3759987962182951,-0.7463195842669548,-0.22005038550342224,0.46823691228267017,1.4855727847467244,-1.3957646201898561,-1.4884209880380301,-0.4763819880346412,-0.578184560559735,0.6961651030678019,1.7259166311829497,-0.8252362073213497,1.1438609706293845,-1.2404930633441245,-1.1368471840189844,0.5887204356027591,0.2335619414877631,1.9745688477403562,1.3279686184388286,0.42260923836531145,0.10254556518247043,0.9658870494782116,-2.0148036419525,0.2596301436019747,-0.06635611816136357,-1.302025346364487,-1.2272680873133386,0.5198072029053998,0.8388417678839464,-0.16665292552917554,0.9173799937169625],\"yaxis\":\"y7\",\"type\":\"scatter\"},{\"line\":{\"color\":\"rgba(128, 128, 128, 1.0)\",\"dash\":\"solid\",\"shape\":\"linear\",\"width\":1.3},\"marker\":{\"size\":2,\"symbol\":\"circle\"},\"mode\":\"markers\",\"name\":\"B\",\"text\":\"\",\"x\":[-0.4103104538548829,-0.333734732060692,-0.7249999454796346,-0.12075186624438715,-0.9702228237202677,-0.4184563513631616,-0.8130953552812726,-1.070368211863948,0.9128122466326866,-0.5376006658015672,-1.841641920831229,-0.021698430731425182,-1.222794919048431,0.35958413692086305,-1.8470224783340559,-0.3650599729439193,1.31878607504766,2.507340775170648,-0.4561208585900866,-0.8047272454906428,-0.9559197397423289,-0.5068998849581509,-0.25307716519577905,-1.27148336694633,-1.0816751073569362,-0.8054584860614372,0.706461609907511,0.974118086445685,-0.10017039553463598,-0.914780942447579,1.015919094342769,-0.25966822399211303,0.34889234956949616,-1.2292438175622884,0.3834021421904984,1.316869079413164,-0.7352352723825953,-1.972516516260567,-0.9085118921654491,0.9329586987495015,1.683204649059652,0.09013890257122327,-0.3373355375224495,-0.5540672145916483,1.5804141593421892,0.8042210936260737,0.6965998388250881,-3.147066036074273,0.0019682458700349204,-1.596825890440718,-0.2586942384250054,-1.1822047310215698,-0.7668621938093012,0.16260199826039162,-0.09931253373823028,-0.08092746615191286,-0.20277833052264038,0.2359661276767108,-1.0552832205083178,-1.0736684827535101,1.784179172173497,-0.7790597148297769,0.32343402702051244,-0.16924425041690172,0.6630700536431359,-1.0039576064353046,-0.9435030034103241,-0.5290232460448169,0.6835359923302197,-0.702806914451176,1.1489346413496178,2.0788187651310945,0.06550548107752338,0.4722262637519014,-0.4349686402153224,1.3829089676360604,-1.6202804762309257,-0.22377563808704218,-1.5299244176176388,1.353954906478887,-1.3893374560698426,0.32525442502010615,0.616410318419713,-1.6647326211126063,-1.046207963235596,1.3856257209977199,-0.4451796457350623,0.8817781193226517,-0.3766409683986692,-1.3624244460816255,2.312277355326506,-1.1802234454149356,0.2172895716657932,1.0630724292373221,0.17504094074453513,-0.03192945139517454,-0.7112178442185724,-0.7806039652950968,-1.0007269638007035,-0.5828470704060571],\"xaxis\":\"x8\",\"y\":[-0.1900973688397165,-0.3885684197362916,-0.8243907823378489,-0.34426573550469863,-0.7626995434404207,1.048395759001549,-0.6777940482446037,0.48805974008760755,-0.8657238553940302,-1.0882723358497837,0.4935583948718675,0.6182601714481422,1.076153033939917,-1.5275925690188878,0.11136087864535325,-0.03044574885719981,1.0911851333068108,-1.9085340262220345,0.46707220029218444,-0.49162188861230577,0.2877384567818682,-0.7823599322251517,0.8856691326164089,-1.5296573349468923,1.1753557301216002,-0.9701383706040404,0.22639557889842796,0.07959265795089271,-0.600017743474129,0.7756064831698299,-0.024756147151807524,0.2403527999954404,0.6859012737106033,-0.037355532168663004,0.3717754255978988,-0.3919203744324361,1.3989115743370044,0.2630122570447996,-0.3661137393198716,0.5471467735292461,-1.324642349339428,0.11102380481679991,-2.075535494176627,-0.6382404975762375,-2.431797406032161,1.6332158939212884,-0.09197085112428421,1.096049833938106,-1.5665098795579453,0.7553824116210116,0.27913582420989463,0.5849420797340267,-1.4403775974022306,0.13935913692345353,-0.44404066805046516,0.7385428641964557,-1.0332904032432841,-0.35396806719374563,0.7722679906037915,-0.37027214771386874,1.7005243008160968,0.7471972464198535,-0.11815451440255341,0.07430273329491482,0.4416672561505827,-1.274908033954568,0.1429012656245399,0.6978793081267491,1.671557457121776,-0.3759987962182951,-0.7463195842669548,-0.22005038550342224,0.46823691228267017,1.4855727847467244,-1.3957646201898561,-1.4884209880380301,-0.4763819880346412,-0.578184560559735,0.6961651030678019,1.7259166311829497,-0.8252362073213497,1.1438609706293845,-1.2404930633441245,-1.1368471840189844,0.5887204356027591,0.2335619414877631,1.9745688477403562,1.3279686184388286,0.42260923836531145,0.10254556518247043,0.9658870494782116,-2.0148036419525,0.2596301436019747,-0.06635611816136357,-1.302025346364487,-1.2272680873133386,0.5198072029053998,0.8388417678839464,-0.16665292552917554,0.9173799937169625],\"yaxis\":\"y8\",\"type\":\"scatter\"},{\"line\":{\"color\":\"rgba(128, 128, 128, 1.0)\",\"dash\":\"solid\",\"shape\":\"linear\",\"width\":1.3},\"marker\":{\"size\":2,\"symbol\":\"circle\"},\"mode\":\"markers\",\"name\":\"C\",\"text\":\"\",\"x\":[-0.34120759272223433,0.5319968935053704,-2.450455488118163,-1.2456715548083472,1.5209640716102542,-0.0049272852738787625,1.0985475472016015,0.6773710522533647,1.3607142958212726,0.07711242446398583,0.29079341587599095,-0.43367282563883897,0.06753015159812732,-0.614125917644946,1.709868882712002,-0.5083695153972636,0.8304776785532717,1.5520601876707454,-0.3222961640789218,-1.977901874814474,1.3606452503009314,-0.06010963701062323,-0.29577165906393466,1.1022486760316241,1.0178363788213247,-0.16442359229547276,-1.112695636415679,-0.1270802957928152,1.007890170700006,1.4524421801030634,0.8296522843963062,1.0532618501781965,0.6795082735205985,-2.0221482750492252,1.1461514030298305,0.06140342823868589,-0.13708816055394313,-0.7651459419975741,0.7096138267240532,-0.5667400030206438,-1.1516645799042164,-0.7686303875696663,-1.2446233678971257,-1.2812299231096487,0.012725410380528336,-1.748983001114331,0.3983896418002656,-1.7455224885371137,0.5245636491056316,0.3304388918863971,-1.2147105369960398,-0.7984194519889587,0.29731511377892034,1.405402979776943,-1.619812830345721,1.2811861693543742,-1.4539006003318269,-0.38631762914312007,-0.03712563436194027,-0.05812227019037334,0.6245645987974078,-0.3951156093367975,-2.0161901747549456,-0.8956798469753015,-0.4370140644033481,-0.47276981141969854,-0.2854548890731237,0.41838971907076516,0.45133415609646577,0.11713657133354452,-1.325159071044354,0.11202376189144415,-0.5249627092180661,-0.3039374941801457,-0.8324933320883989,-0.9722317483126025,-0.9724144691955017,-0.1836356643644105,-0.019578188435622406,-1.724204841009576,1.1651900890724414,0.4587265805469331,-0.4269940736068984,0.5177334206115901,-1.489836025046481,0.2245692761053648,0.07659364207849126,0.5651885751515057,-0.7321710513842877,-0.6919190329872751,-0.608863992546054,1.5946083343083195,1.1696186036170675,3.408773057810497,0.7607021874075978,0.4911325983640859,0.2541815539119816,-0.36709667595476897,-0.4014232037425139,-3.5374312704476396],\"xaxis\":\"x9\",\"y\":[1.9103045059110908,-0.0324766010900323,0.6747898519986482,0.5005818365646658,0.33239968159943106,-0.5059053011102334,0.6020966849444732,1.4699655049211517,1.1978975456814263,-0.6865975518884714,0.852723195013891,-0.6437507674782534,-0.8754403484121193,-0.9775154768468096,-0.8546413342436442,1.2537442619905128,-1.9045312672674817,0.2891690886155776,0.012169966037095614,0.42039855791564923,0.11943814146188779,-0.3662562134813379,0.18414472055402206,-0.45845911460225097,0.6960109196869487,-0.4485487991500414,0.7683798511340175,-1.179058799293875,-1.6431012439508441,-0.1869963005418975,-0.9437887922665755,-0.324677373437033,-0.5907019899086499,0.16492026139989754,-0.48078879856769285,0.01143673520281042,0.04503960431374931,-0.8606320112210435,1.1437459274916573,0.7088930992311374,0.7548223897350274,0.5723430657995876,-0.9168325310802138,-0.5947982012392957,-0.34723195084082425,-0.0567159159561067,0.5335021066473415,-1.0726517231911452,-0.13224619742200586,0.6170142858493078,-0.6498928991754115,-0.5702211150515724,2.4295020090482966,-1.4392668384899499,0.8617542275712754,-0.9646885280823778,1.5643528970295268,-0.4089725285242998,0.3270756006762052,-1.770341555084864,-0.22647757226224874,1.092101420347575,-1.7939279055023416,1.2566143114982407,-0.07479236452051884,-1.031532453568368,-1.156943941099765,0.27135227294525066,0.5373722152966268,-0.5546514317901003,-1.8987842579735061,0.19241697433215038,1.530485498493259,0.7228333379963006,-0.5429533538796294,1.2803714175803076,-2.306863721403007,0.7842828916206536,0.34215135124192275,-1.519151467178333,0.40424669002063457,0.07957446406931469,0.18225871645319636,-0.9957462127426185,-0.015076853568017676,0.7900297816375214,-1.646200384516348,0.05956573499105154,0.03598077324014414,0.49208716731850244,0.7165417033278323,0.6427778018277905,-0.3028173472450331,0.9464796740335952,1.0106234451776535,-0.043494628755843645,-1.3375309950242353,1.0387172543114143,-0.6225978712784589,1.0141315558367463],\"yaxis\":\"y9\",\"type\":\"scatter\"},{\"line\":{\"color\":\"rgba(128, 128, 128, 1.0)\",\"dash\":\"solid\",\"shape\":\"linear\",\"width\":1.3},\"marker\":{\"size\":2,\"symbol\":\"circle\"},\"mode\":\"markers\",\"name\":\"C\",\"text\":\"\",\"x\":[-0.1900973688397165,-0.3885684197362916,-0.8243907823378489,-0.34426573550469863,-0.7626995434404207,1.048395759001549,-0.6777940482446037,0.48805974008760755,-0.8657238553940302,-1.0882723358497837,0.4935583948718675,0.6182601714481422,1.076153033939917,-1.5275925690188878,0.11136087864535325,-0.03044574885719981,1.0911851333068108,-1.9085340262220345,0.46707220029218444,-0.49162188861230577,0.2877384567818682,-0.7823599322251517,0.8856691326164089,-1.5296573349468923,1.1753557301216002,-0.9701383706040404,0.22639557889842796,0.07959265795089271,-0.600017743474129,0.7756064831698299,-0.024756147151807524,0.2403527999954404,0.6859012737106033,-0.037355532168663004,0.3717754255978988,-0.3919203744324361,1.3989115743370044,0.2630122570447996,-0.3661137393198716,0.5471467735292461,-1.324642349339428,0.11102380481679991,-2.075535494176627,-0.6382404975762375,-2.431797406032161,1.6332158939212884,-0.09197085112428421,1.096049833938106,-1.5665098795579453,0.7553824116210116,0.27913582420989463,0.5849420797340267,-1.4403775974022306,0.13935913692345353,-0.44404066805046516,0.7385428641964557,-1.0332904032432841,-0.35396806719374563,0.7722679906037915,-0.37027214771386874,1.7005243008160968,0.7471972464198535,-0.11815451440255341,0.07430273329491482,0.4416672561505827,-1.274908033954568,0.1429012656245399,0.6978793081267491,1.671557457121776,-0.3759987962182951,-0.7463195842669548,-0.22005038550342224,0.46823691228267017,1.4855727847467244,-1.3957646201898561,-1.4884209880380301,-0.4763819880346412,-0.578184560559735,0.6961651030678019,1.7259166311829497,-0.8252362073213497,1.1438609706293845,-1.2404930633441245,-1.1368471840189844,0.5887204356027591,0.2335619414877631,1.9745688477403562,1.3279686184388286,0.42260923836531145,0.10254556518247043,0.9658870494782116,-2.0148036419525,0.2596301436019747,-0.06635611816136357,-1.302025346364487,-1.2272680873133386,0.5198072029053998,0.8388417678839464,-0.16665292552917554,0.9173799937169625],\"xaxis\":\"x10\",\"y\":[1.9103045059110908,-0.0324766010900323,0.6747898519986482,0.5005818365646658,0.33239968159943106,-0.5059053011102334,0.6020966849444732,1.4699655049211517,1.1978975456814263,-0.6865975518884714,0.852723195013891,-0.6437507674782534,-0.8754403484121193,-0.9775154768468096,-0.8546413342436442,1.2537442619905128,-1.9045312672674817,0.2891690886155776,0.012169966037095614,0.42039855791564923,0.11943814146188779,-0.3662562134813379,0.18414472055402206,-0.45845911460225097,0.6960109196869487,-0.4485487991500414,0.7683798511340175,-1.179058799293875,-1.6431012439508441,-0.1869963005418975,-0.9437887922665755,-0.324677373437033,-0.5907019899086499,0.16492026139989754,-0.48078879856769285,0.01143673520281042,0.04503960431374931,-0.8606320112210435,1.1437459274916573,0.7088930992311374,0.7548223897350274,0.5723430657995876,-0.9168325310802138,-0.5947982012392957,-0.34723195084082425,-0.0567159159561067,0.5335021066473415,-1.0726517231911452,-0.13224619742200586,0.6170142858493078,-0.6498928991754115,-0.5702211150515724,2.4295020090482966,-1.4392668384899499,0.8617542275712754,-0.9646885280823778,1.5643528970295268,-0.4089725285242998,0.3270756006762052,-1.770341555084864,-0.22647757226224874,1.092101420347575,-1.7939279055023416,1.2566143114982407,-0.07479236452051884,-1.031532453568368,-1.156943941099765,0.27135227294525066,0.5373722152966268,-0.5546514317901003,-1.8987842579735061,0.19241697433215038,1.530485498493259,0.7228333379963006,-0.5429533538796294,1.2803714175803076,-2.306863721403007,0.7842828916206536,0.34215135124192275,-1.519151467178333,0.40424669002063457,0.07957446406931469,0.18225871645319636,-0.9957462127426185,-0.015076853568017676,0.7900297816375214,-1.646200384516348,0.05956573499105154,0.03598077324014414,0.49208716731850244,0.7165417033278323,0.6427778018277905,-0.3028173472450331,0.9464796740335952,1.0106234451776535,-0.043494628755843645,-1.3375309950242353,1.0387172543114143,-0.6225978712784589,1.0141315558367463],\"yaxis\":\"y10\",\"type\":\"scatter\"},{\"histfunc\":\"count\",\"histnorm\":\"\",\"marker\":{\"color\":\"rgba(50, 171, 96, 1.0)\",\"line\":{\"color\":\"#4D5663\",\"width\":1.3}},\"name\":\"C\",\"nbinsx\":10,\"opacity\":0.8,\"orientation\":\"v\",\"x\":[1.9103045059110908,-0.0324766010900323,0.6747898519986482,0.5005818365646658,0.33239968159943106,-0.5059053011102334,0.6020966849444732,1.4699655049211517,1.1978975456814263,-0.6865975518884714,0.852723195013891,-0.6437507674782534,-0.8754403484121193,-0.9775154768468096,-0.8546413342436442,1.2537442619905128,-1.9045312672674817,0.2891690886155776,0.012169966037095614,0.42039855791564923,0.11943814146188779,-0.3662562134813379,0.18414472055402206,-0.45845911460225097,0.6960109196869487,-0.4485487991500414,0.7683798511340175,-1.179058799293875,-1.6431012439508441,-0.1869963005418975,-0.9437887922665755,-0.324677373437033,-0.5907019899086499,0.16492026139989754,-0.48078879856769285,0.01143673520281042,0.04503960431374931,-0.8606320112210435,1.1437459274916573,0.7088930992311374,0.7548223897350274,0.5723430657995876,-0.9168325310802138,-0.5947982012392957,-0.34723195084082425,-0.0567159159561067,0.5335021066473415,-1.0726517231911452,-0.13224619742200586,0.6170142858493078,-0.6498928991754115,-0.5702211150515724,2.4295020090482966,-1.4392668384899499,0.8617542275712754,-0.9646885280823778,1.5643528970295268,-0.4089725285242998,0.3270756006762052,-1.770341555084864,-0.22647757226224874,1.092101420347575,-1.7939279055023416,1.2566143114982407,-0.07479236452051884,-1.031532453568368,-1.156943941099765,0.27135227294525066,0.5373722152966268,-0.5546514317901003,-1.8987842579735061,0.19241697433215038,1.530485498493259,0.7228333379963006,-0.5429533538796294,1.2803714175803076,-2.306863721403007,0.7842828916206536,0.34215135124192275,-1.519151467178333,0.40424669002063457,0.07957446406931469,0.18225871645319636,-0.9957462127426185,-0.015076853568017676,0.7900297816375214,-1.646200384516348,0.05956573499105154,0.03598077324014414,0.49208716731850244,0.7165417033278323,0.6427778018277905,-0.3028173472450331,0.9464796740335952,1.0106234451776535,-0.043494628755843645,-1.3375309950242353,1.0387172543114143,-0.6225978712784589,1.0141315558367463],\"xaxis\":\"x11\",\"yaxis\":\"y11\",\"type\":\"histogram\"},{\"line\":{\"color\":\"rgba(128, 128, 128, 1.0)\",\"dash\":\"solid\",\"shape\":\"linear\",\"width\":1.3},\"marker\":{\"size\":2,\"symbol\":\"circle\"},\"mode\":\"markers\",\"name\":\"C\",\"text\":\"\",\"x\":[-0.4103104538548829,-0.333734732060692,-0.7249999454796346,-0.12075186624438715,-0.9702228237202677,-0.4184563513631616,-0.8130953552812726,-1.070368211863948,0.9128122466326866,-0.5376006658015672,-1.841641920831229,-0.021698430731425182,-1.222794919048431,0.35958413692086305,-1.8470224783340559,-0.3650599729439193,1.31878607504766,2.507340775170648,-0.4561208585900866,-0.8047272454906428,-0.9559197397423289,-0.5068998849581509,-0.25307716519577905,-1.27148336694633,-1.0816751073569362,-0.8054584860614372,0.706461609907511,0.974118086445685,-0.10017039553463598,-0.914780942447579,1.015919094342769,-0.25966822399211303,0.34889234956949616,-1.2292438175622884,0.3834021421904984,1.316869079413164,-0.7352352723825953,-1.972516516260567,-0.9085118921654491,0.9329586987495015,1.683204649059652,0.09013890257122327,-0.3373355375224495,-0.5540672145916483,1.5804141593421892,0.8042210936260737,0.6965998388250881,-3.147066036074273,0.0019682458700349204,-1.596825890440718,-0.2586942384250054,-1.1822047310215698,-0.7668621938093012,0.16260199826039162,-0.09931253373823028,-0.08092746615191286,-0.20277833052264038,0.2359661276767108,-1.0552832205083178,-1.0736684827535101,1.784179172173497,-0.7790597148297769,0.32343402702051244,-0.16924425041690172,0.6630700536431359,-1.0039576064353046,-0.9435030034103241,-0.5290232460448169,0.6835359923302197,-0.702806914451176,1.1489346413496178,2.0788187651310945,0.06550548107752338,0.4722262637519014,-0.4349686402153224,1.3829089676360604,-1.6202804762309257,-0.22377563808704218,-1.5299244176176388,1.353954906478887,-1.3893374560698426,0.32525442502010615,0.616410318419713,-1.6647326211126063,-1.046207963235596,1.3856257209977199,-0.4451796457350623,0.8817781193226517,-0.3766409683986692,-1.3624244460816255,2.312277355326506,-1.1802234454149356,0.2172895716657932,1.0630724292373221,0.17504094074453513,-0.03192945139517454,-0.7112178442185724,-0.7806039652950968,-1.0007269638007035,-0.5828470704060571],\"xaxis\":\"x12\",\"y\":[1.9103045059110908,-0.0324766010900323,0.6747898519986482,0.5005818365646658,0.33239968159943106,-0.5059053011102334,0.6020966849444732,1.4699655049211517,1.1978975456814263,-0.6865975518884714,0.852723195013891,-0.6437507674782534,-0.8754403484121193,-0.9775154768468096,-0.8546413342436442,1.2537442619905128,-1.9045312672674817,0.2891690886155776,0.012169966037095614,0.42039855791564923,0.11943814146188779,-0.3662562134813379,0.18414472055402206,-0.45845911460225097,0.6960109196869487,-0.4485487991500414,0.7683798511340175,-1.179058799293875,-1.6431012439508441,-0.1869963005418975,-0.9437887922665755,-0.324677373437033,-0.5907019899086499,0.16492026139989754,-0.48078879856769285,0.01143673520281042,0.04503960431374931,-0.8606320112210435,1.1437459274916573,0.7088930992311374,0.7548223897350274,0.5723430657995876,-0.9168325310802138,-0.5947982012392957,-0.34723195084082425,-0.0567159159561067,0.5335021066473415,-1.0726517231911452,-0.13224619742200586,0.6170142858493078,-0.6498928991754115,-0.5702211150515724,2.4295020090482966,-1.4392668384899499,0.8617542275712754,-0.9646885280823778,1.5643528970295268,-0.4089725285242998,0.3270756006762052,-1.770341555084864,-0.22647757226224874,1.092101420347575,-1.7939279055023416,1.2566143114982407,-0.07479236452051884,-1.031532453568368,-1.156943941099765,0.27135227294525066,0.5373722152966268,-0.5546514317901003,-1.8987842579735061,0.19241697433215038,1.530485498493259,0.7228333379963006,-0.5429533538796294,1.2803714175803076,-2.306863721403007,0.7842828916206536,0.34215135124192275,-1.519151467178333,0.40424669002063457,0.07957446406931469,0.18225871645319636,-0.9957462127426185,-0.015076853568017676,0.7900297816375214,-1.646200384516348,0.05956573499105154,0.03598077324014414,0.49208716731850244,0.7165417033278323,0.6427778018277905,-0.3028173472450331,0.9464796740335952,1.0106234451776535,-0.043494628755843645,-1.3375309950242353,1.0387172543114143,-0.6225978712784589,1.0141315558367463],\"yaxis\":\"y12\",\"type\":\"scatter\"},{\"line\":{\"color\":\"rgba(128, 128, 128, 1.0)\",\"dash\":\"solid\",\"shape\":\"linear\",\"width\":1.3},\"marker\":{\"size\":2,\"symbol\":\"circle\"},\"mode\":\"markers\",\"name\":\"D\",\"text\":\"\",\"x\":[-0.34120759272223433,0.5319968935053704,-2.450455488118163,-1.2456715548083472,1.5209640716102542,-0.0049272852738787625,1.0985475472016015,0.6773710522533647,1.3607142958212726,0.07711242446398583,0.29079341587599095,-0.43367282563883897,0.06753015159812732,-0.614125917644946,1.709868882712002,-0.5083695153972636,0.8304776785532717,1.5520601876707454,-0.3222961640789218,-1.977901874814474,1.3606452503009314,-0.06010963701062323,-0.29577165906393466,1.1022486760316241,1.0178363788213247,-0.16442359229547276,-1.112695636415679,-0.1270802957928152,1.007890170700006,1.4524421801030634,0.8296522843963062,1.0532618501781965,0.6795082735205985,-2.0221482750492252,1.1461514030298305,0.06140342823868589,-0.13708816055394313,-0.7651459419975741,0.7096138267240532,-0.5667400030206438,-1.1516645799042164,-0.7686303875696663,-1.2446233678971257,-1.2812299231096487,0.012725410380528336,-1.748983001114331,0.3983896418002656,-1.7455224885371137,0.5245636491056316,0.3304388918863971,-1.2147105369960398,-0.7984194519889587,0.29731511377892034,1.405402979776943,-1.619812830345721,1.2811861693543742,-1.4539006003318269,-0.38631762914312007,-0.03712563436194027,-0.05812227019037334,0.6245645987974078,-0.3951156093367975,-2.0161901747549456,-0.8956798469753015,-0.4370140644033481,-0.47276981141969854,-0.2854548890731237,0.41838971907076516,0.45133415609646577,0.11713657133354452,-1.325159071044354,0.11202376189144415,-0.5249627092180661,-0.3039374941801457,-0.8324933320883989,-0.9722317483126025,-0.9724144691955017,-0.1836356643644105,-0.019578188435622406,-1.724204841009576,1.1651900890724414,0.4587265805469331,-0.4269940736068984,0.5177334206115901,-1.489836025046481,0.2245692761053648,0.07659364207849126,0.5651885751515057,-0.7321710513842877,-0.6919190329872751,-0.608863992546054,1.5946083343083195,1.1696186036170675,3.408773057810497,0.7607021874075978,0.4911325983640859,0.2541815539119816,-0.36709667595476897,-0.4014232037425139,-3.5374312704476396],\"xaxis\":\"x13\",\"y\":[-0.4103104538548829,-0.333734732060692,-0.7249999454796346,-0.12075186624438715,-0.9702228237202677,-0.4184563513631616,-0.8130953552812726,-1.070368211863948,0.9128122466326866,-0.5376006658015672,-1.841641920831229,-0.021698430731425182,-1.222794919048431,0.35958413692086305,-1.8470224783340559,-0.3650599729439193,1.31878607504766,2.507340775170648,-0.4561208585900866,-0.8047272454906428,-0.9559197397423289,-0.5068998849581509,-0.25307716519577905,-1.27148336694633,-1.0816751073569362,-0.8054584860614372,0.706461609907511,0.974118086445685,-0.10017039553463598,-0.914780942447579,1.015919094342769,-0.25966822399211303,0.34889234956949616,-1.2292438175622884,0.3834021421904984,1.316869079413164,-0.7352352723825953,-1.972516516260567,-0.9085118921654491,0.9329586987495015,1.683204649059652,0.09013890257122327,-0.3373355375224495,-0.5540672145916483,1.5804141593421892,0.8042210936260737,0.6965998388250881,-3.147066036074273,0.0019682458700349204,-1.596825890440718,-0.2586942384250054,-1.1822047310215698,-0.7668621938093012,0.16260199826039162,-0.09931253373823028,-0.08092746615191286,-0.20277833052264038,0.2359661276767108,-1.0552832205083178,-1.0736684827535101,1.784179172173497,-0.7790597148297769,0.32343402702051244,-0.16924425041690172,0.6630700536431359,-1.0039576064353046,-0.9435030034103241,-0.5290232460448169,0.6835359923302197,-0.702806914451176,1.1489346413496178,2.0788187651310945,0.06550548107752338,0.4722262637519014,-0.4349686402153224,1.3829089676360604,-1.6202804762309257,-0.22377563808704218,-1.5299244176176388,1.353954906478887,-1.3893374560698426,0.32525442502010615,0.616410318419713,-1.6647326211126063,-1.046207963235596,1.3856257209977199,-0.4451796457350623,0.8817781193226517,-0.3766409683986692,-1.3624244460816255,2.312277355326506,-1.1802234454149356,0.2172895716657932,1.0630724292373221,0.17504094074453513,-0.03192945139517454,-0.7112178442185724,-0.7806039652950968,-1.0007269638007035,-0.5828470704060571],\"yaxis\":\"y13\",\"type\":\"scatter\"},{\"line\":{\"color\":\"rgba(128, 128, 128, 1.0)\",\"dash\":\"solid\",\"shape\":\"linear\",\"width\":1.3},\"marker\":{\"size\":2,\"symbol\":\"circle\"},\"mode\":\"markers\",\"name\":\"D\",\"text\":\"\",\"x\":[-0.1900973688397165,-0.3885684197362916,-0.8243907823378489,-0.34426573550469863,-0.7626995434404207,1.048395759001549,-0.6777940482446037,0.48805974008760755,-0.8657238553940302,-1.0882723358497837,0.4935583948718675,0.6182601714481422,1.076153033939917,-1.5275925690188878,0.11136087864535325,-0.03044574885719981,1.0911851333068108,-1.9085340262220345,0.46707220029218444,-0.49162188861230577,0.2877384567818682,-0.7823599322251517,0.8856691326164089,-1.5296573349468923,1.1753557301216002,-0.9701383706040404,0.22639557889842796,0.07959265795089271,-0.600017743474129,0.7756064831698299,-0.024756147151807524,0.2403527999954404,0.6859012737106033,-0.037355532168663004,0.3717754255978988,-0.3919203744324361,1.3989115743370044,0.2630122570447996,-0.3661137393198716,0.5471467735292461,-1.324642349339428,0.11102380481679991,-2.075535494176627,-0.6382404975762375,-2.431797406032161,1.6332158939212884,-0.09197085112428421,1.096049833938106,-1.5665098795579453,0.7553824116210116,0.27913582420989463,0.5849420797340267,-1.4403775974022306,0.13935913692345353,-0.44404066805046516,0.7385428641964557,-1.0332904032432841,-0.35396806719374563,0.7722679906037915,-0.37027214771386874,1.7005243008160968,0.7471972464198535,-0.11815451440255341,0.07430273329491482,0.4416672561505827,-1.274908033954568,0.1429012656245399,0.6978793081267491,1.671557457121776,-0.3759987962182951,-0.7463195842669548,-0.22005038550342224,0.46823691228267017,1.4855727847467244,-1.3957646201898561,-1.4884209880380301,-0.4763819880346412,-0.578184560559735,0.6961651030678019,1.7259166311829497,-0.8252362073213497,1.1438609706293845,-1.2404930633441245,-1.1368471840189844,0.5887204356027591,0.2335619414877631,1.9745688477403562,1.3279686184388286,0.42260923836531145,0.10254556518247043,0.9658870494782116,-2.0148036419525,0.2596301436019747,-0.06635611816136357,-1.302025346364487,-1.2272680873133386,0.5198072029053998,0.8388417678839464,-0.16665292552917554,0.9173799937169625],\"xaxis\":\"x14\",\"y\":[-0.4103104538548829,-0.333734732060692,-0.7249999454796346,-0.12075186624438715,-0.9702228237202677,-0.4184563513631616,-0.8130953552812726,-1.070368211863948,0.9128122466326866,-0.5376006658015672,-1.841641920831229,-0.021698430731425182,-1.222794919048431,0.35958413692086305,-1.8470224783340559,-0.3650599729439193,1.31878607504766,2.507340775170648,-0.4561208585900866,-0.8047272454906428,-0.9559197397423289,-0.5068998849581509,-0.25307716519577905,-1.27148336694633,-1.0816751073569362,-0.8054584860614372,0.706461609907511,0.974118086445685,-0.10017039553463598,-0.914780942447579,1.015919094342769,-0.25966822399211303,0.34889234956949616,-1.2292438175622884,0.3834021421904984,1.316869079413164,-0.7352352723825953,-1.972516516260567,-0.9085118921654491,0.9329586987495015,1.683204649059652,0.09013890257122327,-0.3373355375224495,-0.5540672145916483,1.5804141593421892,0.8042210936260737,0.6965998388250881,-3.147066036074273,0.0019682458700349204,-1.596825890440718,-0.2586942384250054,-1.1822047310215698,-0.7668621938093012,0.16260199826039162,-0.09931253373823028,-0.08092746615191286,-0.20277833052264038,0.2359661276767108,-1.0552832205083178,-1.0736684827535101,1.784179172173497,-0.7790597148297769,0.32343402702051244,-0.16924425041690172,0.6630700536431359,-1.0039576064353046,-0.9435030034103241,-0.5290232460448169,0.6835359923302197,-0.702806914451176,1.1489346413496178,2.0788187651310945,0.06550548107752338,0.4722262637519014,-0.4349686402153224,1.3829089676360604,-1.6202804762309257,-0.22377563808704218,-1.5299244176176388,1.353954906478887,-1.3893374560698426,0.32525442502010615,0.616410318419713,-1.6647326211126063,-1.046207963235596,1.3856257209977199,-0.4451796457350623,0.8817781193226517,-0.3766409683986692,-1.3624244460816255,2.312277355326506,-1.1802234454149356,0.2172895716657932,1.0630724292373221,0.17504094074453513,-0.03192945139517454,-0.7112178442185724,-0.7806039652950968,-1.0007269638007035,-0.5828470704060571],\"yaxis\":\"y14\",\"type\":\"scatter\"},{\"line\":{\"color\":\"rgba(128, 128, 128, 1.0)\",\"dash\":\"solid\",\"shape\":\"linear\",\"width\":1.3},\"marker\":{\"size\":2,\"symbol\":\"circle\"},\"mode\":\"markers\",\"name\":\"D\",\"text\":\"\",\"x\":[1.9103045059110908,-0.0324766010900323,0.6747898519986482,0.5005818365646658,0.33239968159943106,-0.5059053011102334,0.6020966849444732,1.4699655049211517,1.1978975456814263,-0.6865975518884714,0.852723195013891,-0.6437507674782534,-0.8754403484121193,-0.9775154768468096,-0.8546413342436442,1.2537442619905128,-1.9045312672674817,0.2891690886155776,0.012169966037095614,0.42039855791564923,0.11943814146188779,-0.3662562134813379,0.18414472055402206,-0.45845911460225097,0.6960109196869487,-0.4485487991500414,0.7683798511340175,-1.179058799293875,-1.6431012439508441,-0.1869963005418975,-0.9437887922665755,-0.324677373437033,-0.5907019899086499,0.16492026139989754,-0.48078879856769285,0.01143673520281042,0.04503960431374931,-0.8606320112210435,1.1437459274916573,0.7088930992311374,0.7548223897350274,0.5723430657995876,-0.9168325310802138,-0.5947982012392957,-0.34723195084082425,-0.0567159159561067,0.5335021066473415,-1.0726517231911452,-0.13224619742200586,0.6170142858493078,-0.6498928991754115,-0.5702211150515724,2.4295020090482966,-1.4392668384899499,0.8617542275712754,-0.9646885280823778,1.5643528970295268,-0.4089725285242998,0.3270756006762052,-1.770341555084864,-0.22647757226224874,1.092101420347575,-1.7939279055023416,1.2566143114982407,-0.07479236452051884,-1.031532453568368,-1.156943941099765,0.27135227294525066,0.5373722152966268,-0.5546514317901003,-1.8987842579735061,0.19241697433215038,1.530485498493259,0.7228333379963006,-0.5429533538796294,1.2803714175803076,-2.306863721403007,0.7842828916206536,0.34215135124192275,-1.519151467178333,0.40424669002063457,0.07957446406931469,0.18225871645319636,-0.9957462127426185,-0.015076853568017676,0.7900297816375214,-1.646200384516348,0.05956573499105154,0.03598077324014414,0.49208716731850244,0.7165417033278323,0.6427778018277905,-0.3028173472450331,0.9464796740335952,1.0106234451776535,-0.043494628755843645,-1.3375309950242353,1.0387172543114143,-0.6225978712784589,1.0141315558367463],\"xaxis\":\"x15\",\"y\":[-0.4103104538548829,-0.333734732060692,-0.7249999454796346,-0.12075186624438715,-0.9702228237202677,-0.4184563513631616,-0.8130953552812726,-1.070368211863948,0.9128122466326866,-0.5376006658015672,-1.841641920831229,-0.021698430731425182,-1.222794919048431,0.35958413692086305,-1.8470224783340559,-0.3650599729439193,1.31878607504766,2.507340775170648,-0.4561208585900866,-0.8047272454906428,-0.9559197397423289,-0.5068998849581509,-0.25307716519577905,-1.27148336694633,-1.0816751073569362,-0.8054584860614372,0.706461609907511,0.974118086445685,-0.10017039553463598,-0.914780942447579,1.015919094342769,-0.25966822399211303,0.34889234956949616,-1.2292438175622884,0.3834021421904984,1.316869079413164,-0.7352352723825953,-1.972516516260567,-0.9085118921654491,0.9329586987495015,1.683204649059652,0.09013890257122327,-0.3373355375224495,-0.5540672145916483,1.5804141593421892,0.8042210936260737,0.6965998388250881,-3.147066036074273,0.0019682458700349204,-1.596825890440718,-0.2586942384250054,-1.1822047310215698,-0.7668621938093012,0.16260199826039162,-0.09931253373823028,-0.08092746615191286,-0.20277833052264038,0.2359661276767108,-1.0552832205083178,-1.0736684827535101,1.784179172173497,-0.7790597148297769,0.32343402702051244,-0.16924425041690172,0.6630700536431359,-1.0039576064353046,-0.9435030034103241,-0.5290232460448169,0.6835359923302197,-0.702806914451176,1.1489346413496178,2.0788187651310945,0.06550548107752338,0.4722262637519014,-0.4349686402153224,1.3829089676360604,-1.6202804762309257,-0.22377563808704218,-1.5299244176176388,1.353954906478887,-1.3893374560698426,0.32525442502010615,0.616410318419713,-1.6647326211126063,-1.046207963235596,1.3856257209977199,-0.4451796457350623,0.8817781193226517,-0.3766409683986692,-1.3624244460816255,2.312277355326506,-1.1802234454149356,0.2172895716657932,1.0630724292373221,0.17504094074453513,-0.03192945139517454,-0.7112178442185724,-0.7806039652950968,-1.0007269638007035,-0.5828470704060571],\"yaxis\":\"y15\",\"type\":\"scatter\"},{\"histfunc\":\"count\",\"histnorm\":\"\",\"marker\":{\"color\":\"rgba(128, 0, 128, 1.0)\",\"line\":{\"color\":\"#4D5663\",\"width\":1.3}},\"name\":\"D\",\"nbinsx\":10,\"opacity\":0.8,\"orientation\":\"v\",\"x\":[-0.4103104538548829,-0.333734732060692,-0.7249999454796346,-0.12075186624438715,-0.9702228237202677,-0.4184563513631616,-0.8130953552812726,-1.070368211863948,0.9128122466326866,-0.5376006658015672,-1.841641920831229,-0.021698430731425182,-1.222794919048431,0.35958413692086305,-1.8470224783340559,-0.3650599729439193,1.31878607504766,2.507340775170648,-0.4561208585900866,-0.8047272454906428,-0.9559197397423289,-0.5068998849581509,-0.25307716519577905,-1.27148336694633,-1.0816751073569362,-0.8054584860614372,0.706461609907511,0.974118086445685,-0.10017039553463598,-0.914780942447579,1.015919094342769,-0.25966822399211303,0.34889234956949616,-1.2292438175622884,0.3834021421904984,1.316869079413164,-0.7352352723825953,-1.972516516260567,-0.9085118921654491,0.9329586987495015,1.683204649059652,0.09013890257122327,-0.3373355375224495,-0.5540672145916483,1.5804141593421892,0.8042210936260737,0.6965998388250881,-3.147066036074273,0.0019682458700349204,-1.596825890440718,-0.2586942384250054,-1.1822047310215698,-0.7668621938093012,0.16260199826039162,-0.09931253373823028,-0.08092746615191286,-0.20277833052264038,0.2359661276767108,-1.0552832205083178,-1.0736684827535101,1.784179172173497,-0.7790597148297769,0.32343402702051244,-0.16924425041690172,0.6630700536431359,-1.0039576064353046,-0.9435030034103241,-0.5290232460448169,0.6835359923302197,-0.702806914451176,1.1489346413496178,2.0788187651310945,0.06550548107752338,0.4722262637519014,-0.4349686402153224,1.3829089676360604,-1.6202804762309257,-0.22377563808704218,-1.5299244176176388,1.353954906478887,-1.3893374560698426,0.32525442502010615,0.616410318419713,-1.6647326211126063,-1.046207963235596,1.3856257209977199,-0.4451796457350623,0.8817781193226517,-0.3766409683986692,-1.3624244460816255,2.312277355326506,-1.1802234454149356,0.2172895716657932,1.0630724292373221,0.17504094074453513,-0.03192945139517454,-0.7112178442185724,-0.7806039652950968,-1.0007269638007035,-0.5828470704060571],\"xaxis\":\"x16\",\"yaxis\":\"y16\",\"type\":\"histogram\"}],                        {\"bargap\":0.02,\"legend\":{\"bgcolor\":\"#F5F6F9\",\"font\":{\"color\":\"#4D5663\"}},\"paper_bgcolor\":\"#F5F6F9\",\"plot_bgcolor\":\"#F5F6F9\",\"showlegend\":false,\"template\":{\"data\":{\"barpolar\":[{\"marker\":{\"line\":{\"color\":\"#E5ECF6\",\"width\":0.5},\"pattern\":{\"fillmode\":\"overlay\",\"size\":10,\"solidity\":0.2}},\"type\":\"barpolar\"}],\"bar\":[{\"error_x\":{\"color\":\"#2a3f5f\"},\"error_y\":{\"color\":\"#2a3f5f\"},\"marker\":{\"line\":{\"color\":\"#E5ECF6\",\"width\":0.5},\"pattern\":{\"fillmode\":\"overlay\",\"size\":10,\"solidity\":0.2}},\"type\":\"bar\"}],\"carpet\":[{\"aaxis\":{\"endlinecolor\":\"#2a3f5f\",\"gridcolor\":\"white\",\"linecolor\":\"white\",\"minorgridcolor\":\"white\",\"startlinecolor\":\"#2a3f5f\"},\"baxis\":{\"endlinecolor\":\"#2a3f5f\",\"gridcolor\":\"white\",\"linecolor\":\"white\",\"minorgridcolor\":\"white\",\"startlinecolor\":\"#2a3f5f\"},\"type\":\"carpet\"}],\"choropleth\":[{\"colorbar\":{\"outlinewidth\":0,\"ticks\":\"\"},\"type\":\"choropleth\"}],\"contourcarpet\":[{\"colorbar\":{\"outlinewidth\":0,\"ticks\":\"\"},\"type\":\"contourcarpet\"}],\"contour\":[{\"colorbar\":{\"outlinewidth\":0,\"ticks\":\"\"},\"colorscale\":[[0.0,\"#0d0887\"],[0.1111111111111111,\"#46039f\"],[0.2222222222222222,\"#7201a8\"],[0.3333333333333333,\"#9c179e\"],[0.4444444444444444,\"#bd3786\"],[0.5555555555555556,\"#d8576b\"],[0.6666666666666666,\"#ed7953\"],[0.7777777777777778,\"#fb9f3a\"],[0.8888888888888888,\"#fdca26\"],[1.0,\"#f0f921\"]],\"type\":\"contour\"}],\"heatmapgl\":[{\"colorbar\":{\"outlinewidth\":0,\"ticks\":\"\"},\"colorscale\":[[0.0,\"#0d0887\"],[0.1111111111111111,\"#46039f\"],[0.2222222222222222,\"#7201a8\"],[0.3333333333333333,\"#9c179e\"],[0.4444444444444444,\"#bd3786\"],[0.5555555555555556,\"#d8576b\"],[0.6666666666666666,\"#ed7953\"],[0.7777777777777778,\"#fb9f3a\"],[0.8888888888888888,\"#fdca26\"],[1.0,\"#f0f921\"]],\"type\":\"heatmapgl\"}],\"heatmap\":[{\"colorbar\":{\"outlinewidth\":0,\"ticks\":\"\"},\"colorscale\":[[0.0,\"#0d0887\"],[0.1111111111111111,\"#46039f\"],[0.2222222222222222,\"#7201a8\"],[0.3333333333333333,\"#9c179e\"],[0.4444444444444444,\"#bd3786\"],[0.5555555555555556,\"#d8576b\"],[0.6666666666666666,\"#ed7953\"],[0.7777777777777778,\"#fb9f3a\"],[0.8888888888888888,\"#fdca26\"],[1.0,\"#f0f921\"]],\"type\":\"heatmap\"}],\"histogram2dcontour\":[{\"colorbar\":{\"outlinewidth\":0,\"ticks\":\"\"},\"colorscale\":[[0.0,\"#0d0887\"],[0.1111111111111111,\"#46039f\"],[0.2222222222222222,\"#7201a8\"],[0.3333333333333333,\"#9c179e\"],[0.4444444444444444,\"#bd3786\"],[0.5555555555555556,\"#d8576b\"],[0.6666666666666666,\"#ed7953\"],[0.7777777777777778,\"#fb9f3a\"],[0.8888888888888888,\"#fdca26\"],[1.0,\"#f0f921\"]],\"type\":\"histogram2dcontour\"}],\"histogram2d\":[{\"colorbar\":{\"outlinewidth\":0,\"ticks\":\"\"},\"colorscale\":[[0.0,\"#0d0887\"],[0.1111111111111111,\"#46039f\"],[0.2222222222222222,\"#7201a8\"],[0.3333333333333333,\"#9c179e\"],[0.4444444444444444,\"#bd3786\"],[0.5555555555555556,\"#d8576b\"],[0.6666666666666666,\"#ed7953\"],[0.7777777777777778,\"#fb9f3a\"],[0.8888888888888888,\"#fdca26\"],[1.0,\"#f0f921\"]],\"type\":\"histogram2d\"}],\"histogram\":[{\"marker\":{\"pattern\":{\"fillmode\":\"overlay\",\"size\":10,\"solidity\":0.2}},\"type\":\"histogram\"}],\"mesh3d\":[{\"colorbar\":{\"outlinewidth\":0,\"ticks\":\"\"},\"type\":\"mesh3d\"}],\"parcoords\":[{\"line\":{\"colorbar\":{\"outlinewidth\":0,\"ticks\":\"\"}},\"type\":\"parcoords\"}],\"pie\":[{\"automargin\":true,\"type\":\"pie\"}],\"scatter3d\":[{\"line\":{\"colorbar\":{\"outlinewidth\":0,\"ticks\":\"\"}},\"marker\":{\"colorbar\":{\"outlinewidth\":0,\"ticks\":\"\"}},\"type\":\"scatter3d\"}],\"scattercarpet\":[{\"marker\":{\"colorbar\":{\"outlinewidth\":0,\"ticks\":\"\"}},\"type\":\"scattercarpet\"}],\"scattergeo\":[{\"marker\":{\"colorbar\":{\"outlinewidth\":0,\"ticks\":\"\"}},\"type\":\"scattergeo\"}],\"scattergl\":[{\"marker\":{\"colorbar\":{\"outlinewidth\":0,\"ticks\":\"\"}},\"type\":\"scattergl\"}],\"scattermapbox\":[{\"marker\":{\"colorbar\":{\"outlinewidth\":0,\"ticks\":\"\"}},\"type\":\"scattermapbox\"}],\"scatterpolargl\":[{\"marker\":{\"colorbar\":{\"outlinewidth\":0,\"ticks\":\"\"}},\"type\":\"scatterpolargl\"}],\"scatterpolar\":[{\"marker\":{\"colorbar\":{\"outlinewidth\":0,\"ticks\":\"\"}},\"type\":\"scatterpolar\"}],\"scatter\":[{\"fillpattern\":{\"fillmode\":\"overlay\",\"size\":10,\"solidity\":0.2},\"type\":\"scatter\"}],\"scatterternary\":[{\"marker\":{\"colorbar\":{\"outlinewidth\":0,\"ticks\":\"\"}},\"type\":\"scatterternary\"}],\"surface\":[{\"colorbar\":{\"outlinewidth\":0,\"ticks\":\"\"},\"colorscale\":[[0.0,\"#0d0887\"],[0.1111111111111111,\"#46039f\"],[0.2222222222222222,\"#7201a8\"],[0.3333333333333333,\"#9c179e\"],[0.4444444444444444,\"#bd3786\"],[0.5555555555555556,\"#d8576b\"],[0.6666666666666666,\"#ed7953\"],[0.7777777777777778,\"#fb9f3a\"],[0.8888888888888888,\"#fdca26\"],[1.0,\"#f0f921\"]],\"type\":\"surface\"}],\"table\":[{\"cells\":{\"fill\":{\"color\":\"#EBF0F8\"},\"line\":{\"color\":\"white\"}},\"header\":{\"fill\":{\"color\":\"#C8D4E3\"},\"line\":{\"color\":\"white\"}},\"type\":\"table\"}]},\"layout\":{\"annotationdefaults\":{\"arrowcolor\":\"#2a3f5f\",\"arrowhead\":0,\"arrowwidth\":1},\"autotypenumbers\":\"strict\",\"coloraxis\":{\"colorbar\":{\"outlinewidth\":0,\"ticks\":\"\"}},\"colorscale\":{\"diverging\":[[0,\"#8e0152\"],[0.1,\"#c51b7d\"],[0.2,\"#de77ae\"],[0.3,\"#f1b6da\"],[0.4,\"#fde0ef\"],[0.5,\"#f7f7f7\"],[0.6,\"#e6f5d0\"],[0.7,\"#b8e186\"],[0.8,\"#7fbc41\"],[0.9,\"#4d9221\"],[1,\"#276419\"]],\"sequential\":[[0.0,\"#0d0887\"],[0.1111111111111111,\"#46039f\"],[0.2222222222222222,\"#7201a8\"],[0.3333333333333333,\"#9c179e\"],[0.4444444444444444,\"#bd3786\"],[0.5555555555555556,\"#d8576b\"],[0.6666666666666666,\"#ed7953\"],[0.7777777777777778,\"#fb9f3a\"],[0.8888888888888888,\"#fdca26\"],[1.0,\"#f0f921\"]],\"sequentialminus\":[[0.0,\"#0d0887\"],[0.1111111111111111,\"#46039f\"],[0.2222222222222222,\"#7201a8\"],[0.3333333333333333,\"#9c179e\"],[0.4444444444444444,\"#bd3786\"],[0.5555555555555556,\"#d8576b\"],[0.6666666666666666,\"#ed7953\"],[0.7777777777777778,\"#fb9f3a\"],[0.8888888888888888,\"#fdca26\"],[1.0,\"#f0f921\"]]},\"colorway\":[\"#636efa\",\"#EF553B\",\"#00cc96\",\"#ab63fa\",\"#FFA15A\",\"#19d3f3\",\"#FF6692\",\"#B6E880\",\"#FF97FF\",\"#FECB52\"],\"font\":{\"color\":\"#2a3f5f\"},\"geo\":{\"bgcolor\":\"white\",\"lakecolor\":\"white\",\"landcolor\":\"#E5ECF6\",\"showlakes\":true,\"showland\":true,\"subunitcolor\":\"white\"},\"hoverlabel\":{\"align\":\"left\"},\"hovermode\":\"closest\",\"mapbox\":{\"style\":\"light\"},\"paper_bgcolor\":\"white\",\"plot_bgcolor\":\"#E5ECF6\",\"polar\":{\"angularaxis\":{\"gridcolor\":\"white\",\"linecolor\":\"white\",\"ticks\":\"\"},\"bgcolor\":\"#E5ECF6\",\"radialaxis\":{\"gridcolor\":\"white\",\"linecolor\":\"white\",\"ticks\":\"\"}},\"scene\":{\"xaxis\":{\"backgroundcolor\":\"#E5ECF6\",\"gridcolor\":\"white\",\"gridwidth\":2,\"linecolor\":\"white\",\"showbackground\":true,\"ticks\":\"\",\"zerolinecolor\":\"white\"},\"yaxis\":{\"backgroundcolor\":\"#E5ECF6\",\"gridcolor\":\"white\",\"gridwidth\":2,\"linecolor\":\"white\",\"showbackground\":true,\"ticks\":\"\",\"zerolinecolor\":\"white\"},\"zaxis\":{\"backgroundcolor\":\"#E5ECF6\",\"gridcolor\":\"white\",\"gridwidth\":2,\"linecolor\":\"white\",\"showbackground\":true,\"ticks\":\"\",\"zerolinecolor\":\"white\"}},\"shapedefaults\":{\"line\":{\"color\":\"#2a3f5f\"}},\"ternary\":{\"aaxis\":{\"gridcolor\":\"white\",\"linecolor\":\"white\",\"ticks\":\"\"},\"baxis\":{\"gridcolor\":\"white\",\"linecolor\":\"white\",\"ticks\":\"\"},\"bgcolor\":\"#E5ECF6\",\"caxis\":{\"gridcolor\":\"white\",\"linecolor\":\"white\",\"ticks\":\"\"}},\"title\":{\"x\":0.05},\"xaxis\":{\"automargin\":true,\"gridcolor\":\"white\",\"linecolor\":\"white\",\"ticks\":\"\",\"title\":{\"standoff\":15},\"zerolinecolor\":\"white\",\"zerolinewidth\":2},\"yaxis\":{\"automargin\":true,\"gridcolor\":\"white\",\"linecolor\":\"white\",\"ticks\":\"\",\"title\":{\"standoff\":15},\"zerolinecolor\":\"white\",\"zerolinewidth\":2}}},\"title\":{\"font\":{\"color\":\"#4D5663\"}},\"xaxis\":{\"anchor\":\"y\",\"domain\":[0.0,0.2125],\"gridcolor\":\"#E1E5ED\",\"showgrid\":false,\"tickfont\":{\"color\":\"#4D5663\"},\"title\":{\"font\":{\"color\":\"#4D5663\"},\"text\":\"\"},\"zerolinecolor\":\"#E1E5ED\"},\"yaxis\":{\"anchor\":\"x\",\"domain\":[0.8025,1.0],\"gridcolor\":\"#E1E5ED\",\"showgrid\":false,\"tickfont\":{\"color\":\"#4D5663\"},\"title\":{\"font\":{\"color\":\"#4D5663\"},\"text\":\"\"},\"zerolinecolor\":\"#E1E5ED\"},\"xaxis2\":{\"anchor\":\"y2\",\"domain\":[0.2625,0.475],\"gridcolor\":\"#E1E5ED\",\"showgrid\":false,\"tickfont\":{\"color\":\"#4D5663\"},\"title\":{\"font\":{\"color\":\"#4D5663\"},\"text\":\"\"},\"zerolinecolor\":\"#E1E5ED\"},\"yaxis2\":{\"anchor\":\"x2\",\"domain\":[0.8025,1.0],\"gridcolor\":\"#E1E5ED\",\"showgrid\":false,\"tickfont\":{\"color\":\"#4D5663\"},\"title\":{\"font\":{\"color\":\"#4D5663\"},\"text\":\"\"},\"zerolinecolor\":\"#E1E5ED\"},\"xaxis3\":{\"anchor\":\"y3\",\"domain\":[0.525,0.7375],\"gridcolor\":\"#E1E5ED\",\"showgrid\":false,\"tickfont\":{\"color\":\"#4D5663\"},\"title\":{\"font\":{\"color\":\"#4D5663\"},\"text\":\"\"},\"zerolinecolor\":\"#E1E5ED\"},\"yaxis3\":{\"anchor\":\"x3\",\"domain\":[0.8025,1.0],\"gridcolor\":\"#E1E5ED\",\"showgrid\":false,\"tickfont\":{\"color\":\"#4D5663\"},\"title\":{\"font\":{\"color\":\"#4D5663\"},\"text\":\"\"},\"zerolinecolor\":\"#E1E5ED\"},\"xaxis4\":{\"anchor\":\"y4\",\"domain\":[0.7875,1.0],\"gridcolor\":\"#E1E5ED\",\"showgrid\":false,\"tickfont\":{\"color\":\"#4D5663\"},\"title\":{\"font\":{\"color\":\"#4D5663\"},\"text\":\"\"},\"zerolinecolor\":\"#E1E5ED\"},\"yaxis4\":{\"anchor\":\"x4\",\"domain\":[0.8025,1.0],\"gridcolor\":\"#E1E5ED\",\"showgrid\":false,\"tickfont\":{\"color\":\"#4D5663\"},\"title\":{\"font\":{\"color\":\"#4D5663\"},\"text\":\"\"},\"zerolinecolor\":\"#E1E5ED\"},\"xaxis5\":{\"anchor\":\"y5\",\"domain\":[0.0,0.2125],\"gridcolor\":\"#E1E5ED\",\"showgrid\":false,\"tickfont\":{\"color\":\"#4D5663\"},\"title\":{\"font\":{\"color\":\"#4D5663\"},\"text\":\"\"},\"zerolinecolor\":\"#E1E5ED\"},\"yaxis5\":{\"anchor\":\"x5\",\"domain\":[0.535,0.7325],\"gridcolor\":\"#E1E5ED\",\"showgrid\":false,\"tickfont\":{\"color\":\"#4D5663\"},\"title\":{\"font\":{\"color\":\"#4D5663\"},\"text\":\"\"},\"zerolinecolor\":\"#E1E5ED\"},\"xaxis6\":{\"anchor\":\"y6\",\"domain\":[0.2625,0.475],\"gridcolor\":\"#E1E5ED\",\"showgrid\":false,\"tickfont\":{\"color\":\"#4D5663\"},\"title\":{\"font\":{\"color\":\"#4D5663\"},\"text\":\"\"},\"zerolinecolor\":\"#E1E5ED\"},\"yaxis6\":{\"anchor\":\"x6\",\"domain\":[0.535,0.7325],\"gridcolor\":\"#E1E5ED\",\"showgrid\":false,\"tickfont\":{\"color\":\"#4D5663\"},\"title\":{\"font\":{\"color\":\"#4D5663\"},\"text\":\"\"},\"zerolinecolor\":\"#E1E5ED\"},\"xaxis7\":{\"anchor\":\"y7\",\"domain\":[0.525,0.7375],\"gridcolor\":\"#E1E5ED\",\"showgrid\":false,\"tickfont\":{\"color\":\"#4D5663\"},\"title\":{\"font\":{\"color\":\"#4D5663\"},\"text\":\"\"},\"zerolinecolor\":\"#E1E5ED\"},\"yaxis7\":{\"anchor\":\"x7\",\"domain\":[0.535,0.7325],\"gridcolor\":\"#E1E5ED\",\"showgrid\":false,\"tickfont\":{\"color\":\"#4D5663\"},\"title\":{\"font\":{\"color\":\"#4D5663\"},\"text\":\"\"},\"zerolinecolor\":\"#E1E5ED\"},\"xaxis8\":{\"anchor\":\"y8\",\"domain\":[0.7875,1.0],\"gridcolor\":\"#E1E5ED\",\"showgrid\":false,\"tickfont\":{\"color\":\"#4D5663\"},\"title\":{\"font\":{\"color\":\"#4D5663\"},\"text\":\"\"},\"zerolinecolor\":\"#E1E5ED\"},\"yaxis8\":{\"anchor\":\"x8\",\"domain\":[0.535,0.7325],\"gridcolor\":\"#E1E5ED\",\"showgrid\":false,\"tickfont\":{\"color\":\"#4D5663\"},\"title\":{\"font\":{\"color\":\"#4D5663\"},\"text\":\"\"},\"zerolinecolor\":\"#E1E5ED\"},\"xaxis9\":{\"anchor\":\"y9\",\"domain\":[0.0,0.2125],\"gridcolor\":\"#E1E5ED\",\"showgrid\":false,\"tickfont\":{\"color\":\"#4D5663\"},\"title\":{\"font\":{\"color\":\"#4D5663\"},\"text\":\"\"},\"zerolinecolor\":\"#E1E5ED\"},\"yaxis9\":{\"anchor\":\"x9\",\"domain\":[0.2675,0.465],\"gridcolor\":\"#E1E5ED\",\"showgrid\":false,\"tickfont\":{\"color\":\"#4D5663\"},\"title\":{\"font\":{\"color\":\"#4D5663\"},\"text\":\"\"},\"zerolinecolor\":\"#E1E5ED\"},\"xaxis10\":{\"anchor\":\"y10\",\"domain\":[0.2625,0.475],\"gridcolor\":\"#E1E5ED\",\"showgrid\":false,\"tickfont\":{\"color\":\"#4D5663\"},\"title\":{\"font\":{\"color\":\"#4D5663\"},\"text\":\"\"},\"zerolinecolor\":\"#E1E5ED\"},\"yaxis10\":{\"anchor\":\"x10\",\"domain\":[0.2675,0.465],\"gridcolor\":\"#E1E5ED\",\"showgrid\":false,\"tickfont\":{\"color\":\"#4D5663\"},\"title\":{\"font\":{\"color\":\"#4D5663\"},\"text\":\"\"},\"zerolinecolor\":\"#E1E5ED\"},\"xaxis11\":{\"anchor\":\"y11\",\"domain\":[0.525,0.7375],\"gridcolor\":\"#E1E5ED\",\"showgrid\":false,\"tickfont\":{\"color\":\"#4D5663\"},\"title\":{\"font\":{\"color\":\"#4D5663\"},\"text\":\"\"},\"zerolinecolor\":\"#E1E5ED\"},\"yaxis11\":{\"anchor\":\"x11\",\"domain\":[0.2675,0.465],\"gridcolor\":\"#E1E5ED\",\"showgrid\":false,\"tickfont\":{\"color\":\"#4D5663\"},\"title\":{\"font\":{\"color\":\"#4D5663\"},\"text\":\"\"},\"zerolinecolor\":\"#E1E5ED\"},\"xaxis12\":{\"anchor\":\"y12\",\"domain\":[0.7875,1.0],\"gridcolor\":\"#E1E5ED\",\"showgrid\":false,\"tickfont\":{\"color\":\"#4D5663\"},\"title\":{\"font\":{\"color\":\"#4D5663\"},\"text\":\"\"},\"zerolinecolor\":\"#E1E5ED\"},\"yaxis12\":{\"anchor\":\"x12\",\"domain\":[0.2675,0.465],\"gridcolor\":\"#E1E5ED\",\"showgrid\":false,\"tickfont\":{\"color\":\"#4D5663\"},\"title\":{\"font\":{\"color\":\"#4D5663\"},\"text\":\"\"},\"zerolinecolor\":\"#E1E5ED\"},\"xaxis13\":{\"anchor\":\"y13\",\"domain\":[0.0,0.2125],\"gridcolor\":\"#E1E5ED\",\"showgrid\":false,\"tickfont\":{\"color\":\"#4D5663\"},\"title\":{\"font\":{\"color\":\"#4D5663\"},\"text\":\"\"},\"zerolinecolor\":\"#E1E5ED\"},\"yaxis13\":{\"anchor\":\"x13\",\"domain\":[0.0,0.1975],\"gridcolor\":\"#E1E5ED\",\"showgrid\":false,\"tickfont\":{\"color\":\"#4D5663\"},\"title\":{\"font\":{\"color\":\"#4D5663\"},\"text\":\"\"},\"zerolinecolor\":\"#E1E5ED\"},\"xaxis14\":{\"anchor\":\"y14\",\"domain\":[0.2625,0.475],\"gridcolor\":\"#E1E5ED\",\"showgrid\":false,\"tickfont\":{\"color\":\"#4D5663\"},\"title\":{\"font\":{\"color\":\"#4D5663\"},\"text\":\"\"},\"zerolinecolor\":\"#E1E5ED\"},\"yaxis14\":{\"anchor\":\"x14\",\"domain\":[0.0,0.1975],\"gridcolor\":\"#E1E5ED\",\"showgrid\":false,\"tickfont\":{\"color\":\"#4D5663\"},\"title\":{\"font\":{\"color\":\"#4D5663\"},\"text\":\"\"},\"zerolinecolor\":\"#E1E5ED\"},\"xaxis15\":{\"anchor\":\"y15\",\"domain\":[0.525,0.7375],\"gridcolor\":\"#E1E5ED\",\"showgrid\":false,\"tickfont\":{\"color\":\"#4D5663\"},\"title\":{\"font\":{\"color\":\"#4D5663\"},\"text\":\"\"},\"zerolinecolor\":\"#E1E5ED\"},\"yaxis15\":{\"anchor\":\"x15\",\"domain\":[0.0,0.1975],\"gridcolor\":\"#E1E5ED\",\"showgrid\":false,\"tickfont\":{\"color\":\"#4D5663\"},\"title\":{\"font\":{\"color\":\"#4D5663\"},\"text\":\"\"},\"zerolinecolor\":\"#E1E5ED\"},\"xaxis16\":{\"anchor\":\"y16\",\"domain\":[0.7875,1.0],\"gridcolor\":\"#E1E5ED\",\"showgrid\":false,\"tickfont\":{\"color\":\"#4D5663\"},\"title\":{\"font\":{\"color\":\"#4D5663\"},\"text\":\"\"},\"zerolinecolor\":\"#E1E5ED\"},\"yaxis16\":{\"anchor\":\"x16\",\"domain\":[0.0,0.1975],\"gridcolor\":\"#E1E5ED\",\"showgrid\":false,\"tickfont\":{\"color\":\"#4D5663\"},\"title\":{\"font\":{\"color\":\"#4D5663\"},\"text\":\"\"},\"zerolinecolor\":\"#E1E5ED\"}},                        {\"showLink\": true, \"linkText\": \"Export to plot.ly\", \"plotlyServerURL\": \"https://plot.ly\", \"responsive\": true}                    ).then(function(){\n",
       "                            \n",
       "var gd = document.getElementById('470eebef-5e31-483f-bf0d-e9897580b83a');\n",
       "var x = new MutationObserver(function (mutations, observer) {{\n",
       "        var display = window.getComputedStyle(gd).display;\n",
       "        if (!display || display === 'none') {{\n",
       "            console.log([gd, 'removed!']);\n",
       "            Plotly.purge(gd);\n",
       "            observer.disconnect();\n",
       "        }}\n",
       "}});\n",
       "\n",
       "// Listen for the removal of the full notebook cells\n",
       "var notebookContainer = gd.closest('#notebook-container');\n",
       "if (notebookContainer) {{\n",
       "    x.observe(notebookContainer, {childList: true});\n",
       "}}\n",
       "\n",
       "// Listen for the clearing of the current output cell\n",
       "var outputEl = gd.closest('.output');\n",
       "if (outputEl) {{\n",
       "    x.observe(outputEl, {childList: true});\n",
       "}}\n",
       "\n",
       "                        })                };                });            </script>        </div>"
      ]
     },
     "metadata": {},
     "output_type": "display_data"
    }
   ],
   "source": [
    "df.scatter_matrix() # make sure columns are numerical # same as seaborn's pairplot or ggplots facetgrid"
   ]
  },
  {
   "cell_type": "markdown",
   "metadata": {
    "collapsed": true
   },
   "source": [
    "# Great Job!"
   ]
  }
 ],
 "metadata": {
  "kernelspec": {
   "display_name": "Python 3 (ipykernel)",
   "language": "python",
   "name": "python3"
  },
  "language_info": {
   "codemirror_mode": {
    "name": "ipython",
    "version": 3
   },
   "file_extension": ".py",
   "mimetype": "text/x-python",
   "name": "python",
   "nbconvert_exporter": "python",
   "pygments_lexer": "ipython3",
   "version": "3.9.13"
  }
 },
 "nbformat": 4,
 "nbformat_minor": 1
}
